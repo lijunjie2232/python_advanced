{
 "cells": [
  {
   "cell_type": "code",
   "execution_count": 1,
   "metadata": {},
   "outputs": [],
   "source": [
    "from time import sleep\n",
    "import threading\n",
    "from concurrent.futures import ThreadPoolExecutor #, ProcessPoolExecutor"
   ]
  },
  {
   "cell_type": "code",
   "execution_count": 2,
   "metadata": {},
   "outputs": [],
   "source": [
    "tp = ThreadPoolExecutor(2)\n",
    "# pp = ProcessPoolExecutor(2)"
   ]
  },
  {
   "cell_type": "code",
   "execution_count": 3,
   "metadata": {},
   "outputs": [],
   "source": [
    "def just_sleep(i=None):\n",
    "    sleep(2)\n",
    "    print(threading.get_native_id())"
   ]
  },
  {
   "cell_type": "code",
   "execution_count": 4,
   "metadata": {},
   "outputs": [
    {
     "data": {
      "text/plain": [
       "<Future at 0x21796cb5070 state=pending>"
      ]
     },
     "execution_count": 4,
     "metadata": {},
     "output_type": "execute_result"
    }
   ],
   "source": [
    "tp.submit(just_sleep)\n",
    "tp.submit(just_sleep)\n",
    "tp.submit(just_sleep)\n",
    "tp.submit(just_sleep)\n",
    "tp.submit(just_sleep)\n",
    "tp.submit(just_sleep)"
   ]
  },
  {
   "cell_type": "code",
   "execution_count": 5,
   "metadata": {},
   "outputs": [
    {
     "data": {
      "text/plain": [
       "<generator object Executor.map.<locals>.result_iterator at 0x0000021796CA3C80>"
      ]
     },
     "execution_count": 5,
     "metadata": {},
     "output_type": "execute_result"
    },
    {
     "name": "stdout",
     "output_type": "stream",
     "text": [
      "40472\n",
      "39576\n",
      "40472\n",
      "39576\n",
      "4047239576\n",
      "\n",
      "4047239576\n",
      "\n",
      "40472\n",
      "39576\n",
      "40472\n"
     ]
    }
   ],
   "source": [
    "tp.map(just_sleep, [i for i in range(5)])"
   ]
  },
  {
   "cell_type": "code",
   "execution_count": null,
   "metadata": {},
   "outputs": [],
   "source": []
  }
 ],
 "metadata": {
  "kernelspec": {
   "display_name": "scalc1",
   "language": "python",
   "name": "python3"
  },
  "language_info": {
   "codemirror_mode": {
    "name": "ipython",
    "version": 3
   },
   "file_extension": ".py",
   "mimetype": "text/x-python",
   "name": "python",
   "nbconvert_exporter": "python",
   "pygments_lexer": "ipython3",
   "version": "3.9.18"
  },
  "orig_nbformat": 4
 },
 "nbformat": 4,
 "nbformat_minor": 2
}
