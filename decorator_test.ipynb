{
 "cells": [
  {
   "cell_type": "code",
   "execution_count": 1,
   "metadata": {},
   "outputs": [],
   "source": [
    "import time\n",
    "from functools import reduce, wraps"
   ]
  },
  {
   "cell_type": "markdown",
   "metadata": {},
   "source": [
    "## decorat function"
   ]
  },
  {
   "cell_type": "code",
   "execution_count": 2,
   "metadata": {},
   "outputs": [],
   "source": [
    "def timecalc(func):\n",
    "    def wrapper(*args, **kwargs):\n",
    "        start = time.time()\n",
    "        result = func(*args, **kwargs)\n",
    "        end = time.time()\n",
    "        print(f\"[function]: {func.__name__}, [time]: {end - start}ms\")\n",
    "        return result\n",
    "    return wrapper"
   ]
  },
  {
   "cell_type": "code",
   "execution_count": 3,
   "metadata": {},
   "outputs": [],
   "source": [
    "@timecalc\n",
    "def multiple(l):\n",
    "    return reduce(lambda x,y: x+y**2, l)"
   ]
  },
  {
   "cell_type": "code",
   "execution_count": 4,
   "metadata": {},
   "outputs": [
    {
     "name": "stdout",
     "output_type": "stream",
     "text": [
      "[function]: multiple, [time]: 0.016530990600585938ms\n"
     ]
    },
    {
     "data": {
      "text/plain": [
       "81515048357435"
      ]
     },
     "execution_count": 4,
     "metadata": {},
     "output_type": "execute_result"
    }
   ],
   "source": [
    "multiple([i for i in range(62535)])"
   ]
  },
  {
   "cell_type": "code",
   "execution_count": 5,
   "metadata": {},
   "outputs": [],
   "source": [
    "@timecalc\n",
    "def generator(min, max, step=1):\n",
    "    return [i for i in range(min, max, step)]\n",
    "\n",
    "@timecalc\n",
    "def listgenerator(min, max, step=1):\n",
    "    return list(range(min, max, step))"
   ]
  },
  {
   "cell_type": "code",
   "execution_count": 6,
   "metadata": {},
   "outputs": [
    {
     "name": "stdout",
     "output_type": "stream",
     "text": [
      "[function]: generator, [time]: 0.03351902961730957ms\n",
      "[function]: listgenerator, [time]: 0.012525081634521484ms\n"
     ]
    }
   ],
   "source": [
    "l1 = generator(0,1000000)\n",
    "l2 = listgenerator(0,1000000)"
   ]
  },
  {
   "cell_type": "markdown",
   "metadata": {},
   "source": [
    "## decorat class"
   ]
  },
  {
   "cell_type": "code",
   "execution_count": 7,
   "metadata": {},
   "outputs": [],
   "source": [
    "def class_decorator(cls, *args, **kwargs):\n",
    "    print(args)\n",
    "    print(kwargs)\n",
    "    @wraps(cls)\n",
    "    def wrapper(*args, **kwargs):\n",
    "        print(f\"create {cls.__name__} with args: {args} and kwargs: {kwargs}\")\n",
    "        return cls(*args, **kwargs)\n",
    "    return wrapper"
   ]
  },
  {
   "cell_type": "code",
   "execution_count": 8,
   "metadata": {},
   "outputs": [
    {
     "name": "stdout",
     "output_type": "stream",
     "text": [
      "()\n",
      "{}\n"
     ]
    }
   ],
   "source": [
    "@class_decorator\n",
    "class TestClass(object):\n",
    "    \"\"\"TestClass doc\n",
    "\n",
    "    Args:\n",
    "        object (_type_): _description_\n",
    "    \"\"\"\n",
    "    def __init__(self, *args, **kwargs):\n",
    "        print(f\"init {self.__class__.__name__} with args: {args} and kwargs: {kwargs}\")\n",
    "        pass"
   ]
  },
  {
   "cell_type": "code",
   "execution_count": 9,
   "metadata": {},
   "outputs": [
    {
     "name": "stdout",
     "output_type": "stream",
     "text": [
      "create TestClass with args: (123, 321) and kwargs: {'test': 321}\n",
      "init TestClass with args: (123, 321) and kwargs: {'test': 321}\n"
     ]
    }
   ],
   "source": [
    "c = TestClass(123,321,test=321)"
   ]
  },
  {
   "cell_type": "code",
   "execution_count": 10,
   "metadata": {},
   "outputs": [
    {
     "data": {
      "text/plain": [
       "'TestClass doc\\n\\n    Args:\\n        object (_type_): _description_\\n    '"
      ]
     },
     "execution_count": 10,
     "metadata": {},
     "output_type": "execute_result"
    }
   ],
   "source": [
    "c.__doc__"
   ]
  },
  {
   "cell_type": "code",
   "execution_count": 11,
   "metadata": {},
   "outputs": [],
   "source": [
    "def class_decorator(cls, *args, **kwargs):\n",
    "    print(args)\n",
    "    print(kwargs)\n",
    "    cls_init = cls.__init__\n",
    "    @wraps(cls)\n",
    "    def wrapper(self, *args, **kwargs):\n",
    "        print(f\"create {self.__class__.__name__} with args: {args} and kwargs: {kwargs}\")\n",
    "        cls_init(*args, **kwargs)\n",
    "    cls.__init__ = wrapper\n",
    "    return cls"
   ]
  },
  {
   "cell_type": "code",
   "execution_count": 12,
   "metadata": {},
   "outputs": [
    {
     "name": "stdout",
     "output_type": "stream",
     "text": [
      "()\n",
      "{}\n"
     ]
    }
   ],
   "source": [
    "@class_decorator\n",
    "class TestClass(object):\n",
    "    \"\"\"TestClass doc\n",
    "\n",
    "    Args:\n",
    "        object (_type_): _description_\n",
    "    \"\"\"\n",
    "    def __init__(self, *args, **kwargs):\n",
    "        print(f\"init {self.__class__.__name__} with args: {args} and kwargs: {kwargs}\")\n",
    "        pass"
   ]
  },
  {
   "cell_type": "code",
   "execution_count": 13,
   "metadata": {},
   "outputs": [
    {
     "name": "stdout",
     "output_type": "stream",
     "text": [
      "create TestClass with args: (123, 321) and kwargs: {'test': 321}\n",
      "init int with args: (321,) and kwargs: {'test': 321}\n"
     ]
    }
   ],
   "source": [
    "c = TestClass(123,321,test=321)"
   ]
  },
  {
   "cell_type": "code",
   "execution_count": 14,
   "metadata": {},
   "outputs": [
    {
     "data": {
      "text/plain": [
       "'TestClass doc\\n\\n    Args:\\n        object (_type_): _description_\\n    '"
      ]
     },
     "execution_count": 14,
     "metadata": {},
     "output_type": "execute_result"
    }
   ],
   "source": [
    "c.__doc__"
   ]
  },
  {
   "cell_type": "markdown",
   "metadata": {},
   "source": [
    "## timing all the function of class"
   ]
  },
  {
   "cell_type": "code",
   "execution_count": 15,
   "metadata": {},
   "outputs": [],
   "source": [
    "def timer(cls):\n",
    "    for attr_name, attr_value in cls.__dict__.items():\n",
    "        if callable(attr_value):\n",
    "            # 对每个方法添加日志功能\n",
    "            original_method = attr_value\n",
    "            @timecalc\n",
    "            @wraps(original_method)\n",
    "            def time_wrapper(*args, **kwargs):\n",
    "                return original_method(*args, **kwargs)\n",
    "            setattr(cls, attr_name, time_wrapper)\n",
    "    return cls"
   ]
  },
  {
   "cell_type": "code",
   "execution_count": 16,
   "metadata": {},
   "outputs": [],
   "source": [
    "@timer\n",
    "class MyGenerator:\n",
    "    def generator(self, min, max, step=1):\n",
    "        return [i for i in range(min, max, step)]\n",
    "\n",
    "    def listgenerator(self, min, max, step=1):\n",
    "        return list(range(min, max, step))"
   ]
  },
  {
   "cell_type": "code",
   "execution_count": 17,
   "metadata": {},
   "outputs": [],
   "source": [
    "g = MyGenerator()"
   ]
  },
  {
   "cell_type": "code",
   "execution_count": 18,
   "metadata": {},
   "outputs": [
    {
     "name": "stdout",
     "output_type": "stream",
     "text": [
      "[function]: generator, [time]: 1.0958898067474365ms\n",
      "[function]: listgenerator, [time]: 1.1724488735198975ms\n"
     ]
    }
   ],
   "source": [
    "l = g.generator(1,100000000)\n",
    "l = g.listgenerator(1,100000000)"
   ]
  },
  {
   "cell_type": "markdown",
   "metadata": {},
   "source": [
    "## Class register"
   ]
  },
  {
   "cell_type": "code",
   "execution_count": 19,
   "metadata": {},
   "outputs": [],
   "source": [
    "class FrameworkDatasets:\n",
    "    def __new__(cls, *args, **kwargs):\n",
    "        cls.__DATASET = {}\n",
    "        return super().__new__(cls, *args, **kwargs)\n",
    "    \n",
    "    def dataset_register(self, force=False):\n",
    "        def _register(cls):\n",
    "            assert not cls.__name__ in self.__DATASET or force, Exception(f\"{cls.__name__} already registed\")\n",
    "            self.__DATASET[cls.__name__] = cls\n",
    "        return _register\n",
    "    \n",
    "    def build(self, dataset, *args, **kwargs):\n",
    "        assert dataset in self.__class__.__DATASET, Exception(f\"{dataset} not registed\")\n",
    "        return self.__class__.__DATASET[dataset](*args, **kwargs)\n",
    "    "
   ]
  },
  {
   "cell_type": "code",
   "execution_count": 20,
   "metadata": {},
   "outputs": [],
   "source": [
    "DATASETS = FrameworkDatasets()"
   ]
  },
  {
   "cell_type": "code",
   "execution_count": 21,
   "metadata": {},
   "outputs": [],
   "source": [
    "@DATASETS.dataset_register()\n",
    "class COCODataset:\n",
    "    def __init__(self, *args, **kwargs):\n",
    "        pass\n",
    "\n",
    "@DATASETS.dataset_register()\n",
    "class YOLODataset:\n",
    "    def __init__(self, *args, **kwargs):\n",
    "        pass"
   ]
  },
  {
   "cell_type": "code",
   "execution_count": 22,
   "metadata": {},
   "outputs": [
    {
     "name": "stderr",
     "output_type": "stream",
     "text": [
      "Traceback (most recent call last):\n",
      "  File \"C:\\Users\\25335\\AppData\\Local\\Temp\\ipykernel_118820\\3717501706.py\", line 3, in <module>\n",
      "    class COCODataset:\n",
      "  File \"C:\\Users\\25335\\AppData\\Local\\Temp\\ipykernel_118820\\281006387.py\", line 8, in _register\n",
      "    assert not cls.__name__ in self.__DATASET or force, Exception(f\"{cls.__name__} already registed\")\n",
      "AssertionError: COCODataset already registed\n"
     ]
    }
   ],
   "source": [
    "try:\n",
    "    @DATASETS.dataset_register()\n",
    "    class COCODataset:\n",
    "        def __init__(self, *args, **kwargs):\n",
    "            pass\n",
    "except Exception as e:\n",
    "    import traceback\n",
    "    traceback.print_exc()"
   ]
  },
  {
   "cell_type": "code",
   "execution_count": 23,
   "metadata": {},
   "outputs": [],
   "source": [
    "@DATASETS.dataset_register(force=True)\n",
    "class COCODataset:\n",
    "    def __init__(self, *args, **kwargs):\n",
    "        pass"
   ]
  },
  {
   "cell_type": "code",
   "execution_count": 24,
   "metadata": {},
   "outputs": [
    {
     "data": {
      "text/plain": [
       "<__main__.COCODataset at 0x5a36aa0>"
      ]
     },
     "execution_count": 24,
     "metadata": {},
     "output_type": "execute_result"
    }
   ],
   "source": [
    "DATASETS.build(\"COCODataset\", path=\"./coco\")"
   ]
  },
  {
   "cell_type": "code",
   "execution_count": null,
   "metadata": {},
   "outputs": [],
   "source": []
  }
 ],
 "metadata": {
  "kernelspec": {
   "display_name": "ul",
   "language": "python",
   "name": "python3"
  },
  "language_info": {
   "codemirror_mode": {
    "name": "ipython",
    "version": 3
   },
   "file_extension": ".py",
   "mimetype": "text/x-python",
   "name": "python",
   "nbconvert_exporter": "python",
   "pygments_lexer": "ipython3",
   "version": "3.10.14"
  }
 },
 "nbformat": 4,
 "nbformat_minor": 2
}
