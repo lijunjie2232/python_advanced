{
 "cells": [
  {
   "cell_type": "code",
   "execution_count": 1,
   "metadata": {},
   "outputs": [],
   "source": [
    "import inspect"
   ]
  },
  {
   "cell_type": "code",
   "execution_count": 2,
   "metadata": {},
   "outputs": [],
   "source": [
    "\n",
    "class Person:\n",
    "    \"\"\"Person doc\n",
    "    \"\"\"\n",
    "    def __init__(self, name, age=0):\n",
    "        self._name = name\n",
    "        self._age = age\n",
    "    \n",
    "    @property\n",
    "    def name(self):\n",
    "        return self._name\n",
    "    \n",
    "    def setName(self, name):\n",
    "        self._name = name\n",
    "    \n",
    "    def __repr__(self):\n",
    "        return f\"Person(name:{self._name}, age:{self._age})\""
   ]
  },
  {
   "cell_type": "code",
   "execution_count": 3,
   "metadata": {},
   "outputs": [
    {
     "data": {
      "text/plain": [
       "[('__class__', type),\n",
       " ('__delattr__', <slot wrapper '__delattr__' of 'object' objects>),\n",
       " ('__dict__',\n",
       "  mappingproxy({'__module__': '__main__',\n",
       "                '__doc__': 'Person doc\\n    ',\n",
       "                '__init__': <function __main__.Person.__init__(self, name, age=0)>,\n",
       "                'name': <property at 0x7db62f0>,\n",
       "                'setName': <function __main__.Person.setName(self, name)>,\n",
       "                '__repr__': <function __main__.Person.__repr__(self)>,\n",
       "                '__dict__': <attribute '__dict__' of 'Person' objects>,\n",
       "                '__weakref__': <attribute '__weakref__' of 'Person' objects>})),\n",
       " ('__dir__', <method '__dir__' of 'object' objects>),\n",
       " ('__doc__', 'Person doc\\n    '),\n",
       " ('__eq__', <slot wrapper '__eq__' of 'object' objects>),\n",
       " ('__format__', <method '__format__' of 'object' objects>),\n",
       " ('__ge__', <slot wrapper '__ge__' of 'object' objects>),\n",
       " ('__getattribute__', <slot wrapper '__getattribute__' of 'object' objects>),\n",
       " ('__gt__', <slot wrapper '__gt__' of 'object' objects>),\n",
       " ('__hash__', <slot wrapper '__hash__' of 'object' objects>),\n",
       " ('__init__', <function __main__.Person.__init__(self, name, age=0)>),\n",
       " ('__init_subclass__', <function Person.__init_subclass__>),\n",
       " ('__le__', <slot wrapper '__le__' of 'object' objects>),\n",
       " ('__lt__', <slot wrapper '__lt__' of 'object' objects>),\n",
       " ('__module__', '__main__'),\n",
       " ('__ne__', <slot wrapper '__ne__' of 'object' objects>),\n",
       " ('__new__', <function object.__new__(*args, **kwargs)>),\n",
       " ('__reduce__', <method '__reduce__' of 'object' objects>),\n",
       " ('__reduce_ex__', <method '__reduce_ex__' of 'object' objects>),\n",
       " ('__repr__', <function __main__.Person.__repr__(self)>),\n",
       " ('__setattr__', <slot wrapper '__setattr__' of 'object' objects>),\n",
       " ('__sizeof__', <method '__sizeof__' of 'object' objects>),\n",
       " ('__str__', <slot wrapper '__str__' of 'object' objects>),\n",
       " ('__subclasshook__', <function Person.__subclasshook__>),\n",
       " ('__weakref__', <attribute '__weakref__' of 'Person' objects>),\n",
       " ('name', <property at 0x7db62f0>),\n",
       " ('setName', <function __main__.Person.setName(self, name)>)]"
      ]
     },
     "execution_count": 3,
     "metadata": {},
     "output_type": "execute_result"
    }
   ],
   "source": [
    "inspect.getmembers(Person)"
   ]
  },
  {
   "cell_type": "code",
   "execution_count": 4,
   "metadata": {},
   "outputs": [
    {
     "data": {
      "text/plain": [
       "[('__class__', __main__.Person),\n",
       " ('__delattr__',\n",
       "  <method-wrapper '__delattr__' of Person object at 0x0000000007DACA30>),\n",
       " ('__dict__', {'_name': 'li', '_age': 0}),\n",
       " ('__dir__', <function Person.__dir__()>),\n",
       " ('__doc__', 'Person doc\\n    '),\n",
       " ('__eq__', <method-wrapper '__eq__' of Person object at 0x0000000007DACA30>),\n",
       " ('__format__', <function Person.__format__(format_spec, /)>),\n",
       " ('__ge__', <method-wrapper '__ge__' of Person object at 0x0000000007DACA30>),\n",
       " ('__getattribute__',\n",
       "  <method-wrapper '__getattribute__' of Person object at 0x0000000007DACA30>),\n",
       " ('__gt__', <method-wrapper '__gt__' of Person object at 0x0000000007DACA30>),\n",
       " ('__hash__',\n",
       "  <method-wrapper '__hash__' of Person object at 0x0000000007DACA30>),\n",
       " ('__init__', <bound method Person.__init__ of Person(name:li, age:0)>),\n",
       " ('__init_subclass__', <function Person.__init_subclass__>),\n",
       " ('__le__', <method-wrapper '__le__' of Person object at 0x0000000007DACA30>),\n",
       " ('__lt__', <method-wrapper '__lt__' of Person object at 0x0000000007DACA30>),\n",
       " ('__module__', '__main__'),\n",
       " ('__ne__', <method-wrapper '__ne__' of Person object at 0x0000000007DACA30>),\n",
       " ('__new__', <function object.__new__(*args, **kwargs)>),\n",
       " ('__reduce__', <function Person.__reduce__()>),\n",
       " ('__reduce_ex__', <function Person.__reduce_ex__(protocol, /)>),\n",
       " ('__repr__', <bound method Person.__repr__ of Person(name:li, age:0)>),\n",
       " ('__setattr__',\n",
       "  <method-wrapper '__setattr__' of Person object at 0x0000000007DACA30>),\n",
       " ('__sizeof__', <function Person.__sizeof__()>),\n",
       " ('__str__',\n",
       "  <method-wrapper '__str__' of Person object at 0x0000000007DACA30>),\n",
       " ('__subclasshook__', <function Person.__subclasshook__>),\n",
       " ('__weakref__', None),\n",
       " ('_age', 0),\n",
       " ('_name', 'li'),\n",
       " ('name', 'li'),\n",
       " ('setName', <bound method Person.setName of Person(name:li, age:0)>)]"
      ]
     },
     "execution_count": 4,
     "metadata": {},
     "output_type": "execute_result"
    }
   ],
   "source": [
    "inspect.getmembers(Person(\"li\"))"
   ]
  },
  {
   "cell_type": "code",
   "execution_count": 5,
   "metadata": {},
   "outputs": [
    {
     "data": {
      "text/plain": [
       "[('__doc__', 'Person doc\\n    '),\n",
       " ('__module__', '__main__'),\n",
       " ('_name', 'li'),\n",
       " ('name', 'li')]"
      ]
     },
     "execution_count": 5,
     "metadata": {},
     "output_type": "execute_result"
    }
   ],
   "source": [
    "inspect.getmembers(Person(\"li\"), lambda x: isinstance(x, str))"
   ]
  },
  {
   "cell_type": "code",
   "execution_count": 6,
   "metadata": {},
   "outputs": [
    {
     "data": {
      "text/plain": [
       "<module 'inspect' from 'c:\\\\ProgramData\\\\anaconda3\\\\envs\\\\ul\\\\lib\\\\inspect.py'>"
      ]
     },
     "execution_count": 6,
     "metadata": {},
     "output_type": "execute_result"
    }
   ],
   "source": [
    "inspect.getmodule(inspect)"
   ]
  },
  {
   "cell_type": "code",
   "execution_count": 7,
   "metadata": {},
   "outputs": [
    {
     "data": {
      "text/plain": [
       "'inspect'"
      ]
     },
     "execution_count": 7,
     "metadata": {},
     "output_type": "execute_result"
    }
   ],
   "source": [
    "inspect.getmodulename('c:\\\\ProgramData\\\\anaconda3\\\\envs\\\\ul\\\\lib\\\\inspect.py')"
   ]
  },
  {
   "cell_type": "code",
   "execution_count": 8,
   "metadata": {},
   "outputs": [
    {
     "data": {
      "text/plain": [
       "False"
      ]
     },
     "execution_count": 8,
     "metadata": {},
     "output_type": "execute_result"
    }
   ],
   "source": [
    "inspect.ismodule(Person)"
   ]
  },
  {
   "cell_type": "code",
   "execution_count": 9,
   "metadata": {},
   "outputs": [
    {
     "data": {
      "text/plain": [
       "True"
      ]
     },
     "execution_count": 9,
     "metadata": {},
     "output_type": "execute_result"
    }
   ],
   "source": [
    "inspect.isclass(Person)"
   ]
  },
  {
   "cell_type": "code",
   "execution_count": 10,
   "metadata": {},
   "outputs": [
    {
     "data": {
      "text/plain": [
       "False"
      ]
     },
     "execution_count": 10,
     "metadata": {},
     "output_type": "execute_result"
    }
   ],
   "source": [
    "inspect.isclass(Person(\"li\"))"
   ]
  },
  {
   "cell_type": "code",
   "execution_count": 11,
   "metadata": {},
   "outputs": [
    {
     "data": {
      "text/plain": [
       "(False, True)"
      ]
     },
     "execution_count": 11,
     "metadata": {},
     "output_type": "execute_result"
    }
   ],
   "source": [
    "inspect.ismethod(Person(\"li\").name), inspect.ismethod(Person(\"li\").setName)"
   ]
  },
  {
   "cell_type": "code",
   "execution_count": 12,
   "metadata": {},
   "outputs": [
    {
     "data": {
      "text/plain": [
       "('Person doc\\n    ', 'Person doc\\n    ', None)"
      ]
     },
     "execution_count": 12,
     "metadata": {},
     "output_type": "execute_result"
    }
   ],
   "source": [
    "inspect.getdoc(Person(\"li\")), inspect.getdoc(Person), inspect.getcomments(Person(\"li\"))"
   ]
  },
  {
   "cell_type": "code",
   "execution_count": 13,
   "metadata": {},
   "outputs": [
    {
     "data": {
      "text/plain": [
       "'c:\\\\ProgramData\\\\anaconda3\\\\envs\\\\ul\\\\lib\\\\inspect.py'"
      ]
     },
     "execution_count": 13,
     "metadata": {},
     "output_type": "execute_result"
    }
   ],
   "source": [
    "inspect.getfile(inspect)"
   ]
  },
  {
   "cell_type": "code",
   "execution_count": 14,
   "metadata": {},
   "outputs": [
    {
     "data": {
      "text/plain": [
       "'c:\\\\ProgramData\\\\anaconda3\\\\envs\\\\ul\\\\lib\\\\inspect.py'"
      ]
     },
     "execution_count": 14,
     "metadata": {},
     "output_type": "execute_result"
    }
   ],
   "source": [
    "inspect.getsourcefile(inspect)"
   ]
  },
  {
   "cell_type": "code",
   "execution_count": 15,
   "metadata": {},
   "outputs": [
    {
     "data": {
      "text/plain": [
       "(['def getsourcelines(object):\\n',\n",
       "  '    \"\"\"Return a list of source lines and starting line number for an object.\\n',\n",
       "  '\\n',\n",
       "  '    The argument may be a module, class, method, function, traceback, frame,\\n',\n",
       "  '    or code object.  The source code is returned as a list of the lines\\n',\n",
       "  '    corresponding to the object and the line number indicates where in the\\n',\n",
       "  '    original source file the first line of code was found.  An OSError is\\n',\n",
       "  '    raised if the source code cannot be retrieved.\"\"\"\\n',\n",
       "  '    object = unwrap(object)\\n',\n",
       "  '    lines, lnum = findsource(object)\\n',\n",
       "  '\\n',\n",
       "  '    if istraceback(object):\\n',\n",
       "  '        object = object.tb_frame\\n',\n",
       "  '\\n',\n",
       "  '    # for module or frame that corresponds to module, return all source lines\\n',\n",
       "  '    if (ismodule(object) or\\n',\n",
       "  '        (isframe(object) and object.f_code.co_name == \"<module>\")):\\n',\n",
       "  '        return lines, 0\\n',\n",
       "  '    else:\\n',\n",
       "  '        return getblock(lines[lnum:]), lnum + 1\\n'],\n",
       " 1112)"
      ]
     },
     "execution_count": 15,
     "metadata": {},
     "output_type": "execute_result"
    }
   ],
   "source": [
    "inspect.getsourcelines(inspect.getsourcelines)"
   ]
  },
  {
   "cell_type": "code",
   "execution_count": 16,
   "metadata": {},
   "outputs": [
    {
     "data": {
      "text/plain": [
       "'def getsourcelines(object):\\n    \"\"\"Return a list of source lines and starting line number for an object.\\n\\n    The argument may be a module, class, method, function, traceback, frame,\\n    or code object.  The source code is returned as a list of the lines\\n    corresponding to the object and the line number indicates where in the\\n    original source file the first line of code was found.  An OSError is\\n    raised if the source code cannot be retrieved.\"\"\"\\n    object = unwrap(object)\\n    lines, lnum = findsource(object)\\n\\n    if istraceback(object):\\n        object = object.tb_frame\\n\\n    # for module or frame that corresponds to module, return all source lines\\n    if (ismodule(object) or\\n        (isframe(object) and object.f_code.co_name == \"<module>\")):\\n        return lines, 0\\n    else:\\n        return getblock(lines[lnum:]), lnum + 1\\n'"
      ]
     },
     "execution_count": 16,
     "metadata": {},
     "output_type": "execute_result"
    }
   ],
   "source": [
    "inspect.getsource(inspect.getsourcelines)"
   ]
  },
  {
   "cell_type": "code",
   "execution_count": 17,
   "metadata": {},
   "outputs": [
    {
     "data": {
      "text/plain": [
       "True"
      ]
     },
     "execution_count": 17,
     "metadata": {},
     "output_type": "execute_result"
    }
   ],
   "source": [
    "callable(inspect.signature)"
   ]
  },
  {
   "cell_type": "code",
   "execution_count": 18,
   "metadata": {},
   "outputs": [
    {
     "data": {
      "text/plain": [
       "<Signature (obj, *, follow_wrapped=True, globals=None, locals=None, eval_str=False)>"
      ]
     },
     "execution_count": 18,
     "metadata": {},
     "output_type": "execute_result"
    }
   ],
   "source": [
    "sig = inspect.signature(inspect.signature)\n",
    "sig"
   ]
  },
  {
   "cell_type": "code",
   "execution_count": 19,
   "metadata": {},
   "outputs": [
    {
     "data": {
      "text/plain": [
       "<Parameter \"globals=None\">"
      ]
     },
     "execution_count": 19,
     "metadata": {},
     "output_type": "execute_result"
    }
   ],
   "source": [
    "sig.parameters[\"globals\"]"
   ]
  },
  {
   "cell_type": "code",
   "execution_count": 20,
   "metadata": {},
   "outputs": [
    {
     "data": {
      "text/plain": [
       "inspect._empty"
      ]
     },
     "execution_count": 20,
     "metadata": {},
     "output_type": "execute_result"
    }
   ],
   "source": [
    "sig.return_annotation"
   ]
  },
  {
   "cell_type": "code",
   "execution_count": 21,
   "metadata": {},
   "outputs": [
    {
     "data": {
      "text/plain": [
       "<Signature (name, age=0)>"
      ]
     },
     "execution_count": 21,
     "metadata": {},
     "output_type": "execute_result"
    }
   ],
   "source": [
    "sig = inspect.signature(Person)\n",
    "sig"
   ]
  },
  {
   "cell_type": "code",
   "execution_count": 22,
   "metadata": {},
   "outputs": [
    {
     "data": {
      "text/plain": [
       "<_ParameterKind.POSITIONAL_OR_KEYWORD: 1>"
      ]
     },
     "execution_count": 22,
     "metadata": {},
     "output_type": "execute_result"
    }
   ],
   "source": [
    "sig.parameters['age'].kind"
   ]
  },
  {
   "cell_type": "code",
   "execution_count": 23,
   "metadata": {},
   "outputs": [
    {
     "data": {
      "text/plain": [
       "<BoundArguments (name='li')>"
      ]
     },
     "execution_count": 23,
     "metadata": {},
     "output_type": "execute_result"
    }
   ],
   "source": [
    "res = sig.bind(\"li\")\n",
    "res"
   ]
  },
  {
   "cell_type": "code",
   "execution_count": 24,
   "metadata": {},
   "outputs": [
    {
     "data": {
      "text/plain": [
       "{'name': 'li'}"
      ]
     },
     "execution_count": 24,
     "metadata": {},
     "output_type": "execute_result"
    }
   ],
   "source": [
    "res.arguments"
   ]
  },
  {
   "cell_type": "code",
   "execution_count": 25,
   "metadata": {},
   "outputs": [
    {
     "data": {
      "text/plain": [
       "('li',)"
      ]
     },
     "execution_count": 25,
     "metadata": {},
     "output_type": "execute_result"
    }
   ],
   "source": [
    "res.args"
   ]
  },
  {
   "cell_type": "code",
   "execution_count": 26,
   "metadata": {},
   "outputs": [
    {
     "data": {
      "text/plain": [
       "{}"
      ]
     },
     "execution_count": 26,
     "metadata": {},
     "output_type": "execute_result"
    }
   ],
   "source": [
    "res.kwargs"
   ]
  },
  {
   "cell_type": "code",
   "execution_count": 27,
   "metadata": {},
   "outputs": [],
   "source": [
    "res.apply_defaults()"
   ]
  },
  {
   "cell_type": "code",
   "execution_count": 28,
   "metadata": {},
   "outputs": [
    {
     "data": {
      "text/plain": [
       "<BoundArguments (name='li', age=0)>"
      ]
     },
     "execution_count": 28,
     "metadata": {},
     "output_type": "execute_result"
    }
   ],
   "source": [
    "res"
   ]
  },
  {
   "cell_type": "code",
   "execution_count": 29,
   "metadata": {},
   "outputs": [
    {
     "data": {
      "text/plain": [
       "{'name': 'li', 'age': 0}"
      ]
     },
     "execution_count": 29,
     "metadata": {},
     "output_type": "execute_result"
    }
   ],
   "source": [
    "res.arguments"
   ]
  },
  {
   "cell_type": "code",
   "execution_count": 30,
   "metadata": {},
   "outputs": [
    {
     "data": {
      "text/plain": [
       "('li', 0)"
      ]
     },
     "execution_count": 30,
     "metadata": {},
     "output_type": "execute_result"
    }
   ],
   "source": [
    "res.args"
   ]
  },
  {
   "cell_type": "code",
   "execution_count": 31,
   "metadata": {},
   "outputs": [
    {
     "data": {
      "text/plain": [
       "{}"
      ]
     },
     "execution_count": 31,
     "metadata": {},
     "output_type": "execute_result"
    }
   ],
   "source": [
    "res.kwargs"
   ]
  },
  {
   "cell_type": "code",
   "execution_count": 32,
   "metadata": {},
   "outputs": [
    {
     "data": {
      "text/plain": [
       "Person(name:li, age:0)"
      ]
     },
     "execution_count": 32,
     "metadata": {},
     "output_type": "execute_result"
    }
   ],
   "source": [
    "Person(*res.args, **res.kwargs)"
   ]
  },
  {
   "cell_type": "code",
   "execution_count": null,
   "metadata": {},
   "outputs": [],
   "source": []
  }
 ],
 "metadata": {
  "kernelspec": {
   "display_name": "ul",
   "language": "python",
   "name": "python3"
  },
  "language_info": {
   "codemirror_mode": {
    "name": "ipython",
    "version": 3
   },
   "file_extension": ".py",
   "mimetype": "text/x-python",
   "name": "python",
   "nbconvert_exporter": "python",
   "pygments_lexer": "ipython3",
   "version": "3.10.14"
  }
 },
 "nbformat": 4,
 "nbformat_minor": 2
}
