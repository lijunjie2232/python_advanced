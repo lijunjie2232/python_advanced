{
 "cells": [
  {
   "cell_type": "code",
   "execution_count": 1,
   "metadata": {},
   "outputs": [],
   "source": [
    "import inspect\n",
    "from functools import wraps\n"
   ]
  },
  {
   "cell_type": "code",
   "execution_count": 2,
   "metadata": {},
   "outputs": [],
   "source": [
    "\n",
    "class Person:\n",
    "    \"\"\"Person doc\n",
    "    \"\"\"\n",
    "    def __init__(self, name, age=0):\n",
    "        self._name = name\n",
    "        self._age = age\n",
    "    \n",
    "    @property\n",
    "    def name(self):\n",
    "        return self._name\n",
    "    \n",
    "    def setName(self, name):\n",
    "        self._name = name\n",
    "    \n",
    "    def __repr__(self):\n",
    "        return f\"Person(name:{self._name}, age:{self._age})\""
   ]
  },
  {
   "cell_type": "code",
   "execution_count": 3,
   "metadata": {},
   "outputs": [
    {
     "data": {
      "text/plain": [
       "[('__class__', type),\n",
       " ('__delattr__', <slot wrapper '__delattr__' of 'object' objects>),\n",
       " ('__dict__',\n",
       "  mappingproxy({'__module__': '__main__',\n",
       "                '__doc__': 'Person doc\\n    ',\n",
       "                '__init__': <function __main__.Person.__init__(self, name, age=0)>,\n",
       "                'name': <property at 0x7db5210>,\n",
       "                'setName': <function __main__.Person.setName(self, name)>,\n",
       "                '__repr__': <function __main__.Person.__repr__(self)>,\n",
       "                '__dict__': <attribute '__dict__' of 'Person' objects>,\n",
       "                '__weakref__': <attribute '__weakref__' of 'Person' objects>})),\n",
       " ('__dir__', <method '__dir__' of 'object' objects>),\n",
       " ('__doc__', 'Person doc\\n    '),\n",
       " ('__eq__', <slot wrapper '__eq__' of 'object' objects>),\n",
       " ('__format__', <method '__format__' of 'object' objects>),\n",
       " ('__ge__', <slot wrapper '__ge__' of 'object' objects>),\n",
       " ('__getattribute__', <slot wrapper '__getattribute__' of 'object' objects>),\n",
       " ('__gt__', <slot wrapper '__gt__' of 'object' objects>),\n",
       " ('__hash__', <slot wrapper '__hash__' of 'object' objects>),\n",
       " ('__init__', <function __main__.Person.__init__(self, name, age=0)>),\n",
       " ('__init_subclass__', <function Person.__init_subclass__>),\n",
       " ('__le__', <slot wrapper '__le__' of 'object' objects>),\n",
       " ('__lt__', <slot wrapper '__lt__' of 'object' objects>),\n",
       " ('__module__', '__main__'),\n",
       " ('__ne__', <slot wrapper '__ne__' of 'object' objects>),\n",
       " ('__new__', <function object.__new__(*args, **kwargs)>),\n",
       " ('__reduce__', <method '__reduce__' of 'object' objects>),\n",
       " ('__reduce_ex__', <method '__reduce_ex__' of 'object' objects>),\n",
       " ('__repr__', <function __main__.Person.__repr__(self)>),\n",
       " ('__setattr__', <slot wrapper '__setattr__' of 'object' objects>),\n",
       " ('__sizeof__', <method '__sizeof__' of 'object' objects>),\n",
       " ('__str__', <slot wrapper '__str__' of 'object' objects>),\n",
       " ('__subclasshook__', <function Person.__subclasshook__>),\n",
       " ('__weakref__', <attribute '__weakref__' of 'Person' objects>),\n",
       " ('name', <property at 0x7db5210>),\n",
       " ('setName', <function __main__.Person.setName(self, name)>)]"
      ]
     },
     "execution_count": 3,
     "metadata": {},
     "output_type": "execute_result"
    }
   ],
   "source": [
    "inspect.getmembers(Person)"
   ]
  },
  {
   "cell_type": "code",
   "execution_count": 4,
   "metadata": {},
   "outputs": [
    {
     "data": {
      "text/plain": [
       "[('__class__', __main__.Person),\n",
       " ('__delattr__',\n",
       "  <method-wrapper '__delattr__' of Person object at 0x0000000007DB2FE0>),\n",
       " ('__dict__', {'_name': 'li', '_age': 0}),\n",
       " ('__dir__', <function Person.__dir__()>),\n",
       " ('__doc__', 'Person doc\\n    '),\n",
       " ('__eq__', <method-wrapper '__eq__' of Person object at 0x0000000007DB2FE0>),\n",
       " ('__format__', <function Person.__format__(format_spec, /)>),\n",
       " ('__ge__', <method-wrapper '__ge__' of Person object at 0x0000000007DB2FE0>),\n",
       " ('__getattribute__',\n",
       "  <method-wrapper '__getattribute__' of Person object at 0x0000000007DB2FE0>),\n",
       " ('__gt__', <method-wrapper '__gt__' of Person object at 0x0000000007DB2FE0>),\n",
       " ('__hash__',\n",
       "  <method-wrapper '__hash__' of Person object at 0x0000000007DB2FE0>),\n",
       " ('__init__', <bound method Person.__init__ of Person(name:li, age:0)>),\n",
       " ('__init_subclass__', <function Person.__init_subclass__>),\n",
       " ('__le__', <method-wrapper '__le__' of Person object at 0x0000000007DB2FE0>),\n",
       " ('__lt__', <method-wrapper '__lt__' of Person object at 0x0000000007DB2FE0>),\n",
       " ('__module__', '__main__'),\n",
       " ('__ne__', <method-wrapper '__ne__' of Person object at 0x0000000007DB2FE0>),\n",
       " ('__new__', <function object.__new__(*args, **kwargs)>),\n",
       " ('__reduce__', <function Person.__reduce__()>),\n",
       " ('__reduce_ex__', <function Person.__reduce_ex__(protocol, /)>),\n",
       " ('__repr__', <bound method Person.__repr__ of Person(name:li, age:0)>),\n",
       " ('__setattr__',\n",
       "  <method-wrapper '__setattr__' of Person object at 0x0000000007DB2FE0>),\n",
       " ('__sizeof__', <function Person.__sizeof__()>),\n",
       " ('__str__',\n",
       "  <method-wrapper '__str__' of Person object at 0x0000000007DB2FE0>),\n",
       " ('__subclasshook__', <function Person.__subclasshook__>),\n",
       " ('__weakref__', None),\n",
       " ('_age', 0),\n",
       " ('_name', 'li'),\n",
       " ('name', 'li'),\n",
       " ('setName', <bound method Person.setName of Person(name:li, age:0)>)]"
      ]
     },
     "execution_count": 4,
     "metadata": {},
     "output_type": "execute_result"
    }
   ],
   "source": [
    "inspect.getmembers(Person(\"li\"))"
   ]
  },
  {
   "cell_type": "code",
   "execution_count": 5,
   "metadata": {},
   "outputs": [
    {
     "data": {
      "text/plain": [
       "[('__doc__', 'Person doc\\n    '),\n",
       " ('__module__', '__main__'),\n",
       " ('_name', 'li'),\n",
       " ('name', 'li')]"
      ]
     },
     "execution_count": 5,
     "metadata": {},
     "output_type": "execute_result"
    }
   ],
   "source": [
    "inspect.getmembers(Person(\"li\"), lambda x: isinstance(x, str))"
   ]
  },
  {
   "cell_type": "code",
   "execution_count": 6,
   "metadata": {},
   "outputs": [
    {
     "data": {
      "text/plain": [
       "<module 'inspect' from 'c:\\\\ProgramData\\\\anaconda3\\\\envs\\\\ul\\\\lib\\\\inspect.py'>"
      ]
     },
     "execution_count": 6,
     "metadata": {},
     "output_type": "execute_result"
    }
   ],
   "source": [
    "inspect.getmodule(inspect)"
   ]
  },
  {
   "cell_type": "code",
   "execution_count": 7,
   "metadata": {},
   "outputs": [
    {
     "data": {
      "text/plain": [
       "'inspect'"
      ]
     },
     "execution_count": 7,
     "metadata": {},
     "output_type": "execute_result"
    }
   ],
   "source": [
    "inspect.getmodulename('c:\\\\ProgramData\\\\anaconda3\\\\envs\\\\ul\\\\lib\\\\inspect.py')"
   ]
  },
  {
   "cell_type": "code",
   "execution_count": 8,
   "metadata": {},
   "outputs": [
    {
     "data": {
      "text/plain": [
       "False"
      ]
     },
     "execution_count": 8,
     "metadata": {},
     "output_type": "execute_result"
    }
   ],
   "source": [
    "inspect.ismodule(Person)"
   ]
  },
  {
   "cell_type": "code",
   "execution_count": 9,
   "metadata": {},
   "outputs": [
    {
     "data": {
      "text/plain": [
       "True"
      ]
     },
     "execution_count": 9,
     "metadata": {},
     "output_type": "execute_result"
    }
   ],
   "source": [
    "inspect.isclass(Person)"
   ]
  },
  {
   "cell_type": "code",
   "execution_count": 10,
   "metadata": {},
   "outputs": [
    {
     "data": {
      "text/plain": [
       "False"
      ]
     },
     "execution_count": 10,
     "metadata": {},
     "output_type": "execute_result"
    }
   ],
   "source": [
    "inspect.isclass(Person(\"li\"))"
   ]
  },
  {
   "cell_type": "code",
   "execution_count": 11,
   "metadata": {},
   "outputs": [
    {
     "data": {
      "text/plain": [
       "(False, True)"
      ]
     },
     "execution_count": 11,
     "metadata": {},
     "output_type": "execute_result"
    }
   ],
   "source": [
    "inspect.ismethod(Person(\"li\").name), inspect.ismethod(Person(\"li\").setName)"
   ]
  },
  {
   "cell_type": "code",
   "execution_count": 12,
   "metadata": {},
   "outputs": [
    {
     "data": {
      "text/plain": [
       "('Person doc\\n    ', 'Person doc\\n    ', None)"
      ]
     },
     "execution_count": 12,
     "metadata": {},
     "output_type": "execute_result"
    }
   ],
   "source": [
    "inspect.getdoc(Person(\"li\")), inspect.getdoc(Person), inspect.getcomments(Person(\"li\"))"
   ]
  },
  {
   "cell_type": "code",
   "execution_count": 13,
   "metadata": {},
   "outputs": [
    {
     "data": {
      "text/plain": [
       "'c:\\\\ProgramData\\\\anaconda3\\\\envs\\\\ul\\\\lib\\\\inspect.py'"
      ]
     },
     "execution_count": 13,
     "metadata": {},
     "output_type": "execute_result"
    }
   ],
   "source": [
    "inspect.getfile(inspect)"
   ]
  },
  {
   "cell_type": "code",
   "execution_count": 14,
   "metadata": {},
   "outputs": [
    {
     "data": {
      "text/plain": [
       "'c:\\\\ProgramData\\\\anaconda3\\\\envs\\\\ul\\\\lib\\\\inspect.py'"
      ]
     },
     "execution_count": 14,
     "metadata": {},
     "output_type": "execute_result"
    }
   ],
   "source": [
    "inspect.getsourcefile(inspect)"
   ]
  },
  {
   "cell_type": "code",
   "execution_count": 15,
   "metadata": {},
   "outputs": [
    {
     "data": {
      "text/plain": [
       "(['def getsourcelines(object):\\n',\n",
       "  '    \"\"\"Return a list of source lines and starting line number for an object.\\n',\n",
       "  '\\n',\n",
       "  '    The argument may be a module, class, method, function, traceback, frame,\\n',\n",
       "  '    or code object.  The source code is returned as a list of the lines\\n',\n",
       "  '    corresponding to the object and the line number indicates where in the\\n',\n",
       "  '    original source file the first line of code was found.  An OSError is\\n',\n",
       "  '    raised if the source code cannot be retrieved.\"\"\"\\n',\n",
       "  '    object = unwrap(object)\\n',\n",
       "  '    lines, lnum = findsource(object)\\n',\n",
       "  '\\n',\n",
       "  '    if istraceback(object):\\n',\n",
       "  '        object = object.tb_frame\\n',\n",
       "  '\\n',\n",
       "  '    # for module or frame that corresponds to module, return all source lines\\n',\n",
       "  '    if (ismodule(object) or\\n',\n",
       "  '        (isframe(object) and object.f_code.co_name == \"<module>\")):\\n',\n",
       "  '        return lines, 0\\n',\n",
       "  '    else:\\n',\n",
       "  '        return getblock(lines[lnum:]), lnum + 1\\n'],\n",
       " 1112)"
      ]
     },
     "execution_count": 15,
     "metadata": {},
     "output_type": "execute_result"
    }
   ],
   "source": [
    "inspect.getsourcelines(inspect.getsourcelines)"
   ]
  },
  {
   "cell_type": "code",
   "execution_count": 16,
   "metadata": {},
   "outputs": [
    {
     "data": {
      "text/plain": [
       "'def getsourcelines(object):\\n    \"\"\"Return a list of source lines and starting line number for an object.\\n\\n    The argument may be a module, class, method, function, traceback, frame,\\n    or code object.  The source code is returned as a list of the lines\\n    corresponding to the object and the line number indicates where in the\\n    original source file the first line of code was found.  An OSError is\\n    raised if the source code cannot be retrieved.\"\"\"\\n    object = unwrap(object)\\n    lines, lnum = findsource(object)\\n\\n    if istraceback(object):\\n        object = object.tb_frame\\n\\n    # for module or frame that corresponds to module, return all source lines\\n    if (ismodule(object) or\\n        (isframe(object) and object.f_code.co_name == \"<module>\")):\\n        return lines, 0\\n    else:\\n        return getblock(lines[lnum:]), lnum + 1\\n'"
      ]
     },
     "execution_count": 16,
     "metadata": {},
     "output_type": "execute_result"
    }
   ],
   "source": [
    "inspect.getsource(inspect.getsourcelines)"
   ]
  },
  {
   "cell_type": "code",
   "execution_count": 17,
   "metadata": {},
   "outputs": [
    {
     "data": {
      "text/plain": [
       "True"
      ]
     },
     "execution_count": 17,
     "metadata": {},
     "output_type": "execute_result"
    }
   ],
   "source": [
    "callable(inspect.signature)"
   ]
  },
  {
   "cell_type": "code",
   "execution_count": 18,
   "metadata": {},
   "outputs": [
    {
     "data": {
      "text/plain": [
       "<Signature (obj, *, follow_wrapped=True, globals=None, locals=None, eval_str=False)>"
      ]
     },
     "execution_count": 18,
     "metadata": {},
     "output_type": "execute_result"
    }
   ],
   "source": [
    "sig = inspect.signature(inspect.signature)\n",
    "sig"
   ]
  },
  {
   "cell_type": "code",
   "execution_count": 19,
   "metadata": {},
   "outputs": [
    {
     "data": {
      "text/plain": [
       "<Parameter \"globals=None\">"
      ]
     },
     "execution_count": 19,
     "metadata": {},
     "output_type": "execute_result"
    }
   ],
   "source": [
    "sig.parameters[\"globals\"]"
   ]
  },
  {
   "cell_type": "code",
   "execution_count": 20,
   "metadata": {},
   "outputs": [
    {
     "data": {
      "text/plain": [
       "inspect._empty"
      ]
     },
     "execution_count": 20,
     "metadata": {},
     "output_type": "execute_result"
    }
   ],
   "source": [
    "sig.return_annotation"
   ]
  },
  {
   "cell_type": "code",
   "execution_count": 21,
   "metadata": {},
   "outputs": [
    {
     "data": {
      "text/plain": [
       "<Signature (name, age=0)>"
      ]
     },
     "execution_count": 21,
     "metadata": {},
     "output_type": "execute_result"
    }
   ],
   "source": [
    "sig = inspect.signature(Person)\n",
    "sig"
   ]
  },
  {
   "cell_type": "code",
   "execution_count": 22,
   "metadata": {},
   "outputs": [
    {
     "data": {
      "text/plain": [
       "<_ParameterKind.POSITIONAL_OR_KEYWORD: 1>"
      ]
     },
     "execution_count": 22,
     "metadata": {},
     "output_type": "execute_result"
    }
   ],
   "source": [
    "sig.parameters['age'].kind"
   ]
  },
  {
   "cell_type": "code",
   "execution_count": 23,
   "metadata": {},
   "outputs": [
    {
     "data": {
      "text/plain": [
       "<BoundArguments (name='li')>"
      ]
     },
     "execution_count": 23,
     "metadata": {},
     "output_type": "execute_result"
    }
   ],
   "source": [
    "res = sig.bind(\"li\")\n",
    "res"
   ]
  },
  {
   "cell_type": "code",
   "execution_count": 24,
   "metadata": {},
   "outputs": [
    {
     "data": {
      "text/plain": [
       "{'name': 'li'}"
      ]
     },
     "execution_count": 24,
     "metadata": {},
     "output_type": "execute_result"
    }
   ],
   "source": [
    "res.arguments"
   ]
  },
  {
   "cell_type": "code",
   "execution_count": 25,
   "metadata": {},
   "outputs": [
    {
     "data": {
      "text/plain": [
       "('li',)"
      ]
     },
     "execution_count": 25,
     "metadata": {},
     "output_type": "execute_result"
    }
   ],
   "source": [
    "res.args"
   ]
  },
  {
   "cell_type": "code",
   "execution_count": 26,
   "metadata": {},
   "outputs": [
    {
     "data": {
      "text/plain": [
       "{}"
      ]
     },
     "execution_count": 26,
     "metadata": {},
     "output_type": "execute_result"
    }
   ],
   "source": [
    "res.kwargs"
   ]
  },
  {
   "cell_type": "code",
   "execution_count": 27,
   "metadata": {},
   "outputs": [],
   "source": [
    "res.apply_defaults()"
   ]
  },
  {
   "cell_type": "code",
   "execution_count": 28,
   "metadata": {},
   "outputs": [
    {
     "data": {
      "text/plain": [
       "<BoundArguments (name='li', age=0)>"
      ]
     },
     "execution_count": 28,
     "metadata": {},
     "output_type": "execute_result"
    }
   ],
   "source": [
    "res"
   ]
  },
  {
   "cell_type": "code",
   "execution_count": 29,
   "metadata": {},
   "outputs": [
    {
     "data": {
      "text/plain": [
       "{'name': 'li', 'age': 0}"
      ]
     },
     "execution_count": 29,
     "metadata": {},
     "output_type": "execute_result"
    }
   ],
   "source": [
    "res.arguments"
   ]
  },
  {
   "cell_type": "code",
   "execution_count": 30,
   "metadata": {},
   "outputs": [
    {
     "data": {
      "text/plain": [
       "('li', 0)"
      ]
     },
     "execution_count": 30,
     "metadata": {},
     "output_type": "execute_result"
    }
   ],
   "source": [
    "res.args"
   ]
  },
  {
   "cell_type": "code",
   "execution_count": 31,
   "metadata": {},
   "outputs": [
    {
     "data": {
      "text/plain": [
       "{}"
      ]
     },
     "execution_count": 31,
     "metadata": {},
     "output_type": "execute_result"
    }
   ],
   "source": [
    "res.kwargs"
   ]
  },
  {
   "cell_type": "code",
   "execution_count": 32,
   "metadata": {},
   "outputs": [
    {
     "data": {
      "text/plain": [
       "Person(name:li, age:0)"
      ]
     },
     "execution_count": 32,
     "metadata": {},
     "output_type": "execute_result"
    }
   ],
   "source": [
    "Person(*res.args, **res.kwargs)"
   ]
  },
  {
   "cell_type": "code",
   "execution_count": 33,
   "metadata": {},
   "outputs": [
    {
     "data": {
      "text/plain": [
       "[(object, ()), [(str, (object,)), (inspect.Parameter, (object,))]]"
      ]
     },
     "execution_count": 33,
     "metadata": {},
     "output_type": "execute_result"
    }
   ],
   "source": [
    "inspect.getclasstree([inspect.Parameter, str])"
   ]
  },
  {
   "cell_type": "code",
   "execution_count": 34,
   "metadata": {},
   "outputs": [
    {
     "data": {
      "text/plain": [
       "{'self': Person(name:li, age:0), 'name': 'LI'}"
      ]
     },
     "execution_count": 34,
     "metadata": {},
     "output_type": "execute_result"
    }
   ],
   "source": [
    "inspect.getcallargs(Person(\"li\").setName,  \"LI\")"
   ]
  },
  {
   "cell_type": "code",
   "execution_count": 35,
   "metadata": {},
   "outputs": [
    {
     "data": {
      "text/plain": [
       "<frame at 0x0000000004F4CF10, file 'C:\\\\Users\\\\25335\\\\AppData\\\\Local\\\\Temp\\\\ipykernel_123196\\\\3007165543.py', line 1, code <module>>"
      ]
     },
     "execution_count": 35,
     "metadata": {},
     "output_type": "execute_result"
    }
   ],
   "source": [
    "frame = inspect.currentframe()\n",
    "frame"
   ]
  },
  {
   "cell_type": "code",
   "execution_count": 36,
   "metadata": {},
   "outputs": [
    {
     "data": {
      "text/plain": [
       "Traceback(filename='C:\\\\Users\\\\25335\\\\AppData\\\\Local\\\\Temp\\\\ipykernel_123196\\\\3007165543.py', lineno=1, function='<module>', code_context=['frame = inspect.currentframe()\\n'], index=0)"
      ]
     },
     "execution_count": 36,
     "metadata": {},
     "output_type": "execute_result"
    }
   ],
   "source": [
    "inspect.getframeinfo(frame)"
   ]
  },
  {
   "cell_type": "code",
   "execution_count": 37,
   "metadata": {},
   "outputs": [
    {
     "data": {
      "text/plain": [
       "[FrameInfo(frame=<frame at 0x0000000004F4CF10, file 'C:\\\\Users\\\\25335\\\\AppData\\\\Local\\\\Temp\\\\ipykernel_123196\\\\3007165543.py', line 1, code <module>>, filename='C:\\\\Users\\\\25335\\\\AppData\\\\Local\\\\Temp\\\\ipykernel_123196\\\\3007165543.py', lineno=1, function='<module>', code_context=['frame = inspect.currentframe()\\n'], index=0),\n",
       " FrameInfo(frame=<frame at 0x0000000004F080B0, file 'c:\\\\ProgramData\\\\anaconda3\\\\envs\\\\ul\\\\lib\\\\site-packages\\\\IPython\\\\core\\\\interactiveshell.py', line 3602, code run_code>, filename='c:\\\\ProgramData\\\\anaconda3\\\\envs\\\\ul\\\\lib\\\\site-packages\\\\IPython\\\\core\\\\interactiveshell.py', lineno=3602, function='run_code', code_context=['        return outflag\\n'], index=0)]"
      ]
     },
     "execution_count": 37,
     "metadata": {},
     "output_type": "execute_result"
    }
   ],
   "source": [
    "inspect.getouterframes(frame)"
   ]
  },
  {
   "cell_type": "code",
   "execution_count": 38,
   "metadata": {},
   "outputs": [
    {
     "data": {
      "text/plain": [
       "[FrameInfo(frame=<frame at 0x0000000005A9DD40, file 'C:\\\\Users\\\\25335\\\\AppData\\\\Local\\\\Temp\\\\ipykernel_123196\\\\2581835196.py', line 1, code <module>>, filename='C:\\\\Users\\\\25335\\\\AppData\\\\Local\\\\Temp\\\\ipykernel_123196\\\\2581835196.py', lineno=1, function='<module>', code_context=['inspect.stack()\\n'], index=0),\n",
       " FrameInfo(frame=<frame at 0x0000000004F4E310, file 'c:\\\\ProgramData\\\\anaconda3\\\\envs\\\\ul\\\\lib\\\\site-packages\\\\IPython\\\\core\\\\interactiveshell.py', line 3577, code run_code>, filename='c:\\\\ProgramData\\\\anaconda3\\\\envs\\\\ul\\\\lib\\\\site-packages\\\\IPython\\\\core\\\\interactiveshell.py', lineno=3577, function='run_code', code_context=['                    exec(code_obj, self.user_global_ns, self.user_ns)\\n'], index=0),\n",
       " FrameInfo(frame=<frame at 0x0000000004E474A0, file 'c:\\\\ProgramData\\\\anaconda3\\\\envs\\\\ul\\\\lib\\\\site-packages\\\\IPython\\\\core\\\\interactiveshell.py', line 3517, code run_ast_nodes>, filename='c:\\\\ProgramData\\\\anaconda3\\\\envs\\\\ul\\\\lib\\\\site-packages\\\\IPython\\\\core\\\\interactiveshell.py', lineno=3517, function='run_ast_nodes', code_context=['                if await self.run_code(code, result, async_=asy):\\n'], index=0),\n",
       " FrameInfo(frame=<frame at 0x0000000004B60F00, file 'c:\\\\ProgramData\\\\anaconda3\\\\envs\\\\ul\\\\lib\\\\site-packages\\\\IPython\\\\core\\\\interactiveshell.py', line 3334, code run_cell_async>, filename='c:\\\\ProgramData\\\\anaconda3\\\\envs\\\\ul\\\\lib\\\\site-packages\\\\IPython\\\\core\\\\interactiveshell.py', lineno=3334, function='run_cell_async', code_context=['                has_raised = await self.run_ast_nodes(code_ast.body, cell_name,\\n'], index=0),\n",
       " FrameInfo(frame=<frame at 0x0000000005A8B6A0, file 'c:\\\\ProgramData\\\\anaconda3\\\\envs\\\\ul\\\\lib\\\\site-packages\\\\IPython\\\\core\\\\async_helpers.py', line 128, code _pseudo_sync_runner>, filename='c:\\\\ProgramData\\\\anaconda3\\\\envs\\\\ul\\\\lib\\\\site-packages\\\\IPython\\\\core\\\\async_helpers.py', lineno=128, function='_pseudo_sync_runner', code_context=['        coro.send(None)\\n'], index=0),\n",
       " FrameInfo(frame=<frame at 0x0000000004BCC0D0, file 'c:\\\\ProgramData\\\\anaconda3\\\\envs\\\\ul\\\\lib\\\\site-packages\\\\IPython\\\\core\\\\interactiveshell.py', line 3130, code _run_cell>, filename='c:\\\\ProgramData\\\\anaconda3\\\\envs\\\\ul\\\\lib\\\\site-packages\\\\IPython\\\\core\\\\interactiveshell.py', lineno=3130, function='_run_cell', code_context=['            result = runner(coro)\\n'], index=0),\n",
       " FrameInfo(frame=<frame at 0x0000000004E89A70, file 'c:\\\\ProgramData\\\\anaconda3\\\\envs\\\\ul\\\\lib\\\\site-packages\\\\IPython\\\\core\\\\interactiveshell.py', line 3075, code run_cell>, filename='c:\\\\ProgramData\\\\anaconda3\\\\envs\\\\ul\\\\lib\\\\site-packages\\\\IPython\\\\core\\\\interactiveshell.py', lineno=3075, function='run_cell', code_context=['            result = self._run_cell(\\n'], index=0),\n",
       " FrameInfo(frame=<frame at 0x0000000004B618F0, file 'c:\\\\ProgramData\\\\anaconda3\\\\envs\\\\ul\\\\lib\\\\site-packages\\\\ipykernel\\\\zmqshell.py', line 549, code run_cell>, filename='c:\\\\ProgramData\\\\anaconda3\\\\envs\\\\ul\\\\lib\\\\site-packages\\\\ipykernel\\\\zmqshell.py', lineno=549, function='run_cell', code_context=['        return super().run_cell(*args, **kwargs)\\n'], index=0),\n",
       " FrameInfo(frame=<frame at 0x000000000497C720, file 'c:\\\\ProgramData\\\\anaconda3\\\\envs\\\\ul\\\\lib\\\\site-packages\\\\ipykernel\\\\ipkernel.py', line 429, code do_execute>, filename='c:\\\\ProgramData\\\\anaconda3\\\\envs\\\\ul\\\\lib\\\\site-packages\\\\ipykernel\\\\ipkernel.py', lineno=429, function='do_execute', code_context=['                    res = shell.run_cell(\\n'], index=0),\n",
       " FrameInfo(frame=<frame at 0x0000000004D09FE0, file 'c:\\\\ProgramData\\\\anaconda3\\\\envs\\\\ul\\\\lib\\\\site-packages\\\\ipykernel\\\\kernelbase.py', line 767, code execute_request>, filename='c:\\\\ProgramData\\\\anaconda3\\\\envs\\\\ul\\\\lib\\\\site-packages\\\\ipykernel\\\\kernelbase.py', lineno=767, function='execute_request', code_context=['            reply_content = await reply_content\\n'], index=0),\n",
       " FrameInfo(frame=<frame at 0x0000000004E8FE40, file 'c:\\\\ProgramData\\\\anaconda3\\\\envs\\\\ul\\\\lib\\\\site-packages\\\\ipykernel\\\\kernelbase.py', line 429, code dispatch_shell>, filename='c:\\\\ProgramData\\\\anaconda3\\\\envs\\\\ul\\\\lib\\\\site-packages\\\\ipykernel\\\\kernelbase.py', lineno=429, function='dispatch_shell', code_context=['                    await result\\n'], index=0),\n",
       " FrameInfo(frame=<frame at 0x0000000005AB3C50, file 'c:\\\\ProgramData\\\\anaconda3\\\\envs\\\\ul\\\\lib\\\\site-packages\\\\ipykernel\\\\kernelbase.py', line 523, code process_one>, filename='c:\\\\ProgramData\\\\anaconda3\\\\envs\\\\ul\\\\lib\\\\site-packages\\\\ipykernel\\\\kernelbase.py', lineno=523, function='process_one', code_context=['        await dispatch(*args)\\n'], index=0),\n",
       " FrameInfo(frame=<frame at 0x0000000005AAB840, file 'c:\\\\ProgramData\\\\anaconda3\\\\envs\\\\ul\\\\lib\\\\site-packages\\\\ipykernel\\\\kernelbase.py', line 534, code dispatch_queue>, filename='c:\\\\ProgramData\\\\anaconda3\\\\envs\\\\ul\\\\lib\\\\site-packages\\\\ipykernel\\\\kernelbase.py', lineno=534, function='dispatch_queue', code_context=['                await self.process_one()\\n'], index=0),\n",
       " FrameInfo(frame=<frame at 0x0000000005B18040, file 'c:\\\\ProgramData\\\\anaconda3\\\\envs\\\\ul\\\\lib\\\\asyncio\\\\events.py', line 80, code _run>, filename='c:\\\\ProgramData\\\\anaconda3\\\\envs\\\\ul\\\\lib\\\\asyncio\\\\events.py', lineno=80, function='_run', code_context=['            self._context.run(self._callback, *self._args)\\n'], index=0),\n",
       " FrameInfo(frame=<frame at 0x00000000038AB7B0, file 'c:\\\\ProgramData\\\\anaconda3\\\\envs\\\\ul\\\\lib\\\\asyncio\\\\base_events.py', line 1909, code _run_once>, filename='c:\\\\ProgramData\\\\anaconda3\\\\envs\\\\ul\\\\lib\\\\asyncio\\\\base_events.py', lineno=1909, function='_run_once', code_context=['                handle._run()\\n'], index=0),\n",
       " FrameInfo(frame=<frame at 0x0000000005B105B0, file 'c:\\\\ProgramData\\\\anaconda3\\\\envs\\\\ul\\\\lib\\\\asyncio\\\\base_events.py', line 603, code run_forever>, filename='c:\\\\ProgramData\\\\anaconda3\\\\envs\\\\ul\\\\lib\\\\asyncio\\\\base_events.py', lineno=603, function='run_forever', code_context=['                self._run_once()\\n'], index=0),\n",
       " FrameInfo(frame=<frame at 0x0000000005AFCD60, file 'c:\\\\ProgramData\\\\anaconda3\\\\envs\\\\ul\\\\lib\\\\asyncio\\\\windows_events.py', line 321, code run_forever>, filename='c:\\\\ProgramData\\\\anaconda3\\\\envs\\\\ul\\\\lib\\\\asyncio\\\\windows_events.py', lineno=321, function='run_forever', code_context=['            super().run_forever()\\n'], index=0),\n",
       " FrameInfo(frame=<frame at 0x0000000005B08680, file 'c:\\\\ProgramData\\\\anaconda3\\\\envs\\\\ul\\\\lib\\\\site-packages\\\\tornado\\\\platform\\\\asyncio.py', line 205, code start>, filename='c:\\\\ProgramData\\\\anaconda3\\\\envs\\\\ul\\\\lib\\\\site-packages\\\\tornado\\\\platform\\\\asyncio.py', lineno=205, function='start', code_context=['        self.asyncio_loop.run_forever()\\n'], index=0),\n",
       " FrameInfo(frame=<frame at 0x0000000004900800, file 'c:\\\\ProgramData\\\\anaconda3\\\\envs\\\\ul\\\\lib\\\\site-packages\\\\ipykernel\\\\kernelapp.py', line 701, code start>, filename='c:\\\\ProgramData\\\\anaconda3\\\\envs\\\\ul\\\\lib\\\\site-packages\\\\ipykernel\\\\kernelapp.py', lineno=701, function='start', code_context=['                self.io_loop.start()\\n'], index=0),\n",
       " FrameInfo(frame=<frame at 0x0000000001814130, file 'c:\\\\ProgramData\\\\anaconda3\\\\envs\\\\ul\\\\lib\\\\site-packages\\\\traitlets\\\\config\\\\application.py', line 1075, code launch_instance>, filename='c:\\\\ProgramData\\\\anaconda3\\\\envs\\\\ul\\\\lib\\\\site-packages\\\\traitlets\\\\config\\\\application.py', lineno=1075, function='launch_instance', code_context=['        app.start()\\n'], index=0),\n",
       " FrameInfo(frame=<frame at 0x000000000123FA10, file 'c:\\\\ProgramData\\\\anaconda3\\\\envs\\\\ul\\\\lib\\\\site-packages\\\\ipykernel_launcher.py', line 17, code <module>>, filename='c:\\\\ProgramData\\\\anaconda3\\\\envs\\\\ul\\\\lib\\\\site-packages\\\\ipykernel_launcher.py', lineno=17, function='<module>', code_context=['    app.launch_new_instance()\\n'], index=0),\n",
       " FrameInfo(frame=<frame at 0x000000000082C950, file 'c:\\\\ProgramData\\\\anaconda3\\\\envs\\\\ul\\\\lib\\\\runpy.py', line 86, code _run_code>, filename='c:\\\\ProgramData\\\\anaconda3\\\\envs\\\\ul\\\\lib\\\\runpy.py', lineno=86, function='_run_code', code_context=['    exec(code, run_globals)\\n'], index=0),\n",
       " FrameInfo(frame=<frame at 0x00000000011D9C40, file 'c:\\\\ProgramData\\\\anaconda3\\\\envs\\\\ul\\\\lib\\\\runpy.py', line 196, code _run_module_as_main>, filename='c:\\\\ProgramData\\\\anaconda3\\\\envs\\\\ul\\\\lib\\\\runpy.py', lineno=196, function='_run_module_as_main', code_context=['    return _run_code(code, main_globals, None,\\n'], index=0)]"
      ]
     },
     "execution_count": 38,
     "metadata": {},
     "output_type": "execute_result"
    }
   ],
   "source": [
    "inspect.stack()"
   ]
  },
  {
   "cell_type": "code",
   "execution_count": 39,
   "metadata": {},
   "outputs": [
    {
     "data": {
      "text/plain": [
       "[FrameInfo(frame=<frame at 0x0000000007CC0FE0, file 'C:\\\\Users\\\\25335\\\\AppData\\\\Local\\\\Temp\\\\ipykernel_123196\\\\53709328.py', line 1, code <module>>, filename='C:\\\\Users\\\\25335\\\\AppData\\\\Local\\\\Temp\\\\ipykernel_123196\\\\53709328.py', lineno=1, function='<module>', code_context=['inspect.stack(1)\\n'], index=0),\n",
       " FrameInfo(frame=<frame at 0x0000000004F77500, file 'c:\\\\ProgramData\\\\anaconda3\\\\envs\\\\ul\\\\lib\\\\site-packages\\\\IPython\\\\core\\\\interactiveshell.py', line 3577, code run_code>, filename='c:\\\\ProgramData\\\\anaconda3\\\\envs\\\\ul\\\\lib\\\\site-packages\\\\IPython\\\\core\\\\interactiveshell.py', lineno=3577, function='run_code', code_context=['                    exec(code_obj, self.user_global_ns, self.user_ns)\\n'], index=0),\n",
       " FrameInfo(frame=<frame at 0x0000000004E449E0, file 'c:\\\\ProgramData\\\\anaconda3\\\\envs\\\\ul\\\\lib\\\\site-packages\\\\IPython\\\\core\\\\interactiveshell.py', line 3517, code run_ast_nodes>, filename='c:\\\\ProgramData\\\\anaconda3\\\\envs\\\\ul\\\\lib\\\\site-packages\\\\IPython\\\\core\\\\interactiveshell.py', lineno=3517, function='run_ast_nodes', code_context=['                if await self.run_code(code, result, async_=asy):\\n'], index=0),\n",
       " FrameInfo(frame=<frame at 0x00000000038D8DA0, file 'c:\\\\ProgramData\\\\anaconda3\\\\envs\\\\ul\\\\lib\\\\site-packages\\\\IPython\\\\core\\\\interactiveshell.py', line 3334, code run_cell_async>, filename='c:\\\\ProgramData\\\\anaconda3\\\\envs\\\\ul\\\\lib\\\\site-packages\\\\IPython\\\\core\\\\interactiveshell.py', lineno=3334, function='run_cell_async', code_context=['                has_raised = await self.run_ast_nodes(code_ast.body, cell_name,\\n'], index=0),\n",
       " FrameInfo(frame=<frame at 0x0000000007DDC5E0, file 'c:\\\\ProgramData\\\\anaconda3\\\\envs\\\\ul\\\\lib\\\\site-packages\\\\IPython\\\\core\\\\async_helpers.py', line 128, code _pseudo_sync_runner>, filename='c:\\\\ProgramData\\\\anaconda3\\\\envs\\\\ul\\\\lib\\\\site-packages\\\\IPython\\\\core\\\\async_helpers.py', lineno=128, function='_pseudo_sync_runner', code_context=['        coro.send(None)\\n'], index=0),\n",
       " FrameInfo(frame=<frame at 0x0000000004B7F110, file 'c:\\\\ProgramData\\\\anaconda3\\\\envs\\\\ul\\\\lib\\\\site-packages\\\\IPython\\\\core\\\\interactiveshell.py', line 3130, code _run_cell>, filename='c:\\\\ProgramData\\\\anaconda3\\\\envs\\\\ul\\\\lib\\\\site-packages\\\\IPython\\\\core\\\\interactiveshell.py', lineno=3130, function='_run_cell', code_context=['            result = runner(coro)\\n'], index=0),\n",
       " FrameInfo(frame=<frame at 0x0000000005B0E840, file 'c:\\\\ProgramData\\\\anaconda3\\\\envs\\\\ul\\\\lib\\\\site-packages\\\\IPython\\\\core\\\\interactiveshell.py', line 3075, code run_cell>, filename='c:\\\\ProgramData\\\\anaconda3\\\\envs\\\\ul\\\\lib\\\\site-packages\\\\IPython\\\\core\\\\interactiveshell.py', lineno=3075, function='run_cell', code_context=['            result = self._run_cell(\\n'], index=0),\n",
       " FrameInfo(frame=<frame at 0x0000000004F4D410, file 'c:\\\\ProgramData\\\\anaconda3\\\\envs\\\\ul\\\\lib\\\\site-packages\\\\ipykernel\\\\zmqshell.py', line 549, code run_cell>, filename='c:\\\\ProgramData\\\\anaconda3\\\\envs\\\\ul\\\\lib\\\\site-packages\\\\ipykernel\\\\zmqshell.py', lineno=549, function='run_cell', code_context=['        return super().run_cell(*args, **kwargs)\\n'], index=0),\n",
       " FrameInfo(frame=<frame at 0x0000000004F4DB90, file 'c:\\\\ProgramData\\\\anaconda3\\\\envs\\\\ul\\\\lib\\\\site-packages\\\\ipykernel\\\\ipkernel.py', line 429, code do_execute>, filename='c:\\\\ProgramData\\\\anaconda3\\\\envs\\\\ul\\\\lib\\\\site-packages\\\\ipykernel\\\\ipkernel.py', lineno=429, function='do_execute', code_context=['                    res = shell.run_cell(\\n'], index=0),\n",
       " FrameInfo(frame=<frame at 0x0000000004F772B0, file 'c:\\\\ProgramData\\\\anaconda3\\\\envs\\\\ul\\\\lib\\\\site-packages\\\\ipykernel\\\\kernelbase.py', line 767, code execute_request>, filename='c:\\\\ProgramData\\\\anaconda3\\\\envs\\\\ul\\\\lib\\\\site-packages\\\\ipykernel\\\\kernelbase.py', lineno=767, function='execute_request', code_context=['            reply_content = await reply_content\\n'], index=0),\n",
       " FrameInfo(frame=<frame at 0x0000000004E1E510, file 'c:\\\\ProgramData\\\\anaconda3\\\\envs\\\\ul\\\\lib\\\\site-packages\\\\ipykernel\\\\kernelbase.py', line 429, code dispatch_shell>, filename='c:\\\\ProgramData\\\\anaconda3\\\\envs\\\\ul\\\\lib\\\\site-packages\\\\ipykernel\\\\kernelbase.py', lineno=429, function='dispatch_shell', code_context=['                    await result\\n'], index=0),\n",
       " FrameInfo(frame=<frame at 0x0000000004E222B0, file 'c:\\\\ProgramData\\\\anaconda3\\\\envs\\\\ul\\\\lib\\\\site-packages\\\\ipykernel\\\\kernelbase.py', line 523, code process_one>, filename='c:\\\\ProgramData\\\\anaconda3\\\\envs\\\\ul\\\\lib\\\\site-packages\\\\ipykernel\\\\kernelbase.py', lineno=523, function='process_one', code_context=['        await dispatch(*args)\\n'], index=0),\n",
       " FrameInfo(frame=<frame at 0x0000000005AAB840, file 'c:\\\\ProgramData\\\\anaconda3\\\\envs\\\\ul\\\\lib\\\\site-packages\\\\ipykernel\\\\kernelbase.py', line 534, code dispatch_queue>, filename='c:\\\\ProgramData\\\\anaconda3\\\\envs\\\\ul\\\\lib\\\\site-packages\\\\ipykernel\\\\kernelbase.py', lineno=534, function='dispatch_queue', code_context=['                await self.process_one()\\n'], index=0),\n",
       " FrameInfo(frame=<frame at 0x0000000005A57490, file 'c:\\\\ProgramData\\\\anaconda3\\\\envs\\\\ul\\\\lib\\\\asyncio\\\\events.py', line 80, code _run>, filename='c:\\\\ProgramData\\\\anaconda3\\\\envs\\\\ul\\\\lib\\\\asyncio\\\\events.py', lineno=80, function='_run', code_context=['            self._context.run(self._callback, *self._args)\\n'], index=0),\n",
       " FrameInfo(frame=<frame at 0x0000000004F082E0, file 'c:\\\\ProgramData\\\\anaconda3\\\\envs\\\\ul\\\\lib\\\\asyncio\\\\base_events.py', line 1909, code _run_once>, filename='c:\\\\ProgramData\\\\anaconda3\\\\envs\\\\ul\\\\lib\\\\asyncio\\\\base_events.py', lineno=1909, function='_run_once', code_context=['                handle._run()\\n'], index=0),\n",
       " FrameInfo(frame=<frame at 0x0000000005B105B0, file 'c:\\\\ProgramData\\\\anaconda3\\\\envs\\\\ul\\\\lib\\\\asyncio\\\\base_events.py', line 603, code run_forever>, filename='c:\\\\ProgramData\\\\anaconda3\\\\envs\\\\ul\\\\lib\\\\asyncio\\\\base_events.py', lineno=603, function='run_forever', code_context=['                self._run_once()\\n'], index=0),\n",
       " FrameInfo(frame=<frame at 0x0000000005AFCD60, file 'c:\\\\ProgramData\\\\anaconda3\\\\envs\\\\ul\\\\lib\\\\asyncio\\\\windows_events.py', line 321, code run_forever>, filename='c:\\\\ProgramData\\\\anaconda3\\\\envs\\\\ul\\\\lib\\\\asyncio\\\\windows_events.py', lineno=321, function='run_forever', code_context=['            super().run_forever()\\n'], index=0),\n",
       " FrameInfo(frame=<frame at 0x0000000005B08680, file 'c:\\\\ProgramData\\\\anaconda3\\\\envs\\\\ul\\\\lib\\\\site-packages\\\\tornado\\\\platform\\\\asyncio.py', line 205, code start>, filename='c:\\\\ProgramData\\\\anaconda3\\\\envs\\\\ul\\\\lib\\\\site-packages\\\\tornado\\\\platform\\\\asyncio.py', lineno=205, function='start', code_context=['        self.asyncio_loop.run_forever()\\n'], index=0),\n",
       " FrameInfo(frame=<frame at 0x0000000004900800, file 'c:\\\\ProgramData\\\\anaconda3\\\\envs\\\\ul\\\\lib\\\\site-packages\\\\ipykernel\\\\kernelapp.py', line 701, code start>, filename='c:\\\\ProgramData\\\\anaconda3\\\\envs\\\\ul\\\\lib\\\\site-packages\\\\ipykernel\\\\kernelapp.py', lineno=701, function='start', code_context=['                self.io_loop.start()\\n'], index=0),\n",
       " FrameInfo(frame=<frame at 0x0000000001814130, file 'c:\\\\ProgramData\\\\anaconda3\\\\envs\\\\ul\\\\lib\\\\site-packages\\\\traitlets\\\\config\\\\application.py', line 1075, code launch_instance>, filename='c:\\\\ProgramData\\\\anaconda3\\\\envs\\\\ul\\\\lib\\\\site-packages\\\\traitlets\\\\config\\\\application.py', lineno=1075, function='launch_instance', code_context=['        app.start()\\n'], index=0),\n",
       " FrameInfo(frame=<frame at 0x000000000123FA10, file 'c:\\\\ProgramData\\\\anaconda3\\\\envs\\\\ul\\\\lib\\\\site-packages\\\\ipykernel_launcher.py', line 17, code <module>>, filename='c:\\\\ProgramData\\\\anaconda3\\\\envs\\\\ul\\\\lib\\\\site-packages\\\\ipykernel_launcher.py', lineno=17, function='<module>', code_context=['    app.launch_new_instance()\\n'], index=0),\n",
       " FrameInfo(frame=<frame at 0x000000000082C950, file 'c:\\\\ProgramData\\\\anaconda3\\\\envs\\\\ul\\\\lib\\\\runpy.py', line 86, code _run_code>, filename='c:\\\\ProgramData\\\\anaconda3\\\\envs\\\\ul\\\\lib\\\\runpy.py', lineno=86, function='_run_code', code_context=['    exec(code, run_globals)\\n'], index=0),\n",
       " FrameInfo(frame=<frame at 0x00000000011D9C40, file 'c:\\\\ProgramData\\\\anaconda3\\\\envs\\\\ul\\\\lib\\\\runpy.py', line 196, code _run_module_as_main>, filename='c:\\\\ProgramData\\\\anaconda3\\\\envs\\\\ul\\\\lib\\\\runpy.py', lineno=196, function='_run_module_as_main', code_context=['    return _run_code(code, main_globals, None,\\n'], index=0)]"
      ]
     },
     "execution_count": 39,
     "metadata": {},
     "output_type": "execute_result"
    }
   ],
   "source": [
    "inspect.stack(1)"
   ]
  },
  {
   "cell_type": "code",
   "execution_count": 40,
   "metadata": {},
   "outputs": [
    {
     "name": "stdout",
     "output_type": "stream",
     "text": [
      "[FrameInfo(frame=<frame at 0x0000000007DD1CF0, file 'C:\\\\Users\\\\25335\\\\AppData\\\\Local\\\\Temp\\\\ipykernel_123196\\\\3705102742.py', line 4, code <module>>, filename='C:\\\\Users\\\\25335\\\\AppData\\\\Local\\\\Temp\\\\ipykernel_123196\\\\3705102742.py', lineno=2, function='<module>', code_context=['    raise(Exception(\"for tracing\"))\\n'], index=0)]\n"
     ]
    }
   ],
   "source": [
    "try:\n",
    "    raise(Exception(\"for tracing\"))\n",
    "except:\n",
    "    print(inspect.trace())"
   ]
  },
  {
   "cell_type": "code",
   "execution_count": 41,
   "metadata": {},
   "outputs": [
    {
     "data": {
      "text/plain": [
       "True"
      ]
     },
     "execution_count": 41,
     "metadata": {},
     "output_type": "execute_result"
    }
   ],
   "source": [
    "inspect.getmro(Person) is Person.__mro__"
   ]
  },
  {
   "cell_type": "code",
   "execution_count": 42,
   "metadata": {},
   "outputs": [],
   "source": [
    "def my_decorator(func):\n",
    "    @wraps(func)\n",
    "    def wrapper(*args, **kwargs):\n",
    "        return func(*args, **kwargs)\n",
    "    return wrapper\n",
    "\n",
    "@my_decorator\n",
    "def my_function():\n",
    "    pass\n"
   ]
  },
  {
   "cell_type": "code",
   "execution_count": 43,
   "metadata": {},
   "outputs": [
    {
     "data": {
      "text/plain": [
       "<function __main__.my_function()>"
      ]
     },
     "execution_count": 43,
     "metadata": {},
     "output_type": "execute_result"
    }
   ],
   "source": [
    "origin_func = inspect.unwrap(my_function)\n",
    "origin_func"
   ]
  },
  {
   "cell_type": "code",
   "execution_count": 44,
   "metadata": {},
   "outputs": [
    {
     "data": {
      "text/plain": [
       "(['def unwrap(func, *, stop=None):\\n',\n",
       "  '    \"\"\"Get the object wrapped by *func*.\\n',\n",
       "  '\\n',\n",
       "  '   Follows the chain of :attr:`__wrapped__` attributes returning the last\\n',\n",
       "  '   object in the chain.\\n',\n",
       "  '\\n',\n",
       "  '   *stop* is an optional callback accepting an object in the wrapper chain\\n',\n",
       "  '   as its sole argument that allows the unwrapping to be terminated early if\\n',\n",
       "  '   the callback returns a true value. If the callback never returns a true\\n',\n",
       "  '   value, the last object in the chain is returned as usual. For example,\\n',\n",
       "  '   :func:`signature` uses this to stop unwrapping if any object in the\\n',\n",
       "  '   chain has a ``__signature__`` attribute defined.\\n',\n",
       "  '\\n',\n",
       "  '   :exc:`ValueError` is raised if a cycle is encountered.\\n',\n",
       "  '\\n',\n",
       "  '    \"\"\"\\n',\n",
       "  '    if stop is None:\\n',\n",
       "  '        def _is_wrapper(f):\\n',\n",
       "  \"            return hasattr(f, '__wrapped__')\\n\",\n",
       "  '    else:\\n',\n",
       "  '        def _is_wrapper(f):\\n',\n",
       "  \"            return hasattr(f, '__wrapped__') and not stop(f)\\n\",\n",
       "  '    f = func  # remember the original func for error reporting\\n',\n",
       "  '    # Memoise by id to tolerate non-hashable objects, but store objects to\\n',\n",
       "  \"    # ensure they aren't destroyed, which would allow their IDs to be reused.\\n\",\n",
       "  '    memo = {id(f): f}\\n',\n",
       "  '    recursion_limit = sys.getrecursionlimit()\\n',\n",
       "  '    while _is_wrapper(func):\\n',\n",
       "  '        func = func.__wrapped__\\n',\n",
       "  '        id_func = id(func)\\n',\n",
       "  '        if (id_func in memo) or (len(memo) >= recursion_limit):\\n',\n",
       "  \"            raise ValueError('wrapper loop when unwrapping {!r}'.format(f))\\n\",\n",
       "  '        memo[id_func] = func\\n',\n",
       "  '    return func\\n'],\n",
       " 612)"
      ]
     },
     "execution_count": 44,
     "metadata": {},
     "output_type": "execute_result"
    }
   ],
   "source": [
    "inspect.getsourcelines(inspect.unwrap)"
   ]
  },
  {
   "cell_type": "code",
   "execution_count": 45,
   "metadata": {},
   "outputs": [
    {
     "data": {
      "text/plain": [
       "True"
      ]
     },
     "execution_count": 45,
     "metadata": {},
     "output_type": "execute_result"
    }
   ],
   "source": [
    "origin_func is my_function.__wrapped__"
   ]
  },
  {
   "cell_type": "code",
   "execution_count": null,
   "metadata": {},
   "outputs": [],
   "source": []
  }
 ],
 "metadata": {
  "kernelspec": {
   "display_name": "ul",
   "language": "python",
   "name": "python3"
  },
  "language_info": {
   "codemirror_mode": {
    "name": "ipython",
    "version": 3
   },
   "file_extension": ".py",
   "mimetype": "text/x-python",
   "name": "python",
   "nbconvert_exporter": "python",
   "pygments_lexer": "ipython3",
   "version": "3.10.14"
  }
 },
 "nbformat": 4,
 "nbformat_minor": 2
}
