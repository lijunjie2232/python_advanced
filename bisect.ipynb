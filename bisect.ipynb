{
 "cells": [
  {
   "cell_type": "code",
   "execution_count": 1,
   "metadata": {},
   "outputs": [],
   "source": [
    "import bisect"
   ]
  },
  {
   "cell_type": "code",
   "execution_count": 2,
   "metadata": {},
   "outputs": [],
   "source": [
    "a = []"
   ]
  },
  {
   "cell_type": "code",
   "execution_count": 3,
   "metadata": {},
   "outputs": [
    {
     "name": "stdout",
     "output_type": "stream",
     "text": [
      "[7]\n",
      "[3, 7]\n",
      "[3, 7, 8]\n",
      "[3, 4, 7, 8]\n",
      "[3, 4, 5, 7, 8]\n",
      "[1, 3, 4, 5, 7, 8]\n",
      "[1, 3, 4, 5, 6, 7, 8]\n",
      "[1, 3, 4, 5, 6, 7, 8, 8]\n",
      "[1, 3, 4, 5, 6, 7, 7, 8, 8]\n"
     ]
    }
   ],
   "source": [
    "for i in [7,3,8,4,5,1,6,8,7]:\n",
    "    bisect.insort(a, i)\n",
    "    print(a)"
   ]
  },
  {
   "cell_type": "code",
   "execution_count": 4,
   "metadata": {},
   "outputs": [
    {
     "data": {
      "text/plain": [
       "(5, 7)"
      ]
     },
     "execution_count": 4,
     "metadata": {},
     "output_type": "execute_result"
    }
   ],
   "source": [
    "# more than one target item\n",
    "bisect.bisect_left(a, 7), bisect.bisect_right(a, 7)\n"
   ]
  },
  {
   "cell_type": "code",
   "execution_count": 5,
   "metadata": {},
   "outputs": [
    {
     "data": {
      "text/plain": [
       "(1, 2)"
      ]
     },
     "execution_count": 5,
     "metadata": {},
     "output_type": "execute_result"
    }
   ],
   "source": [
    "# only one target item\n",
    "bisect.bisect_left(a, 3), bisect.bisect_right(a, 3)"
   ]
  },
  {
   "cell_type": "code",
   "execution_count": 6,
   "metadata": {},
   "outputs": [
    {
     "data": {
      "text/plain": [
       "(1, 1)"
      ]
     },
     "execution_count": 6,
     "metadata": {},
     "output_type": "execute_result"
    }
   ],
   "source": [
    "# no target item\n",
    "bisect.bisect_left(a, 2), bisect.bisect_right(a, 2)"
   ]
  },
  {
   "cell_type": "code",
   "execution_count": 7,
   "metadata": {},
   "outputs": [],
   "source": [
    "class MyItem:\n",
    "    def __init__(self, number):\n",
    "        self.number = number\n",
    "    def __str__(self):\n",
    "        return str(self.number)\n",
    "    def __repr__(self):\n",
    "        return self.__str__()"
   ]
  },
  {
   "cell_type": "code",
   "execution_count": 8,
   "metadata": {},
   "outputs": [],
   "source": [
    "a = []"
   ]
  },
  {
   "cell_type": "code",
   "execution_count": 9,
   "metadata": {},
   "outputs": [
    {
     "name": "stdout",
     "output_type": "stream",
     "text": [
      "[7]\n",
      "[3, 7]\n",
      "[3, 7, 8]\n",
      "[3, 4, 7, 8]\n",
      "[3, 4, 5, 7, 8]\n",
      "[1, 3, 4, 5, 7, 8]\n",
      "[1, 3, 4, 5, 6, 7, 8]\n",
      "[1, 3, 4, 5, 6, 7, 8, 8]\n",
      "[1, 3, 4, 5, 6, 7, 7, 8, 8]\n"
     ]
    }
   ],
   "source": [
    "for i in [7,3,8,4,5,1,6,8,7]:\n",
    "    bisect.insort(a, MyItem(i), key=lambda x: x.number)\n",
    "    print(a)"
   ]
  },
  {
   "cell_type": "code",
   "execution_count": null,
   "metadata": {},
   "outputs": [],
   "source": []
  }
 ],
 "metadata": {
  "kernelspec": {
   "display_name": "ml",
   "language": "python",
   "name": "python3"
  },
  "language_info": {
   "codemirror_mode": {
    "name": "ipython",
    "version": 3
   },
   "file_extension": ".py",
   "mimetype": "text/x-python",
   "name": "python",
   "nbconvert_exporter": "python",
   "pygments_lexer": "ipython3",
   "version": "3.10.14"
  }
 },
 "nbformat": 4,
 "nbformat_minor": 2
}
