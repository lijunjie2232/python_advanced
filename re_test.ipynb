{
 "cells": [
  {
   "cell_type": "code",
   "execution_count": 1,
   "metadata": {},
   "outputs": [],
   "source": [
    "import re\n"
   ]
  },
  {
   "cell_type": "markdown",
   "metadata": {},
   "source": [
    "# Group"
   ]
  },
  {
   "cell_type": "code",
   "execution_count": 12,
   "metadata": {},
   "outputs": [
    {
     "name": "stdout",
     "output_type": "stream",
     "text": [
      "group0 <span>hello world</span>\n",
      "group1 <span>hello world</span>\n",
      "group2 hello world\n"
     ]
    }
   ],
   "source": [
    "string1 = \"<span>hello world</span>\"\n",
    "rs = re.match(\"(?P<span_contexts><span>(.*?)</span>)\",string1)\n",
    "print(\"group0\",rs.group(0))\n",
    "print(\"group1\",rs.group(1))\n",
    "print(\"group2\",rs.group(2))"
   ]
  },
  {
   "cell_type": "code",
   "execution_count": 13,
   "metadata": {},
   "outputs": [
    {
     "name": "stdout",
     "output_type": "stream",
     "text": [
      "('<span>hello world</span>', 'hello world')\n"
     ]
    }
   ],
   "source": [
    "print(rs.groups())"
   ]
  },
  {
   "cell_type": "code",
   "execution_count": 14,
   "metadata": {},
   "outputs": [
    {
     "name": "stdout",
     "output_type": "stream",
     "text": [
      "{'span_contexts': '<span>hello world</span>'}\n"
     ]
    }
   ],
   "source": [
    "print(rs.groupdict())"
   ]
  },
  {
   "cell_type": "code",
   "execution_count": 11,
   "metadata": {},
   "outputs": [
    {
     "name": "stdout",
     "output_type": "stream",
     "text": [
      "('<span>hello world</span>', 'hello world')\n",
      "<span>hello world</span>\n"
     ]
    }
   ],
   "source": [
    "\n",
    "print(rs.group(\"span_contexts\"))"
   ]
  }
 ],
 "metadata": {
  "kernelspec": {
   "display_name": "ml",
   "language": "python",
   "name": "python3"
  },
  "language_info": {
   "codemirror_mode": {
    "name": "ipython",
    "version": 3
   },
   "file_extension": ".py",
   "mimetype": "text/x-python",
   "name": "python",
   "nbconvert_exporter": "python",
   "pygments_lexer": "ipython3",
   "version": "3.8.18"
  }
 },
 "nbformat": 4,
 "nbformat_minor": 2
}
