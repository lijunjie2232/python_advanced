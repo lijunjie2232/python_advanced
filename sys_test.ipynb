{
 "cells": [
  {
   "cell_type": "code",
   "execution_count": 1,
   "metadata": {},
   "outputs": [],
   "source": [
    "import sys"
   ]
  },
  {
   "cell_type": "code",
   "execution_count": 2,
   "metadata": {},
   "outputs": [
    {
     "data": {
      "text/plain": [
       "['c:\\\\ProgramData\\\\anaconda3\\\\envs\\\\ul\\\\lib\\\\site-packages\\\\ipykernel_launcher.py',\n",
       " '--f=s:\\\\Users\\\\25335\\\\AppData\\\\Roaming\\\\jupyter\\\\runtime\\\\kernel-v2-27484Y447W1Feu8qo.json']"
      ]
     },
     "execution_count": 2,
     "metadata": {},
     "output_type": "execute_result"
    }
   ],
   "source": [
    "sys.argv"
   ]
  },
  {
   "cell_type": "code",
   "execution_count": 3,
   "metadata": {},
   "outputs": [
    {
     "data": {
      "text/plain": [
       "['c:\\\\ProgramData\\\\anaconda3\\\\envs\\\\ul\\\\python.exe',\n",
       " '-m',\n",
       " 'ipykernel_launcher',\n",
       " '--f=s:\\\\Users\\\\25335\\\\AppData\\\\Roaming\\\\jupyter\\\\runtime\\\\kernel-v2-27484Y447W1Feu8qo.json']"
      ]
     },
     "execution_count": 3,
     "metadata": {},
     "output_type": "execute_result"
    }
   ],
   "source": [
    "sys.orig_argv"
   ]
  },
  {
   "cell_type": "code",
   "execution_count": 4,
   "metadata": {},
   "outputs": [
    {
     "data": {
      "text/plain": [
       "'3.10.14 | packaged by Anaconda, Inc. | (main, May  6 2024, 19:44:50) [MSC v.1916 64 bit (AMD64)]'"
      ]
     },
     "execution_count": 4,
     "metadata": {},
     "output_type": "execute_result"
    }
   ],
   "source": [
    "sys.version"
   ]
  },
  {
   "cell_type": "code",
   "execution_count": 5,
   "metadata": {},
   "outputs": [
    {
     "data": {
      "text/plain": [
       "sys.version_info(major=3, minor=10, micro=14, releaselevel='final', serial=0)"
      ]
     },
     "execution_count": 5,
     "metadata": {},
     "output_type": "execute_result"
    }
   ],
   "source": [
    "sys.version_info"
   ]
  },
  {
   "cell_type": "code",
   "execution_count": 6,
   "metadata": {},
   "outputs": [
    {
     "data": {
      "text/plain": [
       "['f:\\\\code\\\\python\\\\python_skill',\n",
       " 'c:\\\\ProgramData\\\\anaconda3\\\\envs\\\\ul\\\\python310.zip',\n",
       " 'c:\\\\ProgramData\\\\anaconda3\\\\envs\\\\ul\\\\DLLs',\n",
       " 'c:\\\\ProgramData\\\\anaconda3\\\\envs\\\\ul\\\\lib',\n",
       " 'c:\\\\ProgramData\\\\anaconda3\\\\envs\\\\ul',\n",
       " '',\n",
       " 'c:\\\\ProgramData\\\\anaconda3\\\\envs\\\\ul\\\\lib\\\\site-packages',\n",
       " '__editable__.ultralytics-8.2.17.finder.__path_hook__',\n",
       " 'c:\\\\ProgramData\\\\anaconda3\\\\envs\\\\ul\\\\lib\\\\site-packages\\\\win32',\n",
       " 'c:\\\\ProgramData\\\\anaconda3\\\\envs\\\\ul\\\\lib\\\\site-packages\\\\win32\\\\lib',\n",
       " 'c:\\\\ProgramData\\\\anaconda3\\\\envs\\\\ul\\\\lib\\\\site-packages\\\\Pythonwin']"
      ]
     },
     "execution_count": 6,
     "metadata": {},
     "output_type": "execute_result"
    }
   ],
   "source": [
    "sys.path"
   ]
  },
  {
   "cell_type": "code",
   "execution_count": 7,
   "metadata": {},
   "outputs": [
    {
     "data": {
      "text/plain": [
       "'win32'"
      ]
     },
     "execution_count": 7,
     "metadata": {},
     "output_type": "execute_result"
    }
   ],
   "source": [
    "sys.platform"
   ]
  },
  {
   "cell_type": "code",
   "execution_count": 8,
   "metadata": {},
   "outputs": [
    {
     "data": {
      "text/plain": [
       "28"
      ]
     },
     "execution_count": 8,
     "metadata": {},
     "output_type": "execute_result"
    }
   ],
   "source": [
    "sys.getsizeof(int(129))"
   ]
  },
  {
   "cell_type": "code",
   "execution_count": 9,
   "metadata": {},
   "outputs": [
    {
     "name": "stdout",
     "output_type": "stream",
     "text": [
      "standard output\n"
     ]
    },
    {
     "data": {
      "text/plain": [
       "16"
      ]
     },
     "execution_count": 9,
     "metadata": {},
     "output_type": "execute_result"
    }
   ],
   "source": [
    "sys.stdout.write(\"standard output\\n\")"
   ]
  },
  {
   "cell_type": "code",
   "execution_count": 10,
   "metadata": {},
   "outputs": [
    {
     "name": "stderr",
     "output_type": "stream",
     "text": [
      "standard error\n"
     ]
    },
    {
     "data": {
      "text/plain": [
       "15"
      ]
     },
     "execution_count": 10,
     "metadata": {},
     "output_type": "execute_result"
    }
   ],
   "source": [
    "sys.stderr.write(\"standard error\\n\")"
   ]
  },
  {
   "cell_type": "code",
   "execution_count": 11,
   "metadata": {},
   "outputs": [
    {
     "data": {
      "text/plain": [
       "<function TextIOWrapper.readline(size=-1, /)>"
      ]
     },
     "execution_count": 11,
     "metadata": {},
     "output_type": "execute_result"
    }
   ],
   "source": [
    "sys.stdin.readline"
   ]
  },
  {
   "cell_type": "code",
   "execution_count": 12,
   "metadata": {},
   "outputs": [
    {
     "data": {
      "text/plain": [
       "3000"
      ]
     },
     "execution_count": 12,
     "metadata": {},
     "output_type": "execute_result"
    }
   ],
   "source": [
    "sys.getrecursionlimit()"
   ]
  },
  {
   "cell_type": "code",
   "execution_count": 13,
   "metadata": {},
   "outputs": [
    {
     "data": {
      "text/plain": [
       "10000"
      ]
     },
     "execution_count": 13,
     "metadata": {},
     "output_type": "execute_result"
    }
   ],
   "source": [
    "sys.setrecursionlimit(10000)\n",
    "sys.getrecursionlimit()"
   ]
  },
  {
   "cell_type": "code",
   "execution_count": 14,
   "metadata": {},
   "outputs": [
    {
     "data": {
      "text/plain": [
       "{'sys': <module 'sys' (built-in)>,\n",
       " 'builtins': <module 'builtins' (built-in)>,\n",
       " '_frozen_importlib': <module '_frozen_importlib' (frozen)>,\n",
       " '_imp': <module '_imp' (built-in)>,\n",
       " '_thread': <module '_thread' (built-in)>,\n",
       " '_warnings': <module '_warnings' (built-in)>,\n",
       " '_weakref': <module '_weakref' (built-in)>,\n",
       " '_io': <module '_io' (built-in)>,\n",
       " 'marshal': <module 'marshal' (built-in)>,\n",
       " 'nt': <module 'nt' (built-in)>,\n",
       " 'winreg': <module 'winreg' (built-in)>,\n",
       " '_frozen_importlib_external': <module '_frozen_importlib_external' (frozen)>,\n",
       " 'time': <module 'time' (built-in)>,\n",
       " 'zipimport': <module 'zipimport' (frozen)>,\n",
       " '_codecs': <module '_codecs' (built-in)>,\n",
       " 'codecs': <module 'codecs' from 'c:\\\\ProgramData\\\\anaconda3\\\\envs\\\\ul\\\\lib\\\\codecs.py'>,\n",
       " 'encodings.aliases': <module 'encodings.aliases' from 'c:\\\\ProgramData\\\\anaconda3\\\\envs\\\\ul\\\\lib\\\\encodings\\\\aliases.py'>,\n",
       " 'encodings': <module 'encodings' from 'c:\\\\ProgramData\\\\anaconda3\\\\envs\\\\ul\\\\lib\\\\encodings\\\\__init__.py'>,\n",
       " 'encodings.utf_8': <module 'encodings.utf_8' from 'c:\\\\ProgramData\\\\anaconda3\\\\envs\\\\ul\\\\lib\\\\encodings\\\\utf_8.py'>,\n",
       " '_signal': <module '_signal' (built-in)>,\n",
       " '_abc': <module '_abc' (built-in)>,\n",
       " 'abc': <module 'abc' from 'c:\\\\ProgramData\\\\anaconda3\\\\envs\\\\ul\\\\lib\\\\abc.py'>,\n",
       " 'io': <module 'io' from 'c:\\\\ProgramData\\\\anaconda3\\\\envs\\\\ul\\\\lib\\\\io.py'>,\n",
       " '__main__': <module '__main__'>,\n",
       " '_stat': <module '_stat' (built-in)>,\n",
       " 'stat': <module 'stat' from 'c:\\\\ProgramData\\\\anaconda3\\\\envs\\\\ul\\\\lib\\\\stat.py'>,\n",
       " '_collections_abc': <module '_collections_abc' from 'c:\\\\ProgramData\\\\anaconda3\\\\envs\\\\ul\\\\lib\\\\_collections_abc.py'>,\n",
       " 'genericpath': <module 'genericpath' from 'c:\\\\ProgramData\\\\anaconda3\\\\envs\\\\ul\\\\lib\\\\genericpath.py'>,\n",
       " '_winapi': <module '_winapi' (built-in)>,\n",
       " 'ntpath': <module 'ntpath' from 'c:\\\\ProgramData\\\\anaconda3\\\\envs\\\\ul\\\\lib\\\\ntpath.py'>,\n",
       " 'os.path': <module 'ntpath' from 'c:\\\\ProgramData\\\\anaconda3\\\\envs\\\\ul\\\\lib\\\\ntpath.py'>,\n",
       " 'os': <module 'os' from 'c:\\\\ProgramData\\\\anaconda3\\\\envs\\\\ul\\\\lib\\\\os.py'>,\n",
       " '_sitebuiltins': <module '_sitebuiltins' from 'c:\\\\ProgramData\\\\anaconda3\\\\envs\\\\ul\\\\lib\\\\_sitebuiltins.py'>,\n",
       " 'importlib._bootstrap': <module '_frozen_importlib' (frozen)>,\n",
       " 'importlib._bootstrap_external': <module '_frozen_importlib_external' (frozen)>,\n",
       " 'warnings': <module 'warnings' from 'c:\\\\ProgramData\\\\anaconda3\\\\envs\\\\ul\\\\lib\\\\warnings.py'>,\n",
       " 'importlib': <module 'importlib' from 'c:\\\\ProgramData\\\\anaconda3\\\\envs\\\\ul\\\\lib\\\\importlib\\\\__init__.py'>,\n",
       " 'importlib.machinery': <module 'importlib.machinery' from 'c:\\\\ProgramData\\\\anaconda3\\\\envs\\\\ul\\\\lib\\\\importlib\\\\machinery.py'>,\n",
       " 'importlib._abc': <module 'importlib._abc' from 'c:\\\\ProgramData\\\\anaconda3\\\\envs\\\\ul\\\\lib\\\\importlib\\\\_abc.py'>,\n",
       " 'itertools': <module 'itertools' (built-in)>,\n",
       " 'keyword': <module 'keyword' from 'c:\\\\ProgramData\\\\anaconda3\\\\envs\\\\ul\\\\lib\\\\keyword.py'>,\n",
       " '_operator': <module '_operator' (built-in)>,\n",
       " 'operator': <module 'operator' from 'c:\\\\ProgramData\\\\anaconda3\\\\envs\\\\ul\\\\lib\\\\operator.py'>,\n",
       " 'reprlib': <module 'reprlib' from 'c:\\\\ProgramData\\\\anaconda3\\\\envs\\\\ul\\\\lib\\\\reprlib.py'>,\n",
       " '_collections': <module '_collections' (built-in)>,\n",
       " 'collections': <module 'collections' from 'c:\\\\ProgramData\\\\anaconda3\\\\envs\\\\ul\\\\lib\\\\collections\\\\__init__.py'>,\n",
       " 'types': <module 'types' from 'c:\\\\ProgramData\\\\anaconda3\\\\envs\\\\ul\\\\lib\\\\types.py'>,\n",
       " '_functools': <module '_functools' (built-in)>,\n",
       " 'functools': <module 'functools' from 'c:\\\\ProgramData\\\\anaconda3\\\\envs\\\\ul\\\\lib\\\\functools.py'>,\n",
       " 'contextlib': <module 'contextlib' from 'c:\\\\ProgramData\\\\anaconda3\\\\envs\\\\ul\\\\lib\\\\contextlib.py'>,\n",
       " 'importlib.util': <module 'importlib.util' from 'c:\\\\ProgramData\\\\anaconda3\\\\envs\\\\ul\\\\lib\\\\importlib\\\\util.py'>,\n",
       " 'posixpath': <module 'posixpath' from 'c:\\\\ProgramData\\\\anaconda3\\\\envs\\\\ul\\\\lib\\\\posixpath.py'>,\n",
       " 'enum': <module 'enum' from 'c:\\\\ProgramData\\\\anaconda3\\\\envs\\\\ul\\\\lib\\\\enum.py'>,\n",
       " '_sre': <module '_sre' (built-in)>,\n",
       " 'sre_constants': <module 'sre_constants' from 'c:\\\\ProgramData\\\\anaconda3\\\\envs\\\\ul\\\\lib\\\\sre_constants.py'>,\n",
       " 'sre_parse': <module 'sre_parse' from 'c:\\\\ProgramData\\\\anaconda3\\\\envs\\\\ul\\\\lib\\\\sre_parse.py'>,\n",
       " 'sre_compile': <module 'sre_compile' from 'c:\\\\ProgramData\\\\anaconda3\\\\envs\\\\ul\\\\lib\\\\sre_compile.py'>,\n",
       " '_locale': <module '_locale' (built-in)>,\n",
       " 'copyreg': <module 'copyreg' from 'c:\\\\ProgramData\\\\anaconda3\\\\envs\\\\ul\\\\lib\\\\copyreg.py'>,\n",
       " 're': <module 're' from 'c:\\\\ProgramData\\\\anaconda3\\\\envs\\\\ul\\\\lib\\\\re.py'>,\n",
       " 'fnmatch': <module 'fnmatch' from 'c:\\\\ProgramData\\\\anaconda3\\\\envs\\\\ul\\\\lib\\\\fnmatch.py'>,\n",
       " 'errno': <module 'errno' (built-in)>,\n",
       " 'urllib': <module 'urllib' from 'c:\\\\ProgramData\\\\anaconda3\\\\envs\\\\ul\\\\lib\\\\urllib\\\\__init__.py'>,\n",
       " 'urllib.parse': <module 'urllib.parse' from 'c:\\\\ProgramData\\\\anaconda3\\\\envs\\\\ul\\\\lib\\\\urllib\\\\parse.py'>,\n",
       " 'pathlib': <module 'pathlib' from 'c:\\\\ProgramData\\\\anaconda3\\\\envs\\\\ul\\\\lib\\\\pathlib.py'>,\n",
       " '__editable___ultralytics_8_2_17_finder': <module '__editable___ultralytics_8_2_17_finder' from 'c:\\\\ProgramData\\\\anaconda3\\\\envs\\\\ul\\\\lib\\\\site-packages\\\\__editable___ultralytics_8_2_17_finder.py'>,\n",
       " '_distutils_hack': <module '_distutils_hack' from 'c:\\\\ProgramData\\\\anaconda3\\\\envs\\\\ul\\\\lib\\\\site-packages\\\\_distutils_hack\\\\__init__.py'>,\n",
       " 'site': <module 'site' from 'c:\\\\ProgramData\\\\anaconda3\\\\envs\\\\ul\\\\lib\\\\site.py'>,\n",
       " 'runpy': <module 'runpy' from 'c:\\\\ProgramData\\\\anaconda3\\\\envs\\\\ul\\\\lib\\\\runpy.py'>,\n",
       " 'collections.abc': <module 'collections.abc' from 'c:\\\\ProgramData\\\\anaconda3\\\\envs\\\\ul\\\\lib\\\\collections\\\\abc.py'>,\n",
       " 'typing.io': typing.io,\n",
       " 'typing.re': typing.re,\n",
       " 'typing': <module 'typing' from 'c:\\\\ProgramData\\\\anaconda3\\\\envs\\\\ul\\\\lib\\\\typing.py'>,\n",
       " 'ipykernel._version': <module 'ipykernel._version' from 'c:\\\\ProgramData\\\\anaconda3\\\\envs\\\\ul\\\\lib\\\\site-packages\\\\ipykernel\\\\_version.py'>,\n",
       " '__future__': <module '__future__' from 'c:\\\\ProgramData\\\\anaconda3\\\\envs\\\\ul\\\\lib\\\\__future__.py'>,\n",
       " '_json': <module '_json' (built-in)>,\n",
       " 'json.scanner': <module 'json.scanner' from 'c:\\\\ProgramData\\\\anaconda3\\\\envs\\\\ul\\\\lib\\\\json\\\\scanner.py'>,\n",
       " 'json.decoder': <module 'json.decoder' from 'c:\\\\ProgramData\\\\anaconda3\\\\envs\\\\ul\\\\lib\\\\json\\\\decoder.py'>,\n",
       " 'json.encoder': <module 'json.encoder' from 'c:\\\\ProgramData\\\\anaconda3\\\\envs\\\\ul\\\\lib\\\\json\\\\encoder.py'>,\n",
       " 'json': <module 'json' from 'c:\\\\ProgramData\\\\anaconda3\\\\envs\\\\ul\\\\lib\\\\json\\\\__init__.py'>,\n",
       " 'signal': <module 'signal' from 'c:\\\\ProgramData\\\\anaconda3\\\\envs\\\\ul\\\\lib\\\\signal.py'>,\n",
       " '_weakrefset': <module '_weakrefset' from 'c:\\\\ProgramData\\\\anaconda3\\\\envs\\\\ul\\\\lib\\\\_weakrefset.py'>,\n",
       " 'threading': <module 'threading' from 'c:\\\\ProgramData\\\\anaconda3\\\\envs\\\\ul\\\\lib\\\\threading.py'>,\n",
       " 'msvcrt': <module 'msvcrt' (built-in)>,\n",
       " 'subprocess': <module 'subprocess' from 'c:\\\\ProgramData\\\\anaconda3\\\\envs\\\\ul\\\\lib\\\\subprocess.py'>,\n",
       " 'jupyter_client._version': <module 'jupyter_client._version' from 'c:\\\\ProgramData\\\\anaconda3\\\\envs\\\\ul\\\\lib\\\\site-packages\\\\jupyter_client\\\\_version.py'>,\n",
       " 'platform': <module 'platform' from 'c:\\\\ProgramData\\\\anaconda3\\\\envs\\\\ul\\\\lib\\\\platform.py'>,\n",
       " 'zmq.backend.select': <module 'zmq.backend.select' from 'c:\\\\ProgramData\\\\anaconda3\\\\envs\\\\ul\\\\lib\\\\site-packages\\\\zmq\\\\backend\\\\select.py'>,\n",
       " 'cython_runtime': <module 'cython_runtime'>,\n",
       " '_cython_3_0_6': <module '_cython_3_0_6'>,\n",
       " 'zmq.error': <module 'zmq.error' from 'c:\\\\ProgramData\\\\anaconda3\\\\envs\\\\ul\\\\lib\\\\site-packages\\\\zmq\\\\error.py'>,\n",
       " 'zmq.backend.cython.context': <module 'zmq.backend.cython.context' from 'c:\\\\ProgramData\\\\anaconda3\\\\envs\\\\ul\\\\lib\\\\site-packages\\\\zmq\\\\backend\\\\cython\\\\context.cp310-win_amd64.pyd'>,\n",
       " 'weakref': <module 'weakref' from 'c:\\\\ProgramData\\\\anaconda3\\\\envs\\\\ul\\\\lib\\\\weakref.py'>,\n",
       " 'zmq.backend.cython.message': <module 'zmq.backend.cython.message' from 'c:\\\\ProgramData\\\\anaconda3\\\\envs\\\\ul\\\\lib\\\\site-packages\\\\zmq\\\\backend\\\\cython\\\\message.cp310-win_amd64.pyd'>,\n",
       " 'copy': <module 'copy' from 'c:\\\\ProgramData\\\\anaconda3\\\\envs\\\\ul\\\\lib\\\\copy.py'>,\n",
       " 'math': <module 'math' (built-in)>,\n",
       " '_bisect': <module '_bisect' (built-in)>,\n",
       " 'bisect': <module 'bisect' from 'c:\\\\ProgramData\\\\anaconda3\\\\envs\\\\ul\\\\lib\\\\bisect.py'>,\n",
       " '_random': <module '_random' (built-in)>,\n",
       " '_sha512': <module '_sha512' (built-in)>,\n",
       " 'random': <module 'random' from 'c:\\\\ProgramData\\\\anaconda3\\\\envs\\\\ul\\\\lib\\\\random.py'>,\n",
       " '_struct': <module '_struct' (built-in)>,\n",
       " 'struct': <module 'struct' from 'c:\\\\ProgramData\\\\anaconda3\\\\envs\\\\ul\\\\lib\\\\struct.py'>,\n",
       " '_compat_pickle': <module '_compat_pickle' from 'c:\\\\ProgramData\\\\anaconda3\\\\envs\\\\ul\\\\lib\\\\_compat_pickle.py'>,\n",
       " '_pickle': <module '_pickle' (built-in)>,\n",
       " 'pickle': <module 'pickle' from 'c:\\\\ProgramData\\\\anaconda3\\\\envs\\\\ul\\\\lib\\\\pickle.py'>,\n",
       " 'zmq.constants': <module 'zmq.constants' from 'c:\\\\ProgramData\\\\anaconda3\\\\envs\\\\ul\\\\lib\\\\site-packages\\\\zmq\\\\constants.py'>,\n",
       " 'zmq.backend.cython.socket': <module 'zmq.backend.cython.socket' from 'c:\\\\ProgramData\\\\anaconda3\\\\envs\\\\ul\\\\lib\\\\site-packages\\\\zmq\\\\backend\\\\cython\\\\socket.cp310-win_amd64.pyd'>,\n",
       " 'zmq.backend.cython._device': <module 'zmq.backend.cython._device' from 'c:\\\\ProgramData\\\\anaconda3\\\\envs\\\\ul\\\\lib\\\\site-packages\\\\zmq\\\\backend\\\\cython\\\\_device.cp310-win_amd64.pyd'>,\n",
       " 'zmq.backend.cython._poll': <module 'zmq.backend.cython._poll' from 'c:\\\\ProgramData\\\\anaconda3\\\\envs\\\\ul\\\\lib\\\\site-packages\\\\zmq\\\\backend\\\\cython\\\\_poll.cp310-win_amd64.pyd'>,\n",
       " 'zmq.backend.cython._proxy_steerable': <module 'zmq.backend.cython._proxy_steerable' from 'c:\\\\ProgramData\\\\anaconda3\\\\envs\\\\ul\\\\lib\\\\site-packages\\\\zmq\\\\backend\\\\cython\\\\_proxy_steerable.cp310-win_amd64.pyd'>,\n",
       " 'zmq.backend.cython._version': <module 'zmq.backend.cython._version' from 'c:\\\\ProgramData\\\\anaconda3\\\\envs\\\\ul\\\\lib\\\\site-packages\\\\zmq\\\\backend\\\\cython\\\\_version.cp310-win_amd64.pyd'>,\n",
       " 'zmq.backend.cython.error': <module 'zmq.backend.cython.error' from 'c:\\\\ProgramData\\\\anaconda3\\\\envs\\\\ul\\\\lib\\\\site-packages\\\\zmq\\\\backend\\\\cython\\\\error.cp310-win_amd64.pyd'>,\n",
       " 'zmq.backend.cython.utils': <module 'zmq.backend.cython.utils' from 'c:\\\\ProgramData\\\\anaconda3\\\\envs\\\\ul\\\\lib\\\\site-packages\\\\zmq\\\\backend\\\\cython\\\\utils.cp310-win_amd64.pyd'>,\n",
       " 'zmq.backend.cython': <module 'zmq.backend.cython' from 'c:\\\\ProgramData\\\\anaconda3\\\\envs\\\\ul\\\\lib\\\\site-packages\\\\zmq\\\\backend\\\\cython\\\\__init__.py'>,\n",
       " 'zmq.backend': <module 'zmq.backend' from 'c:\\\\ProgramData\\\\anaconda3\\\\envs\\\\ul\\\\lib\\\\site-packages\\\\zmq\\\\backend\\\\__init__.py'>,\n",
       " 'atexit': <module 'atexit' (built-in)>,\n",
       " 'zmq.utils': <module 'zmq.utils' from 'c:\\\\ProgramData\\\\anaconda3\\\\envs\\\\ul\\\\lib\\\\site-packages\\\\zmq\\\\utils\\\\__init__.py'>,\n",
       " 'zmq.utils.interop': <module 'zmq.utils.interop' from 'c:\\\\ProgramData\\\\anaconda3\\\\envs\\\\ul\\\\lib\\\\site-packages\\\\zmq\\\\utils\\\\interop.py'>,\n",
       " 'zmq.sugar.attrsettr': <module 'zmq.sugar.attrsettr' from 'c:\\\\ProgramData\\\\anaconda3\\\\envs\\\\ul\\\\lib\\\\site-packages\\\\zmq\\\\sugar\\\\attrsettr.py'>,\n",
       " 'zmq._typing': <module 'zmq._typing' from 'c:\\\\ProgramData\\\\anaconda3\\\\envs\\\\ul\\\\lib\\\\site-packages\\\\zmq\\\\_typing.py'>,\n",
       " 'zmq.utils.jsonapi': <module 'zmq.utils.jsonapi' from 'c:\\\\ProgramData\\\\anaconda3\\\\envs\\\\ul\\\\lib\\\\site-packages\\\\zmq\\\\utils\\\\jsonapi.py'>,\n",
       " 'zmq.sugar.poll': <module 'zmq.sugar.poll' from 'c:\\\\ProgramData\\\\anaconda3\\\\envs\\\\ul\\\\lib\\\\site-packages\\\\zmq\\\\sugar\\\\poll.py'>,\n",
       " 'zmq.sugar.socket': <module 'zmq.sugar.socket' from 'c:\\\\ProgramData\\\\anaconda3\\\\envs\\\\ul\\\\lib\\\\site-packages\\\\zmq\\\\sugar\\\\socket.py'>,\n",
       " 'zmq.sugar.context': <module 'zmq.sugar.context' from 'c:\\\\ProgramData\\\\anaconda3\\\\envs\\\\ul\\\\lib\\\\site-packages\\\\zmq\\\\sugar\\\\context.py'>,\n",
       " 'zmq.sugar.frame': <module 'zmq.sugar.frame' from 'c:\\\\ProgramData\\\\anaconda3\\\\envs\\\\ul\\\\lib\\\\site-packages\\\\zmq\\\\sugar\\\\frame.py'>,\n",
       " 'zmq.sugar.tracker': <module 'zmq.sugar.tracker' from 'c:\\\\ProgramData\\\\anaconda3\\\\envs\\\\ul\\\\lib\\\\site-packages\\\\zmq\\\\sugar\\\\tracker.py'>,\n",
       " 'zmq.sugar.version': <module 'zmq.sugar.version' from 'c:\\\\ProgramData\\\\anaconda3\\\\envs\\\\ul\\\\lib\\\\site-packages\\\\zmq\\\\sugar\\\\version.py'>,\n",
       " 'zmq.sugar.stopwatch': <module 'zmq.sugar.stopwatch' from 'c:\\\\ProgramData\\\\anaconda3\\\\envs\\\\ul\\\\lib\\\\site-packages\\\\zmq\\\\sugar\\\\stopwatch.py'>,\n",
       " 'zmq.sugar': <module 'zmq.sugar' from 'c:\\\\ProgramData\\\\anaconda3\\\\envs\\\\ul\\\\lib\\\\site-packages\\\\zmq\\\\sugar\\\\__init__.py'>,\n",
       " 'zmq': <module 'zmq' from 'c:\\\\ProgramData\\\\anaconda3\\\\envs\\\\ul\\\\lib\\\\site-packages\\\\zmq\\\\__init__.py'>,\n",
       " 'concurrent': <module 'concurrent' from 'c:\\\\ProgramData\\\\anaconda3\\\\envs\\\\ul\\\\lib\\\\concurrent\\\\__init__.py'>,\n",
       " 'token': <module 'token' from 'c:\\\\ProgramData\\\\anaconda3\\\\envs\\\\ul\\\\lib\\\\token.py'>,\n",
       " 'tokenize': <module 'tokenize' from 'c:\\\\ProgramData\\\\anaconda3\\\\envs\\\\ul\\\\lib\\\\tokenize.py'>,\n",
       " 'linecache': <module 'linecache' from 'c:\\\\ProgramData\\\\anaconda3\\\\envs\\\\ul\\\\lib\\\\linecache.py'>,\n",
       " 'traceback': <module 'traceback' from 'c:\\\\ProgramData\\\\anaconda3\\\\envs\\\\ul\\\\lib\\\\traceback.py'>,\n",
       " '_string': <module '_string' (built-in)>,\n",
       " 'string': <module 'string' from 'c:\\\\ProgramData\\\\anaconda3\\\\envs\\\\ul\\\\lib\\\\string.py'>,\n",
       " 'logging': <module 'logging' from 'c:\\\\ProgramData\\\\anaconda3\\\\envs\\\\ul\\\\lib\\\\logging\\\\__init__.py'>,\n",
       " 'concurrent.futures._base': <module 'concurrent.futures._base' from 'c:\\\\ProgramData\\\\anaconda3\\\\envs\\\\ul\\\\lib\\\\concurrent\\\\futures\\\\_base.py'>,\n",
       " 'concurrent.futures': <module 'concurrent.futures' from 'c:\\\\ProgramData\\\\anaconda3\\\\envs\\\\ul\\\\lib\\\\concurrent\\\\futures\\\\__init__.py'>,\n",
       " '_heapq': <module '_heapq' (built-in)>,\n",
       " 'heapq': <module 'heapq' from 'c:\\\\ProgramData\\\\anaconda3\\\\envs\\\\ul\\\\lib\\\\heapq.py'>,\n",
       " '_socket': <module '_socket' from 'c:\\\\ProgramData\\\\anaconda3\\\\envs\\\\ul\\\\DLLs\\\\_socket.pyd'>,\n",
       " 'select': <module 'select' from 'c:\\\\ProgramData\\\\anaconda3\\\\envs\\\\ul\\\\DLLs\\\\select.pyd'>,\n",
       " 'selectors': <module 'selectors' from 'c:\\\\ProgramData\\\\anaconda3\\\\envs\\\\ul\\\\lib\\\\selectors.py'>,\n",
       " 'socket': <module 'socket' from 'c:\\\\ProgramData\\\\anaconda3\\\\envs\\\\ul\\\\lib\\\\socket.py'>,\n",
       " '_ssl': <module '_ssl' from 'c:\\\\ProgramData\\\\anaconda3\\\\envs\\\\ul\\\\DLLs\\\\_ssl.pyd'>,\n",
       " 'binascii': <module 'binascii' (built-in)>,\n",
       " 'base64': <module 'base64' from 'c:\\\\ProgramData\\\\anaconda3\\\\envs\\\\ul\\\\lib\\\\base64.py'>,\n",
       " 'ssl': <module 'ssl' from 'c:\\\\ProgramData\\\\anaconda3\\\\envs\\\\ul\\\\lib\\\\ssl.py'>,\n",
       " 'asyncio.constants': <module 'asyncio.constants' from 'c:\\\\ProgramData\\\\anaconda3\\\\envs\\\\ul\\\\lib\\\\asyncio\\\\constants.py'>,\n",
       " '_ast': <module '_ast' (built-in)>,\n",
       " 'ast': <module 'ast' from 'c:\\\\ProgramData\\\\anaconda3\\\\envs\\\\ul\\\\lib\\\\ast.py'>,\n",
       " '_opcode': <module '_opcode' (built-in)>,\n",
       " 'opcode': <module 'opcode' from 'c:\\\\ProgramData\\\\anaconda3\\\\envs\\\\ul\\\\lib\\\\opcode.py'>,\n",
       " 'dis': <module 'dis' from 'c:\\\\ProgramData\\\\anaconda3\\\\envs\\\\ul\\\\lib\\\\dis.py'>,\n",
       " 'inspect': <module 'inspect' from 'c:\\\\ProgramData\\\\anaconda3\\\\envs\\\\ul\\\\lib\\\\inspect.py'>,\n",
       " 'asyncio.format_helpers': <module 'asyncio.format_helpers' from 'c:\\\\ProgramData\\\\anaconda3\\\\envs\\\\ul\\\\lib\\\\asyncio\\\\format_helpers.py'>,\n",
       " 'asyncio.base_futures': <module 'asyncio.base_futures' from 'c:\\\\ProgramData\\\\anaconda3\\\\envs\\\\ul\\\\lib\\\\asyncio\\\\base_futures.py'>,\n",
       " 'asyncio.log': <module 'asyncio.log' from 'c:\\\\ProgramData\\\\anaconda3\\\\envs\\\\ul\\\\lib\\\\asyncio\\\\log.py'>,\n",
       " 'asyncio.coroutines': <module 'asyncio.coroutines' from 'c:\\\\ProgramData\\\\anaconda3\\\\envs\\\\ul\\\\lib\\\\asyncio\\\\coroutines.py'>,\n",
       " '_contextvars': <module '_contextvars' (built-in)>,\n",
       " 'contextvars': <module 'contextvars' from 'c:\\\\ProgramData\\\\anaconda3\\\\envs\\\\ul\\\\lib\\\\contextvars.py'>,\n",
       " 'asyncio.exceptions': <module 'asyncio.exceptions' from 'c:\\\\ProgramData\\\\anaconda3\\\\envs\\\\ul\\\\lib\\\\asyncio\\\\exceptions.py'>,\n",
       " 'asyncio.base_tasks': <module 'asyncio.base_tasks' from 'c:\\\\ProgramData\\\\anaconda3\\\\envs\\\\ul\\\\lib\\\\asyncio\\\\base_tasks.py'>,\n",
       " '_asyncio': <module '_asyncio' from 'c:\\\\ProgramData\\\\anaconda3\\\\envs\\\\ul\\\\DLLs\\\\_asyncio.pyd'>,\n",
       " 'asyncio.events': <module 'asyncio.events' from 'c:\\\\ProgramData\\\\anaconda3\\\\envs\\\\ul\\\\lib\\\\asyncio\\\\events.py'>,\n",
       " 'asyncio.futures': <module 'asyncio.futures' from 'c:\\\\ProgramData\\\\anaconda3\\\\envs\\\\ul\\\\lib\\\\asyncio\\\\futures.py'>,\n",
       " 'asyncio.protocols': <module 'asyncio.protocols' from 'c:\\\\ProgramData\\\\anaconda3\\\\envs\\\\ul\\\\lib\\\\asyncio\\\\protocols.py'>,\n",
       " 'asyncio.transports': <module 'asyncio.transports' from 'c:\\\\ProgramData\\\\anaconda3\\\\envs\\\\ul\\\\lib\\\\asyncio\\\\transports.py'>,\n",
       " 'asyncio.sslproto': <module 'asyncio.sslproto' from 'c:\\\\ProgramData\\\\anaconda3\\\\envs\\\\ul\\\\lib\\\\asyncio\\\\sslproto.py'>,\n",
       " 'asyncio.mixins': <module 'asyncio.mixins' from 'c:\\\\ProgramData\\\\anaconda3\\\\envs\\\\ul\\\\lib\\\\asyncio\\\\mixins.py'>,\n",
       " 'asyncio.tasks': <module 'asyncio.tasks' from 'c:\\\\ProgramData\\\\anaconda3\\\\envs\\\\ul\\\\lib\\\\asyncio\\\\tasks.py'>,\n",
       " 'asyncio.locks': <module 'asyncio.locks' from 'c:\\\\ProgramData\\\\anaconda3\\\\envs\\\\ul\\\\lib\\\\asyncio\\\\locks.py'>,\n",
       " 'asyncio.staggered': <module 'asyncio.staggered' from 'c:\\\\ProgramData\\\\anaconda3\\\\envs\\\\ul\\\\lib\\\\asyncio\\\\staggered.py'>,\n",
       " 'asyncio.trsock': <module 'asyncio.trsock' from 'c:\\\\ProgramData\\\\anaconda3\\\\envs\\\\ul\\\\lib\\\\asyncio\\\\trsock.py'>,\n",
       " 'asyncio.base_events': <module 'asyncio.base_events' from 'c:\\\\ProgramData\\\\anaconda3\\\\envs\\\\ul\\\\lib\\\\asyncio\\\\base_events.py'>,\n",
       " 'asyncio.runners': <module 'asyncio.runners' from 'c:\\\\ProgramData\\\\anaconda3\\\\envs\\\\ul\\\\lib\\\\asyncio\\\\runners.py'>,\n",
       " 'asyncio.queues': <module 'asyncio.queues' from 'c:\\\\ProgramData\\\\anaconda3\\\\envs\\\\ul\\\\lib\\\\asyncio\\\\queues.py'>,\n",
       " 'asyncio.streams': <module 'asyncio.streams' from 'c:\\\\ProgramData\\\\anaconda3\\\\envs\\\\ul\\\\lib\\\\asyncio\\\\streams.py'>,\n",
       " 'asyncio.subprocess': <module 'asyncio.subprocess' from 'c:\\\\ProgramData\\\\anaconda3\\\\envs\\\\ul\\\\lib\\\\asyncio\\\\subprocess.py'>,\n",
       " 'asyncio.threads': <module 'asyncio.threads' from 'c:\\\\ProgramData\\\\anaconda3\\\\envs\\\\ul\\\\lib\\\\asyncio\\\\threads.py'>,\n",
       " '_overlapped': <module '_overlapped' from 'c:\\\\ProgramData\\\\anaconda3\\\\envs\\\\ul\\\\DLLs\\\\_overlapped.pyd'>,\n",
       " 'asyncio.base_subprocess': <module 'asyncio.base_subprocess' from 'c:\\\\ProgramData\\\\anaconda3\\\\envs\\\\ul\\\\lib\\\\asyncio\\\\base_subprocess.py'>,\n",
       " 'asyncio.proactor_events': <module 'asyncio.proactor_events' from 'c:\\\\ProgramData\\\\anaconda3\\\\envs\\\\ul\\\\lib\\\\asyncio\\\\proactor_events.py'>,\n",
       " 'asyncio.selector_events': <module 'asyncio.selector_events' from 'c:\\\\ProgramData\\\\anaconda3\\\\envs\\\\ul\\\\lib\\\\asyncio\\\\selector_events.py'>,\n",
       " 'zlib': <module 'zlib' (built-in)>,\n",
       " '_compression': <module '_compression' from 'c:\\\\ProgramData\\\\anaconda3\\\\envs\\\\ul\\\\lib\\\\_compression.py'>,\n",
       " '_bz2': <module '_bz2' from 'c:\\\\ProgramData\\\\anaconda3\\\\envs\\\\ul\\\\DLLs\\\\_bz2.pyd'>,\n",
       " 'bz2': <module 'bz2' from 'c:\\\\ProgramData\\\\anaconda3\\\\envs\\\\ul\\\\lib\\\\bz2.py'>,\n",
       " '_lzma': <module '_lzma' from 'c:\\\\ProgramData\\\\anaconda3\\\\envs\\\\ul\\\\DLLs\\\\_lzma.pyd'>,\n",
       " 'lzma': <module 'lzma' from 'c:\\\\ProgramData\\\\anaconda3\\\\envs\\\\ul\\\\lib\\\\lzma.py'>,\n",
       " 'shutil': <module 'shutil' from 'c:\\\\ProgramData\\\\anaconda3\\\\envs\\\\ul\\\\lib\\\\shutil.py'>,\n",
       " 'tempfile': <module 'tempfile' from 'c:\\\\ProgramData\\\\anaconda3\\\\envs\\\\ul\\\\lib\\\\tempfile.py'>,\n",
       " 'asyncio.windows_utils': <module 'asyncio.windows_utils' from 'c:\\\\ProgramData\\\\anaconda3\\\\envs\\\\ul\\\\lib\\\\asyncio\\\\windows_utils.py'>,\n",
       " 'asyncio.windows_events': <module 'asyncio.windows_events' from 'c:\\\\ProgramData\\\\anaconda3\\\\envs\\\\ul\\\\lib\\\\asyncio\\\\windows_events.py'>,\n",
       " 'asyncio': <module 'asyncio' from 'c:\\\\ProgramData\\\\anaconda3\\\\envs\\\\ul\\\\lib\\\\asyncio\\\\__init__.py'>,\n",
       " 'zmq._future': <module 'zmq._future' from 'c:\\\\ProgramData\\\\anaconda3\\\\envs\\\\ul\\\\lib\\\\site-packages\\\\zmq\\\\_future.py'>,\n",
       " 'zmq.asyncio': <module 'zmq.asyncio' from 'c:\\\\ProgramData\\\\anaconda3\\\\envs\\\\ul\\\\lib\\\\site-packages\\\\zmq\\\\asyncio.py'>,\n",
       " 'traitlets.utils': <module 'traitlets.utils' from 'c:\\\\ProgramData\\\\anaconda3\\\\envs\\\\ul\\\\lib\\\\site-packages\\\\traitlets\\\\utils\\\\__init__.py'>,\n",
       " 'traitlets.utils.bunch': <module 'traitlets.utils.bunch' from 'c:\\\\ProgramData\\\\anaconda3\\\\envs\\\\ul\\\\lib\\\\site-packages\\\\traitlets\\\\utils\\\\bunch.py'>,\n",
       " 'traitlets.utils.descriptions': <module 'traitlets.utils.descriptions' from 'c:\\\\ProgramData\\\\anaconda3\\\\envs\\\\ul\\\\lib\\\\site-packages\\\\traitlets\\\\utils\\\\descriptions.py'>,\n",
       " 'traitlets.utils.getargspec': <module 'traitlets.utils.getargspec' from 'c:\\\\ProgramData\\\\anaconda3\\\\envs\\\\ul\\\\lib\\\\site-packages\\\\traitlets\\\\utils\\\\getargspec.py'>,\n",
       " 'traitlets.utils.importstring': <module 'traitlets.utils.importstring' from 'c:\\\\ProgramData\\\\anaconda3\\\\envs\\\\ul\\\\lib\\\\site-packages\\\\traitlets\\\\utils\\\\importstring.py'>,\n",
       " 'traitlets.utils.sentinel': <module 'traitlets.utils.sentinel' from 'c:\\\\ProgramData\\\\anaconda3\\\\envs\\\\ul\\\\lib\\\\site-packages\\\\traitlets\\\\utils\\\\sentinel.py'>,\n",
       " 'traitlets.utils.warnings': <module 'traitlets.utils.warnings' from 'c:\\\\ProgramData\\\\anaconda3\\\\envs\\\\ul\\\\lib\\\\site-packages\\\\traitlets\\\\utils\\\\warnings.py'>,\n",
       " 'traitlets.traitlets': <module 'traitlets.traitlets' from 'c:\\\\ProgramData\\\\anaconda3\\\\envs\\\\ul\\\\lib\\\\site-packages\\\\traitlets\\\\traitlets.py'>,\n",
       " 'traitlets._version': <module 'traitlets._version' from 'c:\\\\ProgramData\\\\anaconda3\\\\envs\\\\ul\\\\lib\\\\site-packages\\\\traitlets\\\\_version.py'>,\n",
       " 'traitlets.utils.decorators': <module 'traitlets.utils.decorators' from 'c:\\\\ProgramData\\\\anaconda3\\\\envs\\\\ul\\\\lib\\\\site-packages\\\\traitlets\\\\utils\\\\decorators.py'>,\n",
       " 'traitlets': <module 'traitlets' from 'c:\\\\ProgramData\\\\anaconda3\\\\envs\\\\ul\\\\lib\\\\site-packages\\\\traitlets\\\\__init__.py'>,\n",
       " '_queue': <module '_queue' from 'c:\\\\ProgramData\\\\anaconda3\\\\envs\\\\ul\\\\DLLs\\\\_queue.pyd'>,\n",
       " 'queue': <module 'queue' from 'c:\\\\ProgramData\\\\anaconda3\\\\envs\\\\ul\\\\lib\\\\queue.py'>,\n",
       " 'jupyter_core.version': <module 'jupyter_core.version' from 'c:\\\\ProgramData\\\\anaconda3\\\\envs\\\\ul\\\\lib\\\\site-packages\\\\jupyter_core\\\\version.py'>,\n",
       " 'jupyter_core': <module 'jupyter_core' from 'c:\\\\ProgramData\\\\anaconda3\\\\envs\\\\ul\\\\lib\\\\site-packages\\\\jupyter_core\\\\__init__.py'>,\n",
       " 'jupyter_core.utils': <module 'jupyter_core.utils' from 'c:\\\\ProgramData\\\\anaconda3\\\\envs\\\\ul\\\\lib\\\\site-packages\\\\jupyter_core\\\\utils\\\\__init__.py'>,\n",
       " 'jupyter_client.channelsabc': <module 'jupyter_client.channelsabc' from 'c:\\\\ProgramData\\\\anaconda3\\\\envs\\\\ul\\\\lib\\\\site-packages\\\\jupyter_client\\\\channelsabc.py'>,\n",
       " '_hashlib': <module '_hashlib' from 'c:\\\\ProgramData\\\\anaconda3\\\\envs\\\\ul\\\\DLLs\\\\_hashlib.pyd'>,\n",
       " '_blake2': <module '_blake2' (built-in)>,\n",
       " 'hashlib': <module 'hashlib' from 'c:\\\\ProgramData\\\\anaconda3\\\\envs\\\\ul\\\\lib\\\\hashlib.py'>,\n",
       " 'hmac': <module 'hmac' from 'c:\\\\ProgramData\\\\anaconda3\\\\envs\\\\ul\\\\lib\\\\hmac.py'>,\n",
       " 'dataclasses': <module 'dataclasses' from 'c:\\\\ProgramData\\\\anaconda3\\\\envs\\\\ul\\\\lib\\\\dataclasses.py'>,\n",
       " 'pprint': <module 'pprint' from 'c:\\\\ProgramData\\\\anaconda3\\\\envs\\\\ul\\\\lib\\\\pprint.py'>,\n",
       " '_datetime': <module '_datetime' (built-in)>,\n",
       " 'datetime': <module 'datetime' from 'c:\\\\ProgramData\\\\anaconda3\\\\envs\\\\ul\\\\lib\\\\datetime.py'>,\n",
       " 'tornado': <module 'tornado' from 'c:\\\\ProgramData\\\\anaconda3\\\\envs\\\\ul\\\\lib\\\\site-packages\\\\tornado\\\\__init__.py'>,\n",
       " 'numbers': <module 'numbers' from 'c:\\\\ProgramData\\\\anaconda3\\\\envs\\\\ul\\\\lib\\\\numbers.py'>,\n",
       " 'logging.handlers': <module 'logging.handlers' from 'c:\\\\ProgramData\\\\anaconda3\\\\envs\\\\ul\\\\lib\\\\logging\\\\handlers.py'>,\n",
       " 'html.entities': <module 'html.entities' from 'c:\\\\ProgramData\\\\anaconda3\\\\envs\\\\ul\\\\lib\\\\html\\\\entities.py'>,\n",
       " 'html': <module 'html' from 'c:\\\\ProgramData\\\\anaconda3\\\\envs\\\\ul\\\\lib\\\\html\\\\__init__.py'>,\n",
       " 'array': <module 'array' (built-in)>,\n",
       " 'tornado.speedups': <module 'tornado.speedups' from 'c:\\\\ProgramData\\\\anaconda3\\\\envs\\\\ul\\\\lib\\\\site-packages\\\\tornado\\\\speedups.pyd'>,\n",
       " 'tornado.util': <module 'tornado.util' from 'c:\\\\ProgramData\\\\anaconda3\\\\envs\\\\ul\\\\lib\\\\site-packages\\\\tornado\\\\util.py'>,\n",
       " 'tornado.escape': <module 'tornado.escape' from 'c:\\\\ProgramData\\\\anaconda3\\\\envs\\\\ul\\\\lib\\\\site-packages\\\\tornado\\\\escape.py'>,\n",
       " 'colorama.ansi': <module 'colorama.ansi' from 'c:\\\\ProgramData\\\\anaconda3\\\\envs\\\\ul\\\\lib\\\\site-packages\\\\colorama\\\\ansi.py'>,\n",
       " '_ctypes': <module '_ctypes' from 'c:\\\\ProgramData\\\\anaconda3\\\\envs\\\\ul\\\\DLLs\\\\_ctypes.pyd'>,\n",
       " 'ctypes._endian': <module 'ctypes._endian' from 'c:\\\\ProgramData\\\\anaconda3\\\\envs\\\\ul\\\\lib\\\\ctypes\\\\_endian.py'>,\n",
       " 'ctypes': <module 'ctypes' from 'c:\\\\ProgramData\\\\anaconda3\\\\envs\\\\ul\\\\lib\\\\ctypes\\\\__init__.py'>,\n",
       " 'ctypes.wintypes': <module 'ctypes.wintypes' from 'c:\\\\ProgramData\\\\anaconda3\\\\envs\\\\ul\\\\lib\\\\ctypes\\\\wintypes.py'>,\n",
       " 'colorama.win32': <module 'colorama.win32' from 'c:\\\\ProgramData\\\\anaconda3\\\\envs\\\\ul\\\\lib\\\\site-packages\\\\colorama\\\\win32.py'>,\n",
       " 'colorama.winterm': <module 'colorama.winterm' from 'c:\\\\ProgramData\\\\anaconda3\\\\envs\\\\ul\\\\lib\\\\site-packages\\\\colorama\\\\winterm.py'>,\n",
       " 'colorama.ansitowin32': <module 'colorama.ansitowin32' from 'c:\\\\ProgramData\\\\anaconda3\\\\envs\\\\ul\\\\lib\\\\site-packages\\\\colorama\\\\ansitowin32.py'>,\n",
       " 'colorama.initialise': <module 'colorama.initialise' from 'c:\\\\ProgramData\\\\anaconda3\\\\envs\\\\ul\\\\lib\\\\site-packages\\\\colorama\\\\initialise.py'>,\n",
       " 'colorama': <module 'colorama' from 'c:\\\\ProgramData\\\\anaconda3\\\\envs\\\\ul\\\\lib\\\\site-packages\\\\colorama\\\\__init__.py'>,\n",
       " 'tornado.log': <module 'tornado.log' from 'c:\\\\ProgramData\\\\anaconda3\\\\envs\\\\ul\\\\lib\\\\site-packages\\\\tornado\\\\log.py'>,\n",
       " 'tornado.concurrent': <module 'tornado.concurrent' from 'c:\\\\ProgramData\\\\anaconda3\\\\envs\\\\ul\\\\lib\\\\site-packages\\\\tornado\\\\concurrent.py'>,\n",
       " 'tornado.ioloop': <module 'tornado.ioloop' from 'c:\\\\ProgramData\\\\anaconda3\\\\envs\\\\ul\\\\lib\\\\site-packages\\\\tornado\\\\ioloop.py'>,\n",
       " 'socketserver': <module 'socketserver' from 'c:\\\\ProgramData\\\\anaconda3\\\\envs\\\\ul\\\\lib\\\\socketserver.py'>,\n",
       " 'logging.config': <module 'logging.config' from 'c:\\\\ProgramData\\\\anaconda3\\\\envs\\\\ul\\\\lib\\\\logging\\\\config.py'>,\n",
       " 'textwrap': <module 'textwrap' from 'c:\\\\ProgramData\\\\anaconda3\\\\envs\\\\ul\\\\lib\\\\textwrap.py'>,\n",
       " 'traitlets.utils.text': <module 'traitlets.utils.text' from 'c:\\\\ProgramData\\\\anaconda3\\\\envs\\\\ul\\\\lib\\\\site-packages\\\\traitlets\\\\utils\\\\text.py'>,\n",
       " 'gettext': <module 'gettext' from 'c:\\\\ProgramData\\\\anaconda3\\\\envs\\\\ul\\\\lib\\\\gettext.py'>,\n",
       " 'argparse': <module 'argparse' from 'c:\\\\ProgramData\\\\anaconda3\\\\envs\\\\ul\\\\lib\\\\argparse.py'>,\n",
       " 'traitlets.config.loader': <module 'traitlets.config.loader' from 'c:\\\\ProgramData\\\\anaconda3\\\\envs\\\\ul\\\\lib\\\\site-packages\\\\traitlets\\\\config\\\\loader.py'>,\n",
       " 'traitlets.config.configurable': <module 'traitlets.config.configurable' from 'c:\\\\ProgramData\\\\anaconda3\\\\envs\\\\ul\\\\lib\\\\site-packages\\\\traitlets\\\\config\\\\configurable.py'>,\n",
       " 'traitlets.utils.nested_update': <module 'traitlets.utils.nested_update' from 'c:\\\\ProgramData\\\\anaconda3\\\\envs\\\\ul\\\\lib\\\\site-packages\\\\traitlets\\\\utils\\\\nested_update.py'>,\n",
       " 'traitlets.config.application': <module 'traitlets.config.application' from 'c:\\\\ProgramData\\\\anaconda3\\\\envs\\\\ul\\\\lib\\\\site-packages\\\\traitlets\\\\config\\\\application.py'>,\n",
       " 'traitlets.config': <module 'traitlets.config' from 'c:\\\\ProgramData\\\\anaconda3\\\\envs\\\\ul\\\\lib\\\\site-packages\\\\traitlets\\\\config\\\\__init__.py'>,\n",
       " 'traitlets.log': <module 'traitlets.log' from 'c:\\\\ProgramData\\\\anaconda3\\\\envs\\\\ul\\\\lib\\\\site-packages\\\\traitlets\\\\log.py'>,\n",
       " 'zmq.eventloop': <module 'zmq.eventloop' from 'c:\\\\ProgramData\\\\anaconda3\\\\envs\\\\ul\\\\lib\\\\site-packages\\\\zmq\\\\eventloop\\\\__init__.py'>,\n",
       " 'zmq.eventloop.zmqstream': <module 'zmq.eventloop.zmqstream' from 'c:\\\\ProgramData\\\\anaconda3\\\\envs\\\\ul\\\\lib\\\\site-packages\\\\zmq\\\\eventloop\\\\zmqstream.py'>,\n",
       " 'jupyter_client.adapter': <module 'jupyter_client.adapter' from 'c:\\\\ProgramData\\\\anaconda3\\\\envs\\\\ul\\\\lib\\\\site-packages\\\\jupyter_client\\\\adapter.py'>,\n",
       " 'dateutil._version': <module 'dateutil._version' from 'c:\\\\ProgramData\\\\anaconda3\\\\envs\\\\ul\\\\lib\\\\site-packages\\\\dateutil\\\\_version.py'>,\n",
       " 'dateutil': <module 'dateutil' from 'c:\\\\ProgramData\\\\anaconda3\\\\envs\\\\ul\\\\lib\\\\site-packages\\\\dateutil\\\\__init__.py'>,\n",
       " 'locale': <module 'locale' from 'c:\\\\ProgramData\\\\anaconda3\\\\envs\\\\ul\\\\lib\\\\locale.py'>,\n",
       " 'calendar': <module 'calendar' from 'c:\\\\ProgramData\\\\anaconda3\\\\envs\\\\ul\\\\lib\\\\calendar.py'>,\n",
       " 'six': <module 'six' from 'c:\\\\ProgramData\\\\anaconda3\\\\envs\\\\ul\\\\lib\\\\site-packages\\\\six.py'>,\n",
       " '_decimal': <module '_decimal' from 'c:\\\\ProgramData\\\\anaconda3\\\\envs\\\\ul\\\\DLLs\\\\_decimal.pyd'>,\n",
       " 'decimal': <module 'decimal' from 'c:\\\\ProgramData\\\\anaconda3\\\\envs\\\\ul\\\\lib\\\\decimal.py'>,\n",
       " 'dateutil._common': <module 'dateutil._common' from 'c:\\\\ProgramData\\\\anaconda3\\\\envs\\\\ul\\\\lib\\\\site-packages\\\\dateutil\\\\_common.py'>,\n",
       " 'dateutil.relativedelta': <module 'dateutil.relativedelta' from 'c:\\\\ProgramData\\\\anaconda3\\\\envs\\\\ul\\\\lib\\\\site-packages\\\\dateutil\\\\relativedelta.py'>,\n",
       " 'six.moves': <module 'six.moves' (<six._SixMetaPathImporter object at 0x0000000003BF04C0>)>,\n",
       " 'dateutil.tz._common': <module 'dateutil.tz._common' from 'c:\\\\ProgramData\\\\anaconda3\\\\envs\\\\ul\\\\lib\\\\site-packages\\\\dateutil\\\\tz\\\\_common.py'>,\n",
       " 'dateutil.tz._factories': <module 'dateutil.tz._factories' from 'c:\\\\ProgramData\\\\anaconda3\\\\envs\\\\ul\\\\lib\\\\site-packages\\\\dateutil\\\\tz\\\\_factories.py'>,\n",
       " 'dateutil.tz.win': <module 'dateutil.tz.win' from 'c:\\\\ProgramData\\\\anaconda3\\\\envs\\\\ul\\\\lib\\\\site-packages\\\\dateutil\\\\tz\\\\win.py'>,\n",
       " 'dateutil.tz.tz': <module 'dateutil.tz.tz' from 'c:\\\\ProgramData\\\\anaconda3\\\\envs\\\\ul\\\\lib\\\\site-packages\\\\dateutil\\\\tz\\\\tz.py'>,\n",
       " 'dateutil.tz': <module 'dateutil.tz' from 'c:\\\\ProgramData\\\\anaconda3\\\\envs\\\\ul\\\\lib\\\\site-packages\\\\dateutil\\\\tz\\\\__init__.py'>,\n",
       " 'dateutil.parser._parser': <module 'dateutil.parser._parser' from 'c:\\\\ProgramData\\\\anaconda3\\\\envs\\\\ul\\\\lib\\\\site-packages\\\\dateutil\\\\parser\\\\_parser.py'>,\n",
       " 'dateutil.parser.isoparser': <module 'dateutil.parser.isoparser' from 'c:\\\\ProgramData\\\\anaconda3\\\\envs\\\\ul\\\\lib\\\\site-packages\\\\dateutil\\\\parser\\\\isoparser.py'>,\n",
       " 'dateutil.parser': <module 'dateutil.parser' from 'c:\\\\ProgramData\\\\anaconda3\\\\envs\\\\ul\\\\lib\\\\site-packages\\\\dateutil\\\\parser\\\\__init__.py'>,\n",
       " '_strptime': <module '_strptime' from 'c:\\\\ProgramData\\\\anaconda3\\\\envs\\\\ul\\\\lib\\\\_strptime.py'>,\n",
       " 'jupyter_client.jsonutil': <module 'jupyter_client.jsonutil' from 'c:\\\\ProgramData\\\\anaconda3\\\\envs\\\\ul\\\\lib\\\\site-packages\\\\jupyter_client\\\\jsonutil.py'>,\n",
       " 'jupyter_client.session': <module 'jupyter_client.session' from 'c:\\\\ProgramData\\\\anaconda3\\\\envs\\\\ul\\\\lib\\\\site-packages\\\\jupyter_client\\\\session.py'>,\n",
       " 'jupyter_client.channels': <module 'jupyter_client.channels' from 'c:\\\\ProgramData\\\\anaconda3\\\\envs\\\\ul\\\\lib\\\\site-packages\\\\jupyter_client\\\\channels.py'>,\n",
       " 'getpass': <module 'getpass' from 'c:\\\\ProgramData\\\\anaconda3\\\\envs\\\\ul\\\\lib\\\\getpass.py'>,\n",
       " 'jupyter_client.clientabc': <module 'jupyter_client.clientabc' from 'c:\\\\ProgramData\\\\anaconda3\\\\envs\\\\ul\\\\lib\\\\site-packages\\\\jupyter_client\\\\clientabc.py'>,\n",
       " 'glob': <module 'glob' from 'c:\\\\ProgramData\\\\anaconda3\\\\envs\\\\ul\\\\lib\\\\glob.py'>,\n",
       " 'platformdirs.api': <module 'platformdirs.api' from 'c:\\\\ProgramData\\\\anaconda3\\\\envs\\\\ul\\\\lib\\\\site-packages\\\\platformdirs\\\\api.py'>,\n",
       " 'platformdirs.version': <module 'platformdirs.version' from 'c:\\\\ProgramData\\\\anaconda3\\\\envs\\\\ul\\\\lib\\\\site-packages\\\\platformdirs\\\\version.py'>,\n",
       " 'platformdirs.windows': <module 'platformdirs.windows' from 'c:\\\\ProgramData\\\\anaconda3\\\\envs\\\\ul\\\\lib\\\\site-packages\\\\platformdirs\\\\windows.py'>,\n",
       " 'platformdirs': <module 'platformdirs' from 'c:\\\\ProgramData\\\\anaconda3\\\\envs\\\\ul\\\\lib\\\\site-packages\\\\platformdirs\\\\__init__.py'>,\n",
       " 'jupyter_core.paths': <module 'jupyter_core.paths' from 'c:\\\\ProgramData\\\\anaconda3\\\\envs\\\\ul\\\\lib\\\\site-packages\\\\jupyter_core\\\\paths.py'>,\n",
       " 'jupyter_client.localinterfaces': <module 'jupyter_client.localinterfaces' from 'c:\\\\ProgramData\\\\anaconda3\\\\envs\\\\ul\\\\lib\\\\site-packages\\\\jupyter_client\\\\localinterfaces.py'>,\n",
       " 'jupyter_client.utils': <module 'jupyter_client.utils' from 'c:\\\\ProgramData\\\\anaconda3\\\\envs\\\\ul\\\\lib\\\\site-packages\\\\jupyter_client\\\\utils.py'>,\n",
       " 'jupyter_client.connect': <module 'jupyter_client.connect' from 'c:\\\\ProgramData\\\\anaconda3\\\\envs\\\\ul\\\\lib\\\\site-packages\\\\jupyter_client\\\\connect.py'>,\n",
       " 'jupyter_client.client': <module 'jupyter_client.client' from 'c:\\\\ProgramData\\\\anaconda3\\\\envs\\\\ul\\\\lib\\\\site-packages\\\\jupyter_client\\\\client.py'>,\n",
       " 'jupyter_client.asynchronous.client': <module 'jupyter_client.asynchronous.client' from 'c:\\\\ProgramData\\\\anaconda3\\\\envs\\\\ul\\\\lib\\\\site-packages\\\\jupyter_client\\\\asynchronous\\\\client.py'>,\n",
       " 'jupyter_client.asynchronous': <module 'jupyter_client.asynchronous' from 'c:\\\\ProgramData\\\\anaconda3\\\\envs\\\\ul\\\\lib\\\\site-packages\\\\jupyter_client\\\\asynchronous\\\\__init__.py'>,\n",
       " 'jupyter_client.blocking.client': <module 'jupyter_client.blocking.client' from 'c:\\\\ProgramData\\\\anaconda3\\\\envs\\\\ul\\\\lib\\\\site-packages\\\\jupyter_client\\\\blocking\\\\client.py'>,\n",
       " 'jupyter_client.blocking': <module 'jupyter_client.blocking' from 'c:\\\\ProgramData\\\\anaconda3\\\\envs\\\\ul\\\\lib\\\\site-packages\\\\jupyter_client\\\\blocking\\\\__init__.py'>,\n",
       " 'jupyter_client.launcher': <module 'jupyter_client.launcher' from 'c:\\\\ProgramData\\\\anaconda3\\\\envs\\\\ul\\\\lib\\\\site-packages\\\\jupyter_client\\\\launcher.py'>,\n",
       " '_uuid': <module '_uuid' from 'c:\\\\ProgramData\\\\anaconda3\\\\envs\\\\ul\\\\DLLs\\\\_uuid.pyd'>,\n",
       " 'uuid': <module 'uuid' from 'c:\\\\ProgramData\\\\anaconda3\\\\envs\\\\ul\\\\lib\\\\uuid.py'>,\n",
       " '_csv': <module '_csv' (built-in)>,\n",
       " 'csv': <module 'csv' from 'c:\\\\ProgramData\\\\anaconda3\\\\envs\\\\ul\\\\lib\\\\csv.py'>,\n",
       " 'email': <module 'email' from 'c:\\\\ProgramData\\\\anaconda3\\\\envs\\\\ul\\\\lib\\\\email\\\\__init__.py'>,\n",
       " 'zipfile': <module 'zipfile' from 'c:\\\\ProgramData\\\\anaconda3\\\\envs\\\\ul\\\\lib\\\\zipfile.py'>,\n",
       " 'uu': <module 'uu' from 'c:\\\\ProgramData\\\\anaconda3\\\\envs\\\\ul\\\\lib\\\\uu.py'>,\n",
       " 'quopri': <module 'quopri' from 'c:\\\\ProgramData\\\\anaconda3\\\\envs\\\\ul\\\\lib\\\\quopri.py'>,\n",
       " 'email._parseaddr': <module 'email._parseaddr' from 'c:\\\\ProgramData\\\\anaconda3\\\\envs\\\\ul\\\\lib\\\\email\\\\_parseaddr.py'>,\n",
       " 'email.base64mime': <module 'email.base64mime' from 'c:\\\\ProgramData\\\\anaconda3\\\\envs\\\\ul\\\\lib\\\\email\\\\base64mime.py'>,\n",
       " 'email.quoprimime': <module 'email.quoprimime' from 'c:\\\\ProgramData\\\\anaconda3\\\\envs\\\\ul\\\\lib\\\\email\\\\quoprimime.py'>,\n",
       " 'email.errors': <module 'email.errors' from 'c:\\\\ProgramData\\\\anaconda3\\\\envs\\\\ul\\\\lib\\\\email\\\\errors.py'>,\n",
       " 'email.encoders': <module 'email.encoders' from 'c:\\\\ProgramData\\\\anaconda3\\\\envs\\\\ul\\\\lib\\\\email\\\\encoders.py'>,\n",
       " 'email.charset': <module 'email.charset' from 'c:\\\\ProgramData\\\\anaconda3\\\\envs\\\\ul\\\\lib\\\\email\\\\charset.py'>,\n",
       " 'email.utils': <module 'email.utils' from 'c:\\\\ProgramData\\\\anaconda3\\\\envs\\\\ul\\\\lib\\\\email\\\\utils.py'>,\n",
       " 'email.header': <module 'email.header' from 'c:\\\\ProgramData\\\\anaconda3\\\\envs\\\\ul\\\\lib\\\\email\\\\header.py'>,\n",
       " 'email._policybase': <module 'email._policybase' from 'c:\\\\ProgramData\\\\anaconda3\\\\envs\\\\ul\\\\lib\\\\email\\\\_policybase.py'>,\n",
       " 'email._encoded_words': <module 'email._encoded_words' from 'c:\\\\ProgramData\\\\anaconda3\\\\envs\\\\ul\\\\lib\\\\email\\\\_encoded_words.py'>,\n",
       " 'email.iterators': <module 'email.iterators' from 'c:\\\\ProgramData\\\\anaconda3\\\\envs\\\\ul\\\\lib\\\\email\\\\iterators.py'>,\n",
       " 'email.message': <module 'email.message' from 'c:\\\\ProgramData\\\\anaconda3\\\\envs\\\\ul\\\\lib\\\\email\\\\message.py'>,\n",
       " 'importlib.metadata._functools': <module 'importlib.metadata._functools' from 'c:\\\\ProgramData\\\\anaconda3\\\\envs\\\\ul\\\\lib\\\\importlib\\\\metadata\\\\_functools.py'>,\n",
       " 'importlib.metadata._text': <module 'importlib.metadata._text' from 'c:\\\\ProgramData\\\\anaconda3\\\\envs\\\\ul\\\\lib\\\\importlib\\\\metadata\\\\_text.py'>,\n",
       " 'importlib.metadata._adapters': <module 'importlib.metadata._adapters' from 'c:\\\\ProgramData\\\\anaconda3\\\\envs\\\\ul\\\\lib\\\\importlib\\\\metadata\\\\_adapters.py'>,\n",
       " 'importlib.metadata._meta': <module 'importlib.metadata._meta' from 'c:\\\\ProgramData\\\\anaconda3\\\\envs\\\\ul\\\\lib\\\\importlib\\\\metadata\\\\_meta.py'>,\n",
       " 'importlib.metadata._collections': <module 'importlib.metadata._collections' from 'c:\\\\ProgramData\\\\anaconda3\\\\envs\\\\ul\\\\lib\\\\importlib\\\\metadata\\\\_collections.py'>,\n",
       " 'importlib.metadata._itertools': <module 'importlib.metadata._itertools' from 'c:\\\\ProgramData\\\\anaconda3\\\\envs\\\\ul\\\\lib\\\\importlib\\\\metadata\\\\_itertools.py'>,\n",
       " 'importlib.abc': <module 'importlib.abc' from 'c:\\\\ProgramData\\\\anaconda3\\\\envs\\\\ul\\\\lib\\\\importlib\\\\abc.py'>,\n",
       " 'importlib.metadata': <module 'importlib.metadata' from 'c:\\\\ProgramData\\\\anaconda3\\\\envs\\\\ul\\\\lib\\\\importlib\\\\metadata\\\\__init__.py'>,\n",
       " 'jupyter_client.provisioning.provisioner_base': <module 'jupyter_client.provisioning.provisioner_base' from 'c:\\\\ProgramData\\\\anaconda3\\\\envs\\\\ul\\\\lib\\\\site-packages\\\\jupyter_client\\\\provisioning\\\\provisioner_base.py'>,\n",
       " 'jupyter_client.provisioning.factory': <module 'jupyter_client.provisioning.factory' from 'c:\\\\ProgramData\\\\anaconda3\\\\envs\\\\ul\\\\lib\\\\site-packages\\\\jupyter_client\\\\provisioning\\\\factory.py'>,\n",
       " 'jupyter_client.provisioning.local_provisioner': <module 'jupyter_client.provisioning.local_provisioner' from 'c:\\\\ProgramData\\\\anaconda3\\\\envs\\\\ul\\\\lib\\\\site-packages\\\\jupyter_client\\\\provisioning\\\\local_provisioner.py'>,\n",
       " 'jupyter_client.provisioning': <module 'jupyter_client.provisioning' from 'c:\\\\ProgramData\\\\anaconda3\\\\envs\\\\ul\\\\lib\\\\site-packages\\\\jupyter_client\\\\provisioning\\\\__init__.py'>,\n",
       " 'jupyter_client.kernelspec': <module 'jupyter_client.kernelspec' from 'c:\\\\ProgramData\\\\anaconda3\\\\envs\\\\ul\\\\lib\\\\site-packages\\\\jupyter_client\\\\kernelspec.py'>,\n",
       " 'jupyter_client.managerabc': <module 'jupyter_client.managerabc' from 'c:\\\\ProgramData\\\\anaconda3\\\\envs\\\\ul\\\\lib\\\\site-packages\\\\jupyter_client\\\\managerabc.py'>,\n",
       " 'jupyter_client.manager': <module 'jupyter_client.manager' from 'c:\\\\ProgramData\\\\anaconda3\\\\envs\\\\ul\\\\lib\\\\site-packages\\\\jupyter_client\\\\manager.py'>,\n",
       " 'jupyter_client.multikernelmanager': <module 'jupyter_client.multikernelmanager' from 'c:\\\\ProgramData\\\\anaconda3\\\\envs\\\\ul\\\\lib\\\\site-packages\\\\jupyter_client\\\\multikernelmanager.py'>,\n",
       " 'jupyter_client': <module 'jupyter_client' from 'c:\\\\ProgramData\\\\anaconda3\\\\envs\\\\ul\\\\lib\\\\site-packages\\\\jupyter_client\\\\__init__.py'>,\n",
       " 'ipykernel.connect': <module 'ipykernel.connect' from 'c:\\\\ProgramData\\\\anaconda3\\\\envs\\\\ul\\\\lib\\\\site-packages\\\\ipykernel\\\\connect.py'>,\n",
       " 'ipykernel': <module 'ipykernel' from 'c:\\\\ProgramData\\\\anaconda3\\\\envs\\\\ul\\\\lib\\\\site-packages\\\\ipykernel\\\\__init__.py'>,\n",
       " 'IPython.core': <module 'IPython.core' from 'c:\\\\ProgramData\\\\anaconda3\\\\envs\\\\ul\\\\lib\\\\site-packages\\\\IPython\\\\core\\\\__init__.py'>,\n",
       " 'IPython.core.getipython': <module 'IPython.core.getipython' from 'c:\\\\ProgramData\\\\anaconda3\\\\envs\\\\ul\\\\lib\\\\site-packages\\\\IPython\\\\core\\\\getipython.py'>,\n",
       " 'IPython.core.release': <module 'IPython.core.release' from 'c:\\\\ProgramData\\\\anaconda3\\\\envs\\\\ul\\\\lib\\\\site-packages\\\\IPython\\\\core\\\\release.py'>,\n",
       " 'pkgutil': <module 'pkgutil' from 'c:\\\\ProgramData\\\\anaconda3\\\\envs\\\\ul\\\\lib\\\\pkgutil.py'>,\n",
       " 'sysconfig': <module 'sysconfig' from 'c:\\\\ProgramData\\\\anaconda3\\\\envs\\\\ul\\\\lib\\\\sysconfig.py'>,\n",
       " 'pydoc': <module 'pydoc' from 'c:\\\\ProgramData\\\\anaconda3\\\\envs\\\\ul\\\\lib\\\\pydoc.py'>,\n",
       " 'executing.executing': <module 'executing.executing' from 'c:\\\\ProgramData\\\\anaconda3\\\\envs\\\\ul\\\\lib\\\\site-packages\\\\executing\\\\executing.py'>,\n",
       " 'executing.version': <module 'executing.version' from 'c:\\\\ProgramData\\\\anaconda3\\\\envs\\\\ul\\\\lib\\\\site-packages\\\\executing\\\\version.py'>,\n",
       " 'executing': <module 'executing' from 'c:\\\\ProgramData\\\\anaconda3\\\\envs\\\\ul\\\\lib\\\\site-packages\\\\executing\\\\__init__.py'>,\n",
       " 'asttokens.line_numbers': <module 'asttokens.line_numbers' from 'c:\\\\ProgramData\\\\anaconda3\\\\envs\\\\ul\\\\lib\\\\site-packages\\\\asttokens\\\\line_numbers.py'>,\n",
       " 'asttokens.util': <module 'asttokens.util' from 'c:\\\\ProgramData\\\\anaconda3\\\\envs\\\\ul\\\\lib\\\\site-packages\\\\asttokens\\\\util.py'>,\n",
       " 'asttokens.mark_tokens': <module 'asttokens.mark_tokens' from 'c:\\\\ProgramData\\\\anaconda3\\\\envs\\\\ul\\\\lib\\\\site-packages\\\\asttokens\\\\mark_tokens.py'>,\n",
       " 'asttokens.asttokens': <module 'asttokens.asttokens' from 'c:\\\\ProgramData\\\\anaconda3\\\\envs\\\\ul\\\\lib\\\\site-packages\\\\asttokens\\\\asttokens.py'>,\n",
       " 'asttokens': <module 'asttokens' from 'c:\\\\ProgramData\\\\anaconda3\\\\envs\\\\ul\\\\lib\\\\site-packages\\\\asttokens\\\\__init__.py'>,\n",
       " 'fractions': <module 'fractions' from 'c:\\\\ProgramData\\\\anaconda3\\\\envs\\\\ul\\\\lib\\\\fractions.py'>,\n",
       " 'pure_eval.utils': <module 'pure_eval.utils' from 'c:\\\\ProgramData\\\\anaconda3\\\\envs\\\\ul\\\\lib\\\\site-packages\\\\pure_eval\\\\utils.py'>,\n",
       " 'pure_eval.my_getattr_static': <module 'pure_eval.my_getattr_static' from 'c:\\\\ProgramData\\\\anaconda3\\\\envs\\\\ul\\\\lib\\\\site-packages\\\\pure_eval\\\\my_getattr_static.py'>,\n",
       " 'pure_eval.core': <module 'pure_eval.core' from 'c:\\\\ProgramData\\\\anaconda3\\\\envs\\\\ul\\\\lib\\\\site-packages\\\\pure_eval\\\\core.py'>,\n",
       " 'pure_eval.version': <module 'pure_eval.version' from 'c:\\\\ProgramData\\\\anaconda3\\\\envs\\\\ul\\\\lib\\\\site-packages\\\\pure_eval\\\\version.py'>,\n",
       " 'pure_eval': <module 'pure_eval' from 'c:\\\\ProgramData\\\\anaconda3\\\\envs\\\\ul\\\\lib\\\\site-packages\\\\pure_eval\\\\__init__.py'>,\n",
       " 'stack_data.utils': <module 'stack_data.utils' from 'c:\\\\ProgramData\\\\anaconda3\\\\envs\\\\ul\\\\lib\\\\site-packages\\\\stack_data\\\\utils.py'>,\n",
       " 'stack_data.core': <module 'stack_data.core' from 'c:\\\\ProgramData\\\\anaconda3\\\\envs\\\\ul\\\\lib\\\\site-packages\\\\stack_data\\\\core.py'>,\n",
       " 'stack_data.formatting': <module 'stack_data.formatting' from 'c:\\\\ProgramData\\\\anaconda3\\\\envs\\\\ul\\\\lib\\\\site-packages\\\\stack_data\\\\formatting.py'>,\n",
       " 'stack_data.version': <module 'stack_data.version' from 'c:\\\\ProgramData\\\\anaconda3\\\\envs\\\\ul\\\\lib\\\\site-packages\\\\stack_data\\\\version.py'>,\n",
       " 'stack_data': <module 'stack_data' from 'c:\\\\ProgramData\\\\anaconda3\\\\envs\\\\ul\\\\lib\\\\site-packages\\\\stack_data\\\\__init__.py'>,\n",
       " 'pygments': <module 'pygments' from 'c:\\\\ProgramData\\\\anaconda3\\\\envs\\\\ul\\\\lib\\\\site-packages\\\\pygments\\\\__init__.py'>,\n",
       " 'pygments.formatters._mapping': <module 'pygments.formatters._mapping' from 'c:\\\\ProgramData\\\\anaconda3\\\\envs\\\\ul\\\\lib\\\\site-packages\\\\pygments\\\\formatters\\\\_mapping.py'>,\n",
       " 'pygments.plugin': <module 'pygments.plugin' from 'c:\\\\ProgramData\\\\anaconda3\\\\envs\\\\ul\\\\lib\\\\site-packages\\\\pygments\\\\plugin.py'>,\n",
       " 'pygments.util': <module 'pygments.util' from 'c:\\\\ProgramData\\\\anaconda3\\\\envs\\\\ul\\\\lib\\\\site-packages\\\\pygments\\\\util.py'>,\n",
       " 'pygments.formatters': <module 'pygments.formatters' from 'c:\\\\ProgramData\\\\anaconda3\\\\envs\\\\ul\\\\lib\\\\site-packages\\\\pygments\\\\formatters\\\\__init__.py'>,\n",
       " 'pygments.styles': <module 'pygments.styles' from 'c:\\\\ProgramData\\\\anaconda3\\\\envs\\\\ul\\\\lib\\\\site-packages\\\\pygments\\\\styles\\\\__init__.py'>,\n",
       " 'pygments.formatter': <module 'pygments.formatter' from 'c:\\\\ProgramData\\\\anaconda3\\\\envs\\\\ul\\\\lib\\\\site-packages\\\\pygments\\\\formatter.py'>,\n",
       " 'pygments.console': <module 'pygments.console' from 'c:\\\\ProgramData\\\\anaconda3\\\\envs\\\\ul\\\\lib\\\\site-packages\\\\pygments\\\\console.py'>,\n",
       " 'pygments.token': <module 'pygments.token' from 'c:\\\\ProgramData\\\\anaconda3\\\\envs\\\\ul\\\\lib\\\\site-packages\\\\pygments\\\\token.py'>,\n",
       " 'pygments.style': <module 'pygments.style' from 'c:\\\\ProgramData\\\\anaconda3\\\\envs\\\\ul\\\\lib\\\\site-packages\\\\pygments\\\\style.py'>,\n",
       " 'pygments.formatters.terminal256': <module 'pygments.formatters.terminal256' from 'c:\\\\ProgramData\\\\anaconda3\\\\envs\\\\ul\\\\lib\\\\site-packages\\\\pygments\\\\formatters\\\\terminal256.py'>,\n",
       " 'IPython.utils': <module 'IPython.utils' from 'c:\\\\ProgramData\\\\anaconda3\\\\envs\\\\ul\\\\lib\\\\site-packages\\\\IPython\\\\utils\\\\__init__.py'>,\n",
       " 'IPython.utils.colorable': <module 'IPython.utils.colorable' from 'c:\\\\ProgramData\\\\anaconda3\\\\envs\\\\ul\\\\lib\\\\site-packages\\\\IPython\\\\utils\\\\colorable.py'>,\n",
       " 'IPython.utils.ipstruct': <module 'IPython.utils.ipstruct' from 'c:\\\\ProgramData\\\\anaconda3\\\\envs\\\\ul\\\\lib\\\\site-packages\\\\IPython\\\\utils\\\\ipstruct.py'>,\n",
       " 'IPython.utils.coloransi': <module 'IPython.utils.coloransi' from 'c:\\\\ProgramData\\\\anaconda3\\\\envs\\\\ul\\\\lib\\\\site-packages\\\\IPython\\\\utils\\\\coloransi.py'>,\n",
       " 'IPython.core.excolors': <module 'IPython.core.excolors' from 'c:\\\\ProgramData\\\\anaconda3\\\\envs\\\\ul\\\\lib\\\\site-packages\\\\IPython\\\\core\\\\excolors.py'>,\n",
       " 'IPython.utils.PyColorize': <module 'IPython.utils.PyColorize' from 'c:\\\\ProgramData\\\\anaconda3\\\\envs\\\\ul\\\\lib\\\\site-packages\\\\IPython\\\\utils\\\\PyColorize.py'>,\n",
       " 'IPython.utils.encoding': <module 'IPython.utils.encoding' from 'c:\\\\ProgramData\\\\anaconda3\\\\envs\\\\ul\\\\lib\\\\site-packages\\\\IPython\\\\utils\\\\encoding.py'>,\n",
       " 'IPython.utils.py3compat': <module 'IPython.utils.py3compat' from 'c:\\\\ProgramData\\\\anaconda3\\\\envs\\\\ul\\\\lib\\\\site-packages\\\\IPython\\\\utils\\\\py3compat.py'>,\n",
       " 'cmd': <module 'cmd' from 'c:\\\\ProgramData\\\\anaconda3\\\\envs\\\\ul\\\\lib\\\\cmd.py'>,\n",
       " 'bdb': <module 'bdb' from 'c:\\\\ProgramData\\\\anaconda3\\\\envs\\\\ul\\\\lib\\\\bdb.py'>,\n",
       " 'codeop': <module 'codeop' from 'c:\\\\ProgramData\\\\anaconda3\\\\envs\\\\ul\\\\lib\\\\codeop.py'>,\n",
       " 'code': <module 'code' from 'c:\\\\ProgramData\\\\anaconda3\\\\envs\\\\ul\\\\lib\\\\code.py'>,\n",
       " 'pdb': <module 'pdb' from 'c:\\\\ProgramData\\\\anaconda3\\\\envs\\\\ul\\\\lib\\\\pdb.py'>,\n",
       " 'IPython.core.debugger': <module 'IPython.core.debugger' from 'c:\\\\ProgramData\\\\anaconda3\\\\envs\\\\ul\\\\lib\\\\site-packages\\\\IPython\\\\core\\\\debugger.py'>,\n",
       " 'IPython.core.display_trap': <module 'IPython.core.display_trap' from 'c:\\\\ProgramData\\\\anaconda3\\\\envs\\\\ul\\\\lib\\\\site-packages\\\\IPython\\\\core\\\\display_trap.py'>,\n",
       " 'shlex': <module 'shlex' from 'c:\\\\ProgramData\\\\anaconda3\\\\envs\\\\ul\\\\lib\\\\shlex.py'>,\n",
       " 'IPython.utils._process_common': <module 'IPython.utils._process_common' from 'c:\\\\ProgramData\\\\anaconda3\\\\envs\\\\ul\\\\lib\\\\site-packages\\\\IPython\\\\utils\\\\_process_common.py'>,\n",
       " 'IPython.utils._process_win32': <module 'IPython.utils._process_win32' from 'c:\\\\ProgramData\\\\anaconda3\\\\envs\\\\ul\\\\lib\\\\site-packages\\\\IPython\\\\utils\\\\_process_win32.py'>,\n",
       " 'IPython.utils.process': <module 'IPython.utils.process' from 'c:\\\\ProgramData\\\\anaconda3\\\\envs\\\\ul\\\\lib\\\\site-packages\\\\IPython\\\\utils\\\\process.py'>,\n",
       " 'IPython.utils.path': <module 'IPython.utils.path' from 'c:\\\\ProgramData\\\\anaconda3\\\\envs\\\\ul\\\\lib\\\\site-packages\\\\IPython\\\\utils\\\\path.py'>,\n",
       " 'IPython.utils.terminal': <module 'IPython.utils.terminal' from 'c:\\\\ProgramData\\\\anaconda3\\\\envs\\\\ul\\\\lib\\\\site-packages\\\\IPython\\\\utils\\\\terminal.py'>,\n",
       " 'IPython.core.ultratb': <module 'IPython.core.ultratb' from 'c:\\\\ProgramData\\\\anaconda3\\\\envs\\\\ul\\\\lib\\\\site-packages\\\\IPython\\\\core\\\\ultratb.py'>,\n",
       " 'IPython.utils._sysinfo': <module 'IPython.utils._sysinfo' from 'c:\\\\ProgramData\\\\anaconda3\\\\envs\\\\ul\\\\lib\\\\site-packages\\\\IPython\\\\utils\\\\_sysinfo.py'>,\n",
       " 'IPython.utils.sysinfo': <module 'IPython.utils.sysinfo' from 'c:\\\\ProgramData\\\\anaconda3\\\\envs\\\\ul\\\\lib\\\\site-packages\\\\IPython\\\\utils\\\\sysinfo.py'>,\n",
       " 'IPython.core.crashhandler': <module 'IPython.core.crashhandler' from 'c:\\\\ProgramData\\\\anaconda3\\\\envs\\\\ul\\\\lib\\\\site-packages\\\\IPython\\\\core\\\\crashhandler.py'>,\n",
       " 'IPython.utils.importstring': <module 'IPython.utils.importstring' from 'c:\\\\ProgramData\\\\anaconda3\\\\envs\\\\ul\\\\lib\\\\site-packages\\\\IPython\\\\utils\\\\importstring.py'>,\n",
       " 'IPython.paths': <module 'IPython.paths' from 'c:\\\\ProgramData\\\\anaconda3\\\\envs\\\\ul\\\\lib\\\\site-packages\\\\IPython\\\\paths.py'>,\n",
       " 'IPython.core.profiledir': <module 'IPython.core.profiledir' from 'c:\\\\ProgramData\\\\anaconda3\\\\envs\\\\ul\\\\lib\\\\site-packages\\\\IPython\\\\core\\\\profiledir.py'>,\n",
       " 'IPython.core.application': <module 'IPython.core.application' from 'c:\\\\ProgramData\\\\anaconda3\\\\envs\\\\ul\\\\lib\\\\site-packages\\\\IPython\\\\core\\\\application.py'>,\n",
       " 'IPython.terminal': <module 'IPython.terminal' from 'c:\\\\ProgramData\\\\anaconda3\\\\envs\\\\ul\\\\lib\\\\site-packages\\\\IPython\\\\terminal\\\\__init__.py'>,\n",
       " 'IPython.core.compilerop': <module 'IPython.core.compilerop' from 'c:\\\\ProgramData\\\\anaconda3\\\\envs\\\\ul\\\\lib\\\\site-packages\\\\IPython\\\\core\\\\compilerop.py'>,\n",
       " 'IPython.core.error': <module 'IPython.core.error' from 'c:\\\\ProgramData\\\\anaconda3\\\\envs\\\\ul\\\\lib\\\\site-packages\\\\IPython\\\\core\\\\error.py'>,\n",
       " 'IPython.utils.docs': <module 'IPython.utils.docs' from 'c:\\\\ProgramData\\\\anaconda3\\\\envs\\\\ul\\\\lib\\\\site-packages\\\\IPython\\\\utils\\\\docs.py'>,\n",
       " 'IPython.utils.decorators': <module 'IPython.utils.decorators' from 'c:\\\\ProgramData\\\\anaconda3\\\\envs\\\\ul\\\\lib\\\\site-packages\\\\IPython\\\\utils\\\\decorators.py'>,\n",
       " 'typing_extensions': <module 'typing_extensions' from 'c:\\\\ProgramData\\\\anaconda3\\\\envs\\\\ul\\\\lib\\\\site-packages\\\\typing_extensions.py'>,\n",
       " 'IPython.utils.text': <module 'IPython.utils.text' from 'c:\\\\ProgramData\\\\anaconda3\\\\envs\\\\ul\\\\lib\\\\site-packages\\\\IPython\\\\utils\\\\text.py'>,\n",
       " 'IPython.core.magic_arguments': <module 'IPython.core.magic_arguments' from 'c:\\\\ProgramData\\\\anaconda3\\\\envs\\\\ul\\\\lib\\\\site-packages\\\\IPython\\\\core\\\\magic_arguments.py'>,\n",
       " 'getopt': <module 'getopt' from 'c:\\\\ProgramData\\\\anaconda3\\\\envs\\\\ul\\\\lib\\\\getopt.py'>,\n",
       " 'IPython.core.display_functions': <module 'IPython.core.display_functions' from 'c:\\\\ProgramData\\\\anaconda3\\\\envs\\\\ul\\\\lib\\\\site-packages\\\\IPython\\\\core\\\\display_functions.py'>,\n",
       " 'mimetypes': <module 'mimetypes' from 'c:\\\\ProgramData\\\\anaconda3\\\\envs\\\\ul\\\\lib\\\\mimetypes.py'>,\n",
       " 'IPython.testing': <module 'IPython.testing' from 'c:\\\\ProgramData\\\\anaconda3\\\\envs\\\\ul\\\\lib\\\\site-packages\\\\IPython\\\\testing\\\\__init__.py'>,\n",
       " 'IPython.testing.skipdoctest': <module 'IPython.testing.skipdoctest' from 'c:\\\\ProgramData\\\\anaconda3\\\\envs\\\\ul\\\\lib\\\\site-packages\\\\IPython\\\\testing\\\\skipdoctest.py'>,\n",
       " 'IPython.core.display': <module 'IPython.core.display' from 'c:\\\\ProgramData\\\\anaconda3\\\\envs\\\\ul\\\\lib\\\\site-packages\\\\IPython\\\\core\\\\display.py'>,\n",
       " 'IPython.lib': <module 'IPython.lib' from 'c:\\\\ProgramData\\\\anaconda3\\\\envs\\\\ul\\\\lib\\\\site-packages\\\\IPython\\\\lib\\\\__init__.py'>,\n",
       " 'IPython.lib.display': <module 'IPython.lib.display' from 'c:\\\\ProgramData\\\\anaconda3\\\\envs\\\\ul\\\\lib\\\\site-packages\\\\IPython\\\\lib\\\\display.py'>,\n",
       " 'IPython.display': <module 'IPython.display' from 'c:\\\\ProgramData\\\\anaconda3\\\\envs\\\\ul\\\\lib\\\\site-packages\\\\IPython\\\\display.py'>,\n",
       " 'IPython.utils.data': <module 'IPython.utils.data' from 'c:\\\\ProgramData\\\\anaconda3\\\\envs\\\\ul\\\\lib\\\\site-packages\\\\IPython\\\\utils\\\\data.py'>,\n",
       " 'IPython.core.page': <module 'IPython.core.page' from 'c:\\\\ProgramData\\\\anaconda3\\\\envs\\\\ul\\\\lib\\\\site-packages\\\\IPython\\\\core\\\\page.py'>,\n",
       " 'IPython.lib.pretty': <module 'IPython.lib.pretty' from 'c:\\\\ProgramData\\\\anaconda3\\\\envs\\\\ul\\\\lib\\\\site-packages\\\\IPython\\\\lib\\\\pretty.py'>,\n",
       " 'IPython.utils.openpy': <module 'IPython.utils.openpy' from 'c:\\\\ProgramData\\\\anaconda3\\\\envs\\\\ul\\\\lib\\\\site-packages\\\\IPython\\\\utils\\\\openpy.py'>,\n",
       " 'IPython.utils.dir2': <module 'IPython.utils.dir2' from 'c:\\\\ProgramData\\\\anaconda3\\\\envs\\\\ul\\\\lib\\\\site-packages\\\\IPython\\\\utils\\\\dir2.py'>,\n",
       " 'IPython.utils.wildcard': <module 'IPython.utils.wildcard' from 'c:\\\\ProgramData\\\\anaconda3\\\\envs\\\\ul\\\\lib\\\\site-packages\\\\IPython\\\\utils\\\\wildcard.py'>,\n",
       " 'pygments.lexers._mapping': <module 'pygments.lexers._mapping' from 'c:\\\\ProgramData\\\\anaconda3\\\\envs\\\\ul\\\\lib\\\\site-packages\\\\pygments\\\\lexers\\\\_mapping.py'>,\n",
       " 'pygments.modeline': <module 'pygments.modeline' from 'c:\\\\ProgramData\\\\anaconda3\\\\envs\\\\ul\\\\lib\\\\site-packages\\\\pygments\\\\modeline.py'>,\n",
       " 'pygments.lexers': <module 'pygments.lexers' from 'c:\\\\ProgramData\\\\anaconda3\\\\envs\\\\ul\\\\lib\\\\site-packages\\\\pygments\\\\lexers\\\\__init__.py'>,\n",
       " 'pygments.filter': <module 'pygments.filter' from 'c:\\\\ProgramData\\\\anaconda3\\\\envs\\\\ul\\\\lib\\\\site-packages\\\\pygments\\\\filter.py'>,\n",
       " 'pygments.filters': <module 'pygments.filters' from 'c:\\\\ProgramData\\\\anaconda3\\\\envs\\\\ul\\\\lib\\\\site-packages\\\\pygments\\\\filters\\\\__init__.py'>,\n",
       " 'pygments.regexopt': <module 'pygments.regexopt' from 'c:\\\\ProgramData\\\\anaconda3\\\\envs\\\\ul\\\\lib\\\\site-packages\\\\pygments\\\\regexopt.py'>,\n",
       " 'pygments.lexer': <module 'pygments.lexer' from 'c:\\\\ProgramData\\\\anaconda3\\\\envs\\\\ul\\\\lib\\\\site-packages\\\\pygments\\\\lexer.py'>,\n",
       " 'pygments.unistring': <module 'pygments.unistring' from 'c:\\\\ProgramData\\\\anaconda3\\\\envs\\\\ul\\\\lib\\\\site-packages\\\\pygments\\\\unistring.py'>,\n",
       " 'pygments.lexers.python': <module 'pygments.lexers.python' from 'c:\\\\ProgramData\\\\anaconda3\\\\envs\\\\ul\\\\lib\\\\site-packages\\\\pygments\\\\lexers\\\\python.py'>,\n",
       " 'pygments.formatters.html': <module 'pygments.formatters.html' from 'c:\\\\ProgramData\\\\anaconda3\\\\envs\\\\ul\\\\lib\\\\site-packages\\\\pygments\\\\formatters\\\\html.py'>,\n",
       " 'IPython.core.oinspect': <module 'IPython.core.oinspect' from 'c:\\\\ProgramData\\\\anaconda3\\\\envs\\\\ul\\\\lib\\\\site-packages\\\\IPython\\\\core\\\\oinspect.py'>,\n",
       " 'IPython.utils.tokenutil': <module 'IPython.utils.tokenutil' from 'c:\\\\ProgramData\\\\anaconda3\\\\envs\\\\ul\\\\lib\\\\site-packages\\\\IPython\\\\utils\\\\tokenutil.py'>,\n",
       " 'IPython.core.inputtransformer2': <module 'IPython.core.inputtransformer2' from 'c:\\\\ProgramData\\\\anaconda3\\\\envs\\\\ul\\\\lib\\\\site-packages\\\\IPython\\\\core\\\\inputtransformer2.py'>,\n",
       " 'IPython.core.magic': <module 'IPython.core.magic' from 'c:\\\\ProgramData\\\\anaconda3\\\\envs\\\\ul\\\\lib\\\\site-packages\\\\IPython\\\\core\\\\magic.py'>,\n",
       " 'IPython.core.hooks': <module 'IPython.core.hooks' from 'c:\\\\ProgramData\\\\anaconda3\\\\envs\\\\ul\\\\lib\\\\site-packages\\\\IPython\\\\core\\\\hooks.py'>,\n",
       " 'IPython.core.autocall': <module 'IPython.core.autocall' from 'c:\\\\ProgramData\\\\anaconda3\\\\envs\\\\ul\\\\lib\\\\site-packages\\\\IPython\\\\core\\\\autocall.py'>,\n",
       " 'IPython.core.macro': <module 'IPython.core.macro' from 'c:\\\\ProgramData\\\\anaconda3\\\\envs\\\\ul\\\\lib\\\\site-packages\\\\IPython\\\\core\\\\macro.py'>,\n",
       " 'IPython.core.splitinput': <module 'IPython.core.splitinput' from 'c:\\\\ProgramData\\\\anaconda3\\\\envs\\\\ul\\\\lib\\\\site-packages\\\\IPython\\\\core\\\\splitinput.py'>,\n",
       " 'IPython.core.prefilter': <module 'IPython.core.prefilter' from 'c:\\\\ProgramData\\\\anaconda3\\\\envs\\\\ul\\\\lib\\\\site-packages\\\\IPython\\\\core\\\\prefilter.py'>,\n",
       " 'IPython.core.alias': <module 'IPython.core.alias' from 'c:\\\\ProgramData\\\\anaconda3\\\\envs\\\\ul\\\\lib\\\\site-packages\\\\IPython\\\\core\\\\alias.py'>,\n",
       " 'IPython.core.builtin_trap': <module 'IPython.core.builtin_trap' from 'c:\\\\ProgramData\\\\anaconda3\\\\envs\\\\ul\\\\lib\\\\site-packages\\\\IPython\\\\core\\\\builtin_trap.py'>,\n",
       " 'IPython.core.displayhook': <module 'IPython.core.displayhook' from 'c:\\\\ProgramData\\\\anaconda3\\\\envs\\\\ul\\\\lib\\\\site-packages\\\\IPython\\\\core\\\\displayhook.py'>,\n",
       " 'IPython.core.displaypub': <module 'IPython.core.displaypub' from 'c:\\\\ProgramData\\\\anaconda3\\\\envs\\\\ul\\\\lib\\\\site-packages\\\\IPython\\\\core\\\\displaypub.py'>,\n",
       " 'IPython.core.events': <module 'IPython.core.events' from 'c:\\\\ProgramData\\\\anaconda3\\\\envs\\\\ul\\\\lib\\\\site-packages\\\\IPython\\\\core\\\\events.py'>,\n",
       " 'IPython.core.extensions': <module 'IPython.core.extensions' from 'c:\\\\ProgramData\\\\anaconda3\\\\envs\\\\ul\\\\lib\\\\site-packages\\\\IPython\\\\core\\\\extensions.py'>,\n",
       " 'decorator': <module 'decorator' from 'c:\\\\ProgramData\\\\anaconda3\\\\envs\\\\ul\\\\lib\\\\site-packages\\\\decorator.py'>,\n",
       " 'IPython.utils.sentinel': <module 'IPython.utils.sentinel' from 'c:\\\\ProgramData\\\\anaconda3\\\\envs\\\\ul\\\\lib\\\\site-packages\\\\IPython\\\\utils\\\\sentinel.py'>,\n",
       " 'IPython.core.formatters': <module 'IPython.core.formatters' from 'c:\\\\ProgramData\\\\anaconda3\\\\envs\\\\ul\\\\lib\\\\site-packages\\\\IPython\\\\core\\\\formatters.py'>,\n",
       " '_sqlite3': <module '_sqlite3' from 'c:\\\\ProgramData\\\\anaconda3\\\\envs\\\\ul\\\\DLLs\\\\_sqlite3.pyd'>,\n",
       " 'sqlite3.dbapi2': <module 'sqlite3.dbapi2' from 'c:\\\\ProgramData\\\\anaconda3\\\\envs\\\\ul\\\\lib\\\\sqlite3\\\\dbapi2.py'>,\n",
       " 'sqlite3': <module 'sqlite3' from 'c:\\\\ProgramData\\\\anaconda3\\\\envs\\\\ul\\\\lib\\\\sqlite3\\\\__init__.py'>,\n",
       " 'IPython.core.history': <module 'IPython.core.history' from 'c:\\\\ProgramData\\\\anaconda3\\\\envs\\\\ul\\\\lib\\\\site-packages\\\\IPython\\\\core\\\\history.py'>,\n",
       " 'IPython.core.logger': <module 'IPython.core.logger' from 'c:\\\\ProgramData\\\\anaconda3\\\\envs\\\\ul\\\\lib\\\\site-packages\\\\IPython\\\\core\\\\logger.py'>,\n",
       " 'IPython.core.payload': <module 'IPython.core.payload' from 'c:\\\\ProgramData\\\\anaconda3\\\\envs\\\\ul\\\\lib\\\\site-packages\\\\IPython\\\\core\\\\payload.py'>,\n",
       " 'IPython.core.usage': <module 'IPython.core.usage' from 'c:\\\\ProgramData\\\\anaconda3\\\\envs\\\\ul\\\\lib\\\\site-packages\\\\IPython\\\\core\\\\usage.py'>,\n",
       " 'IPython.utils.capture': <module 'IPython.utils.capture' from 'c:\\\\ProgramData\\\\anaconda3\\\\envs\\\\ul\\\\lib\\\\site-packages\\\\IPython\\\\utils\\\\capture.py'>,\n",
       " 'IPython.utils.io': <module 'IPython.utils.io' from 'c:\\\\ProgramData\\\\anaconda3\\\\envs\\\\ul\\\\lib\\\\site-packages\\\\IPython\\\\utils\\\\io.py'>,\n",
       " 'IPython.utils.strdispatch': <module 'IPython.utils.strdispatch' from 'c:\\\\ProgramData\\\\anaconda3\\\\envs\\\\ul\\\\lib\\\\site-packages\\\\IPython\\\\utils\\\\strdispatch.py'>,\n",
       " 'IPython.utils.syspathcontext': <module 'IPython.utils.syspathcontext' from 'c:\\\\ProgramData\\\\anaconda3\\\\envs\\\\ul\\\\lib\\\\site-packages\\\\IPython\\\\utils\\\\syspathcontext.py'>,\n",
       " 'exceptiongroup._exceptions': <module 'exceptiongroup._exceptions' from 'c:\\\\ProgramData\\\\anaconda3\\\\envs\\\\ul\\\\lib\\\\site-packages\\\\exceptiongroup\\\\_exceptions.py'>,\n",
       " 'exceptiongroup._catch': <module 'exceptiongroup._catch' from 'c:\\\\ProgramData\\\\anaconda3\\\\envs\\\\ul\\\\lib\\\\site-packages\\\\exceptiongroup\\\\_catch.py'>,\n",
       " 'exceptiongroup._version': <module 'exceptiongroup._version' from 'c:\\\\ProgramData\\\\anaconda3\\\\envs\\\\ul\\\\lib\\\\site-packages\\\\exceptiongroup\\\\_version.py'>,\n",
       " 'exceptiongroup._formatting': <module 'exceptiongroup._formatting' from 'c:\\\\ProgramData\\\\anaconda3\\\\envs\\\\ul\\\\lib\\\\site-packages\\\\exceptiongroup\\\\_formatting.py'>,\n",
       " 'exceptiongroup._suppress': <module 'exceptiongroup._suppress' from 'c:\\\\ProgramData\\\\anaconda3\\\\envs\\\\ul\\\\lib\\\\site-packages\\\\exceptiongroup\\\\_suppress.py'>,\n",
       " 'exceptiongroup': <module 'exceptiongroup' from 'c:\\\\ProgramData\\\\anaconda3\\\\envs\\\\ul\\\\lib\\\\site-packages\\\\exceptiongroup\\\\__init__.py'>,\n",
       " 'IPython.core.async_helpers': <module 'IPython.core.async_helpers' from 'c:\\\\ProgramData\\\\anaconda3\\\\envs\\\\ul\\\\lib\\\\site-packages\\\\IPython\\\\core\\\\async_helpers.py'>,\n",
       " 'IPython.core.interactiveshell': <module 'IPython.core.interactiveshell' from 'c:\\\\ProgramData\\\\anaconda3\\\\envs\\\\ul\\\\lib\\\\site-packages\\\\IPython\\\\core\\\\interactiveshell.py'>,\n",
       " 'prompt_toolkit.application.current': <module 'prompt_toolkit.application.current' from 'c:\\\\ProgramData\\\\anaconda3\\\\envs\\\\ul\\\\lib\\\\site-packages\\\\prompt_toolkit\\\\application\\\\current.py'>,\n",
       " 'prompt_toolkit.eventloop.utils': <module 'prompt_toolkit.eventloop.utils' from 'c:\\\\ProgramData\\\\anaconda3\\\\envs\\\\ul\\\\lib\\\\site-packages\\\\prompt_toolkit\\\\eventloop\\\\utils.py'>,\n",
       " 'prompt_toolkit.eventloop.async_generator': <module 'prompt_toolkit.eventloop.async_generator' from 'c:\\\\ProgramData\\\\anaconda3\\\\envs\\\\ul\\\\lib\\\\site-packages\\\\prompt_toolkit\\\\eventloop\\\\async_generator.py'>,\n",
       " 'prompt_toolkit.eventloop.inputhook': <module 'prompt_toolkit.eventloop.inputhook' from 'c:\\\\ProgramData\\\\anaconda3\\\\envs\\\\ul\\\\lib\\\\site-packages\\\\prompt_toolkit\\\\eventloop\\\\inputhook.py'>,\n",
       " 'prompt_toolkit.eventloop': <module 'prompt_toolkit.eventloop' from 'c:\\\\ProgramData\\\\anaconda3\\\\envs\\\\ul\\\\lib\\\\site-packages\\\\prompt_toolkit\\\\eventloop\\\\__init__.py'>,\n",
       " 'prompt_toolkit.application.run_in_terminal': <module 'prompt_toolkit.application.run_in_terminal' from 'c:\\\\ProgramData\\\\anaconda3\\\\envs\\\\ul\\\\lib\\\\site-packages\\\\prompt_toolkit\\\\application\\\\run_in_terminal.py'>,\n",
       " 'prompt_toolkit.selection': <module 'prompt_toolkit.selection' from 'c:\\\\ProgramData\\\\anaconda3\\\\envs\\\\ul\\\\lib\\\\site-packages\\\\prompt_toolkit\\\\selection.py'>,\n",
       " 'prompt_toolkit.clipboard.base': <module 'prompt_toolkit.clipboard.base' from 'c:\\\\ProgramData\\\\anaconda3\\\\envs\\\\ul\\\\lib\\\\site-packages\\\\prompt_toolkit\\\\clipboard\\\\base.py'>,\n",
       " 'prompt_toolkit.clipboard.in_memory': <module 'prompt_toolkit.clipboard.in_memory' from 'c:\\\\ProgramData\\\\anaconda3\\\\envs\\\\ul\\\\lib\\\\site-packages\\\\prompt_toolkit\\\\clipboard\\\\in_memory.py'>,\n",
       " 'prompt_toolkit.clipboard': <module 'prompt_toolkit.clipboard' from 'c:\\\\ProgramData\\\\anaconda3\\\\envs\\\\ul\\\\lib\\\\site-packages\\\\prompt_toolkit\\\\clipboard\\\\__init__.py'>,\n",
       " 'prompt_toolkit.cache': <module 'prompt_toolkit.cache' from 'c:\\\\ProgramData\\\\anaconda3\\\\envs\\\\ul\\\\lib\\\\site-packages\\\\prompt_toolkit\\\\cache.py'>,\n",
       " 'prompt_toolkit.enums': <module 'prompt_toolkit.enums' from 'c:\\\\ProgramData\\\\anaconda3\\\\envs\\\\ul\\\\lib\\\\site-packages\\\\prompt_toolkit\\\\enums.py'>,\n",
       " 'prompt_toolkit.filters.base': <module 'prompt_toolkit.filters.base' from 'c:\\\\ProgramData\\\\anaconda3\\\\envs\\\\ul\\\\lib\\\\site-packages\\\\prompt_toolkit\\\\filters\\\\base.py'>,\n",
       " 'prompt_toolkit.filters.app': <module 'prompt_toolkit.filters.app' from 'c:\\\\ProgramData\\\\anaconda3\\\\envs\\\\ul\\\\lib\\\\site-packages\\\\prompt_toolkit\\\\filters\\\\app.py'>,\n",
       " 'prompt_toolkit.filters.cli': <module 'prompt_toolkit.filters.cli' from 'c:\\\\ProgramData\\\\anaconda3\\\\envs\\\\ul\\\\lib\\\\site-packages\\\\prompt_toolkit\\\\filters\\\\cli.py'>,\n",
       " 'prompt_toolkit.filters.utils': <module 'prompt_toolkit.filters.utils' from 'c:\\\\ProgramData\\\\anaconda3\\\\envs\\\\ul\\\\lib\\\\site-packages\\\\prompt_toolkit\\\\filters\\\\utils.py'>,\n",
       " 'prompt_toolkit.filters': <module 'prompt_toolkit.filters' from 'c:\\\\ProgramData\\\\anaconda3\\\\envs\\\\ul\\\\lib\\\\site-packages\\\\prompt_toolkit\\\\filters\\\\__init__.py'>,\n",
       " 'prompt_toolkit.document': <module 'prompt_toolkit.document' from 'c:\\\\ProgramData\\\\anaconda3\\\\envs\\\\ul\\\\lib\\\\site-packages\\\\prompt_toolkit\\\\document.py'>,\n",
       " 'prompt_toolkit.auto_suggest': <module 'prompt_toolkit.auto_suggest' from 'c:\\\\ProgramData\\\\anaconda3\\\\envs\\\\ul\\\\lib\\\\site-packages\\\\prompt_toolkit\\\\auto_suggest.py'>,\n",
       " 'prompt_toolkit.keys': <module 'prompt_toolkit.keys' from 'c:\\\\ProgramData\\\\anaconda3\\\\envs\\\\ul\\\\lib\\\\site-packages\\\\prompt_toolkit\\\\keys.py'>,\n",
       " 'prompt_toolkit.key_binding.key_bindings': <module 'prompt_toolkit.key_binding.key_bindings' from 'c:\\\\ProgramData\\\\anaconda3\\\\envs\\\\ul\\\\lib\\\\site-packages\\\\prompt_toolkit\\\\key_binding\\\\key_bindings.py'>,\n",
       " 'wcwidth.table_wide': <module 'wcwidth.table_wide' from 'c:\\\\ProgramData\\\\anaconda3\\\\envs\\\\ul\\\\lib\\\\site-packages\\\\wcwidth\\\\table_wide.py'>,\n",
       " 'wcwidth.table_zero': <module 'wcwidth.table_zero' from 'c:\\\\ProgramData\\\\anaconda3\\\\envs\\\\ul\\\\lib\\\\site-packages\\\\wcwidth\\\\table_zero.py'>,\n",
       " 'wcwidth.unicode_versions': <module 'wcwidth.unicode_versions' from 'c:\\\\ProgramData\\\\anaconda3\\\\envs\\\\ul\\\\lib\\\\site-packages\\\\wcwidth\\\\unicode_versions.py'>,\n",
       " 'wcwidth.wcwidth': <module 'wcwidth.wcwidth' from 'c:\\\\ProgramData\\\\anaconda3\\\\envs\\\\ul\\\\lib\\\\site-packages\\\\wcwidth\\\\wcwidth.py'>,\n",
       " 'wcwidth': <module 'wcwidth' from 'c:\\\\ProgramData\\\\anaconda3\\\\envs\\\\ul\\\\lib\\\\site-packages\\\\wcwidth\\\\__init__.py'>,\n",
       " 'prompt_toolkit.utils': <module 'prompt_toolkit.utils' from 'c:\\\\ProgramData\\\\anaconda3\\\\envs\\\\ul\\\\lib\\\\site-packages\\\\prompt_toolkit\\\\utils.py'>,\n",
       " 'prompt_toolkit.key_binding.key_processor': <module 'prompt_toolkit.key_binding.key_processor' from 'c:\\\\ProgramData\\\\anaconda3\\\\envs\\\\ul\\\\lib\\\\site-packages\\\\prompt_toolkit\\\\key_binding\\\\key_processor.py'>,\n",
       " 'prompt_toolkit.key_binding': <module 'prompt_toolkit.key_binding' from 'c:\\\\ProgramData\\\\anaconda3\\\\envs\\\\ul\\\\lib\\\\site-packages\\\\prompt_toolkit\\\\key_binding\\\\__init__.py'>,\n",
       " 'prompt_toolkit.key_binding.vi_state': <module 'prompt_toolkit.key_binding.vi_state' from 'c:\\\\ProgramData\\\\anaconda3\\\\envs\\\\ul\\\\lib\\\\site-packages\\\\prompt_toolkit\\\\key_binding\\\\vi_state.py'>,\n",
       " 'prompt_toolkit.cursor_shapes': <module 'prompt_toolkit.cursor_shapes' from 'c:\\\\ProgramData\\\\anaconda3\\\\envs\\\\ul\\\\lib\\\\site-packages\\\\prompt_toolkit\\\\cursor_shapes.py'>,\n",
       " 'prompt_toolkit.data_structures': <module 'prompt_toolkit.data_structures' from 'c:\\\\ProgramData\\\\anaconda3\\\\envs\\\\ul\\\\lib\\\\site-packages\\\\prompt_toolkit\\\\data_structures.py'>,\n",
       " 'prompt_toolkit.styles.base': <module 'prompt_toolkit.styles.base' from 'c:\\\\ProgramData\\\\anaconda3\\\\envs\\\\ul\\\\lib\\\\site-packages\\\\prompt_toolkit\\\\styles\\\\base.py'>,\n",
       " 'prompt_toolkit.styles.named_colors': <module 'prompt_toolkit.styles.named_colors' from 'c:\\\\ProgramData\\\\anaconda3\\\\envs\\\\ul\\\\lib\\\\site-packages\\\\prompt_toolkit\\\\styles\\\\named_colors.py'>,\n",
       " 'prompt_toolkit.styles.style': <module 'prompt_toolkit.styles.style' from 'c:\\\\ProgramData\\\\anaconda3\\\\envs\\\\ul\\\\lib\\\\site-packages\\\\prompt_toolkit\\\\styles\\\\style.py'>,\n",
       " 'prompt_toolkit.styles.defaults': <module 'prompt_toolkit.styles.defaults' from 'c:\\\\ProgramData\\\\anaconda3\\\\envs\\\\ul\\\\lib\\\\site-packages\\\\prompt_toolkit\\\\styles\\\\defaults.py'>,\n",
       " 'prompt_toolkit.styles.pygments': <module 'prompt_toolkit.styles.pygments' from 'c:\\\\ProgramData\\\\anaconda3\\\\envs\\\\ul\\\\lib\\\\site-packages\\\\prompt_toolkit\\\\styles\\\\pygments.py'>,\n",
       " 'colorsys': <module 'colorsys' from 'c:\\\\ProgramData\\\\anaconda3\\\\envs\\\\ul\\\\lib\\\\colorsys.py'>,\n",
       " 'prompt_toolkit.styles.style_transformation': <module 'prompt_toolkit.styles.style_transformation' from 'c:\\\\ProgramData\\\\anaconda3\\\\envs\\\\ul\\\\lib\\\\site-packages\\\\prompt_toolkit\\\\styles\\\\style_transformation.py'>,\n",
       " 'prompt_toolkit.styles': <module 'prompt_toolkit.styles' from 'c:\\\\ProgramData\\\\anaconda3\\\\envs\\\\ul\\\\lib\\\\site-packages\\\\prompt_toolkit\\\\styles\\\\__init__.py'>,\n",
       " 'prompt_toolkit.output.color_depth': <module 'prompt_toolkit.output.color_depth' from 'c:\\\\ProgramData\\\\anaconda3\\\\envs\\\\ul\\\\lib\\\\site-packages\\\\prompt_toolkit\\\\output\\\\color_depth.py'>,\n",
       " 'prompt_toolkit.output.base': <module 'prompt_toolkit.output.base' from 'c:\\\\ProgramData\\\\anaconda3\\\\envs\\\\ul\\\\lib\\\\site-packages\\\\prompt_toolkit\\\\output\\\\base.py'>,\n",
       " 'prompt_toolkit.output.flush_stdout': <module 'prompt_toolkit.output.flush_stdout' from 'c:\\\\ProgramData\\\\anaconda3\\\\envs\\\\ul\\\\lib\\\\site-packages\\\\prompt_toolkit\\\\output\\\\flush_stdout.py'>,\n",
       " 'prompt_toolkit.output.plain_text': <module 'prompt_toolkit.output.plain_text' from 'c:\\\\ProgramData\\\\anaconda3\\\\envs\\\\ul\\\\lib\\\\site-packages\\\\prompt_toolkit\\\\output\\\\plain_text.py'>,\n",
       " 'prompt_toolkit.output.defaults': <module 'prompt_toolkit.output.defaults' from 'c:\\\\ProgramData\\\\anaconda3\\\\envs\\\\ul\\\\lib\\\\site-packages\\\\prompt_toolkit\\\\output\\\\defaults.py'>,\n",
       " 'prompt_toolkit.output': <module 'prompt_toolkit.output' from 'c:\\\\ProgramData\\\\anaconda3\\\\envs\\\\ul\\\\lib\\\\site-packages\\\\prompt_toolkit\\\\output\\\\__init__.py'>,\n",
       " 'prompt_toolkit.output.vt100': <module 'prompt_toolkit.output.vt100' from 'c:\\\\ProgramData\\\\anaconda3\\\\envs\\\\ul\\\\lib\\\\site-packages\\\\prompt_toolkit\\\\output\\\\vt100.py'>,\n",
       " 'prompt_toolkit.mouse_events': <module 'prompt_toolkit.mouse_events' from 'c:\\\\ProgramData\\\\anaconda3\\\\envs\\\\ul\\\\lib\\\\site-packages\\\\prompt_toolkit\\\\mouse_events.py'>,\n",
       " 'prompt_toolkit.formatted_text.base': <module 'prompt_toolkit.formatted_text.base' from 'c:\\\\ProgramData\\\\anaconda3\\\\envs\\\\ul\\\\lib\\\\site-packages\\\\prompt_toolkit\\\\formatted_text\\\\base.py'>,\n",
       " 'prompt_toolkit.formatted_text.ansi': <module 'prompt_toolkit.formatted_text.ansi' from 'c:\\\\ProgramData\\\\anaconda3\\\\envs\\\\ul\\\\lib\\\\site-packages\\\\prompt_toolkit\\\\formatted_text\\\\ansi.py'>,\n",
       " 'xml': <module 'xml' from 'c:\\\\ProgramData\\\\anaconda3\\\\envs\\\\ul\\\\lib\\\\xml\\\\__init__.py'>,\n",
       " 'xml.dom.domreg': <module 'xml.dom.domreg' from 'c:\\\\ProgramData\\\\anaconda3\\\\envs\\\\ul\\\\lib\\\\xml\\\\dom\\\\domreg.py'>,\n",
       " 'xml.dom': <module 'xml.dom' from 'c:\\\\ProgramData\\\\anaconda3\\\\envs\\\\ul\\\\lib\\\\xml\\\\dom\\\\__init__.py'>,\n",
       " 'xml.dom.minicompat': <module 'xml.dom.minicompat' from 'c:\\\\ProgramData\\\\anaconda3\\\\envs\\\\ul\\\\lib\\\\xml\\\\dom\\\\minicompat.py'>,\n",
       " 'xml.dom.NodeFilter': <module 'xml.dom.NodeFilter' from 'c:\\\\ProgramData\\\\anaconda3\\\\envs\\\\ul\\\\lib\\\\xml\\\\dom\\\\NodeFilter.py'>,\n",
       " 'xml.dom.xmlbuilder': <module 'xml.dom.xmlbuilder' from 'c:\\\\ProgramData\\\\anaconda3\\\\envs\\\\ul\\\\lib\\\\xml\\\\dom\\\\xmlbuilder.py'>,\n",
       " 'xml.dom.minidom': <module 'xml.dom.minidom' from 'c:\\\\ProgramData\\\\anaconda3\\\\envs\\\\ul\\\\lib\\\\xml\\\\dom\\\\minidom.py'>,\n",
       " 'prompt_toolkit.formatted_text.html': <module 'prompt_toolkit.formatted_text.html' from 'c:\\\\ProgramData\\\\anaconda3\\\\envs\\\\ul\\\\lib\\\\site-packages\\\\prompt_toolkit\\\\formatted_text\\\\html.py'>,\n",
       " 'prompt_toolkit.formatted_text.pygments': <module 'prompt_toolkit.formatted_text.pygments' from 'c:\\\\ProgramData\\\\anaconda3\\\\envs\\\\ul\\\\lib\\\\site-packages\\\\prompt_toolkit\\\\formatted_text\\\\pygments.py'>,\n",
       " 'prompt_toolkit.formatted_text.utils': <module 'prompt_toolkit.formatted_text.utils' from 'c:\\\\ProgramData\\\\anaconda3\\\\envs\\\\ul\\\\lib\\\\site-packages\\\\prompt_toolkit\\\\formatted_text\\\\utils.py'>,\n",
       " 'prompt_toolkit.formatted_text': <module 'prompt_toolkit.formatted_text' from 'c:\\\\ProgramData\\\\anaconda3\\\\envs\\\\ul\\\\lib\\\\site-packages\\\\prompt_toolkit\\\\formatted_text\\\\__init__.py'>,\n",
       " 'prompt_toolkit.completion.base': <module 'prompt_toolkit.completion.base' from 'c:\\\\ProgramData\\\\anaconda3\\\\envs\\\\ul\\\\lib\\\\site-packages\\\\prompt_toolkit\\\\completion\\\\base.py'>,\n",
       " 'prompt_toolkit.completion.deduplicate': <module 'prompt_toolkit.completion.deduplicate' from 'c:\\\\ProgramData\\\\anaconda3\\\\envs\\\\ul\\\\lib\\\\site-packages\\\\prompt_toolkit\\\\completion\\\\deduplicate.py'>,\n",
       " 'prompt_toolkit.completion.filesystem': <module 'prompt_toolkit.completion.filesystem' from 'c:\\\\ProgramData\\\\anaconda3\\\\envs\\\\ul\\\\lib\\\\site-packages\\\\prompt_toolkit\\\\completion\\\\filesystem.py'>,\n",
       " 'prompt_toolkit.completion.word_completer': <module 'prompt_toolkit.completion.word_completer' from 'c:\\\\ProgramData\\\\anaconda3\\\\envs\\\\ul\\\\lib\\\\site-packages\\\\prompt_toolkit\\\\completion\\\\word_completer.py'>,\n",
       " 'prompt_toolkit.completion.fuzzy_completer': <module 'prompt_toolkit.completion.fuzzy_completer' from 'c:\\\\ProgramData\\\\anaconda3\\\\envs\\\\ul\\\\lib\\\\site-packages\\\\prompt_toolkit\\\\completion\\\\fuzzy_completer.py'>,\n",
       " 'prompt_toolkit.completion.nested': <module 'prompt_toolkit.completion.nested' from 'c:\\\\ProgramData\\\\anaconda3\\\\envs\\\\ul\\\\lib\\\\site-packages\\\\prompt_toolkit\\\\completion\\\\nested.py'>,\n",
       " 'prompt_toolkit.completion': <module 'prompt_toolkit.completion' from 'c:\\\\ProgramData\\\\anaconda3\\\\envs\\\\ul\\\\lib\\\\site-packages\\\\prompt_toolkit\\\\completion\\\\__init__.py'>,\n",
       " 'prompt_toolkit.history': <module 'prompt_toolkit.history' from 'c:\\\\ProgramData\\\\anaconda3\\\\envs\\\\ul\\\\lib\\\\site-packages\\\\prompt_toolkit\\\\history.py'>,\n",
       " 'prompt_toolkit.search': <module 'prompt_toolkit.search' from 'c:\\\\ProgramData\\\\anaconda3\\\\envs\\\\ul\\\\lib\\\\site-packages\\\\prompt_toolkit\\\\search.py'>,\n",
       " 'prompt_toolkit.validation': <module 'prompt_toolkit.validation' from 'c:\\\\ProgramData\\\\anaconda3\\\\envs\\\\ul\\\\lib\\\\site-packages\\\\prompt_toolkit\\\\validation.py'>,\n",
       " 'prompt_toolkit.buffer': <module 'prompt_toolkit.buffer' from 'c:\\\\ProgramData\\\\anaconda3\\\\envs\\\\ul\\\\lib\\\\site-packages\\\\prompt_toolkit\\\\buffer.py'>,\n",
       " 'prompt_toolkit.input.base': <module 'prompt_toolkit.input.base' from 'c:\\\\ProgramData\\\\anaconda3\\\\envs\\\\ul\\\\lib\\\\site-packages\\\\prompt_toolkit\\\\input\\\\base.py'>,\n",
       " 'prompt_toolkit.input.defaults': <module 'prompt_toolkit.input.defaults' from 'c:\\\\ProgramData\\\\anaconda3\\\\envs\\\\ul\\\\lib\\\\site-packages\\\\prompt_toolkit\\\\input\\\\defaults.py'>,\n",
       " 'prompt_toolkit.input': <module 'prompt_toolkit.input' from 'c:\\\\ProgramData\\\\anaconda3\\\\envs\\\\ul\\\\lib\\\\site-packages\\\\prompt_toolkit\\\\input\\\\__init__.py'>,\n",
       " 'prompt_toolkit.input.typeahead': <module 'prompt_toolkit.input.typeahead' from 'c:\\\\ProgramData\\\\anaconda3\\\\envs\\\\ul\\\\lib\\\\site-packages\\\\prompt_toolkit\\\\input\\\\typeahead.py'>,\n",
       " 'prompt_toolkit.key_binding.bindings': <module 'prompt_toolkit.key_binding.bindings' from 'c:\\\\ProgramData\\\\anaconda3\\\\envs\\\\ul\\\\lib\\\\site-packages\\\\prompt_toolkit\\\\key_binding\\\\bindings\\\\__init__.py'>,\n",
       " 'prompt_toolkit.key_binding.bindings.scroll': <module 'prompt_toolkit.key_binding.bindings.scroll' from 'c:\\\\ProgramData\\\\anaconda3\\\\envs\\\\ul\\\\lib\\\\site-packages\\\\prompt_toolkit\\\\key_binding\\\\bindings\\\\scroll.py'>,\n",
       " 'prompt_toolkit.key_binding.bindings.page_navigation': <module 'prompt_toolkit.key_binding.bindings.page_navigation' from 'c:\\\\ProgramData\\\\anaconda3\\\\envs\\\\ul\\\\lib\\\\site-packages\\\\prompt_toolkit\\\\key_binding\\\\bindings\\\\page_navigation.py'>,\n",
       " 'prompt_toolkit.lexers.base': <module 'prompt_toolkit.lexers.base' from 'c:\\\\ProgramData\\\\anaconda3\\\\envs\\\\ul\\\\lib\\\\site-packages\\\\prompt_toolkit\\\\lexers\\\\base.py'>,\n",
       " 'prompt_toolkit.lexers.pygments': <module 'prompt_toolkit.lexers.pygments' from 'c:\\\\ProgramData\\\\anaconda3\\\\envs\\\\ul\\\\lib\\\\site-packages\\\\prompt_toolkit\\\\lexers\\\\pygments.py'>,\n",
       " 'prompt_toolkit.lexers': <module 'prompt_toolkit.lexers' from 'c:\\\\ProgramData\\\\anaconda3\\\\envs\\\\ul\\\\lib\\\\site-packages\\\\prompt_toolkit\\\\lexers\\\\__init__.py'>,\n",
       " 'prompt_toolkit.layout.utils': <module 'prompt_toolkit.layout.utils' from 'c:\\\\ProgramData\\\\anaconda3\\\\envs\\\\ul\\\\lib\\\\site-packages\\\\prompt_toolkit\\\\layout\\\\utils.py'>,\n",
       " 'prompt_toolkit.layout.processors': <module 'prompt_toolkit.layout.processors' from 'c:\\\\ProgramData\\\\anaconda3\\\\envs\\\\ul\\\\lib\\\\site-packages\\\\prompt_toolkit\\\\layout\\\\processors.py'>,\n",
       " 'prompt_toolkit.layout.controls': <module 'prompt_toolkit.layout.controls' from 'c:\\\\ProgramData\\\\anaconda3\\\\envs\\\\ul\\\\lib\\\\site-packages\\\\prompt_toolkit\\\\layout\\\\controls.py'>,\n",
       " 'prompt_toolkit.layout.dimension': <module 'prompt_toolkit.layout.dimension' from 'c:\\\\ProgramData\\\\anaconda3\\\\envs\\\\ul\\\\lib\\\\site-packages\\\\prompt_toolkit\\\\layout\\\\dimension.py'>,\n",
       " 'prompt_toolkit.layout.margins': <module 'prompt_toolkit.layout.margins' from 'c:\\\\ProgramData\\\\anaconda3\\\\envs\\\\ul\\\\lib\\\\site-packages\\\\prompt_toolkit\\\\layout\\\\margins.py'>,\n",
       " 'prompt_toolkit.layout.mouse_handlers': <module 'prompt_toolkit.layout.mouse_handlers' from 'c:\\\\ProgramData\\\\anaconda3\\\\envs\\\\ul\\\\lib\\\\site-packages\\\\prompt_toolkit\\\\layout\\\\mouse_handlers.py'>,\n",
       " 'prompt_toolkit.layout.screen': <module 'prompt_toolkit.layout.screen' from 'c:\\\\ProgramData\\\\anaconda3\\\\envs\\\\ul\\\\lib\\\\site-packages\\\\prompt_toolkit\\\\layout\\\\screen.py'>,\n",
       " 'prompt_toolkit.layout.containers': <module 'prompt_toolkit.layout.containers' from 'c:\\\\ProgramData\\\\anaconda3\\\\envs\\\\ul\\\\lib\\\\site-packages\\\\prompt_toolkit\\\\layout\\\\containers.py'>,\n",
       " 'prompt_toolkit.layout.layout': <module 'prompt_toolkit.layout.layout' from 'c:\\\\ProgramData\\\\anaconda3\\\\envs\\\\ul\\\\lib\\\\site-packages\\\\prompt_toolkit\\\\layout\\\\layout.py'>,\n",
       " 'prompt_toolkit.layout.menus': <module 'prompt_toolkit.layout.menus' from 'c:\\\\ProgramData\\\\anaconda3\\\\envs\\\\ul\\\\lib\\\\site-packages\\\\prompt_toolkit\\\\layout\\\\menus.py'>,\n",
       " 'prompt_toolkit.layout.scrollable_pane': <module 'prompt_toolkit.layout.scrollable_pane' from 'c:\\\\ProgramData\\\\anaconda3\\\\envs\\\\ul\\\\lib\\\\site-packages\\\\prompt_toolkit\\\\layout\\\\scrollable_pane.py'>,\n",
       " 'prompt_toolkit.layout': <module 'prompt_toolkit.layout' from 'c:\\\\ProgramData\\\\anaconda3\\\\envs\\\\ul\\\\lib\\\\site-packages\\\\prompt_toolkit\\\\layout\\\\__init__.py'>,\n",
       " 'prompt_toolkit.key_binding.bindings.completion': <module 'prompt_toolkit.key_binding.bindings.completion' from 'c:\\\\ProgramData\\\\anaconda3\\\\envs\\\\ul\\\\lib\\\\site-packages\\\\prompt_toolkit\\\\key_binding\\\\bindings\\\\completion.py'>,\n",
       " 'prompt_toolkit.key_binding.bindings.named_commands': <module 'prompt_toolkit.key_binding.bindings.named_commands' from 'c:\\\\ProgramData\\\\anaconda3\\\\envs\\\\ul\\\\lib\\\\site-packages\\\\prompt_toolkit\\\\key_binding\\\\bindings\\\\named_commands.py'>,\n",
       " 'prompt_toolkit.key_binding.bindings.basic': <module 'prompt_toolkit.key_binding.bindings.basic' from 'c:\\\\ProgramData\\\\anaconda3\\\\envs\\\\ul\\\\lib\\\\site-packages\\\\prompt_toolkit\\\\key_binding\\\\bindings\\\\basic.py'>,\n",
       " 'prompt_toolkit.key_binding.bindings.cpr': <module 'prompt_toolkit.key_binding.bindings.cpr' from 'c:\\\\ProgramData\\\\anaconda3\\\\envs\\\\ul\\\\lib\\\\site-packages\\\\prompt_toolkit\\\\key_binding\\\\bindings\\\\cpr.py'>,\n",
       " 'prompt_toolkit.key_binding.bindings.emacs': <module 'prompt_toolkit.key_binding.bindings.emacs' from 'c:\\\\ProgramData\\\\anaconda3\\\\envs\\\\ul\\\\lib\\\\site-packages\\\\prompt_toolkit\\\\key_binding\\\\bindings\\\\emacs.py'>,\n",
       " 'prompt_toolkit.key_binding.bindings.mouse': <module 'prompt_toolkit.key_binding.bindings.mouse' from 'c:\\\\ProgramData\\\\anaconda3\\\\envs\\\\ul\\\\lib\\\\site-packages\\\\prompt_toolkit\\\\key_binding\\\\bindings\\\\mouse.py'>,\n",
       " 'prompt_toolkit.input.ansi_escape_sequences': <module 'prompt_toolkit.input.ansi_escape_sequences' from 'c:\\\\ProgramData\\\\anaconda3\\\\envs\\\\ul\\\\lib\\\\site-packages\\\\prompt_toolkit\\\\input\\\\ansi_escape_sequences.py'>,\n",
       " 'prompt_toolkit.input.vt100_parser': <module 'prompt_toolkit.input.vt100_parser' from 'c:\\\\ProgramData\\\\anaconda3\\\\envs\\\\ul\\\\lib\\\\site-packages\\\\prompt_toolkit\\\\input\\\\vt100_parser.py'>,\n",
       " 'prompt_toolkit.key_binding.digraphs': <module 'prompt_toolkit.key_binding.digraphs' from 'c:\\\\ProgramData\\\\anaconda3\\\\envs\\\\ul\\\\lib\\\\site-packages\\\\prompt_toolkit\\\\key_binding\\\\digraphs.py'>,\n",
       " 'prompt_toolkit.key_binding.bindings.vi': <module 'prompt_toolkit.key_binding.bindings.vi' from 'c:\\\\ProgramData\\\\anaconda3\\\\envs\\\\ul\\\\lib\\\\site-packages\\\\prompt_toolkit\\\\key_binding\\\\bindings\\\\vi.py'>,\n",
       " 'prompt_toolkit.key_binding.defaults': <module 'prompt_toolkit.key_binding.defaults' from 'c:\\\\ProgramData\\\\anaconda3\\\\envs\\\\ul\\\\lib\\\\site-packages\\\\prompt_toolkit\\\\key_binding\\\\defaults.py'>,\n",
       " 'prompt_toolkit.key_binding.emacs_state': <module 'prompt_toolkit.key_binding.emacs_state' from 'c:\\\\ProgramData\\\\anaconda3\\\\envs\\\\ul\\\\lib\\\\site-packages\\\\prompt_toolkit\\\\key_binding\\\\emacs_state.py'>,\n",
       " 'prompt_toolkit.layout.dummy': <module 'prompt_toolkit.layout.dummy' from 'c:\\\\ProgramData\\\\anaconda3\\\\envs\\\\ul\\\\lib\\\\site-packages\\\\prompt_toolkit\\\\layout\\\\dummy.py'>,\n",
       " 'prompt_toolkit.renderer': <module 'prompt_toolkit.renderer' from 'c:\\\\ProgramData\\\\anaconda3\\\\envs\\\\ul\\\\lib\\\\site-packages\\\\prompt_toolkit\\\\renderer.py'>,\n",
       " 'prompt_toolkit.application.application': <module 'prompt_toolkit.application.application' from 'c:\\\\ProgramData\\\\anaconda3\\\\envs\\\\ul\\\\lib\\\\site-packages\\\\prompt_toolkit\\\\application\\\\application.py'>,\n",
       " 'prompt_toolkit.application.dummy': <module 'prompt_toolkit.application.dummy' from 'c:\\\\ProgramData\\\\anaconda3\\\\envs\\\\ul\\\\lib\\\\site-packages\\\\prompt_toolkit\\\\application\\\\dummy.py'>,\n",
       " 'prompt_toolkit.application': <module 'prompt_toolkit.application' from 'c:\\\\ProgramData\\\\anaconda3\\\\envs\\\\ul\\\\lib\\\\site-packages\\\\prompt_toolkit\\\\application\\\\__init__.py'>,\n",
       " 'prompt_toolkit.key_binding.bindings.focus': <module 'prompt_toolkit.key_binding.bindings.focus' from 'c:\\\\ProgramData\\\\anaconda3\\\\envs\\\\ul\\\\lib\\\\site-packages\\\\prompt_toolkit\\\\key_binding\\\\bindings\\\\focus.py'>,\n",
       " 'prompt_toolkit.widgets.toolbars': <module 'prompt_toolkit.widgets.toolbars' from 'c:\\\\ProgramData\\\\anaconda3\\\\envs\\\\ul\\\\lib\\\\site-packages\\\\prompt_toolkit\\\\widgets\\\\toolbars.py'>,\n",
       " 'prompt_toolkit.widgets.base': <module 'prompt_toolkit.widgets.base' from 'c:\\\\ProgramData\\\\anaconda3\\\\envs\\\\ul\\\\lib\\\\site-packages\\\\prompt_toolkit\\\\widgets\\\\base.py'>,\n",
       " 'prompt_toolkit.widgets.dialogs': <module 'prompt_toolkit.widgets.dialogs' from 'c:\\\\ProgramData\\\\anaconda3\\\\envs\\\\ul\\\\lib\\\\site-packages\\\\prompt_toolkit\\\\widgets\\\\dialogs.py'>,\n",
       " 'prompt_toolkit.widgets.menus': <module 'prompt_toolkit.widgets.menus' from 'c:\\\\ProgramData\\\\anaconda3\\\\envs\\\\ul\\\\lib\\\\site-packages\\\\prompt_toolkit\\\\widgets\\\\menus.py'>,\n",
       " 'prompt_toolkit.widgets': <module 'prompt_toolkit.widgets' from 'c:\\\\ProgramData\\\\anaconda3\\\\envs\\\\ul\\\\lib\\\\site-packages\\\\prompt_toolkit\\\\widgets\\\\__init__.py'>,\n",
       " 'prompt_toolkit.shortcuts.dialogs': <module 'prompt_toolkit.shortcuts.dialogs' from 'c:\\\\ProgramData\\\\anaconda3\\\\envs\\\\ul\\\\lib\\\\site-packages\\\\prompt_toolkit\\\\shortcuts\\\\dialogs.py'>,\n",
       " 'prompt_toolkit.shortcuts.progress_bar.formatters': <module 'prompt_toolkit.shortcuts.progress_bar.formatters' from 'c:\\\\ProgramData\\\\anaconda3\\\\envs\\\\ul\\\\lib\\\\site-packages\\\\prompt_toolkit\\\\shortcuts\\\\progress_bar\\\\formatters.py'>,\n",
       " 'prompt_toolkit.shortcuts.progress_bar.base': <module 'prompt_toolkit.shortcuts.progress_bar.base' from 'c:\\\\ProgramData\\\\anaconda3\\\\envs\\\\ul\\\\lib\\\\site-packages\\\\prompt_toolkit\\\\shortcuts\\\\progress_bar\\\\base.py'>,\n",
       " 'prompt_toolkit.shortcuts.progress_bar': <module 'prompt_toolkit.shortcuts.progress_bar' from 'c:\\\\ProgramData\\\\anaconda3\\\\envs\\\\ul\\\\lib\\\\site-packages\\\\prompt_toolkit\\\\shortcuts\\\\progress_bar\\\\__init__.py'>,\n",
       " 'prompt_toolkit.key_binding.bindings.auto_suggest': <module 'prompt_toolkit.key_binding.bindings.auto_suggest' from 'c:\\\\ProgramData\\\\anaconda3\\\\envs\\\\ul\\\\lib\\\\site-packages\\\\prompt_toolkit\\\\key_binding\\\\bindings\\\\auto_suggest.py'>,\n",
       " 'prompt_toolkit.key_binding.bindings.open_in_editor': <module 'prompt_toolkit.key_binding.bindings.open_in_editor' from 'c:\\\\ProgramData\\\\anaconda3\\\\envs\\\\ul\\\\lib\\\\site-packages\\\\prompt_toolkit\\\\key_binding\\\\bindings\\\\open_in_editor.py'>,\n",
       " 'prompt_toolkit.shortcuts.prompt': <module 'prompt_toolkit.shortcuts.prompt' from 'c:\\\\ProgramData\\\\anaconda3\\\\envs\\\\ul\\\\lib\\\\site-packages\\\\prompt_toolkit\\\\shortcuts\\\\prompt.py'>,\n",
       " 'prompt_toolkit.shortcuts.utils': <module 'prompt_toolkit.shortcuts.utils' from 'c:\\\\ProgramData\\\\anaconda3\\\\envs\\\\ul\\\\lib\\\\site-packages\\\\prompt_toolkit\\\\shortcuts\\\\utils.py'>,\n",
       " 'prompt_toolkit.shortcuts': <module 'prompt_toolkit.shortcuts' from 'c:\\\\ProgramData\\\\anaconda3\\\\envs\\\\ul\\\\lib\\\\site-packages\\\\prompt_toolkit\\\\shortcuts\\\\__init__.py'>,\n",
       " 'prompt_toolkit': <module 'prompt_toolkit' from 'c:\\\\ProgramData\\\\anaconda3\\\\envs\\\\ul\\\\lib\\\\site-packages\\\\prompt_toolkit\\\\__init__.py'>,\n",
       " 'prompt_toolkit.patch_stdout': <module 'prompt_toolkit.patch_stdout' from 'c:\\\\ProgramData\\\\anaconda3\\\\envs\\\\ul\\\\lib\\\\site-packages\\\\prompt_toolkit\\\\patch_stdout.py'>,\n",
       " 'unicodedata': <module 'unicodedata' from 'c:\\\\ProgramData\\\\anaconda3\\\\envs\\\\ul\\\\DLLs\\\\unicodedata.pyd'>,\n",
       " 'IPython.core.guarded_eval': <module 'IPython.core.guarded_eval' from 'c:\\\\ProgramData\\\\anaconda3\\\\envs\\\\ul\\\\lib\\\\site-packages\\\\IPython\\\\core\\\\guarded_eval.py'>,\n",
       " 'IPython.core.latex_symbols': <module 'IPython.core.latex_symbols' from 'c:\\\\ProgramData\\\\anaconda3\\\\envs\\\\ul\\\\lib\\\\site-packages\\\\IPython\\\\core\\\\latex_symbols.py'>,\n",
       " 'IPython.utils.generics': <module 'IPython.utils.generics' from 'c:\\\\ProgramData\\\\anaconda3\\\\envs\\\\ul\\\\lib\\\\site-packages\\\\IPython\\\\utils\\\\generics.py'>,\n",
       " 'parso.utils': <module 'parso.utils' from 'c:\\\\ProgramData\\\\anaconda3\\\\envs\\\\ul\\\\lib\\\\site-packages\\\\parso\\\\utils.py'>,\n",
       " 'parso.tree': <module 'parso.tree' from 'c:\\\\ProgramData\\\\anaconda3\\\\envs\\\\ul\\\\lib\\\\site-packages\\\\parso\\\\tree.py'>,\n",
       " 'parso.python': <module 'parso.python' from 'c:\\\\ProgramData\\\\anaconda3\\\\envs\\\\ul\\\\lib\\\\site-packages\\\\parso\\\\python\\\\__init__.py'>,\n",
       " 'parso.python.token': <module 'parso.python.token' from 'c:\\\\ProgramData\\\\anaconda3\\\\envs\\\\ul\\\\lib\\\\site-packages\\\\parso\\\\python\\\\token.py'>,\n",
       " 'parso.python.tokenize': <module 'parso.python.tokenize' from 'c:\\\\ProgramData\\\\anaconda3\\\\envs\\\\ul\\\\lib\\\\site-packages\\\\parso\\\\python\\\\tokenize.py'>,\n",
       " 'parso.pgen2.grammar_parser': <module 'parso.pgen2.grammar_parser' from 'c:\\\\ProgramData\\\\anaconda3\\\\envs\\\\ul\\\\lib\\\\site-packages\\\\parso\\\\pgen2\\\\grammar_parser.py'>,\n",
       " 'parso.pgen2.generator': <module 'parso.pgen2.generator' from 'c:\\\\ProgramData\\\\anaconda3\\\\envs\\\\ul\\\\lib\\\\site-packages\\\\parso\\\\pgen2\\\\generator.py'>,\n",
       " 'parso.pgen2': <module 'parso.pgen2' from 'c:\\\\ProgramData\\\\anaconda3\\\\envs\\\\ul\\\\lib\\\\site-packages\\\\parso\\\\pgen2\\\\__init__.py'>,\n",
       " 'parso.parser': <module 'parso.parser' from 'c:\\\\ProgramData\\\\anaconda3\\\\envs\\\\ul\\\\lib\\\\site-packages\\\\parso\\\\parser.py'>,\n",
       " 'parso._compatibility': <module 'parso._compatibility' from 'c:\\\\ProgramData\\\\anaconda3\\\\envs\\\\ul\\\\lib\\\\site-packages\\\\parso\\\\_compatibility.py'>,\n",
       " 'difflib': <module 'difflib' from 'c:\\\\ProgramData\\\\anaconda3\\\\envs\\\\ul\\\\lib\\\\difflib.py'>,\n",
       " 'parso.python.prefix': <module 'parso.python.prefix' from 'c:\\\\ProgramData\\\\anaconda3\\\\envs\\\\ul\\\\lib\\\\site-packages\\\\parso\\\\python\\\\prefix.py'>,\n",
       " 'parso.python.tree': <module 'parso.python.tree' from 'c:\\\\ProgramData\\\\anaconda3\\\\envs\\\\ul\\\\lib\\\\site-packages\\\\parso\\\\python\\\\tree.py'>,\n",
       " 'parso.python.parser': <module 'parso.python.parser' from 'c:\\\\ProgramData\\\\anaconda3\\\\envs\\\\ul\\\\lib\\\\site-packages\\\\parso\\\\python\\\\parser.py'>,\n",
       " 'parso.python.diff': <module 'parso.python.diff' from 'c:\\\\ProgramData\\\\anaconda3\\\\envs\\\\ul\\\\lib\\\\site-packages\\\\parso\\\\python\\\\diff.py'>,\n",
       " 'gc': <module 'gc' (built-in)>,\n",
       " 'parso.cache': <module 'parso.cache' from 'c:\\\\ProgramData\\\\anaconda3\\\\envs\\\\ul\\\\lib\\\\site-packages\\\\parso\\\\cache.py'>,\n",
       " 'parso.normalizer': <module 'parso.normalizer' from 'c:\\\\ProgramData\\\\anaconda3\\\\envs\\\\ul\\\\lib\\\\site-packages\\\\parso\\\\normalizer.py'>,\n",
       " 'parso.python.errors': <module 'parso.python.errors' from 'c:\\\\ProgramData\\\\anaconda3\\\\envs\\\\ul\\\\lib\\\\site-packages\\\\parso\\\\python\\\\errors.py'>,\n",
       " 'parso.python.pep8': <module 'parso.python.pep8' from 'c:\\\\ProgramData\\\\anaconda3\\\\envs\\\\ul\\\\lib\\\\site-packages\\\\parso\\\\python\\\\pep8.py'>,\n",
       " 'parso.file_io': <module 'parso.file_io' from 'c:\\\\ProgramData\\\\anaconda3\\\\envs\\\\ul\\\\lib\\\\site-packages\\\\parso\\\\file_io.py'>,\n",
       " 'parso.grammar': <module 'parso.grammar' from 'c:\\\\ProgramData\\\\anaconda3\\\\envs\\\\ul\\\\lib\\\\site-packages\\\\parso\\\\grammar.py'>,\n",
       " 'parso': <module 'parso' from 'c:\\\\ProgramData\\\\anaconda3\\\\envs\\\\ul\\\\lib\\\\site-packages\\\\parso\\\\__init__.py'>,\n",
       " 'jedi.parser_utils': <module 'jedi.parser_utils' from 'c:\\\\ProgramData\\\\anaconda3\\\\envs\\\\ul\\\\lib\\\\site-packages\\\\jedi\\\\parser_utils.py'>,\n",
       " 'jedi.debug': <module 'jedi.debug' from 'c:\\\\ProgramData\\\\anaconda3\\\\envs\\\\ul\\\\lib\\\\site-packages\\\\jedi\\\\debug.py'>,\n",
       " 'jedi.settings': <module 'jedi.settings' from 'c:\\\\ProgramData\\\\anaconda3\\\\envs\\\\ul\\\\lib\\\\site-packages\\\\jedi\\\\settings.py'>,\n",
       " 'jedi.cache': <module 'jedi.cache' from 'c:\\\\ProgramData\\\\anaconda3\\\\envs\\\\ul\\\\lib\\\\site-packages\\\\jedi\\\\cache.py'>,\n",
       " 'jedi.file_io': <module 'jedi.file_io' from 'c:\\\\ProgramData\\\\anaconda3\\\\envs\\\\ul\\\\lib\\\\site-packages\\\\jedi\\\\file_io.py'>,\n",
       " 'jedi.inference.cache': <module 'jedi.inference.cache' from 'c:\\\\ProgramData\\\\anaconda3\\\\envs\\\\ul\\\\lib\\\\site-packages\\\\jedi\\\\inference\\\\cache.py'>,\n",
       " 'jedi.inference.helpers': <module 'jedi.inference.helpers' from 'c:\\\\ProgramData\\\\anaconda3\\\\envs\\\\ul\\\\lib\\\\site-packages\\\\jedi\\\\inference\\\\helpers.py'>,\n",
       " 'jedi.inference.utils': <module 'jedi.inference.utils' from 'c:\\\\ProgramData\\\\anaconda3\\\\envs\\\\ul\\\\lib\\\\site-packages\\\\jedi\\\\inference\\\\utils.py'>,\n",
       " 'jedi.inference.base_value': <module 'jedi.inference.base_value' from 'c:\\\\ProgramData\\\\anaconda3\\\\envs\\\\ul\\\\lib\\\\site-packages\\\\jedi\\\\inference\\\\base_value.py'>,\n",
       " 'jedi.inference.sys_path': <module 'jedi.inference.sys_path' from 'c:\\\\ProgramData\\\\anaconda3\\\\envs\\\\ul\\\\lib\\\\site-packages\\\\jedi\\\\inference\\\\sys_path.py'>,\n",
       " 'jedi.inference.recursion': <module 'jedi.inference.recursion' from 'c:\\\\ProgramData\\\\anaconda3\\\\envs\\\\ul\\\\lib\\\\site-packages\\\\jedi\\\\inference\\\\recursion.py'>,\n",
       " 'jedi.inference.flow_analysis': <module 'jedi.inference.flow_analysis' from 'c:\\\\ProgramData\\\\anaconda3\\\\envs\\\\ul\\\\lib\\\\site-packages\\\\jedi\\\\inference\\\\flow_analysis.py'>,\n",
       " 'jedi.common': <module 'jedi.common' from 'c:\\\\ProgramData\\\\anaconda3\\\\envs\\\\ul\\\\lib\\\\site-packages\\\\jedi\\\\common.py'>,\n",
       " 'jedi.inference.lazy_value': <module 'jedi.inference.lazy_value' from 'c:\\\\ProgramData\\\\anaconda3\\\\envs\\\\ul\\\\lib\\\\site-packages\\\\jedi\\\\inference\\\\lazy_value.py'>,\n",
       " 'jedi.inference.docstrings': <module 'jedi.inference.docstrings' from 'c:\\\\ProgramData\\\\anaconda3\\\\envs\\\\ul\\\\lib\\\\site-packages\\\\jedi\\\\inference\\\\docstrings.py'>,\n",
       " 'jedi.plugins': <module 'jedi.plugins' from 'c:\\\\ProgramData\\\\anaconda3\\\\envs\\\\ul\\\\lib\\\\site-packages\\\\jedi\\\\plugins\\\\__init__.py'>,\n",
       " 'jedi.inference.names': <module 'jedi.inference.names' from 'c:\\\\ProgramData\\\\anaconda3\\\\envs\\\\ul\\\\lib\\\\site-packages\\\\jedi\\\\inference\\\\names.py'>,\n",
       " 'jedi.inference.filters': <module 'jedi.inference.filters' from 'c:\\\\ProgramData\\\\anaconda3\\\\envs\\\\ul\\\\lib\\\\site-packages\\\\jedi\\\\inference\\\\filters.py'>,\n",
       " 'jedi.inference.compiled.getattr_static': <module 'jedi.inference.compiled.getattr_static' from 'c:\\\\ProgramData\\\\anaconda3\\\\envs\\\\ul\\\\lib\\\\site-packages\\\\jedi\\\\inference\\\\compiled\\\\getattr_static.py'>,\n",
       " 'jedi.inference.compiled.access': <module 'jedi.inference.compiled.access' from 'c:\\\\ProgramData\\\\anaconda3\\\\envs\\\\ul\\\\lib\\\\site-packages\\\\jedi\\\\inference\\\\compiled\\\\access.py'>,\n",
       " 'jedi.inference.signature': <module 'jedi.inference.signature' from 'c:\\\\ProgramData\\\\anaconda3\\\\envs\\\\ul\\\\lib\\\\site-packages\\\\jedi\\\\inference\\\\signature.py'>,\n",
       " 'jedi.inference.context': <module 'jedi.inference.context' from 'c:\\\\ProgramData\\\\anaconda3\\\\envs\\\\ul\\\\lib\\\\site-packages\\\\jedi\\\\inference\\\\context.py'>,\n",
       " 'jedi.inference.compiled.value': <module 'jedi.inference.compiled.value' from 'c:\\\\ProgramData\\\\anaconda3\\\\envs\\\\ul\\\\lib\\\\site-packages\\\\jedi\\\\inference\\\\compiled\\\\value.py'>,\n",
       " 'jedi.inference.compiled': <module 'jedi.inference.compiled' from 'c:\\\\ProgramData\\\\anaconda3\\\\envs\\\\ul\\\\lib\\\\site-packages\\\\jedi\\\\inference\\\\compiled\\\\__init__.py'>,\n",
       " 'jedi.inference.analysis': <module 'jedi.inference.analysis' from 'c:\\\\ProgramData\\\\anaconda3\\\\envs\\\\ul\\\\lib\\\\site-packages\\\\jedi\\\\inference\\\\analysis.py'>,\n",
       " 'jedi.inference.gradual': <module 'jedi.inference.gradual' from 'c:\\\\ProgramData\\\\anaconda3\\\\envs\\\\ul\\\\lib\\\\site-packages\\\\jedi\\\\inference\\\\gradual\\\\__init__.py'>,\n",
       " 'jedi.inference.value.module': <module 'jedi.inference.value.module' from 'c:\\\\ProgramData\\\\anaconda3\\\\envs\\\\ul\\\\lib\\\\site-packages\\\\jedi\\\\inference\\\\value\\\\module.py'>,\n",
       " 'jedi.inference.value.dynamic_arrays': <module 'jedi.inference.value.dynamic_arrays' from 'c:\\\\ProgramData\\\\anaconda3\\\\envs\\\\ul\\\\lib\\\\site-packages\\\\jedi\\\\inference\\\\value\\\\dynamic_arrays.py'>,\n",
       " 'jedi.inference.value.iterable': <module 'jedi.inference.value.iterable' from 'c:\\\\ProgramData\\\\anaconda3\\\\envs\\\\ul\\\\lib\\\\site-packages\\\\jedi\\\\inference\\\\value\\\\iterable.py'>,\n",
       " 'jedi.inference.arguments': <module 'jedi.inference.arguments' from 'c:\\\\ProgramData\\\\anaconda3\\\\envs\\\\ul\\\\lib\\\\site-packages\\\\jedi\\\\inference\\\\arguments.py'>,\n",
       " 'jedi.inference.parser_cache': <module 'jedi.inference.parser_cache' from 'c:\\\\ProgramData\\\\anaconda3\\\\envs\\\\ul\\\\lib\\\\site-packages\\\\jedi\\\\inference\\\\parser_cache.py'>,\n",
       " 'jedi.inference.gradual.generics': <module 'jedi.inference.gradual.generics' from 'c:\\\\ProgramData\\\\anaconda3\\\\envs\\\\ul\\\\lib\\\\site-packages\\\\jedi\\\\inference\\\\gradual\\\\generics.py'>,\n",
       " 'jedi.inference.value.function': <module 'jedi.inference.value.function' from 'c:\\\\ProgramData\\\\anaconda3\\\\envs\\\\ul\\\\lib\\\\site-packages\\\\jedi\\\\inference\\\\value\\\\function.py'>,\n",
       " 'jedi.inference.value.klass': <module 'jedi.inference.value.klass' from 'c:\\\\ProgramData\\\\anaconda3\\\\envs\\\\ul\\\\lib\\\\site-packages\\\\jedi\\\\inference\\\\value\\\\klass.py'>,\n",
       " 'jedi.inference.value.instance': <module 'jedi.inference.value.instance' from 'c:\\\\ProgramData\\\\anaconda3\\\\envs\\\\ul\\\\lib\\\\site-packages\\\\jedi\\\\inference\\\\value\\\\instance.py'>,\n",
       " 'jedi.inference.value': <module 'jedi.inference.value' from 'c:\\\\ProgramData\\\\anaconda3\\\\envs\\\\ul\\\\lib\\\\site-packages\\\\jedi\\\\inference\\\\value\\\\__init__.py'>,\n",
       " 'jedi.inference.gradual.base': <module 'jedi.inference.gradual.base' from 'c:\\\\ProgramData\\\\anaconda3\\\\envs\\\\ul\\\\lib\\\\site-packages\\\\jedi\\\\inference\\\\gradual\\\\base.py'>,\n",
       " 'jedi.inference.gradual.type_var': <module 'jedi.inference.gradual.type_var' from 'c:\\\\ProgramData\\\\anaconda3\\\\envs\\\\ul\\\\lib\\\\site-packages\\\\jedi\\\\inference\\\\gradual\\\\type_var.py'>,\n",
       " 'jedi.inference.gradual.typing': <module 'jedi.inference.gradual.typing' from 'c:\\\\ProgramData\\\\anaconda3\\\\envs\\\\ul\\\\lib\\\\site-packages\\\\jedi\\\\inference\\\\gradual\\\\typing.py'>,\n",
       " 'jedi.inference.gradual.stub_value': <module 'jedi.inference.gradual.stub_value' from 'c:\\\\ProgramData\\\\anaconda3\\\\envs\\\\ul\\\\lib\\\\site-packages\\\\jedi\\\\inference\\\\gradual\\\\stub_value.py'>,\n",
       " 'jedi.inference.gradual.typeshed': <module 'jedi.inference.gradual.typeshed' from 'c:\\\\ProgramData\\\\anaconda3\\\\envs\\\\ul\\\\lib\\\\site-packages\\\\jedi\\\\inference\\\\gradual\\\\typeshed.py'>,\n",
       " 'jedi._compatibility': <module 'jedi._compatibility' from 'c:\\\\ProgramData\\\\anaconda3\\\\envs\\\\ul\\\\lib\\\\site-packages\\\\jedi\\\\_compatibility.py'>,\n",
       " 'jedi.inference.compiled.subprocess.functions': <module 'jedi.inference.compiled.subprocess.functions' from 'c:\\\\ProgramData\\\\anaconda3\\\\envs\\\\ul\\\\lib\\\\site-packages\\\\jedi\\\\inference\\\\compiled\\\\subprocess\\\\functions.py'>,\n",
       " 'jedi.api.exceptions': <module 'jedi.api.exceptions' from 'c:\\\\ProgramData\\\\anaconda3\\\\envs\\\\ul\\\\lib\\\\site-packages\\\\jedi\\\\api\\\\exceptions.py'>,\n",
       " 'jedi.inference.compiled.subprocess': <module 'jedi.inference.compiled.subprocess' from 'c:\\\\ProgramData\\\\anaconda3\\\\envs\\\\ul\\\\lib\\\\site-packages\\\\jedi\\\\inference\\\\compiled\\\\subprocess\\\\__init__.py'>,\n",
       " 'jedi.inference.imports': <module 'jedi.inference.imports' from 'c:\\\\ProgramData\\\\anaconda3\\\\envs\\\\ul\\\\lib\\\\site-packages\\\\jedi\\\\inference\\\\imports.py'>,\n",
       " 'jedi.inference.param': <module 'jedi.inference.param' from 'c:\\\\ProgramData\\\\anaconda3\\\\envs\\\\ul\\\\lib\\\\site-packages\\\\jedi\\\\inference\\\\param.py'>,\n",
       " 'jedi.inference.gradual.annotation': <module 'jedi.inference.gradual.annotation' from 'c:\\\\ProgramData\\\\anaconda3\\\\envs\\\\ul\\\\lib\\\\site-packages\\\\jedi\\\\inference\\\\gradual\\\\annotation.py'>,\n",
       " 'jedi.inference.value.decorator': <module 'jedi.inference.value.decorator' from 'c:\\\\ProgramData\\\\anaconda3\\\\envs\\\\ul\\\\lib\\\\site-packages\\\\jedi\\\\inference\\\\value\\\\decorator.py'>,\n",
       " 'jedi.inference.syntax_tree': <module 'jedi.inference.syntax_tree' from 'c:\\\\ProgramData\\\\anaconda3\\\\envs\\\\ul\\\\lib\\\\site-packages\\\\jedi\\\\inference\\\\syntax_tree.py'>,\n",
       " 'jedi.inference': <module 'jedi.inference' from 'c:\\\\ProgramData\\\\anaconda3\\\\envs\\\\ul\\\\lib\\\\site-packages\\\\jedi\\\\inference\\\\__init__.py'>,\n",
       " 'jedi.inference.gradual.conversion': <module 'jedi.inference.gradual.conversion' from 'c:\\\\ProgramData\\\\anaconda3\\\\envs\\\\ul\\\\lib\\\\site-packages\\\\jedi\\\\inference\\\\gradual\\\\conversion.py'>,\n",
       " 'jedi.inference.compiled.mixed': <module 'jedi.inference.compiled.mixed' from 'c:\\\\ProgramData\\\\anaconda3\\\\envs\\\\ul\\\\lib\\\\site-packages\\\\jedi\\\\inference\\\\compiled\\\\mixed.py'>,\n",
       " 'pydoc_data': <module 'pydoc_data' from 'c:\\\\ProgramData\\\\anaconda3\\\\envs\\\\ul\\\\lib\\\\pydoc_data\\\\__init__.py'>,\n",
       " 'pydoc_data.topics': <module 'pydoc_data.topics' from 'c:\\\\ProgramData\\\\anaconda3\\\\envs\\\\ul\\\\lib\\\\pydoc_data\\\\topics.py'>,\n",
       " 'jedi.api.keywords': <module 'jedi.api.keywords' from 'c:\\\\ProgramData\\\\anaconda3\\\\envs\\\\ul\\\\lib\\\\site-packages\\\\jedi\\\\api\\\\keywords.py'>,\n",
       " 'jedi.api.completion_cache': <module 'jedi.api.completion_cache' from 'c:\\\\ProgramData\\\\anaconda3\\\\envs\\\\ul\\\\lib\\\\site-packages\\\\jedi\\\\api\\\\completion_cache.py'>,\n",
       " 'jedi.api.helpers': <module 'jedi.api.helpers' from 'c:\\\\ProgramData\\\\anaconda3\\\\envs\\\\ul\\\\lib\\\\site-packages\\\\jedi\\\\api\\\\helpers.py'>,\n",
       " 'jedi.api.classes': <module 'jedi.api.classes' from 'c:\\\\ProgramData\\\\anaconda3\\\\envs\\\\ul\\\\lib\\\\site-packages\\\\jedi\\\\api\\\\classes.py'>,\n",
       " 'jedi.api.interpreter': <module 'jedi.api.interpreter' from 'c:\\\\ProgramData\\\\anaconda3\\\\envs\\\\ul\\\\lib\\\\site-packages\\\\jedi\\\\api\\\\interpreter.py'>,\n",
       " 'jedi.api.strings': <module 'jedi.api.strings' from 'c:\\\\ProgramData\\\\anaconda3\\\\envs\\\\ul\\\\lib\\\\site-packages\\\\jedi\\\\api\\\\strings.py'>,\n",
       " 'jedi.api.file_name': <module 'jedi.api.file_name' from 'c:\\\\ProgramData\\\\anaconda3\\\\envs\\\\ul\\\\lib\\\\site-packages\\\\jedi\\\\api\\\\file_name.py'>,\n",
       " 'jedi.inference.docstring_utils': <module 'jedi.inference.docstring_utils' from 'c:\\\\ProgramData\\\\anaconda3\\\\envs\\\\ul\\\\lib\\\\site-packages\\\\jedi\\\\inference\\\\docstring_utils.py'>,\n",
       " 'jedi.api.completion': <module 'jedi.api.completion' from 'c:\\\\ProgramData\\\\anaconda3\\\\envs\\\\ul\\\\lib\\\\site-packages\\\\jedi\\\\api\\\\completion.py'>,\n",
       " 'filecmp': <module 'filecmp' from 'c:\\\\ProgramData\\\\anaconda3\\\\envs\\\\ul\\\\lib\\\\filecmp.py'>,\n",
       " 'jedi.api.environment': <module 'jedi.api.environment' from 'c:\\\\ProgramData\\\\anaconda3\\\\envs\\\\ul\\\\lib\\\\site-packages\\\\jedi\\\\api\\\\environment.py'>,\n",
       " 'jedi.inference.references': <module 'jedi.inference.references' from 'c:\\\\ProgramData\\\\anaconda3\\\\envs\\\\ul\\\\lib\\\\site-packages\\\\jedi\\\\inference\\\\references.py'>,\n",
       " 'jedi.api.project': <module 'jedi.api.project' from 'c:\\\\ProgramData\\\\anaconda3\\\\envs\\\\ul\\\\lib\\\\site-packages\\\\jedi\\\\api\\\\project.py'>,\n",
       " 'jedi.api.errors': <module 'jedi.api.errors' from 'c:\\\\ProgramData\\\\anaconda3\\\\envs\\\\ul\\\\lib\\\\site-packages\\\\jedi\\\\api\\\\errors.py'>,\n",
       " 'jedi.inference.value.namespace': <module 'jedi.inference.value.namespace' from 'c:\\\\ProgramData\\\\anaconda3\\\\envs\\\\ul\\\\lib\\\\site-packages\\\\jedi\\\\inference\\\\value\\\\namespace.py'>,\n",
       " 'jedi.api.refactoring': <module 'jedi.api.refactoring' from 'c:\\\\ProgramData\\\\anaconda3\\\\envs\\\\ul\\\\lib\\\\site-packages\\\\jedi\\\\api\\\\refactoring\\\\__init__.py'>,\n",
       " 'jedi.api.refactoring.extract': <module 'jedi.api.refactoring.extract' from 'c:\\\\ProgramData\\\\anaconda3\\\\envs\\\\ul\\\\lib\\\\site-packages\\\\jedi\\\\api\\\\refactoring\\\\extract.py'>,\n",
       " 'jedi.inference.gradual.utils': <module 'jedi.inference.gradual.utils' from 'c:\\\\ProgramData\\\\anaconda3\\\\envs\\\\ul\\\\lib\\\\site-packages\\\\jedi\\\\inference\\\\gradual\\\\utils.py'>,\n",
       " 'jedi.api': <module 'jedi.api' from 'c:\\\\ProgramData\\\\anaconda3\\\\envs\\\\ul\\\\lib\\\\site-packages\\\\jedi\\\\api\\\\__init__.py'>,\n",
       " 'jedi.plugins.stdlib': <module 'jedi.plugins.stdlib' from 'c:\\\\ProgramData\\\\anaconda3\\\\envs\\\\ul\\\\lib\\\\site-packages\\\\jedi\\\\plugins\\\\stdlib.py'>,\n",
       " 'jedi.plugins.flask': <module 'jedi.plugins.flask' from 'c:\\\\ProgramData\\\\anaconda3\\\\envs\\\\ul\\\\lib\\\\site-packages\\\\jedi\\\\plugins\\\\flask.py'>,\n",
       " 'jedi.plugins.pytest': <module 'jedi.plugins.pytest' from 'c:\\\\ProgramData\\\\anaconda3\\\\envs\\\\ul\\\\lib\\\\site-packages\\\\jedi\\\\plugins\\\\pytest.py'>,\n",
       " 'jedi.plugins.django': <module 'jedi.plugins.django' from 'c:\\\\ProgramData\\\\anaconda3\\\\envs\\\\ul\\\\lib\\\\site-packages\\\\jedi\\\\plugins\\\\django.py'>,\n",
       " 'jedi.plugins.registry': <module 'jedi.plugins.registry' from 'c:\\\\ProgramData\\\\anaconda3\\\\envs\\\\ul\\\\lib\\\\site-packages\\\\jedi\\\\plugins\\\\registry.py'>,\n",
       " 'jedi': <module 'jedi' from 'c:\\\\ProgramData\\\\anaconda3\\\\envs\\\\ul\\\\lib\\\\site-packages\\\\jedi\\\\__init__.py'>,\n",
       " 'IPython.core.completer': <module 'IPython.core.completer' from 'c:\\\\ProgramData\\\\anaconda3\\\\envs\\\\ul\\\\lib\\\\site-packages\\\\IPython\\\\core\\\\completer.py'>,\n",
       " 'IPython.terminal.ptutils': <module 'IPython.terminal.ptutils' from 'c:\\\\ProgramData\\\\anaconda3\\\\envs\\\\ul\\\\lib\\\\site-packages\\\\IPython\\\\terminal\\\\ptutils.py'>,\n",
       " 'IPython.terminal.shortcuts.auto_match': <module 'IPython.terminal.shortcuts.auto_match' from 'c:\\\\ProgramData\\\\anaconda3\\\\envs\\\\ul\\\\lib\\\\site-packages\\\\IPython\\\\terminal\\\\shortcuts\\\\auto_match.py'>,\n",
       " 'IPython.terminal.shortcuts.filters': <module 'IPython.terminal.shortcuts.filters' from 'c:\\\\ProgramData\\\\anaconda3\\\\envs\\\\ul\\\\lib\\\\site-packages\\\\IPython\\\\terminal\\\\shortcuts\\\\filters.py'>,\n",
       " 'IPython.terminal.shortcuts.auto_suggest': <module 'IPython.terminal.shortcuts.auto_suggest' from 'c:\\\\ProgramData\\\\anaconda3\\\\envs\\\\ul\\\\lib\\\\site-packages\\\\IPython\\\\terminal\\\\shortcuts\\\\auto_suggest.py'>,\n",
       " 'IPython.lib.clipboard': <module 'IPython.lib.clipboard' from 'c:\\\\ProgramData\\\\anaconda3\\\\envs\\\\ul\\\\lib\\\\site-packages\\\\IPython\\\\lib\\\\clipboard.py'>,\n",
       " 'IPython.terminal.shortcuts': <module 'IPython.terminal.shortcuts' from 'c:\\\\ProgramData\\\\anaconda3\\\\envs\\\\ul\\\\lib\\\\site-packages\\\\IPython\\\\terminal\\\\shortcuts\\\\__init__.py'>,\n",
       " 'concurrent.futures.thread': <module 'concurrent.futures.thread' from 'c:\\\\ProgramData\\\\anaconda3\\\\envs\\\\ul\\\\lib\\\\concurrent\\\\futures\\\\thread.py'>,\n",
       " 'IPython.terminal.debugger': <module 'IPython.terminal.debugger' from 'c:\\\\ProgramData\\\\anaconda3\\\\envs\\\\ul\\\\lib\\\\site-packages\\\\IPython\\\\terminal\\\\debugger.py'>,\n",
       " 'IPython.terminal.magics': <module 'IPython.terminal.magics' from 'c:\\\\ProgramData\\\\anaconda3\\\\envs\\\\ul\\\\lib\\\\site-packages\\\\IPython\\\\terminal\\\\magics.py'>,\n",
       " 'IPython.terminal.pt_inputhooks': <module 'IPython.terminal.pt_inputhooks' from 'c:\\\\ProgramData\\\\anaconda3\\\\envs\\\\ul\\\\lib\\\\site-packages\\\\IPython\\\\terminal\\\\pt_inputhooks\\\\__init__.py'>,\n",
       " 'IPython.terminal.prompts': <module 'IPython.terminal.prompts' from 'c:\\\\ProgramData\\\\anaconda3\\\\envs\\\\ul\\\\lib\\\\site-packages\\\\IPython\\\\terminal\\\\prompts.py'>,\n",
       " 'IPython.terminal.interactiveshell': <module 'IPython.terminal.interactiveshell' from 'c:\\\\ProgramData\\\\anaconda3\\\\envs\\\\ul\\\\lib\\\\site-packages\\\\IPython\\\\terminal\\\\interactiveshell.py'>,\n",
       " 'IPython.core.magics.auto': <module 'IPython.core.magics.auto' from 'c:\\\\ProgramData\\\\anaconda3\\\\envs\\\\ul\\\\lib\\\\site-packages\\\\IPython\\\\core\\\\magics\\\\auto.py'>,\n",
       " 'IPython.core.magics.basic': <module 'IPython.core.magics.basic' from 'c:\\\\ProgramData\\\\anaconda3\\\\envs\\\\ul\\\\lib\\\\site-packages\\\\IPython\\\\core\\\\magics\\\\basic.py'>,\n",
       " 'http': <module 'http' from 'c:\\\\ProgramData\\\\anaconda3\\\\envs\\\\ul\\\\lib\\\\http\\\\__init__.py'>,\n",
       " 'email.feedparser': <module 'email.feedparser' from 'c:\\\\ProgramData\\\\anaconda3\\\\envs\\\\ul\\\\lib\\\\email\\\\feedparser.py'>,\n",
       " 'email.parser': <module 'email.parser' from 'c:\\\\ProgramData\\\\anaconda3\\\\envs\\\\ul\\\\lib\\\\email\\\\parser.py'>,\n",
       " 'http.client': <module 'http.client' from 'c:\\\\ProgramData\\\\anaconda3\\\\envs\\\\ul\\\\lib\\\\http\\\\client.py'>,\n",
       " 'urllib.response': <module 'urllib.response' from 'c:\\\\ProgramData\\\\anaconda3\\\\envs\\\\ul\\\\lib\\\\urllib\\\\response.py'>,\n",
       " 'urllib.error': <module 'urllib.error' from 'c:\\\\ProgramData\\\\anaconda3\\\\envs\\\\ul\\\\lib\\\\urllib\\\\error.py'>,\n",
       " 'nturl2path': <module 'nturl2path' from 'c:\\\\ProgramData\\\\anaconda3\\\\envs\\\\ul\\\\lib\\\\nturl2path.py'>,\n",
       " 'urllib.request': <module 'urllib.request' from 'c:\\\\ProgramData\\\\anaconda3\\\\envs\\\\ul\\\\lib\\\\urllib\\\\request.py'>,\n",
       " 'IPython.utils.contexts': <module 'IPython.utils.contexts' from 'c:\\\\ProgramData\\\\anaconda3\\\\envs\\\\ul\\\\lib\\\\site-packages\\\\IPython\\\\utils\\\\contexts.py'>,\n",
       " 'IPython.core.magics.code': <module 'IPython.core.magics.code' from 'c:\\\\ProgramData\\\\anaconda3\\\\envs\\\\ul\\\\lib\\\\site-packages\\\\IPython\\\\core\\\\magics\\\\code.py'>,\n",
       " 'IPython.core.magics.config': <module 'IPython.core.magics.config' from 'c:\\\\ProgramData\\\\anaconda3\\\\envs\\\\ul\\\\lib\\\\site-packages\\\\IPython\\\\core\\\\magics\\\\config.py'>,\n",
       " 'IPython.core.magics.display': <module 'IPython.core.magics.display' from 'c:\\\\ProgramData\\\\anaconda3\\\\envs\\\\ul\\\\lib\\\\site-packages\\\\IPython\\\\core\\\\magics\\\\display.py'>,\n",
       " '_lsprof': <module '_lsprof' (built-in)>,\n",
       " 'profile': <module 'profile' from 'c:\\\\ProgramData\\\\anaconda3\\\\envs\\\\ul\\\\lib\\\\profile.py'>,\n",
       " 'cProfile': <module 'cProfile' from 'c:\\\\ProgramData\\\\anaconda3\\\\envs\\\\ul\\\\lib\\\\cProfile.py'>,\n",
       " 'pstats': <module 'pstats' from 'c:\\\\ProgramData\\\\anaconda3\\\\envs\\\\ul\\\\lib\\\\pstats.py'>,\n",
       " 'timeit': <module 'timeit' from 'c:\\\\ProgramData\\\\anaconda3\\\\envs\\\\ul\\\\lib\\\\timeit.py'>,\n",
       " 'IPython.utils.module_paths': <module 'IPython.utils.module_paths' from 'c:\\\\ProgramData\\\\anaconda3\\\\envs\\\\ul\\\\lib\\\\site-packages\\\\IPython\\\\utils\\\\module_paths.py'>,\n",
       " 'IPython.utils.timing': <module 'IPython.utils.timing' from 'c:\\\\ProgramData\\\\anaconda3\\\\envs\\\\ul\\\\lib\\\\site-packages\\\\IPython\\\\utils\\\\timing.py'>,\n",
       " 'IPython.core.magics.ast_mod': <module 'IPython.core.magics.ast_mod' from 'c:\\\\ProgramData\\\\anaconda3\\\\envs\\\\ul\\\\lib\\\\site-packages\\\\IPython\\\\core\\\\magics\\\\ast_mod.py'>,\n",
       " 'IPython.core.magics.execution': <module 'IPython.core.magics.execution' from 'c:\\\\ProgramData\\\\anaconda3\\\\envs\\\\ul\\\\lib\\\\site-packages\\\\IPython\\\\core\\\\magics\\\\execution.py'>,\n",
       " 'IPython.core.magics.extension': <module 'IPython.core.magics.extension' from 'c:\\\\ProgramData\\\\anaconda3\\\\envs\\\\ul\\\\lib\\\\site-packages\\\\IPython\\\\core\\\\magics\\\\extension.py'>,\n",
       " 'IPython.core.magics.history': <module 'IPython.core.magics.history' from 'c:\\\\ProgramData\\\\anaconda3\\\\envs\\\\ul\\\\lib\\\\site-packages\\\\IPython\\\\core\\\\magics\\\\history.py'>,\n",
       " 'IPython.core.magics.logging': <module 'IPython.core.magics.logging' from 'c:\\\\ProgramData\\\\anaconda3\\\\envs\\\\ul\\\\lib\\\\site-packages\\\\IPython\\\\core\\\\magics\\\\logging.py'>,\n",
       " 'IPython.core.magics.namespace': <module 'IPython.core.magics.namespace' from 'c:\\\\ProgramData\\\\anaconda3\\\\envs\\\\ul\\\\lib\\\\site-packages\\\\IPython\\\\core\\\\magics\\\\namespace.py'>,\n",
       " 'IPython.core.magics.osm': <module 'IPython.core.magics.osm' from 'c:\\\\ProgramData\\\\anaconda3\\\\envs\\\\ul\\\\lib\\\\site-packages\\\\IPython\\\\core\\\\magics\\\\osm.py'>,\n",
       " 'IPython.core.magics.packaging': <module 'IPython.core.magics.packaging' from 'c:\\\\ProgramData\\\\anaconda3\\\\envs\\\\ul\\\\lib\\\\site-packages\\\\IPython\\\\core\\\\magics\\\\packaging.py'>,\n",
       " 'IPython.core.magics.pylab': <module 'IPython.core.magics.pylab' from 'c:\\\\ProgramData\\\\anaconda3\\\\envs\\\\ul\\\\lib\\\\site-packages\\\\IPython\\\\core\\\\magics\\\\pylab.py'>,\n",
       " 'IPython.core.magics.script': <module 'IPython.core.magics.script' from 'c:\\\\ProgramData\\\\anaconda3\\\\envs\\\\ul\\\\lib\\\\site-packages\\\\IPython\\\\core\\\\magics\\\\script.py'>,\n",
       " 'IPython.core.magics': <module 'IPython.core.magics' from 'c:\\\\ProgramData\\\\anaconda3\\\\envs\\\\ul\\\\lib\\\\site-packages\\\\IPython\\\\core\\\\magics\\\\__init__.py'>,\n",
       " 'IPython.core.shellapp': <module 'IPython.core.shellapp' from 'c:\\\\ProgramData\\\\anaconda3\\\\envs\\\\ul\\\\lib\\\\site-packages\\\\IPython\\\\core\\\\shellapp.py'>,\n",
       " 'IPython.extensions': <module 'IPython.extensions' from 'c:\\\\ProgramData\\\\anaconda3\\\\envs\\\\ul\\\\lib\\\\site-packages\\\\IPython\\\\extensions\\\\__init__.py'>,\n",
       " 'IPython.extensions.storemagic': <module 'IPython.extensions.storemagic' from 'c:\\\\ProgramData\\\\anaconda3\\\\envs\\\\ul\\\\lib\\\\site-packages\\\\IPython\\\\extensions\\\\storemagic.py'>,\n",
       " 'IPython.terminal.ipapp': <module 'IPython.terminal.ipapp' from 'c:\\\\ProgramData\\\\anaconda3\\\\envs\\\\ul\\\\lib\\\\site-packages\\\\IPython\\\\terminal\\\\ipapp.py'>,\n",
       " 'IPython.terminal.embed': <module 'IPython.terminal.embed' from 'c:\\\\ProgramData\\\\anaconda3\\\\envs\\\\ul\\\\lib\\\\site-packages\\\\IPython\\\\terminal\\\\embed.py'>,\n",
       " 'IPython.utils.frame': <module 'IPython.utils.frame' from 'c:\\\\ProgramData\\\\anaconda3\\\\envs\\\\ul\\\\lib\\\\site-packages\\\\IPython\\\\utils\\\\frame.py'>,\n",
       " 'IPython': <module 'IPython' from 'c:\\\\ProgramData\\\\anaconda3\\\\envs\\\\ul\\\\lib\\\\site-packages\\\\IPython\\\\__init__.py'>,\n",
       " 'ipykernel.control': <module 'ipykernel.control' from 'c:\\\\ProgramData\\\\anaconda3\\\\envs\\\\ul\\\\lib\\\\site-packages\\\\ipykernel\\\\control.py'>,\n",
       " 'ipykernel.heartbeat': <module 'ipykernel.heartbeat' from 'c:\\\\ProgramData\\\\anaconda3\\\\envs\\\\ul\\\\lib\\\\site-packages\\\\ipykernel\\\\heartbeat.py'>,\n",
       " 'ipykernel.iostream': <module 'ipykernel.iostream' from 'c:\\\\ProgramData\\\\anaconda3\\\\envs\\\\ul\\\\lib\\\\site-packages\\\\ipykernel\\\\iostream.py'>,\n",
       " 'comm.base_comm': <module 'comm.base_comm' from 'c:\\\\ProgramData\\\\anaconda3\\\\envs\\\\ul\\\\lib\\\\site-packages\\\\comm\\\\base_comm.py'>,\n",
       " 'comm': <module 'comm' from 'c:\\\\ProgramData\\\\anaconda3\\\\envs\\\\ul\\\\lib\\\\site-packages\\\\comm\\\\__init__.py'>,\n",
       " 'ipykernel.jsonutil': <module 'ipykernel.jsonutil' from 'c:\\\\ProgramData\\\\anaconda3\\\\envs\\\\ul\\\\lib\\\\site-packages\\\\ipykernel\\\\jsonutil.py'>,\n",
       " 'psutil._common': <module 'psutil._common' from 'c:\\\\ProgramData\\\\anaconda3\\\\envs\\\\ul\\\\lib\\\\site-packages\\\\psutil\\\\_common.py'>,\n",
       " 'psutil._compat': <module 'psutil._compat' from 'c:\\\\ProgramData\\\\anaconda3\\\\envs\\\\ul\\\\lib\\\\site-packages\\\\psutil\\\\_compat.py'>,\n",
       " 'psutil._psutil_windows': <module 'psutil._psutil_windows' from 'c:\\\\ProgramData\\\\anaconda3\\\\envs\\\\ul\\\\lib\\\\site-packages\\\\psutil\\\\_psutil_windows.cp310-win_amd64.pyd'>,\n",
       " 'psutil._pswindows': <module 'psutil._pswindows' from 'c:\\\\ProgramData\\\\anaconda3\\\\envs\\\\ul\\\\lib\\\\site-packages\\\\psutil\\\\_pswindows.py'>,\n",
       " 'psutil': <module 'psutil' from 'c:\\\\ProgramData\\\\anaconda3\\\\envs\\\\ul\\\\lib\\\\site-packages\\\\psutil\\\\__init__.py'>,\n",
       " 'tornado.gen': <module 'tornado.gen' from 'c:\\\\ProgramData\\\\anaconda3\\\\envs\\\\ul\\\\lib\\\\site-packages\\\\tornado\\\\gen.py'>,\n",
       " 'tornado.locks': <module 'tornado.locks' from 'c:\\\\ProgramData\\\\anaconda3\\\\envs\\\\ul\\\\lib\\\\site-packages\\\\tornado\\\\locks.py'>,\n",
       " 'tornado.queues': <module 'tornado.queues' from 'c:\\\\ProgramData\\\\anaconda3\\\\envs\\\\ul\\\\lib\\\\site-packages\\\\tornado\\\\queues.py'>,\n",
       " 'ipykernel.kernelbase': <module 'ipykernel.kernelbase' from 'c:\\\\ProgramData\\\\anaconda3\\\\envs\\\\ul\\\\lib\\\\site-packages\\\\ipykernel\\\\kernelbase.py'>,\n",
       " 'ipykernel.comm.comm': <module 'ipykernel.comm.comm' from 'c:\\\\ProgramData\\\\anaconda3\\\\envs\\\\ul\\\\lib\\\\site-packages\\\\ipykernel\\\\comm\\\\comm.py'>,\n",
       " 'ipykernel.comm.manager': <module 'ipykernel.comm.manager' from 'c:\\\\ProgramData\\\\anaconda3\\\\envs\\\\ul\\\\lib\\\\site-packages\\\\ipykernel\\\\comm\\\\manager.py'>,\n",
       " 'ipykernel.comm': <module 'ipykernel.comm' from 'c:\\\\ProgramData\\\\anaconda3\\\\envs\\\\ul\\\\lib\\\\site-packages\\\\ipykernel\\\\comm\\\\__init__.py'>,\n",
       " 'ipykernel.compiler': <module 'ipykernel.compiler' from 'c:\\\\ProgramData\\\\anaconda3\\\\envs\\\\ul\\\\lib\\\\site-packages\\\\ipykernel\\\\compiler.py'>,\n",
       " 'debugpy._version': <module 'debugpy._version' from 'c:\\\\ProgramData\\\\anaconda3\\\\envs\\\\ul\\\\lib\\\\site-packages\\\\debugpy\\\\_version.py'>,\n",
       " 'debugpy.public_api': <module 'debugpy.public_api' from 'c:\\\\ProgramData\\\\anaconda3\\\\envs\\\\ul\\\\lib\\\\site-packages\\\\debugpy\\\\public_api.py'>,\n",
       " 'debugpy': <module 'debugpy' from 'c:\\\\ProgramData\\\\anaconda3\\\\envs\\\\ul\\\\lib\\\\site-packages\\\\debugpy\\\\__init__.py'>,\n",
       " 'debugpy._vendored._util': <module 'debugpy._vendored._util' from 'c:\\\\ProgramData\\\\anaconda3\\\\envs\\\\ul\\\\lib\\\\site-packages\\\\debugpy\\\\_vendored\\\\_util.py'>,\n",
       " 'debugpy._vendored': <module 'debugpy._vendored' from 'c:\\\\ProgramData\\\\anaconda3\\\\envs\\\\ul\\\\lib\\\\site-packages\\\\debugpy\\\\_vendored\\\\__init__.py'>,\n",
       " '_pydevd_bundle': <module '_pydevd_bundle' from 'c:\\\\ProgramData\\\\anaconda3\\\\envs\\\\ul\\\\lib\\\\site-packages\\\\debugpy\\\\_vendored\\\\pydevd\\\\_pydevd_bundle\\\\__init__.py'>,\n",
       " 'encodings.ascii': <module 'encodings.ascii' from 'c:\\\\ProgramData\\\\anaconda3\\\\envs\\\\ul\\\\lib\\\\encodings\\\\ascii.py'>,\n",
       " 'encodings.latin_1': <module 'encodings.latin_1' from 'c:\\\\ProgramData\\\\anaconda3\\\\envs\\\\ul\\\\lib\\\\encodings\\\\latin_1.py'>,\n",
       " 'stringprep': <module 'stringprep' from 'c:\\\\ProgramData\\\\anaconda3\\\\envs\\\\ul\\\\lib\\\\stringprep.py'>,\n",
       " 'encodings.idna': <module 'encodings.idna' from 'c:\\\\ProgramData\\\\anaconda3\\\\envs\\\\ul\\\\lib\\\\encodings\\\\idna.py'>,\n",
       " '_pydevd_bundle.pydevd_vm_type': <module '_pydevd_bundle.pydevd_vm_type' from 'c:\\\\ProgramData\\\\anaconda3\\\\envs\\\\ul\\\\lib\\\\site-packages\\\\debugpy\\\\_vendored\\\\pydevd\\\\_pydevd_bundle\\\\pydevd_vm_type.py'>,\n",
       " '_pydev_bundle': <module '_pydev_bundle' from 'c:\\\\ProgramData\\\\anaconda3\\\\envs\\\\ul\\\\lib\\\\site-packages\\\\debugpy\\\\_vendored\\\\pydevd\\\\_pydev_bundle\\\\__init__.py'>,\n",
       " 'xmlrpc': <module 'xmlrpc' from 'c:\\\\ProgramData\\\\anaconda3\\\\envs\\\\ul\\\\lib\\\\xmlrpc\\\\__init__.py'>,\n",
       " 'xml.parsers': <module 'xml.parsers' from 'c:\\\\ProgramData\\\\anaconda3\\\\envs\\\\ul\\\\lib\\\\xml\\\\parsers\\\\__init__.py'>,\n",
       " 'pyexpat.errors': <module 'pyexpat.errors'>,\n",
       " 'pyexpat.model': <module 'pyexpat.model'>,\n",
       " 'pyexpat': <module 'pyexpat' from 'c:\\\\ProgramData\\\\anaconda3\\\\envs\\\\ul\\\\DLLs\\\\pyexpat.pyd'>,\n",
       " 'xml.parsers.expat.model': <module 'pyexpat.model'>,\n",
       " 'xml.parsers.expat.errors': <module 'pyexpat.errors'>,\n",
       " 'xml.parsers.expat': <module 'xml.parsers.expat' from 'c:\\\\ProgramData\\\\anaconda3\\\\envs\\\\ul\\\\lib\\\\xml\\\\parsers\\\\expat.py'>,\n",
       " 'gzip': <module 'gzip' from 'c:\\\\ProgramData\\\\anaconda3\\\\envs\\\\ul\\\\lib\\\\gzip.py'>,\n",
       " 'xmlrpc.client': <module 'xmlrpc.client' from 'c:\\\\ProgramData\\\\anaconda3\\\\envs\\\\ul\\\\lib\\\\xmlrpc\\\\client.py'>,\n",
       " 'http.server': <module 'http.server' from 'c:\\\\ProgramData\\\\anaconda3\\\\envs\\\\ul\\\\lib\\\\http\\\\server.py'>,\n",
       " 'xmlrpc.server': <module 'xmlrpc.server' from 'c:\\\\ProgramData\\\\anaconda3\\\\envs\\\\ul\\\\lib\\\\xmlrpc\\\\server.py'>,\n",
       " '_pydev_bundle._pydev_saved_modules': <module '_pydev_bundle._pydev_saved_modules' from 'c:\\\\ProgramData\\\\anaconda3\\\\envs\\\\ul\\\\lib\\\\site-packages\\\\debugpy\\\\_vendored\\\\pydevd\\\\_pydev_bundle\\\\_pydev_saved_modules.py'>,\n",
       " '_pydevd_bundle.pydevd_constants': <module '_pydevd_bundle.pydevd_constants' from 'c:\\\\ProgramData\\\\anaconda3\\\\envs\\\\ul\\\\lib\\\\site-packages\\\\debugpy\\\\_vendored\\\\pydevd\\\\_pydevd_bundle\\\\pydevd_constants.py'>,\n",
       " '_pydev_runfiles': <module '_pydev_runfiles' from 'c:\\\\ProgramData\\\\anaconda3\\\\envs\\\\ul\\\\lib\\\\site-packages\\\\debugpy\\\\_vendored\\\\pydevd\\\\_pydev_runfiles\\\\__init__.py'>,\n",
       " '_pydevd_frame_eval': <module '_pydevd_frame_eval' from 'c:\\\\ProgramData\\\\anaconda3\\\\envs\\\\ul\\\\lib\\\\site-packages\\\\debugpy\\\\_vendored\\\\pydevd\\\\_pydevd_frame_eval\\\\__init__.py'>,\n",
       " 'pydev_ipython': <module 'pydev_ipython' from 'c:\\\\ProgramData\\\\anaconda3\\\\envs\\\\ul\\\\lib\\\\site-packages\\\\debugpy\\\\_vendored\\\\pydevd\\\\pydev_ipython\\\\__init__.py'>,\n",
       " 'plistlib': <module 'plistlib' from 'c:\\\\ProgramData\\\\anaconda3\\\\envs\\\\ul\\\\lib\\\\plistlib.py'>,\n",
       " 'pkg_resources.extern': <module 'pkg_resources.extern' from 'c:\\\\ProgramData\\\\anaconda3\\\\envs\\\\ul\\\\lib\\\\site-packages\\\\pkg_resources\\\\extern\\\\__init__.py'>,\n",
       " 'pkg_resources._vendor': <module 'pkg_resources._vendor' from 'c:\\\\ProgramData\\\\anaconda3\\\\envs\\\\ul\\\\lib\\\\site-packages\\\\pkg_resources\\\\_vendor\\\\__init__.py'>,\n",
       " 'pkg_resources._vendor.jaraco': <module 'pkg_resources.extern.jaraco' (<pkg_resources.extern.VendorImporter object at 0x000000000555C2B0>)>,\n",
       " 'pkg_resources.extern.jaraco': <module 'pkg_resources.extern.jaraco' (<pkg_resources.extern.VendorImporter object at 0x000000000555C2B0>)>,\n",
       " 'importlib._adapters': <module 'importlib._adapters' from 'c:\\\\ProgramData\\\\anaconda3\\\\envs\\\\ul\\\\lib\\\\importlib\\\\_adapters.py'>,\n",
       " 'importlib._common': <module 'importlib._common' from 'c:\\\\ProgramData\\\\anaconda3\\\\envs\\\\ul\\\\lib\\\\importlib\\\\_common.py'>,\n",
       " 'importlib.resources': <module 'importlib.resources' from 'c:\\\\ProgramData\\\\anaconda3\\\\envs\\\\ul\\\\lib\\\\importlib\\\\resources.py'>,\n",
       " 'pkg_resources._vendor.more_itertools.recipes': <module 'pkg_resources._vendor.more_itertools.recipes' from 'c:\\\\ProgramData\\\\anaconda3\\\\envs\\\\ul\\\\lib\\\\site-packages\\\\pkg_resources\\\\_vendor\\\\more_itertools\\\\recipes.py'>,\n",
       " 'pkg_resources._vendor.more_itertools.more': <module 'pkg_resources._vendor.more_itertools.more' from 'c:\\\\ProgramData\\\\anaconda3\\\\envs\\\\ul\\\\lib\\\\site-packages\\\\pkg_resources\\\\_vendor\\\\more_itertools\\\\more.py'>,\n",
       " 'pkg_resources._vendor.more_itertools': <module 'pkg_resources.extern.more_itertools' (<pkg_resources.extern.VendorImporter object at 0x000000000555C2B0>)>,\n",
       " 'pkg_resources.extern.more_itertools': <module 'pkg_resources.extern.more_itertools' (<pkg_resources.extern.VendorImporter object at 0x000000000555C2B0>)>,\n",
       " 'pkg_resources.extern.jaraco.functools': <module 'pkg_resources.extern.jaraco.functools' from 'c:\\\\ProgramData\\\\anaconda3\\\\envs\\\\ul\\\\lib\\\\site-packages\\\\pkg_resources\\\\_vendor\\\\jaraco\\\\functools\\\\__init__.py'>,\n",
       " 'pkg_resources._vendor.backports': <module 'pkg_resources.extern.backports' (<pkg_resources.extern.VendorImporter object at 0x000000000555C2B0>)>,\n",
       " 'pkg_resources.extern.backports': <module 'pkg_resources.extern.backports' (<pkg_resources.extern.VendorImporter object at 0x000000000555C2B0>)>,\n",
       " 'pkg_resources._vendor.backports.tarfile': <module 'pkg_resources._vendor.backports.tarfile' from 'c:\\\\ProgramData\\\\anaconda3\\\\envs\\\\ul\\\\lib\\\\site-packages\\\\pkg_resources\\\\_vendor\\\\backports\\\\tarfile.py'>,\n",
       " 'pkg_resources.extern.jaraco.context': <module 'pkg_resources.extern.jaraco.context' from 'c:\\\\ProgramData\\\\anaconda3\\\\envs\\\\ul\\\\lib\\\\site-packages\\\\pkg_resources\\\\_vendor\\\\jaraco\\\\context.py'>,\n",
       " 'pkg_resources.extern.jaraco.text': <module 'pkg_resources.extern.jaraco.text' from 'c:\\\\ProgramData\\\\anaconda3\\\\envs\\\\ul\\\\lib\\\\site-packages\\\\pkg_resources\\\\_vendor\\\\jaraco\\\\text\\\\__init__.py'>,\n",
       " 'pkg_resources._vendor.platformdirs.api': <module 'pkg_resources._vendor.platformdirs.api' from 'c:\\\\ProgramData\\\\anaconda3\\\\envs\\\\ul\\\\lib\\\\site-packages\\\\pkg_resources\\\\_vendor\\\\platformdirs\\\\api.py'>,\n",
       " 'pkg_resources._vendor.platformdirs.version': <module 'pkg_resources._vendor.platformdirs.version' from 'c:\\\\ProgramData\\\\anaconda3\\\\envs\\\\ul\\\\lib\\\\site-packages\\\\pkg_resources\\\\_vendor\\\\platformdirs\\\\version.py'>,\n",
       " 'pkg_resources._vendor.platformdirs.windows': <module 'pkg_resources._vendor.platformdirs.windows' from 'c:\\\\ProgramData\\\\anaconda3\\\\envs\\\\ul\\\\lib\\\\site-packages\\\\pkg_resources\\\\_vendor\\\\platformdirs\\\\windows.py'>,\n",
       " 'pkg_resources._vendor.platformdirs': <module 'pkg_resources.extern.platformdirs' (<pkg_resources.extern.VendorImporter object at 0x000000000555C2B0>)>,\n",
       " 'pkg_resources.extern.platformdirs': <module 'pkg_resources.extern.platformdirs' (<pkg_resources.extern.VendorImporter object at 0x000000000555C2B0>)>,\n",
       " 'pkg_resources._vendor.packaging': <module 'pkg_resources.extern.packaging' (<pkg_resources.extern.VendorImporter object at 0x000000000555C2B0>)>,\n",
       " 'pkg_resources.extern.packaging': <module 'pkg_resources.extern.packaging' (<pkg_resources.extern.VendorImporter object at 0x000000000555C2B0>)>,\n",
       " 'pkg_resources.extern.packaging._structures': <module 'pkg_resources.extern.packaging._structures' from 'c:\\\\ProgramData\\\\anaconda3\\\\envs\\\\ul\\\\lib\\\\site-packages\\\\pkg_resources\\\\_vendor\\\\packaging\\\\_structures.py'>,\n",
       " 'pkg_resources.extern.packaging.version': <module 'pkg_resources.extern.packaging.version' from 'c:\\\\ProgramData\\\\anaconda3\\\\envs\\\\ul\\\\lib\\\\site-packages\\\\pkg_resources\\\\_vendor\\\\packaging\\\\version.py'>,\n",
       " 'pkg_resources._vendor.packaging._elffile': <module 'pkg_resources._vendor.packaging._elffile' from 'c:\\\\ProgramData\\\\anaconda3\\\\envs\\\\ul\\\\lib\\\\site-packages\\\\pkg_resources\\\\_vendor\\\\packaging\\\\_elffile.py'>,\n",
       " 'pkg_resources._vendor.packaging._manylinux': <module 'pkg_resources._vendor.packaging._manylinux' from 'c:\\\\ProgramData\\\\anaconda3\\\\envs\\\\ul\\\\lib\\\\site-packages\\\\pkg_resources\\\\_vendor\\\\packaging\\\\_manylinux.py'>,\n",
       " 'pkg_resources._vendor.packaging._musllinux': <module 'pkg_resources._vendor.packaging._musllinux' from 'c:\\\\ProgramData\\\\anaconda3\\\\envs\\\\ul\\\\lib\\\\site-packages\\\\pkg_resources\\\\_vendor\\\\packaging\\\\_musllinux.py'>,\n",
       " 'pkg_resources.extern.packaging.tags': <module 'pkg_resources.extern.packaging.tags' from 'c:\\\\ProgramData\\\\anaconda3\\\\envs\\\\ul\\\\lib\\\\site-packages\\\\pkg_resources\\\\_vendor\\\\packaging\\\\tags.py'>,\n",
       " 'pkg_resources.extern.packaging.utils': <module 'pkg_resources.extern.packaging.utils' from 'c:\\\\ProgramData\\\\anaconda3\\\\envs\\\\ul\\\\lib\\\\site-packages\\\\pkg_resources\\\\_vendor\\\\packaging\\\\utils.py'>,\n",
       " 'pkg_resources.extern.packaging.specifiers': <module 'pkg_resources.extern.packaging.specifiers' from 'c:\\\\ProgramData\\\\anaconda3\\\\envs\\\\ul\\\\lib\\\\site-packages\\\\pkg_resources\\\\_vendor\\\\packaging\\\\specifiers.py'>,\n",
       " 'pkg_resources.extern.packaging._tokenizer': <module 'pkg_resources.extern.packaging._tokenizer' from 'c:\\\\ProgramData\\\\anaconda3\\\\envs\\\\ul\\\\lib\\\\site-packages\\\\pkg_resources\\\\_vendor\\\\packaging\\\\_tokenizer.py'>,\n",
       " 'pkg_resources.extern.packaging._parser': <module 'pkg_resources.extern.packaging._parser' from 'c:\\\\ProgramData\\\\anaconda3\\\\envs\\\\ul\\\\lib\\\\site-packages\\\\pkg_resources\\\\_vendor\\\\packaging\\\\_parser.py'>,\n",
       " 'pkg_resources.extern.packaging.markers': <module 'pkg_resources.extern.packaging.markers' from 'c:\\\\ProgramData\\\\anaconda3\\\\envs\\\\ul\\\\lib\\\\site-packages\\\\pkg_resources\\\\_vendor\\\\packaging\\\\markers.py'>,\n",
       " 'pkg_resources.extern.packaging.requirements': <module 'pkg_resources.extern.packaging.requirements' from 'c:\\\\ProgramData\\\\anaconda3\\\\envs\\\\ul\\\\lib\\\\site-packages\\\\pkg_resources\\\\_vendor\\\\packaging\\\\requirements.py'>,\n",
       " 'pkg_resources': <module 'pkg_resources' from 'c:\\\\ProgramData\\\\anaconda3\\\\envs\\\\ul\\\\lib\\\\site-packages\\\\pkg_resources\\\\__init__.py'>,\n",
       " 'pydevd_plugins': <module 'pydevd_plugins' from 'c:\\\\ProgramData\\\\anaconda3\\\\envs\\\\ul\\\\lib\\\\site-packages\\\\debugpy\\\\_vendored\\\\pydevd\\\\pydevd_plugins\\\\__init__.py'>,\n",
       " '_pydev_bundle.pydev_log': <module '_pydev_bundle.pydev_log' from 'c:\\\\ProgramData\\\\anaconda3\\\\envs\\\\ul\\\\lib\\\\site-packages\\\\debugpy\\\\_vendored\\\\pydevd\\\\_pydev_bundle\\\\pydev_log.py'>,\n",
       " '_pydev_bundle._pydev_filesystem_encoding': <module '_pydev_bundle._pydev_filesystem_encoding' from 'c:\\\\ProgramData\\\\anaconda3\\\\envs\\\\ul\\\\lib\\\\site-packages\\\\debugpy\\\\_vendored\\\\pydevd\\\\_pydev_bundle\\\\_pydev_filesystem_encoding.py'>,\n",
       " '_pydevd_bundle.pydevd_comm_constants': <module '_pydevd_bundle.pydevd_comm_constants' from 'c:\\\\ProgramData\\\\anaconda3\\\\envs\\\\ul\\\\lib\\\\site-packages\\\\debugpy\\\\_vendored\\\\pydevd\\\\_pydevd_bundle\\\\pydevd_comm_constants.py'>,\n",
       " 'pydevd_file_utils': <module 'pydevd_file_utils' from 'c:\\\\ProgramData\\\\anaconda3\\\\envs\\\\ul\\\\lib\\\\site-packages\\\\debugpy\\\\_vendored\\\\pydevd\\\\pydevd_file_utils.py'>,\n",
       " '_pydev_bundle._pydev_execfile': <module '_pydev_bundle._pydev_execfile' from 'c:\\\\ProgramData\\\\anaconda3\\\\envs\\\\ul\\\\lib\\\\site-packages\\\\debugpy\\\\_vendored\\\\pydevd\\\\_pydev_bundle\\\\_pydev_execfile.py'>,\n",
       " '_pydevd_bundle.pydevd_exec2': <module '_pydevd_bundle.pydevd_exec2' from 'c:\\\\ProgramData\\\\anaconda3\\\\envs\\\\ul\\\\lib\\\\site-packages\\\\debugpy\\\\_vendored\\\\pydevd\\\\_pydevd_bundle\\\\pydevd_exec2.py'>,\n",
       " '_pydev_bundle.pydev_imports': <module '_pydev_bundle.pydev_imports' from 'c:\\\\ProgramData\\\\anaconda3\\\\envs\\\\ul\\\\lib\\\\site-packages\\\\debugpy\\\\_vendored\\\\pydevd\\\\_pydev_bundle\\\\pydev_imports.py'>,\n",
       " '_pydev_bundle.pydev_is_thread_alive': <module '_pydev_bundle.pydev_is_thread_alive' from 'c:\\\\ProgramData\\\\anaconda3\\\\envs\\\\ul\\\\lib\\\\site-packages\\\\debugpy\\\\_vendored\\\\pydevd\\\\_pydev_bundle\\\\pydev_is_thread_alive.py'>,\n",
       " '_pydev_bundle.pydev_override': <module '_pydev_bundle.pydev_override' from 'c:\\\\ProgramData\\\\anaconda3\\\\envs\\\\ul\\\\lib\\\\site-packages\\\\debugpy\\\\_vendored\\\\pydevd\\\\_pydev_bundle\\\\pydev_override.py'>,\n",
       " 'pydevd_plugins.extensions': <module 'pydevd_plugins.extensions' from 'c:\\\\ProgramData\\\\anaconda3\\\\envs\\\\ul\\\\lib\\\\site-packages\\\\debugpy\\\\_vendored\\\\pydevd\\\\pydevd_plugins\\\\extensions\\\\__init__.py'>,\n",
       " '_pydevd_bundle.pydevd_extension_utils': <module '_pydevd_bundle.pydevd_extension_utils' from 'c:\\\\ProgramData\\\\anaconda3\\\\envs\\\\ul\\\\lib\\\\site-packages\\\\debugpy\\\\_vendored\\\\pydevd\\\\_pydevd_bundle\\\\pydevd_extension_utils.py'>,\n",
       " '_pydevd_bundle.pydevd_frame_utils': <module '_pydevd_bundle.pydevd_frame_utils' from 'c:\\\\ProgramData\\\\anaconda3\\\\envs\\\\ul\\\\lib\\\\site-packages\\\\debugpy\\\\_vendored\\\\pydevd\\\\_pydevd_bundle\\\\pydevd_frame_utils.py'>,\n",
       " '_pydevd_bundle.pydevd_filtering': <module '_pydevd_bundle.pydevd_filtering' from 'c:\\\\ProgramData\\\\anaconda3\\\\envs\\\\ul\\\\lib\\\\site-packages\\\\debugpy\\\\_vendored\\\\pydevd\\\\_pydevd_bundle\\\\pydevd_filtering.py'>,\n",
       " '_pydevd_bundle.pydevd_io': <module '_pydevd_bundle.pydevd_io' from 'c:\\\\ProgramData\\\\anaconda3\\\\envs\\\\ul\\\\lib\\\\site-packages\\\\debugpy\\\\_vendored\\\\pydevd\\\\_pydevd_bundle\\\\pydevd_io.py'>,\n",
       " '_pydevd_bundle.pydevd_defaults': <module '_pydevd_bundle.pydevd_defaults' from 'c:\\\\ProgramData\\\\anaconda3\\\\envs\\\\ul\\\\lib\\\\site-packages\\\\debugpy\\\\_vendored\\\\pydevd\\\\_pydevd_bundle\\\\pydevd_defaults.py'>,\n",
       " '_pydevd_bundle.pydevd_utils': <module '_pydevd_bundle.pydevd_utils' from 'c:\\\\ProgramData\\\\anaconda3\\\\envs\\\\ul\\\\lib\\\\site-packages\\\\debugpy\\\\_vendored\\\\pydevd\\\\_pydevd_bundle\\\\pydevd_utils.py'>,\n",
       " '_pydevd_bundle.pydevd_runpy': <module '_pydevd_bundle.pydevd_runpy' from 'c:\\\\ProgramData\\\\anaconda3\\\\envs\\\\ul\\\\lib\\\\site-packages\\\\debugpy\\\\_vendored\\\\pydevd\\\\_pydevd_bundle\\\\pydevd_runpy.py'>,\n",
       " '_pydev_bundle._pydev_tipper_common': <module '_pydev_bundle._pydev_tipper_common' from 'c:\\\\ProgramData\\\\anaconda3\\\\envs\\\\ul\\\\lib\\\\site-packages\\\\debugpy\\\\_vendored\\\\pydevd\\\\_pydev_bundle\\\\_pydev_tipper_common.py'>,\n",
       " '_pydev_bundle._pydev_imports_tipper': <module '_pydev_bundle._pydev_imports_tipper' from 'c:\\\\ProgramData\\\\anaconda3\\\\envs\\\\ul\\\\lib\\\\site-packages\\\\debugpy\\\\_vendored\\\\pydevd\\\\_pydev_bundle\\\\_pydev_imports_tipper.py'>,\n",
       " '_pydev_bundle._pydev_calltip_util': <module '_pydev_bundle._pydev_calltip_util' from 'c:\\\\ProgramData\\\\anaconda3\\\\envs\\\\ul\\\\lib\\\\site-packages\\\\debugpy\\\\_vendored\\\\pydevd\\\\_pydev_bundle\\\\_pydev_calltip_util.py'>,\n",
       " '_pydevd_bundle.pydevd_safe_repr': <module '_pydevd_bundle.pydevd_safe_repr' from 'c:\\\\ProgramData\\\\anaconda3\\\\envs\\\\ul\\\\lib\\\\site-packages\\\\debugpy\\\\_vendored\\\\pydevd\\\\_pydevd_bundle\\\\pydevd_safe_repr.py'>,\n",
       " '_pydevd_bundle.pydevd_resolver': <module '_pydevd_bundle.pydevd_resolver' from 'c:\\\\ProgramData\\\\anaconda3\\\\envs\\\\ul\\\\lib\\\\site-packages\\\\debugpy\\\\_vendored\\\\pydevd\\\\_pydevd_bundle\\\\pydevd_resolver.py'>,\n",
       " '_pydevd_bundle.pydevd_extension_api': <module '_pydevd_bundle.pydevd_extension_api' from 'c:\\\\ProgramData\\\\anaconda3\\\\envs\\\\ul\\\\lib\\\\site-packages\\\\debugpy\\\\_vendored\\\\pydevd\\\\_pydevd_bundle\\\\pydevd_extension_api.py'>,\n",
       " '_pydevd_bundle.pydevd_xml': <module '_pydevd_bundle.pydevd_xml' from 'c:\\\\ProgramData\\\\anaconda3\\\\envs\\\\ul\\\\lib\\\\site-packages\\\\debugpy\\\\_vendored\\\\pydevd\\\\_pydevd_bundle\\\\pydevd_xml.py'>,\n",
       " '_pydevd_bundle.pydevd_dont_trace': <module '_pydevd_bundle.pydevd_dont_trace' from 'c:\\\\ProgramData\\\\anaconda3\\\\envs\\\\ul\\\\lib\\\\site-packages\\\\debugpy\\\\_vendored\\\\pydevd\\\\_pydevd_bundle\\\\pydevd_dont_trace.py'>,\n",
       " '_pydevd_frame_eval.vendored': <module '_pydevd_frame_eval.vendored' from 'c:\\\\ProgramData\\\\anaconda3\\\\envs\\\\ul\\\\lib\\\\site-packages\\\\debugpy\\\\_vendored\\\\pydevd\\\\_pydevd_frame_eval\\\\vendored\\\\__init__.py'>,\n",
       " '_pydevd_frame_eval.vendored.bytecode.flags': <module '_pydevd_frame_eval.vendored.bytecode.flags' from 'c:\\\\ProgramData\\\\anaconda3\\\\envs\\\\ul\\\\lib\\\\site-packages\\\\debugpy\\\\_vendored\\\\pydevd\\\\_pydevd_frame_eval\\\\vendored\\\\bytecode\\\\flags.py'>,\n",
       " '_pydevd_frame_eval.vendored.bytecode.instr': <module '_pydevd_frame_eval.vendored.bytecode.instr' from 'c:\\\\ProgramData\\\\anaconda3\\\\envs\\\\ul\\\\lib\\\\site-packages\\\\debugpy\\\\_vendored\\\\pydevd\\\\_pydevd_frame_eval\\\\vendored\\\\bytecode\\\\instr.py'>,\n",
       " '_pydevd_frame_eval.vendored.bytecode.bytecode': <module '_pydevd_frame_eval.vendored.bytecode.bytecode' from 'c:\\\\ProgramData\\\\anaconda3\\\\envs\\\\ul\\\\lib\\\\site-packages\\\\debugpy\\\\_vendored\\\\pydevd\\\\_pydevd_frame_eval\\\\vendored\\\\bytecode\\\\bytecode.py'>,\n",
       " '_pydevd_frame_eval.vendored.bytecode.concrete': <module '_pydevd_frame_eval.vendored.bytecode.concrete' from 'c:\\\\ProgramData\\\\anaconda3\\\\envs\\\\ul\\\\lib\\\\site-packages\\\\debugpy\\\\_vendored\\\\pydevd\\\\_pydevd_frame_eval\\\\vendored\\\\bytecode\\\\concrete.py'>,\n",
       " '_pydevd_frame_eval.vendored.bytecode.cfg': <module '_pydevd_frame_eval.vendored.bytecode.cfg' from 'c:\\\\ProgramData\\\\anaconda3\\\\envs\\\\ul\\\\lib\\\\site-packages\\\\debugpy\\\\_vendored\\\\pydevd\\\\_pydevd_frame_eval\\\\vendored\\\\bytecode\\\\cfg.py'>,\n",
       " '_pydevd_frame_eval.vendored.bytecode': <module '_pydevd_frame_eval.vendored.bytecode' from 'c:\\\\ProgramData\\\\anaconda3\\\\envs\\\\ul\\\\lib\\\\site-packages\\\\debugpy\\\\_vendored\\\\pydevd\\\\_pydevd_frame_eval\\\\vendored\\\\bytecode\\\\__init__.py'>,\n",
       " '_pydevd_bundle.pydevd_bytecode_utils': <module '_pydevd_bundle.pydevd_bytecode_utils' from 'c:\\\\ProgramData\\\\anaconda3\\\\envs\\\\ul\\\\lib\\\\site-packages\\\\debugpy\\\\_vendored\\\\pydevd\\\\_pydevd_bundle\\\\pydevd_bytecode_utils.py'>,\n",
       " '_pydevd_bundle.pydevd_cython': <module '_pydevd_bundle.pydevd_cython' from 'c:\\\\ProgramData\\\\anaconda3\\\\envs\\\\ul\\\\lib\\\\site-packages\\\\debugpy\\\\_vendored\\\\pydevd\\\\_pydevd_bundle\\\\pydevd_cython.cp310-win_amd64.pyd'>,\n",
       " '_pydevd_bundle.pydevd_cython_wrapper': <module '_pydevd_bundle.pydevd_cython_wrapper' from 'c:\\\\ProgramData\\\\anaconda3\\\\envs\\\\ul\\\\lib\\\\site-packages\\\\debugpy\\\\_vendored\\\\pydevd\\\\_pydevd_bundle\\\\pydevd_cython_wrapper.py'>,\n",
       " '_pydevd_bundle.pydevd_additional_thread_info': <module '_pydevd_bundle.pydevd_additional_thread_info' from 'c:\\\\ProgramData\\\\anaconda3\\\\envs\\\\ul\\\\lib\\\\site-packages\\\\debugpy\\\\_vendored\\\\pydevd\\\\_pydevd_bundle\\\\pydevd_additional_thread_info.py'>,\n",
       " '_pydevd_bundle.pydevd_thread_lifecycle': <module '_pydevd_bundle.pydevd_thread_lifecycle' from 'c:\\\\ProgramData\\\\anaconda3\\\\envs\\\\ul\\\\lib\\\\site-packages\\\\debugpy\\\\_vendored\\\\pydevd\\\\_pydevd_bundle\\\\pydevd_thread_lifecycle.py'>,\n",
       " '_pydevd_bundle.pydevd_save_locals': <module '_pydevd_bundle.pydevd_save_locals' from 'c:\\\\ProgramData\\\\anaconda3\\\\envs\\\\ul\\\\lib\\\\site-packages\\\\debugpy\\\\_vendored\\\\pydevd\\\\_pydevd_bundle\\\\pydevd_save_locals.py'>,\n",
       " '_pydev_bundle.pydev_monkey': <module '_pydev_bundle.pydev_monkey' from 'c:\\\\ProgramData\\\\anaconda3\\\\envs\\\\ul\\\\lib\\\\site-packages\\\\debugpy\\\\_vendored\\\\pydevd\\\\_pydev_bundle\\\\pydev_monkey.py'>,\n",
       " 'pydevd_tracing': <module 'pydevd_tracing' from 'c:\\\\ProgramData\\\\anaconda3\\\\envs\\\\ul\\\\lib\\\\site-packages\\\\debugpy\\\\_vendored\\\\pydevd\\\\pydevd_tracing.py'>,\n",
       " '_pydevd_bundle.pydevd_collect_bytecode_info': <module '_pydevd_bundle.pydevd_collect_bytecode_info' from 'c:\\\\ProgramData\\\\anaconda3\\\\envs\\\\ul\\\\lib\\\\site-packages\\\\debugpy\\\\_vendored\\\\pydevd\\\\_pydevd_bundle\\\\pydevd_collect_bytecode_info.py'>,\n",
       " '_pydevd_bundle.pydevd_daemon_thread': <module '_pydevd_bundle.pydevd_daemon_thread' from 'c:\\\\ProgramData\\\\anaconda3\\\\envs\\\\ul\\\\lib\\\\site-packages\\\\debugpy\\\\_vendored\\\\pydevd\\\\_pydevd_bundle\\\\pydevd_daemon_thread.py'>,\n",
       " '_pydevd_bundle.pydevd_timeout': <module '_pydevd_bundle.pydevd_timeout' from 'c:\\\\ProgramData\\\\anaconda3\\\\envs\\\\ul\\\\lib\\\\site-packages\\\\debugpy\\\\_vendored\\\\pydevd\\\\_pydevd_bundle\\\\pydevd_timeout.py'>,\n",
       " '_pydevd_bundle.pydevd_vars': <module '_pydevd_bundle.pydevd_vars' from 'c:\\\\ProgramData\\\\anaconda3\\\\envs\\\\ul\\\\lib\\\\site-packages\\\\debugpy\\\\_vendored\\\\pydevd\\\\_pydevd_bundle\\\\pydevd_vars.py'>,\n",
       " '_pydev_bundle.pydev_console_utils': <module '_pydev_bundle.pydev_console_utils' from 'c:\\\\ProgramData\\\\anaconda3\\\\envs\\\\ul\\\\lib\\\\site-packages\\\\debugpy\\\\_vendored\\\\pydevd\\\\_pydev_bundle\\\\pydev_console_utils.py'>,\n",
       " '_pydevd_bundle.pydevd_import_class': <module '_pydevd_bundle.pydevd_import_class' from 'c:\\\\ProgramData\\\\anaconda3\\\\envs\\\\ul\\\\lib\\\\site-packages\\\\debugpy\\\\_vendored\\\\pydevd\\\\_pydevd_bundle\\\\pydevd_import_class.py'>,\n",
       " '_pydevd_bundle.pydevd_breakpoints': <module '_pydevd_bundle.pydevd_breakpoints' from 'c:\\\\ProgramData\\\\anaconda3\\\\envs\\\\ul\\\\lib\\\\site-packages\\\\debugpy\\\\_vendored\\\\pydevd\\\\_pydevd_bundle\\\\pydevd_breakpoints.py'>,\n",
       " '_pydevd_bundle.pydevd_custom_frames': <module '_pydevd_bundle.pydevd_custom_frames' from 'c:\\\\ProgramData\\\\anaconda3\\\\envs\\\\ul\\\\lib\\\\site-packages\\\\debugpy\\\\_vendored\\\\pydevd\\\\_pydevd_bundle\\\\pydevd_custom_frames.py'>,\n",
       " '_pydevd_bundle.pydevd_dont_trace_files': <module '_pydevd_bundle.pydevd_dont_trace_files' from 'c:\\\\ProgramData\\\\anaconda3\\\\envs\\\\ul\\\\lib\\\\site-packages\\\\debugpy\\\\_vendored\\\\pydevd\\\\_pydevd_bundle\\\\pydevd_dont_trace_files.py'>,\n",
       " '_pydevd_bundle.pydevd_net_command': <module '_pydevd_bundle.pydevd_net_command' from 'c:\\\\ProgramData\\\\anaconda3\\\\envs\\\\ul\\\\lib\\\\site-packages\\\\debugpy\\\\_vendored\\\\pydevd\\\\_pydevd_bundle\\\\pydevd_net_command.py'>,\n",
       " '_pydevd_bundle.pydevconsole_code': <module '_pydevd_bundle.pydevconsole_code' from 'c:\\\\ProgramData\\\\anaconda3\\\\envs\\\\ul\\\\lib\\\\site-packages\\\\debugpy\\\\_vendored\\\\pydevd\\\\_pydevd_bundle\\\\pydevconsole_code.py'>,\n",
       " '_pydev_bundle.pydev_umd': <module '_pydev_bundle.pydev_umd' from 'c:\\\\ProgramData\\\\anaconda3\\\\envs\\\\ul\\\\lib\\\\site-packages\\\\debugpy\\\\_vendored\\\\pydevd\\\\_pydev_bundle\\\\pydev_umd.py'>,\n",
       " 'pydevconsole': <module 'pydevconsole' from 'c:\\\\ProgramData\\\\anaconda3\\\\envs\\\\ul\\\\lib\\\\site-packages\\\\debugpy\\\\_vendored\\\\pydevd\\\\pydevconsole.py'>,\n",
       " '_pydev_bundle._pydev_completer': <module '_pydev_bundle._pydev_completer' from 'c:\\\\ProgramData\\\\anaconda3\\\\envs\\\\ul\\\\lib\\\\site-packages\\\\debugpy\\\\_vendored\\\\pydevd\\\\_pydev_bundle\\\\_pydev_completer.py'>,\n",
       " '_pydevd_bundle.pydevd_net_command_factory_xml': <module '_pydevd_bundle.pydevd_net_command_factory_xml' from 'c:\\\\ProgramData\\\\anaconda3\\\\envs\\\\ul\\\\lib\\\\site-packages\\\\debugpy\\\\_vendored\\\\pydevd\\\\_pydevd_bundle\\\\pydevd_net_command_factory_xml.py'>,\n",
       " '_pydevd_bundle.pydevd_frame': <module '_pydevd_bundle.pydevd_frame' from 'c:\\\\ProgramData\\\\anaconda3\\\\envs\\\\ul\\\\lib\\\\site-packages\\\\debugpy\\\\_vendored\\\\pydevd\\\\_pydevd_bundle\\\\pydevd_frame.py'>,\n",
       " '_pydevd_bundle.pydevd_additional_thread_info_regular': <module '_pydevd_bundle.pydevd_additional_thread_info_regular' from 'c:\\\\ProgramData\\\\anaconda3\\\\envs\\\\ul\\\\lib\\\\site-packages\\\\debugpy\\\\_vendored\\\\pydevd\\\\_pydevd_bundle\\\\pydevd_additional_thread_info_regular.py'>,\n",
       " '_pydevd_bundle.pydevd_trace_dispatch': <module '_pydevd_bundle.pydevd_trace_dispatch' from 'c:\\\\ProgramData\\\\anaconda3\\\\envs\\\\ul\\\\lib\\\\site-packages\\\\debugpy\\\\_vendored\\\\pydevd\\\\_pydevd_bundle\\\\pydevd_trace_dispatch.py'>,\n",
       " '_pydevd_frame_eval.pydevd_frame_eval_main': <module '_pydevd_frame_eval.pydevd_frame_eval_main' from 'c:\\\\ProgramData\\\\anaconda3\\\\envs\\\\ul\\\\lib\\\\site-packages\\\\debugpy\\\\_vendored\\\\pydevd\\\\_pydevd_frame_eval\\\\pydevd_frame_eval_main.py'>,\n",
       " '_pydevd_bundle.pydevd_source_mapping': <module '_pydevd_bundle.pydevd_source_mapping' from 'c:\\\\ProgramData\\\\anaconda3\\\\envs\\\\ul\\\\lib\\\\site-packages\\\\debugpy\\\\_vendored\\\\pydevd\\\\_pydevd_bundle\\\\pydevd_source_mapping.py'>,\n",
       " '_pydevd_bundle.pydevd_concurrency_analyser': <module '_pydevd_bundle.pydevd_concurrency_analyser' from 'c:\\\\ProgramData\\\\anaconda3\\\\envs\\\\ul\\\\lib\\\\site-packages\\\\debugpy\\\\_vendored\\\\pydevd\\\\_pydevd_bundle\\\\pydevd_concurrency_analyser\\\\__init__.py'>,\n",
       " '_pydevd_bundle.pydevd_concurrency_analyser.pydevd_thread_wrappers': <module '_pydevd_bundle.pydevd_concurrency_analyser.pydevd_thread_wrappers' from 'c:\\\\ProgramData\\\\anaconda3\\\\envs\\\\ul\\\\lib\\\\site-packages\\\\debugpy\\\\_vendored\\\\pydevd\\\\_pydevd_bundle\\\\pydevd_concurrency_analyser\\\\pydevd_thread_wrappers.py'>,\n",
       " '_pydevd_bundle.pydevd_concurrency_analyser.pydevd_concurrency_logger': <module '_pydevd_bundle.pydevd_concurrency_analyser.pydevd_concurrency_logger' from 'c:\\\\ProgramData\\\\anaconda3\\\\envs\\\\ul\\\\lib\\\\site-packages\\\\debugpy\\\\_vendored\\\\pydevd\\\\_pydevd_bundle\\\\pydevd_concurrency_analyser\\\\pydevd_concurrency_logger.py'>,\n",
       " '_pydevd_bundle._debug_adapter': <module '_pydevd_bundle._debug_adapter' from 'c:\\\\ProgramData\\\\anaconda3\\\\envs\\\\ul\\\\lib\\\\site-packages\\\\debugpy\\\\_vendored\\\\pydevd\\\\_pydevd_bundle\\\\_debug_adapter\\\\__init__.py'>,\n",
       " '_pydevd_bundle._debug_adapter.pydevd_schema_log': <module '_pydevd_bundle._debug_adapter.pydevd_schema_log' from 'c:\\\\ProgramData\\\\anaconda3\\\\envs\\\\ul\\\\lib\\\\site-packages\\\\debugpy\\\\_vendored\\\\pydevd\\\\_pydevd_bundle\\\\_debug_adapter\\\\pydevd_schema_log.py'>,\n",
       " '_pydevd_bundle._debug_adapter.pydevd_base_schema': <module '_pydevd_bundle._debug_adapter.pydevd_base_schema' from 'c:\\\\ProgramData\\\\anaconda3\\\\envs\\\\ul\\\\lib\\\\site-packages\\\\debugpy\\\\_vendored\\\\pydevd\\\\_pydevd_bundle\\\\_debug_adapter\\\\pydevd_base_schema.py'>,\n",
       " '_pydevd_bundle._debug_adapter.pydevd_schema': <module '_pydevd_bundle._debug_adapter.pydevd_schema' from 'c:\\\\ProgramData\\\\anaconda3\\\\envs\\\\ul\\\\lib\\\\site-packages\\\\debugpy\\\\_vendored\\\\pydevd\\\\_pydevd_bundle\\\\_debug_adapter\\\\pydevd_schema.py'>,\n",
       " '_pydevd_bundle.pydevd_reload': <module '_pydevd_bundle.pydevd_reload' from 'c:\\\\ProgramData\\\\anaconda3\\\\envs\\\\ul\\\\lib\\\\site-packages\\\\debugpy\\\\_vendored\\\\pydevd\\\\_pydevd_bundle\\\\pydevd_reload.py'>,\n",
       " '_pydev_bundle.fsnotify': <module '_pydev_bundle.fsnotify' from 'c:\\\\ProgramData\\\\anaconda3\\\\envs\\\\ul\\\\lib\\\\site-packages\\\\debugpy\\\\_vendored\\\\pydevd\\\\_pydev_bundle\\\\fsnotify\\\\__init__.py'>,\n",
       " '_pydevd_bundle.pydevd_console': <module '_pydevd_bundle.pydevd_console' from 'c:\\\\ProgramData\\\\anaconda3\\\\envs\\\\ul\\\\lib\\\\site-packages\\\\debugpy\\\\_vendored\\\\pydevd\\\\_pydevd_bundle\\\\pydevd_console.py'>,\n",
       " '_pydevd_bundle.pydevd_comm': <module '_pydevd_bundle.pydevd_comm' from 'c:\\\\ProgramData\\\\anaconda3\\\\envs\\\\ul\\\\lib\\\\site-packages\\\\debugpy\\\\_vendored\\\\pydevd\\\\_pydevd_bundle\\\\pydevd_comm.py'>,\n",
       " '_pydevd_bundle.pydevd_net_command_factory_json': <module '_pydevd_bundle.pydevd_net_command_factory_json' from 'c:\\\\ProgramData\\\\anaconda3\\\\envs\\\\ul\\\\lib\\\\site-packages\\\\debugpy\\\\_vendored\\\\pydevd\\\\_pydevd_bundle\\\\pydevd_net_command_factory_json.py'>,\n",
       " '_pydevd_bundle.pydevd_api': <module '_pydevd_bundle.pydevd_api' from 'c:\\\\ProgramData\\\\anaconda3\\\\envs\\\\ul\\\\lib\\\\site-packages\\\\debugpy\\\\_vendored\\\\pydevd\\\\_pydevd_bundle\\\\pydevd_api.py'>,\n",
       " '_pydevd_bundle.pydevd_json_debug_options': <module '_pydevd_bundle.pydevd_json_debug_options' from 'c:\\\\ProgramData\\\\anaconda3\\\\envs\\\\ul\\\\lib\\\\site-packages\\\\debugpy\\\\_vendored\\\\pydevd\\\\_pydevd_bundle\\\\pydevd_json_debug_options.py'>,\n",
       " '_pydevd_bundle.pydevd_process_net_command_json': <module '_pydevd_bundle.pydevd_process_net_command_json' from 'c:\\\\ProgramData\\\\anaconda3\\\\envs\\\\ul\\\\lib\\\\site-packages\\\\debugpy\\\\_vendored\\\\pydevd\\\\_pydevd_bundle\\\\pydevd_process_net_command_json.py'>,\n",
       " '_pydevd_bundle.pydevd_traceproperty': <module '_pydevd_bundle.pydevd_traceproperty' from 'c:\\\\ProgramData\\\\anaconda3\\\\envs\\\\ul\\\\lib\\\\site-packages\\\\debugpy\\\\_vendored\\\\pydevd\\\\_pydevd_bundle\\\\pydevd_traceproperty.py'>,\n",
       " '_pydevd_bundle.pydevd_process_net_command': <module '_pydevd_bundle.pydevd_process_net_command' from 'c:\\\\ProgramData\\\\anaconda3\\\\envs\\\\ul\\\\lib\\\\site-packages\\\\debugpy\\\\_vendored\\\\pydevd\\\\_pydevd_bundle\\\\pydevd_process_net_command.py'>,\n",
       " '_pydevd_bundle.pydevd_suspended_frames': <module '_pydevd_bundle.pydevd_suspended_frames' from 'c:\\\\ProgramData\\\\anaconda3\\\\envs\\\\ul\\\\lib\\\\site-packages\\\\debugpy\\\\_vendored\\\\pydevd\\\\_pydevd_bundle\\\\pydevd_suspended_frames.py'>,\n",
       " '_pydevd_bundle.pydevd_trace_api': <module '_pydevd_bundle.pydevd_trace_api' from 'c:\\\\ProgramData\\\\anaconda3\\\\envs\\\\ul\\\\lib\\\\site-packages\\\\debugpy\\\\_vendored\\\\pydevd\\\\_pydevd_bundle\\\\pydevd_trace_api.py'>,\n",
       " 'pydevd_plugins.pydevd_line_validation': <module 'pydevd_plugins.pydevd_line_validation' from 'c:\\\\ProgramData\\\\anaconda3\\\\envs\\\\ul\\\\lib\\\\site-packages\\\\debugpy\\\\_vendored\\\\pydevd\\\\pydevd_plugins\\\\pydevd_line_validation.py'>,\n",
       " 'pydevd_plugins.django_debug': <module 'pydevd_plugins.django_debug' from 'c:\\\\ProgramData\\\\anaconda3\\\\envs\\\\ul\\\\lib\\\\site-packages\\\\debugpy\\\\_vendored\\\\pydevd\\\\pydevd_plugins\\\\django_debug.py'>,\n",
       " 'pydevd_plugins.jinja2_debug': <module 'pydevd_plugins.jinja2_debug' from 'c:\\\\ProgramData\\\\anaconda3\\\\envs\\\\ul\\\\lib\\\\site-packages\\\\debugpy\\\\_vendored\\\\pydevd\\\\pydevd_plugins\\\\jinja2_debug.py'>,\n",
       " '_pydevd_bundle.pydevd_plugin_utils': <module '_pydevd_bundle.pydevd_plugin_utils' from 'c:\\\\ProgramData\\\\anaconda3\\\\envs\\\\ul\\\\lib\\\\site-packages\\\\debugpy\\\\_vendored\\\\pydevd\\\\_pydevd_bundle\\\\pydevd_plugin_utils.py'>,\n",
       " 'pydevd_plugins.extensions.types': <module 'pydevd_plugins.extensions.types' from 'c:\\\\ProgramData\\\\anaconda3\\\\envs\\\\ul\\\\lib\\\\site-packages\\\\debugpy\\\\_vendored\\\\pydevd\\\\pydevd_plugins\\\\extensions\\\\types\\\\__init__.py'>,\n",
       " 'pydevd_plugins.extensions.types.pydevd_helpers': <module 'pydevd_plugins.extensions.types.pydevd_helpers' from 'c:\\\\ProgramData\\\\anaconda3\\\\envs\\\\ul\\\\lib\\\\site-packages\\\\debugpy\\\\_vendored\\\\pydevd\\\\pydevd_plugins\\\\extensions\\\\types\\\\pydevd_helpers.py'>,\n",
       " 'pydevd_plugins.extensions.types.pydevd_plugin_numpy_types': <module 'pydevd_plugins.extensions.types.pydevd_plugin_numpy_types' from 'c:\\\\ProgramData\\\\anaconda3\\\\envs\\\\ul\\\\lib\\\\site-packages\\\\debugpy\\\\_vendored\\\\pydevd\\\\pydevd_plugins\\\\extensions\\\\types\\\\pydevd_plugin_numpy_types.py'>,\n",
       " 'pydevd_plugins.extensions.types.pydevd_plugin_pandas_types': <module 'pydevd_plugins.extensions.types.pydevd_plugin_pandas_types' from 'c:\\\\ProgramData\\\\anaconda3\\\\envs\\\\ul\\\\lib\\\\site-packages\\\\debugpy\\\\_vendored\\\\pydevd\\\\pydevd_plugins\\\\extensions\\\\types\\\\pydevd_plugin_pandas_types.py'>,\n",
       " 'pydevd_plugins.extensions.types.pydevd_plugins_django_form_str': <module 'pydevd_plugins.extensions.types.pydevd_plugins_django_form_str' from 'c:\\\\ProgramData\\\\anaconda3\\\\envs\\\\ul\\\\lib\\\\site-packages\\\\debugpy\\\\_vendored\\\\pydevd\\\\pydevd_plugins\\\\extensions\\\\types\\\\pydevd_plugins_django_form_str.py'>,\n",
       " 'pydevd': <module 'pydevd' from 'c:\\\\ProgramData\\\\anaconda3\\\\envs\\\\ul\\\\lib\\\\site-packages\\\\debugpy\\\\_vendored\\\\pydevd\\\\pydevd.py'>,\n",
       " 'debugpy._vendored.force_pydevd': <module 'debugpy._vendored.force_pydevd' from 'c:\\\\ProgramData\\\\anaconda3\\\\envs\\\\ul\\\\lib\\\\site-packages\\\\debugpy\\\\_vendored\\\\force_pydevd.py'>,\n",
       " 'debugpy.server': <module 'debugpy.server' from 'c:\\\\ProgramData\\\\anaconda3\\\\envs\\\\ul\\\\lib\\\\site-packages\\\\debugpy\\\\server\\\\__init__.py'>,\n",
       " 'debugpy.adapter': <module 'debugpy.adapter' from 'c:\\\\ProgramData\\\\anaconda3\\\\envs\\\\ul\\\\lib\\\\site-packages\\\\debugpy\\\\adapter\\\\__init__.py'>,\n",
       " 'debugpy.common': <module 'debugpy.common' from 'c:\\\\ProgramData\\\\anaconda3\\\\envs\\\\ul\\\\lib\\\\site-packages\\\\debugpy\\\\common\\\\__init__.py'>,\n",
       " 'debugpy.common.json': <module 'debugpy.common.json' from 'c:\\\\ProgramData\\\\anaconda3\\\\envs\\\\ul\\\\lib\\\\site-packages\\\\debugpy\\\\common\\\\json.py'>,\n",
       " 'debugpy.common.timestamp': <module 'debugpy.common.timestamp' from 'c:\\\\ProgramData\\\\anaconda3\\\\envs\\\\ul\\\\lib\\\\site-packages\\\\debugpy\\\\common\\\\timestamp.py'>,\n",
       " 'debugpy.common.util': <module 'debugpy.common.util' from 'c:\\\\ProgramData\\\\anaconda3\\\\envs\\\\ul\\\\lib\\\\site-packages\\\\debugpy\\\\common\\\\util.py'>,\n",
       " 'debugpy.common.log': <module 'debugpy.common.log' from 'c:\\\\ProgramData\\\\anaconda3\\\\envs\\\\ul\\\\lib\\\\site-packages\\\\debugpy\\\\common\\\\log.py'>,\n",
       " 'debugpy.common.sockets': <module 'debugpy.common.sockets' from 'c:\\\\ProgramData\\\\anaconda3\\\\envs\\\\ul\\\\lib\\\\site-packages\\\\debugpy\\\\common\\\\sockets.py'>,\n",
       " 'debugpy.server.api': <module 'debugpy.server.api' from 'c:\\\\ProgramData\\\\anaconda3\\\\envs\\\\ul\\\\lib\\\\site-packages\\\\debugpy\\\\server\\\\api.py'>,\n",
       " 'ipykernel.debugger': <module 'ipykernel.debugger' from 'c:\\\\ProgramData\\\\anaconda3\\\\envs\\\\ul\\\\lib\\\\site-packages\\\\ipykernel\\\\debugger.py'>,\n",
       " 'packaging': <module 'packaging' from 'c:\\\\ProgramData\\\\anaconda3\\\\envs\\\\ul\\\\lib\\\\site-packages\\\\packaging\\\\__init__.py'>,\n",
       " 'packaging._structures': <module 'packaging._structures' from 'c:\\\\ProgramData\\\\anaconda3\\\\envs\\\\ul\\\\lib\\\\site-packages\\\\packaging\\\\_structures.py'>,\n",
       " 'packaging.version': <module 'packaging.version' from 'c:\\\\ProgramData\\\\anaconda3\\\\envs\\\\ul\\\\lib\\\\site-packages\\\\packaging\\\\version.py'>,\n",
       " 'ipykernel.eventloops': <module 'ipykernel.eventloops' from 'c:\\\\ProgramData\\\\anaconda3\\\\envs\\\\ul\\\\lib\\\\site-packages\\\\ipykernel\\\\eventloops.py'>,\n",
       " 'IPython.core.payloadpage': <module 'IPython.core.payloadpage' from 'c:\\\\ProgramData\\\\anaconda3\\\\envs\\\\ul\\\\lib\\\\site-packages\\\\IPython\\\\core\\\\payloadpage.py'>,\n",
       " 'ipykernel.displayhook': <module 'ipykernel.displayhook' from 'c:\\\\ProgramData\\\\anaconda3\\\\envs\\\\ul\\\\lib\\\\site-packages\\\\ipykernel\\\\displayhook.py'>,\n",
       " 'ipykernel.zmqshell': <module 'ipykernel.zmqshell' from 'c:\\\\ProgramData\\\\anaconda3\\\\envs\\\\ul\\\\lib\\\\site-packages\\\\ipykernel\\\\zmqshell.py'>,\n",
       " 'ipykernel.ipkernel': <module 'ipykernel.ipkernel' from 'c:\\\\ProgramData\\\\anaconda3\\\\envs\\\\ul\\\\lib\\\\site-packages\\\\ipykernel\\\\ipkernel.py'>,\n",
       " 'ipykernel.parentpoller': <module 'ipykernel.parentpoller' from 'c:\\\\ProgramData\\\\anaconda3\\\\envs\\\\ul\\\\lib\\\\site-packages\\\\ipykernel\\\\parentpoller.py'>,\n",
       " 'ipykernel.kernelapp': <module 'ipykernel.kernelapp' from 'c:\\\\ProgramData\\\\anaconda3\\\\envs\\\\ul\\\\lib\\\\site-packages\\\\ipykernel\\\\kernelapp.py'>,\n",
       " 'tornado.platform': <module 'tornado.platform' from 'c:\\\\ProgramData\\\\anaconda3\\\\envs\\\\ul\\\\lib\\\\site-packages\\\\tornado\\\\platform\\\\__init__.py'>,\n",
       " 'tornado.platform.asyncio': <module 'tornado.platform.asyncio' from 'c:\\\\ProgramData\\\\anaconda3\\\\envs\\\\ul\\\\lib\\\\site-packages\\\\tornado\\\\platform\\\\asyncio.py'>,\n",
       " 'faulthandler': <module 'faulthandler' (built-in)>,\n",
       " 'IPython.core.completerlib': <module 'IPython.core.completerlib' from 'c:\\\\ProgramData\\\\anaconda3\\\\envs\\\\ul\\\\lib\\\\site-packages\\\\IPython\\\\core\\\\completerlib.py'>,\n",
       " 'ipywidgets._version': <module 'ipywidgets._version' from 'c:\\\\ProgramData\\\\anaconda3\\\\envs\\\\ul\\\\lib\\\\site-packages\\\\ipywidgets\\\\_version.py'>,\n",
       " 'ipywidgets.comm': <module 'ipywidgets.comm' from 'c:\\\\ProgramData\\\\anaconda3\\\\envs\\\\ul\\\\lib\\\\site-packages\\\\ipywidgets\\\\comm.py'>,\n",
       " 'ipywidgets.widgets.utils': <module 'ipywidgets.widgets.utils' from 'c:\\\\ProgramData\\\\anaconda3\\\\envs\\\\ul\\\\lib\\\\site-packages\\\\ipywidgets\\\\widgets\\\\utils.py'>,\n",
       " 'ipywidgets.widgets.widget': <module 'ipywidgets.widgets.widget' from 'c:\\\\ProgramData\\\\anaconda3\\\\envs\\\\ul\\\\lib\\\\site-packages\\\\ipywidgets\\\\widgets\\\\widget.py'>,\n",
       " 'ipywidgets.widgets.trait_types': <module 'ipywidgets.widgets.trait_types' from 'c:\\\\ProgramData\\\\anaconda3\\\\envs\\\\ul\\\\lib\\\\site-packages\\\\ipywidgets\\\\widgets\\\\trait_types.py'>,\n",
       " 'ipywidgets.widgets.widget_layout': <module 'ipywidgets.widgets.widget_layout' from 'c:\\\\ProgramData\\\\anaconda3\\\\envs\\\\ul\\\\lib\\\\site-packages\\\\ipywidgets\\\\widgets\\\\widget_layout.py'>,\n",
       " 'ipywidgets.widgets.widget_style': <module 'ipywidgets.widgets.widget_style' from 'c:\\\\ProgramData\\\\anaconda3\\\\envs\\\\ul\\\\lib\\\\site-packages\\\\ipywidgets\\\\widgets\\\\widget_style.py'>,\n",
       " 'ipywidgets.widgets.domwidget': <module 'ipywidgets.widgets.domwidget' from 'c:\\\\ProgramData\\\\anaconda3\\\\envs\\\\ul\\\\lib\\\\site-packages\\\\ipywidgets\\\\widgets\\\\domwidget.py'>,\n",
       " 'ipywidgets.widgets.valuewidget': <module 'ipywidgets.widgets.valuewidget' from 'c:\\\\ProgramData\\\\anaconda3\\\\envs\\\\ul\\\\lib\\\\site-packages\\\\ipywidgets\\\\widgets\\\\valuewidget.py'>,\n",
       " 'ipywidgets.widgets.widget_core': <module 'ipywidgets.widgets.widget_core' from 'c:\\\\ProgramData\\\\anaconda3\\\\envs\\\\ul\\\\lib\\\\site-packages\\\\ipywidgets\\\\widgets\\\\widget_core.py'>,\n",
       " 'ipywidgets.widgets.widget_description': <module 'ipywidgets.widgets.widget_description' from 'c:\\\\ProgramData\\\\anaconda3\\\\envs\\\\ul\\\\lib\\\\site-packages\\\\ipywidgets\\\\widgets\\\\widget_description.py'>,\n",
       " 'ipywidgets.widgets.widget_bool': <module 'ipywidgets.widgets.widget_bool' from 'c:\\\\ProgramData\\\\anaconda3\\\\envs\\\\ul\\\\lib\\\\site-packages\\\\ipywidgets\\\\widgets\\\\widget_bool.py'>,\n",
       " 'ipywidgets.widgets.widget_button': <module 'ipywidgets.widgets.widget_button' from 'c:\\\\ProgramData\\\\anaconda3\\\\envs\\\\ul\\\\lib\\\\site-packages\\\\ipywidgets\\\\widgets\\\\widget_button.py'>,\n",
       " 'ipywidgets.widgets.docutils': <module 'ipywidgets.widgets.docutils' from 'c:\\\\ProgramData\\\\anaconda3\\\\envs\\\\ul\\\\lib\\\\site-packages\\\\ipywidgets\\\\widgets\\\\docutils.py'>,\n",
       " 'ipywidgets.widgets.widget_box': <module 'ipywidgets.widgets.widget_box' from 'c:\\\\ProgramData\\\\anaconda3\\\\envs\\\\ul\\\\lib\\\\site-packages\\\\ipywidgets\\\\widgets\\\\widget_box.py'>,\n",
       " 'ipywidgets.widgets.widget_int': <module 'ipywidgets.widgets.widget_int' from 'c:\\\\ProgramData\\\\anaconda3\\\\envs\\\\ul\\\\lib\\\\site-packages\\\\ipywidgets\\\\widgets\\\\widget_int.py'>,\n",
       " 'ipywidgets.widgets.widget_float': <module 'ipywidgets.widgets.widget_float' from 'c:\\\\ProgramData\\\\anaconda3\\\\envs\\\\ul\\\\lib\\\\site-packages\\\\ipywidgets\\\\widgets\\\\widget_float.py'>,\n",
       " 'ipywidgets.widgets.widget_color': <module 'ipywidgets.widgets.widget_color' from 'c:\\\\ProgramData\\\\anaconda3\\\\envs\\\\ul\\\\lib\\\\site-packages\\\\ipywidgets\\\\widgets\\\\widget_color.py'>,\n",
       " 'ipywidgets.widgets.widget_date': <module 'ipywidgets.widgets.widget_date' from 'c:\\\\ProgramData\\\\anaconda3\\\\envs\\\\ul\\\\lib\\\\site-packages\\\\ipywidgets\\\\widgets\\\\widget_date.py'>,\n",
       " 'ipywidgets.widgets.widget_datetime': <module 'ipywidgets.widgets.widget_datetime' from 'c:\\\\ProgramData\\\\anaconda3\\\\envs\\\\ul\\\\lib\\\\site-packages\\\\ipywidgets\\\\widgets\\\\widget_datetime.py'>,\n",
       " 'ipywidgets.widgets.widget_time': <module 'ipywidgets.widgets.widget_time' from 'c:\\\\ProgramData\\\\anaconda3\\\\envs\\\\ul\\\\lib\\\\site-packages\\\\ipywidgets\\\\widgets\\\\widget_time.py'>,\n",
       " 'ipywidgets.widgets.widget_output': <module 'ipywidgets.widgets.widget_output' from 'c:\\\\ProgramData\\\\anaconda3\\\\envs\\\\ul\\\\lib\\\\site-packages\\\\ipywidgets\\\\widgets\\\\widget_output.py'>,\n",
       " 'ipywidgets.widgets.widget_selection': <module 'ipywidgets.widgets.widget_selection' from 'c:\\\\ProgramData\\\\anaconda3\\\\envs\\\\ul\\\\lib\\\\site-packages\\\\ipywidgets\\\\widgets\\\\widget_selection.py'>,\n",
       " 'ipywidgets.widgets.widget_selectioncontainer': <module 'ipywidgets.widgets.widget_selectioncontainer' from 'c:\\\\ProgramData\\\\anaconda3\\\\envs\\\\ul\\\\lib\\\\site-packages\\\\ipywidgets\\\\widgets\\\\widget_selectioncontainer.py'>,\n",
       " 'ipywidgets.widgets.widget_string': <module 'ipywidgets.widgets.widget_string' from 'c:\\\\ProgramData\\\\anaconda3\\\\envs\\\\ul\\\\lib\\\\site-packages\\\\ipywidgets\\\\widgets\\\\widget_string.py'>,\n",
       " 'ipywidgets.widgets.widget_controller': <module 'ipywidgets.widgets.widget_controller' from 'c:\\\\ProgramData\\\\anaconda3\\\\envs\\\\ul\\\\lib\\\\site-packages\\\\ipywidgets\\\\widgets\\\\widget_controller.py'>,\n",
       " 'ipywidgets.widgets.interaction': <module 'ipywidgets.widgets.interaction' from 'c:\\\\ProgramData\\\\anaconda3\\\\envs\\\\ul\\\\lib\\\\site-packages\\\\ipywidgets\\\\widgets\\\\interaction.py'>,\n",
       " 'ipywidgets.widgets.widget_link': <module 'ipywidgets.widgets.widget_link' from 'c:\\\\ProgramData\\\\anaconda3\\\\envs\\\\ul\\\\lib\\\\site-packages\\\\ipywidgets\\\\widgets\\\\widget_link.py'>,\n",
       " 'ipywidgets.widgets.widget_media': <module 'ipywidgets.widgets.widget_media' from 'c:\\\\ProgramData\\\\anaconda3\\\\envs\\\\ul\\\\lib\\\\site-packages\\\\ipywidgets\\\\widgets\\\\widget_media.py'>,\n",
       " 'ipywidgets.widgets.widget_tagsinput': <module 'ipywidgets.widgets.widget_tagsinput' from 'c:\\\\ProgramData\\\\anaconda3\\\\envs\\\\ul\\\\lib\\\\site-packages\\\\ipywidgets\\\\widgets\\\\widget_tagsinput.py'>,\n",
       " 'ipywidgets.widgets.widget_templates': <module 'ipywidgets.widgets.widget_templates' from 'c:\\\\ProgramData\\\\anaconda3\\\\envs\\\\ul\\\\lib\\\\site-packages\\\\ipywidgets\\\\widgets\\\\widget_templates.py'>,\n",
       " 'ipywidgets.widgets.widget_upload': <module 'ipywidgets.widgets.widget_upload' from 'c:\\\\ProgramData\\\\anaconda3\\\\envs\\\\ul\\\\lib\\\\site-packages\\\\ipywidgets\\\\widgets\\\\widget_upload.py'>,\n",
       " 'ipywidgets.widgets': <module 'ipywidgets.widgets' from 'c:\\\\ProgramData\\\\anaconda3\\\\envs\\\\ul\\\\lib\\\\site-packages\\\\ipywidgets\\\\widgets\\\\__init__.py'>,\n",
       " 'ipywidgets': <module 'ipywidgets' from 'c:\\\\ProgramData\\\\anaconda3\\\\envs\\\\ul\\\\lib\\\\site-packages\\\\ipywidgets\\\\__init__.py'>,\n",
       " 'vscode': <module 'vscode'>}"
      ]
     },
     "execution_count": 14,
     "metadata": {},
     "output_type": "execute_result"
    }
   ],
   "source": [
    "sys.modules"
   ]
  },
  {
   "cell_type": "code",
   "execution_count": 15,
   "metadata": {},
   "outputs": [
    {
     "data": {
      "text/plain": [
       "True"
      ]
     },
     "execution_count": 15,
     "metadata": {},
     "output_type": "execute_result"
    }
   ],
   "source": [
    "sys.maxsize == 2**63 - 1"
   ]
  },
  {
   "cell_type": "code",
   "execution_count": 16,
   "metadata": {},
   "outputs": [
    {
     "name": "stdout",
     "output_type": "stream",
     "text": [
      "Exception type: <class 'ZeroDivisionError'>\n",
      "Exception value: division by zero\n",
      "trackback: <traceback object at 0x0000000005AECC40>\n"
     ]
    }
   ],
   "source": [
    "try:\n",
    "    1 / 0\n",
    "except ZeroDivisionError:\n",
    "    exc_type, exc_value, exc_traceback = sys.exc_info()\n",
    "    print(f\"Exception type: {exc_type}\")\n",
    "    print(f\"Exception value: {exc_value}\")\n",
    "    print(f\"trackback: {exc_traceback}\")"
   ]
  },
  {
   "cell_type": "code",
   "execution_count": 17,
   "metadata": {},
   "outputs": [
    {
     "data": {
      "text/plain": [
       "'utf-8'"
      ]
     },
     "execution_count": 17,
     "metadata": {},
     "output_type": "execute_result"
    }
   ],
   "source": [
    "sys.getdefaultencoding()"
   ]
  },
  {
   "cell_type": "code",
   "execution_count": 18,
   "metadata": {},
   "outputs": [
    {
     "data": {
      "text/plain": [
       "'utf-8'"
      ]
     },
     "execution_count": 18,
     "metadata": {},
     "output_type": "execute_result"
    }
   ],
   "source": [
    "sys.getfilesystemencoding()"
   ]
  },
  {
   "cell_type": "code",
   "execution_count": 19,
   "metadata": {},
   "outputs": [
    {
     "data": {
      "text/plain": [
       "4300"
      ]
     },
     "execution_count": 19,
     "metadata": {},
     "output_type": "execute_result"
    }
   ],
   "source": [
    "sys.get_int_max_str_digits()"
   ]
  },
  {
   "cell_type": "code",
   "execution_count": 20,
   "metadata": {},
   "outputs": [
    {
     "data": {
      "text/plain": [
       "'surrogatepass'"
      ]
     },
     "execution_count": 20,
     "metadata": {},
     "output_type": "execute_result"
    }
   ],
   "source": [
    "sys.getfilesystemencodeerrors()"
   ]
  },
  {
   "cell_type": "code",
   "execution_count": 21,
   "metadata": {},
   "outputs": [
    {
     "name": "stdout",
     "output_type": "stream",
     "text": [
      "2\n",
      "3\n",
      "4\n"
     ]
    }
   ],
   "source": [
    "a = [3374.343573]\n",
    "print(sys.getrefcount(a))\n",
    "b = [a]\n",
    "print(sys.getrefcount(a))\n",
    "c = [a]\n",
    "print(sys.getrefcount(a))"
   ]
  },
  {
   "cell_type": "code",
   "execution_count": 22,
   "metadata": {},
   "outputs": [
    {
     "data": {
      "text/plain": [
       "namespace(name='cpython',\n",
       "          cache_tag='cpython-310',\n",
       "          version=sys.version_info(major=3, minor=10, micro=14, releaselevel='final', serial=0),\n",
       "          hexversion=50990832)"
      ]
     },
     "execution_count": 22,
     "metadata": {},
     "output_type": "execute_result"
    }
   ],
   "source": [
    "sys.implementation"
   ]
  },
  {
   "cell_type": "code",
   "execution_count": 23,
   "metadata": {},
   "outputs": [
    {
     "data": {
      "text/plain": [
       "'In : '"
      ]
     },
     "execution_count": 23,
     "metadata": {},
     "output_type": "execute_result"
    }
   ],
   "source": [
    "sys.ps1"
   ]
  },
  {
   "cell_type": "code",
   "execution_count": 24,
   "metadata": {},
   "outputs": [
    {
     "data": {
      "text/plain": [
       "'...: '"
      ]
     },
     "execution_count": 24,
     "metadata": {},
     "output_type": "execute_result"
    }
   ],
   "source": [
    "sys.ps2"
   ]
  },
  {
   "cell_type": "code",
   "execution_count": 25,
   "metadata": {},
   "outputs": [
    {
     "data": {
      "text/plain": [
       "'c:\\\\ProgramData\\\\anaconda3\\\\envs\\\\ul\\\\python.exe'"
      ]
     },
     "execution_count": 25,
     "metadata": {},
     "output_type": "execute_result"
    }
   ],
   "source": [
    "sys.executable"
   ]
  },
  {
   "cell_type": "code",
   "execution_count": 26,
   "metadata": {},
   "outputs": [
    {
     "data": {
      "text/plain": [
       "sys.flags(debug=0, inspect=0, interactive=0, optimize=0, dont_write_bytecode=0, no_user_site=0, no_site=0, ignore_environment=0, verbose=0, bytes_warning=0, quiet=0, hash_randomization=1, isolated=0, dev_mode=False, utf8_mode=1, warn_default_encoding=0, int_max_str_digits=-1)"
      ]
     },
     "execution_count": 26,
     "metadata": {},
     "output_type": "execute_result"
    }
   ],
   "source": [
    "sys.flags"
   ]
  },
  {
   "cell_type": "code",
   "execution_count": 27,
   "metadata": {},
   "outputs": [
    {
     "data": {
      "text/plain": [
       "<frame at 0x0000000004FD3E70, file 'C:\\\\Users\\\\25335\\\\AppData\\\\Local\\\\Temp\\\\ipykernel_147712\\\\2963268759.py', line 1, code <module>>"
      ]
     },
     "execution_count": 27,
     "metadata": {},
     "output_type": "execute_result"
    }
   ],
   "source": [
    "sys._getframe()"
   ]
  },
  {
   "cell_type": "code",
   "execution_count": 28,
   "metadata": {},
   "outputs": [
    {
     "data": {
      "text/plain": [
       "sys.hash_info(width=64, modulus=2305843009213693951, inf=314159, nan=0, imag=1000003, algorithm='siphash24', hash_bits=64, seed_bits=128, cutoff=0)"
      ]
     },
     "execution_count": 28,
     "metadata": {},
     "output_type": "execute_result"
    }
   ],
   "source": [
    "sys.hash_info"
   ]
  },
  {
   "cell_type": "code",
   "execution_count": 29,
   "metadata": {},
   "outputs": [
    {
     "data": {
      "text/plain": [
       "'lib'"
      ]
     },
     "execution_count": 29,
     "metadata": {},
     "output_type": "execute_result"
    }
   ],
   "source": [
    "sys.platlibdir"
   ]
  },
  {
   "cell_type": "code",
   "execution_count": 30,
   "metadata": {},
   "outputs": [
    {
     "data": {
      "text/plain": [
       "'c:\\\\ProgramData\\\\anaconda3\\\\envs\\\\ul'"
      ]
     },
     "execution_count": 30,
     "metadata": {},
     "output_type": "execute_result"
    }
   ],
   "source": [
    "sys.prefix"
   ]
  },
  {
   "cell_type": "code",
   "execution_count": 31,
   "metadata": {},
   "outputs": [
    {
     "data": {
      "text/plain": [
       "sys.thread_info(name='nt', lock=None, version=None)"
      ]
     },
     "execution_count": 31,
     "metadata": {},
     "output_type": "execute_result"
    }
   ],
   "source": [
    "sys.thread_info"
   ]
  },
  {
   "cell_type": "code",
   "execution_count": 32,
   "metadata": {},
   "outputs": [
    {
     "data": {
      "text/plain": [
       "[zipimport.zipimporter,\n",
       " <function _frozen_importlib_external.FileFinder.path_hook.<locals>.path_hook_for_FileFinder(path)>,\n",
       " <bound method _EditableNamespaceFinder._path_hook of <class '__editable___ultralytics_8_2_17_finder._EditableNamespaceFinder'>>]"
      ]
     },
     "execution_count": 32,
     "metadata": {},
     "output_type": "execute_result"
    }
   ],
   "source": [
    "sys.path_hooks"
   ]
  },
  {
   "cell_type": "code",
   "execution_count": 33,
   "metadata": {},
   "outputs": [
    {
     "ename": "SystemExit",
     "evalue": "0",
     "output_type": "error",
     "traceback": [
      "An exception has occurred, use %tb to see the full traceback.\n",
      "\u001b[1;31mSystemExit\u001b[0m\u001b[1;31m:\u001b[0m 0\n"
     ]
    },
    {
     "name": "stderr",
     "output_type": "stream",
     "text": [
      "c:\\ProgramData\\anaconda3\\envs\\ul\\lib\\site-packages\\IPython\\core\\interactiveshell.py:3585: UserWarning: To exit: use 'exit', 'quit', or Ctrl-D.\n",
      "  warn(\"To exit: use 'exit', 'quit', or Ctrl-D.\", stacklevel=1)\n"
     ]
    }
   ],
   "source": [
    "sys.exit(0)"
   ]
  },
  {
   "cell_type": "code",
   "execution_count": null,
   "metadata": {},
   "outputs": [
    {
     "data": {
      "text/plain": [
       "False"
      ]
     },
     "metadata": {},
     "output_type": "display_data"
    }
   ],
   "source": []
  }
 ],
 "metadata": {
  "kernelspec": {
   "display_name": "ml",
   "language": "python",
   "name": "python3"
  },
  "language_info": {
   "codemirror_mode": {
    "name": "ipython",
    "version": 3
   },
   "file_extension": ".py",
   "mimetype": "text/x-python",
   "name": "python",
   "nbconvert_exporter": "python",
   "pygments_lexer": "ipython3",
   "version": "3.10.14"
  }
 },
 "nbformat": 4,
 "nbformat_minor": 2
}
