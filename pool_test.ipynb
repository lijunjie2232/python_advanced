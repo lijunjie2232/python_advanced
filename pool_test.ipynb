{
 "cells": [
  {
   "cell_type": "code",
   "execution_count": 1,
   "metadata": {},
   "outputs": [],
   "source": [
    "from concurrent.futures import ProcessPoolExecutor, ThreadPoolExecutor, as_completed, wait, ALL_COMPLETED\n",
    "import time, random, os\n"
   ]
  },
  {
   "cell_type": "code",
   "execution_count": 2,
   "metadata": {},
   "outputs": [],
   "source": [
    "def do_something(name, n):\n",
    "    print('%s is doing something %s' % (name, os.getpid()))\n",
    "    time.sleep(1)\n",
    "    return n ** 2\n"
   ]
  },
  {
   "cell_type": "code",
   "execution_count": 3,
   "metadata": {},
   "outputs": [
    {
     "name": "stdout",
     "output_type": "stream",
     "text": [
      "0 is doing something 126208\n",
      "1 is doing something 126208\n",
      "主 126208\n"
     ]
    },
    {
     "name": "stdout",
     "output_type": "stream",
     "text": [
      "2 is doing something 1262083 is doing something 126208\n",
      "0\n",
      "1\n",
      "\n",
      "4 is doing something 126208\n",
      "4\n",
      "9\n",
      "16\n"
     ]
    }
   ],
   "source": [
    "p = ThreadPoolExecutor(2)\n",
    "objs = []\n",
    "start = time.time()\n",
    "for i in range(5):\n",
    "    obj = p.submit(do_something, '%s' % i, i)  # 异步调用\n",
    "    objs.append(obj)\n",
    "\n",
    "print('主', os.getpid())\n",
    "for obj in as_completed(objs):\n",
    "    print(obj.result())"
   ]
  },
  {
   "cell_type": "code",
   "execution_count": 4,
   "metadata": {},
   "outputs": [
    {
     "name": "stdout",
     "output_type": "stream",
     "text": [
      "0 is doing something 126208\n",
      "1 is doing something 126208\n",
      "主 126208\n",
      "2 is doing something 1262083 is doing something 126208\n",
      "\n",
      "4 is doing something 126208\n",
      "True\n",
      "0\n",
      "True\n",
      "1\n",
      "True\n",
      "4\n",
      "True\n",
      "9\n",
      "True\n",
      "16\n",
      "3.0325639247894287\n"
     ]
    }
   ],
   "source": [
    "p = ThreadPoolExecutor(2)\n",
    "objs = []\n",
    "start = time.time()\n",
    "for i in range(5):\n",
    "    obj = p.submit(do_something, '%s' % i, i)  # 异步调用\n",
    "    objs.append(obj)\n",
    "\n",
    "print('主', os.getpid())\n",
    "wait(objs, return_when=ALL_COMPLETED)\n",
    "for obj in objs:\n",
    "    print(obj.done())\n",
    "    print(obj.result(timeout=None))\n",
    "\n",
    "stop = time.time()\n",
    "print(stop - start)\n",
    "p.shutdown(wait=True)"
   ]
  },
  {
   "cell_type": "code",
   "execution_count": null,
   "metadata": {},
   "outputs": [],
   "source": []
  }
 ],
 "metadata": {
  "kernelspec": {
   "display_name": "ul",
   "language": "python",
   "name": "python3"
  },
  "language_info": {
   "codemirror_mode": {
    "name": "ipython",
    "version": 3
   },
   "file_extension": ".py",
   "mimetype": "text/x-python",
   "name": "python",
   "nbconvert_exporter": "python",
   "pygments_lexer": "ipython3",
   "version": "3.10.14"
  }
 },
 "nbformat": 4,
 "nbformat_minor": 2
}
