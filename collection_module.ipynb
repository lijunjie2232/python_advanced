{
 "cells": [
  {
   "cell_type": "code",
   "execution_count": 1,
   "metadata": {},
   "outputs": [],
   "source": [
    "import collections\n",
    "import re"
   ]
  },
  {
   "cell_type": "code",
   "execution_count": 2,
   "metadata": {},
   "outputs": [
    {
     "data": {
      "text/plain": [
       "['deque',\n",
       " 'defaultdict',\n",
       " 'namedtuple',\n",
       " 'UserDict',\n",
       " 'UserList',\n",
       " 'UserString',\n",
       " 'Counter',\n",
       " 'OrderedDict',\n",
       " 'ChainMap']"
      ]
     },
     "execution_count": 2,
     "metadata": {},
     "output_type": "execute_result"
    }
   ],
   "source": [
    "collections.__all__"
   ]
  },
  {
   "cell_type": "code",
   "execution_count": 3,
   "metadata": {},
   "outputs": [],
   "source": [
    "log_str = \"\"\"\n",
    "cp include/jemalloc/internal/private_namespace.gen.h include/jemalloc/internal/private_namespace.gen.h\n",
    "src/jemalloc.c:2513:7: warning: '__libc_calloc' specifies less restrictive attributes than its target 'calloc': 'alloc_size', 'leaf', 'malloc', 'nothrow' [-Wmissing-attributes]\n",
    " 2513 | void *__libc_calloc(size_t n, size_t size) PREALIAS(je_calloc);\n",
    "      |       ^~~~~~~~~~~~~\n",
    "In file included from include/jemalloc/internal/jemalloc_internal_decls.h:60,\n",
    "                 from include/jemalloc/internal/jemalloc_preamble.h:5,\n",
    "                 from src/jemalloc.c:2:\n",
    "/public/home/lijunjie/conda_dcu24041/envs/paddle/x86_64-conda-linux-gnu/sysroot/usr/include/stdlib.h:467:14: note: '__libc_calloc' target declared here\n",
    "  467 | extern void *calloc (size_t __nmemb, size_t __size)\n",
    "      |              ^~~~~~\n",
    "src/jemalloc.c:2528:7: warning: '__libc_valloc' specifies less restrictive attributes than its target 'valloc': 'leaf', 'malloc', 'nothrow' [-Wmissing-attributes]\n",
    " 2528 | void *__libc_valloc(size_t size) PREALIAS(je_valloc);\n",
    "      |       ^~~~~~~~~~~~~\n",
    "/public/home/lijunjie/conda_dcu24041/envs/paddle/x86_64-conda-linux-gnu/sysroot/usr/include/stdlib.h:497:14: note: '__libc_valloc' target declared here\n",
    "  497 | extern void *valloc (size_t __size) __THROW __attribute_malloc__ __wur;\n",
    "      |              ^~~~~~\n",
    "src/jemalloc.c:2525:7: warning: '__libc_realloc' specifies less restrictive attributes than its target 'realloc': 'alloc_size', 'leaf', 'nothrow' [-Wmissing-attributes]\n",
    " 2525 | void *__libc_realloc(void* ptr, size_t size) PREALIAS(je_realloc);\n",
    "      |       ^~~~~~~~~~~~~~\n",
    "/public/home/lijunjie/conda_dcu24041/envs/paddle/x86_64-conda-linux-gnu/sysroot/usr/include/stdlib.h:479:14: note: '__libc_realloc' target declared here\n",
    "  479 | extern void *realloc (void *__ptr, size_t __size)\n",
    "      |              ^~~~~~~\n",
    "src/jemalloc.c:2522:7: warning: '__libc_memalign' specifies less restrictive attributes than its target 'memalign': 'malloc', 'nothrow' [-Wmissing-attributes]\n",
    " 2522 | void *__libc_memalign(size_t align, size_t s) PREALIAS(je_memalign);\n",
    "      |       ^~~~~~~~~~~~~~~\n",
    "In file included from include/jemalloc/internal/jemalloc_preamble.h:21:\n",
    "include/jemalloc/internal/../jemalloc.h:79:23: note: '__libc_memalign' target declared here\n",
    "   79 | #  define je_memalign memalign\n",
    "      |                       ^~~~~~~~\n",
    "src/jemalloc.c:2419:1: note: in expansion of macro 'je_memalign'\n",
    " 2419 | je_memalign(size_t alignment, size_t size) {\n",
    "      | ^~~~~~~~~~~\n",
    "src/jemalloc.c:2519:7: warning: '__libc_malloc' specifies less restrictive attributes than its target 'malloc': 'alloc_size', 'leaf', 'malloc', 'nothrow' [-Wmissing-attributes]\n",
    " 2519 | void *__libc_malloc(size_t size) PREALIAS(je_malloc);\n",
    "      |       ^~~~~~~~~~~~~\n",
    "/public/home/lijunjie/conda_dcu24041/envs/paddle/x86_64-conda-linux-gnu/sysroot/usr/include/stdlib.h:465:14: note: '__libc_malloc' target declared here\n",
    "  465 | extern void *malloc (size_t __size) __THROW __attribute_malloc__ __wur;\n",
    "      |              ^~~~~~\n",
    "src/jemalloc.c:2516:6: warning: '__libc_free' specifies less restrictive attributes than its target 'free': 'leaf', 'nothrow' [-Wmissing-attributes]\n",
    " 2516 | void __libc_free(void* ptr) PREALIAS(je_free);\n",
    "      |      ^~~~~~~~~~~\n",
    "/public/home/lijunjie/conda_dcu24041/envs/paddle/x86_64-conda-linux-gnu/sysroot/usr/include/stdlib.h:482:13: note: '__libc_free' target declared here\n",
    "  482 | extern void free (void *__ptr) __THROW;\n",
    "      |             ^~~~\n",
    "\"\"\""
   ]
  },
  {
   "cell_type": "code",
   "execution_count": 4,
   "metadata": {},
   "outputs": [],
   "source": [
    "couter = collections.Counter\n",
    "\n",
    "count = couter()\n",
    "count.update(re.findall(r'\\w+', log_str))"
   ]
  },
  {
   "cell_type": "code",
   "execution_count": 5,
   "metadata": {},
   "outputs": [
    {
     "data": {
      "text/plain": [
       "[('jemalloc', 15),\n",
       " ('void', 15),\n",
       " ('size_t', 14),\n",
       " ('attributes', 12),\n",
       " ('target', 12),\n",
       " ('include', 11),\n",
       " ('h', 11),\n",
       " ('src', 8),\n",
       " ('c', 8),\n",
       " ('note', 7)]"
      ]
     },
     "execution_count": 5,
     "metadata": {},
     "output_type": "execute_result"
    }
   ],
   "source": [
    "count.most_common(10)"
   ]
  },
  {
   "cell_type": "code",
   "execution_count": 6,
   "metadata": {},
   "outputs": [
    {
     "data": {
      "text/plain": [
       "['cp',\n",
       " 'include',\n",
       " 'include',\n",
       " 'include',\n",
       " 'include',\n",
       " 'include',\n",
       " 'include',\n",
       " 'include',\n",
       " 'include',\n",
       " 'include',\n",
       " 'include',\n",
       " 'include',\n",
       " 'jemalloc',\n",
       " 'jemalloc',\n",
       " 'jemalloc',\n",
       " 'jemalloc',\n",
       " 'jemalloc',\n",
       " 'jemalloc',\n",
       " 'jemalloc',\n",
       " 'jemalloc']"
      ]
     },
     "execution_count": 6,
     "metadata": {},
     "output_type": "execute_result"
    }
   ],
   "source": [
    "list(count.elements())[:20]"
   ]
  },
  {
   "cell_type": "code",
   "execution_count": 7,
   "metadata": {},
   "outputs": [
    {
     "data": {
      "text/plain": [
       "(Counter({'a': 4, 'b': 2, 'd': 12}), Counter({'a': 1, 'c': 3, 'd': 4}))"
      ]
     },
     "execution_count": 7,
     "metadata": {},
     "output_type": "execute_result"
    }
   ],
   "source": [
    "c = couter(a=4, b=2, d=12)\n",
    "d = couter(a=1, c=3, d=4)\n",
    "c,d"
   ]
  },
  {
   "cell_type": "code",
   "execution_count": 8,
   "metadata": {},
   "outputs": [
    {
     "data": {
      "text/plain": [
       "(Counter({'a': 3, 'b': 2, 'd': 8}),\n",
       " Counter({'a': 5, 'b': 2, 'd': 16, 'c': 3}),\n",
       " Counter({'a': 4, 'b': 2, 'd': 12, 'c': 3}),\n",
       " Counter({'a': 1, 'd': 4}))"
      ]
     },
     "execution_count": 8,
     "metadata": {},
     "output_type": "execute_result"
    }
   ],
   "source": [
    "c - d, c + d, c | d, c & d"
   ]
  },
  {
   "cell_type": "code",
   "execution_count": 9,
   "metadata": {},
   "outputs": [
    {
     "data": {
      "text/plain": [
       "Counter({'a': 3, 'b': 2, 'd': 8, 'c': -3})"
      ]
     },
     "execution_count": 9,
     "metadata": {},
     "output_type": "execute_result"
    }
   ],
   "source": [
    "c.subtract(d)\n",
    "c"
   ]
  },
  {
   "cell_type": "code",
   "execution_count": 10,
   "metadata": {},
   "outputs": [],
   "source": [
    "from collections import OrderedDict\n"
   ]
  },
  {
   "cell_type": "code",
   "execution_count": 11,
   "metadata": {},
   "outputs": [
    {
     "data": {
      "text/plain": [
       "OrderedDict([('a', 97), ('c', 99), ('b', 98)])"
      ]
     },
     "execution_count": 11,
     "metadata": {},
     "output_type": "execute_result"
    }
   ],
   "source": [
    "od = OrderedDict()\n",
    "od['a'] = 97\n",
    "od['c'] = 99\n",
    "od['b'] = 98\n",
    "od"
   ]
  },
  {
   "cell_type": "code",
   "execution_count": 12,
   "metadata": {},
   "outputs": [
    {
     "data": {
      "text/plain": [
       "{'a': 97, 'c': 99, 'b': 98}"
      ]
     },
     "execution_count": 12,
     "metadata": {},
     "output_type": "execute_result"
    }
   ],
   "source": [
    "d = dict()\n",
    "d['a'] = 97\n",
    "d['c'] = 99\n",
    "d['b'] = 98\n",
    "d"
   ]
  },
  {
   "cell_type": "code",
   "execution_count": 13,
   "metadata": {},
   "outputs": [],
   "source": [
    "namedtuple = collections.namedtuple(\"Person\", [\"name\", \"age\", \"skills\"])"
   ]
  },
  {
   "cell_type": "code",
   "execution_count": 14,
   "metadata": {},
   "outputs": [
    {
     "data": {
      "text/plain": [
       "('sato', 'sato')"
      ]
     },
     "execution_count": 14,
     "metadata": {},
     "output_type": "execute_result"
    }
   ],
   "source": [
    "p = namedtuple(\"sato\", \"0\", [\"python\"])\n",
    "p.name, p[0]"
   ]
  },
  {
   "cell_type": "code",
   "execution_count": 15,
   "metadata": {},
   "outputs": [
    {
     "data": {
      "text/plain": [
       "('name', 'age', 'skills')"
      ]
     },
     "execution_count": 15,
     "metadata": {},
     "output_type": "execute_result"
    }
   ],
   "source": [
    "p._fields"
   ]
  },
  {
   "cell_type": "code",
   "execution_count": 16,
   "metadata": {},
   "outputs": [],
   "source": [
    "s = 'ohaiyougozaimasu'\n",
    "d = collections.defaultdict(int)\n",
    "for k in s:\n",
    "    d[k] += 1\n",
    "# sorted(d.items())\n",
    "# ('i', 4), ('m', 1), ('p', 2), ('s', 4)]"
   ]
  },
  {
   "cell_type": "code",
   "execution_count": 17,
   "metadata": {},
   "outputs": [
    {
     "data": {
      "text/plain": [
       "defaultdict(int,\n",
       "            {'o': 3,\n",
       "             'h': 1,\n",
       "             'a': 3,\n",
       "             'i': 2,\n",
       "             'y': 1,\n",
       "             'u': 2,\n",
       "             'g': 1,\n",
       "             'z': 1,\n",
       "             'm': 1,\n",
       "             's': 1})"
      ]
     },
     "execution_count": 17,
     "metadata": {},
     "output_type": "execute_result"
    }
   ],
   "source": [
    "d"
   ]
  },
  {
   "cell_type": "code",
   "execution_count": 18,
   "metadata": {},
   "outputs": [
    {
     "data": {
      "text/plain": [
       "[('o', 3),\n",
       " ('a', 3),\n",
       " ('u', 2),\n",
       " ('i', 2),\n",
       " ('z', 1),\n",
       " ('y', 1),\n",
       " ('s', 1),\n",
       " ('m', 1),\n",
       " ('h', 1),\n",
       " ('g', 1)]"
      ]
     },
     "execution_count": 18,
     "metadata": {},
     "output_type": "execute_result"
    }
   ],
   "source": [
    "sorted(d.items(), key = lambda x: [x[1], x[0]], reverse=True)"
   ]
  },
  {
   "cell_type": "code",
   "execution_count": 19,
   "metadata": {},
   "outputs": [],
   "source": [
    "dict1 = {\"label1\": \"11\", \"label2\": \"22\"}\n",
    "dict2 = {\"label2\": \"23\", \"label6\": \"66\"}\n",
    "dict3 = {\"label4\": \"44\", \"label5\": \"55\"}\n",
    "dicts = collections.ChainMap(dict1, dict2, dict3)"
   ]
  },
  {
   "cell_type": "code",
   "execution_count": 20,
   "metadata": {},
   "outputs": [
    {
     "data": {
      "text/plain": [
       "ChainMap({'label1': '11', 'label2': '22'}, {'label2': '23', 'label6': '66'}, {'label4': '44', 'label5': '55'})"
      ]
     },
     "execution_count": 20,
     "metadata": {},
     "output_type": "execute_result"
    }
   ],
   "source": [
    "dicts"
   ]
  },
  {
   "cell_type": "code",
   "execution_count": 21,
   "metadata": {},
   "outputs": [
    {
     "data": {
      "text/plain": [
       "('22', '23')"
      ]
     },
     "execution_count": 21,
     "metadata": {},
     "output_type": "execute_result"
    }
   ],
   "source": [
    "collections.ChainMap(dict1, dict2, dict3)['label2'], collections.ChainMap(dict2, dict1, dict3)['label2']"
   ]
  },
  {
   "cell_type": "code",
   "execution_count": 22,
   "metadata": {},
   "outputs": [
    {
     "data": {
      "text/plain": [
       "ChainMap(ChainMap({'label2': '23', 'label6': '66'}, {'label1': '11', 'label2': '22'}, {'label4': '44', 'label5': '55'}), {'label2': '23', 'label6': '66'}, {'label1': '11', 'label2': '22'})"
      ]
     },
     "execution_count": 22,
     "metadata": {},
     "output_type": "execute_result"
    }
   ],
   "source": [
    "collections.ChainMap(collections.ChainMap(dict2, dict1, dict3), dict2, dict1)"
   ]
  },
  {
   "cell_type": "code",
   "execution_count": 23,
   "metadata": {},
   "outputs": [
    {
     "data": {
      "text/plain": [
       "ChainMap(ChainMap({'label2': '23', 'label6': '66'}, {'label1': '11', 'label2': '22'}, {'label4': '44', 'label5': '55'}), {'label2': '23', 'label6': '66'}, {'label1': '11', 'label2': '22'})"
      ]
     },
     "execution_count": 23,
     "metadata": {},
     "output_type": "execute_result"
    }
   ],
   "source": [
    "collections.ChainMap(dict2, dict1).new_child(collections.ChainMap(dict2, dict1, dict3))"
   ]
  },
  {
   "cell_type": "code",
   "execution_count": null,
   "metadata": {},
   "outputs": [],
   "source": []
  }
 ],
 "metadata": {
  "kernelspec": {
   "display_name": "ml",
   "language": "python",
   "name": "python3"
  },
  "language_info": {
   "codemirror_mode": {
    "name": "ipython",
    "version": 3
   },
   "file_extension": ".py",
   "mimetype": "text/x-python",
   "name": "python",
   "nbconvert_exporter": "python",
   "pygments_lexer": "ipython3",
   "version": "3.8.18"
  }
 },
 "nbformat": 4,
 "nbformat_minor": 2
}
