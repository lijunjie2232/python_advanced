{
 "cells": [
  {
   "cell_type": "code",
   "execution_count": 1,
   "metadata": {},
   "outputs": [],
   "source": [
    "import threading\n",
    "from time import sleep"
   ]
  },
  {
   "cell_type": "code",
   "execution_count": 2,
   "metadata": {},
   "outputs": [],
   "source": [
    "def consumer(event_c, event_p, terminate_signal):\n",
    "    while(not getattr(terminate_signal, '_flag')):\n",
    "        getattr(event_c, 'wait')()\n",
    "        sleep(1)\n",
    "        print(threading.get_native_id(), ': comsumed')\n",
    "        print(threading.get_native_id(), ': wait produce')\n",
    "        sleep(1)\n",
    "        getattr(event_p, 'set')()"
   ]
  },
  {
   "cell_type": "code",
   "execution_count": 3,
   "metadata": {},
   "outputs": [],
   "source": [
    "def producer(event_c, event_p, terminate_signal):\n",
    "    while(not getattr(terminate_signal, '_flag')):\n",
    "        sleep(0.5)\n",
    "        print(threading.get_native_id(), ': produced')\n",
    "        print(threading.get_native_id(), ': wait consume')\n",
    "        sleep(0.5)\n",
    "        getattr(event_c, 'set')()\n",
    "        getattr(event_p, 'wait')()"
   ]
  },
  {
   "cell_type": "code",
   "execution_count": 4,
   "metadata": {},
   "outputs": [],
   "source": [
    "event_c = threading.Event()\n",
    "event_p = threading.Event()\n",
    "terminate_signal = threading.Event()"
   ]
  },
  {
   "cell_type": "code",
   "execution_count": 5,
   "metadata": {},
   "outputs": [
    {
     "name": "stdout",
     "output_type": "stream",
     "text": [
      "34332 : produced\n",
      "34332 : wait consume\n",
      "30656 : comsumed\n",
      "30656 : wait produce\n",
      "34332 : produced\n",
      "34332 : wait consume\n",
      "30656 : comsumed\n",
      "30656 : wait produce\n",
      "34332 : produced\n",
      "34332 : wait consume\n",
      "34332 : produced\n",
      "34332 : wait consume\n",
      "30656 : comsumed\n",
      "30656 : wait produce\n",
      "34332 : produced\n",
      "34332 : wait consume\n",
      "34332 : produced\n",
      "34332 : wait consume\n",
      "30656 : comsumed\n",
      "30656 : wait produce\n",
      "34332 : produced\n",
      "34332 : wait consume\n",
      "34332 : produced\n",
      "34332 : wait consume\n",
      "30656 : comsumed\n",
      "30656 : wait produce\n",
      "34332 : produced\n",
      "34332 : wait consume\n"
     ]
    }
   ],
   "source": [
    "consumer_1 = threading.Thread(target=consumer, args=(event_c, event_p, terminate_signal))\n",
    "producer_1 = threading.Thread(target=producer, args=(event_c, event_p, terminate_signal))\n",
    "consumer_1.start()\n",
    "producer_1.start()\n",
    "sleep(11)\n",
    "terminate_signal.set()\n",
    "consumer_1.join()\n",
    "producer_1.join()"
   ]
  },
  {
   "cell_type": "code",
   "execution_count": null,
   "metadata": {},
   "outputs": [],
   "source": []
  }
 ],
 "metadata": {
  "kernelspec": {
   "display_name": "Python 3",
   "language": "python",
   "name": "python3"
  },
  "language_info": {
   "codemirror_mode": {
    "name": "ipython",
    "version": 3
   },
   "file_extension": ".py",
   "mimetype": "text/x-python",
   "name": "python",
   "nbconvert_exporter": "python",
   "pygments_lexer": "ipython3",
   "version": "3.10.14"
  },
  "orig_nbformat": 4
 },
 "nbformat": 4,
 "nbformat_minor": 2
}
