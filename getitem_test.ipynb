{
 "cells": [
  {
   "cell_type": "code",
   "execution_count": 1,
   "metadata": {},
   "outputs": [],
   "source": [
    "class A(object):\n",
    "  def __init__(self, x):\n",
    "    self.x = x\n",
    "\n",
    "  def hello(self):\n",
    "    return 'hello func'\n",
    "\n",
    "  def __getattribute__(self, item):\n",
    "    print('in __getattribute__')\n",
    "    return super(A, self).__getattribute__(item)\n"
   ]
  },
  {
   "cell_type": "code",
   "execution_count": 2,
   "metadata": {},
   "outputs": [],
   "source": [
    "a = A(10)"
   ]
  },
  {
   "cell_type": "code",
   "execution_count": 3,
   "metadata": {},
   "outputs": [
    {
     "name": "stdout",
     "output_type": "stream",
     "text": [
      "in __getattribute__\n",
      "10\n"
     ]
    }
   ],
   "source": [
    "print(a.x)"
   ]
  },
  {
   "cell_type": "code",
   "execution_count": 4,
   "metadata": {},
   "outputs": [
    {
     "name": "stdout",
     "output_type": "stream",
     "text": [
      "in __getattribute__\n"
     ]
    },
    {
     "ename": "AttributeError",
     "evalue": "'A' object has no attribute 'y'",
     "output_type": "error",
     "traceback": [
      "\u001b[1;31m---------------------------------------------------------------------------\u001b[0m",
      "\u001b[1;31mAttributeError\u001b[0m                            Traceback (most recent call last)",
      "Cell \u001b[1;32mIn[4], line 1\u001b[0m\n\u001b[1;32m----> 1\u001b[0m \u001b[38;5;28mprint\u001b[39m(\u001b[43ma\u001b[49m\u001b[38;5;241;43m.\u001b[39;49m\u001b[43my\u001b[49m)\n",
      "Cell \u001b[1;32mIn[1], line 10\u001b[0m, in \u001b[0;36mA.__getattribute__\u001b[1;34m(self, item)\u001b[0m\n\u001b[0;32m      8\u001b[0m \u001b[38;5;28;01mdef\u001b[39;00m \u001b[38;5;21m__getattribute__\u001b[39m(\u001b[38;5;28mself\u001b[39m, item):\n\u001b[0;32m      9\u001b[0m   \u001b[38;5;28mprint\u001b[39m(\u001b[38;5;124m'\u001b[39m\u001b[38;5;124min __getattribute__\u001b[39m\u001b[38;5;124m'\u001b[39m)\n\u001b[1;32m---> 10\u001b[0m   \u001b[38;5;28;01mreturn\u001b[39;00m \u001b[38;5;28;43msuper\u001b[39;49m\u001b[43m(\u001b[49m\u001b[43mA\u001b[49m\u001b[43m,\u001b[49m\u001b[43m \u001b[49m\u001b[38;5;28;43mself\u001b[39;49m\u001b[43m)\u001b[49m\u001b[38;5;241;43m.\u001b[39;49m\u001b[38;5;21;43m__getattribute__\u001b[39;49m\u001b[43m(\u001b[49m\u001b[43mitem\u001b[49m\u001b[43m)\u001b[49m\n",
      "\u001b[1;31mAttributeError\u001b[0m: 'A' object has no attribute 'y'"
     ]
    }
   ],
   "source": [
    "print(a.y)"
   ]
  },
  {
   "cell_type": "code",
   "execution_count": 5,
   "metadata": {},
   "outputs": [],
   "source": [
    "class B(object):\n",
    "  def __init__(self, x):\n",
    "    self.x = x\n",
    "\n",
    "  def hello(self):\n",
    "    return 'hello func'\n",
    "\n",
    "  def __getattr__(self, item):\n",
    "    raise AttributeError(item)\n",
    "\n",
    "  def __getattribute__(self, item):\n",
    "    print('in __getattribute__')\n",
    "    return super(B, self).__getattribute__(item)\n"
   ]
  },
  {
   "cell_type": "code",
   "execution_count": 6,
   "metadata": {},
   "outputs": [],
   "source": [
    "b = B(10)"
   ]
  },
  {
   "cell_type": "code",
   "execution_count": 7,
   "metadata": {},
   "outputs": [
    {
     "name": "stdout",
     "output_type": "stream",
     "text": [
      "in __getattribute__\n",
      "10\n"
     ]
    }
   ],
   "source": [
    "print(b.x)"
   ]
  },
  {
   "cell_type": "code",
   "execution_count": 8,
   "metadata": {},
   "outputs": [
    {
     "name": "stdout",
     "output_type": "stream",
     "text": [
      "in __getattribute__\n"
     ]
    },
    {
     "ename": "AttributeError",
     "evalue": "y",
     "output_type": "error",
     "traceback": [
      "\u001b[1;31m---------------------------------------------------------------------------\u001b[0m",
      "\u001b[1;31mAttributeError\u001b[0m                            Traceback (most recent call last)",
      "Cell \u001b[1;32mIn[8], line 1\u001b[0m\n\u001b[1;32m----> 1\u001b[0m \u001b[38;5;28mprint\u001b[39m(\u001b[43mb\u001b[49m\u001b[38;5;241;43m.\u001b[39;49m\u001b[43my\u001b[49m)\n",
      "Cell \u001b[1;32mIn[5], line 9\u001b[0m, in \u001b[0;36mB.__getattr__\u001b[1;34m(self, item)\u001b[0m\n\u001b[0;32m      8\u001b[0m \u001b[38;5;28;01mdef\u001b[39;00m \u001b[38;5;21m__getattr__\u001b[39m(\u001b[38;5;28mself\u001b[39m, item):\n\u001b[1;32m----> 9\u001b[0m   \u001b[38;5;28;01mraise\u001b[39;00m \u001b[38;5;167;01mAttributeError\u001b[39;00m(item)\n",
      "\u001b[1;31mAttributeError\u001b[0m: y"
     ]
    }
   ],
   "source": [
    "print(b.y)"
   ]
  },
  {
   "cell_type": "code",
   "execution_count": 9,
   "metadata": {},
   "outputs": [],
   "source": [
    "class C(object):\n",
    "  def __init__(self, x):\n",
    "    self.x = x\n",
    "\n",
    "  def hello(self):\n",
    "    return 'hello func'\n",
    "\n",
    "  # overweite to default value even if no attribute\n",
    "  def __getattr__(self, item):\n",
    "    print('in __getattr__')\n",
    "    return 100\n",
    "\n",
    "  def __getattribute__(self, item):\n",
    "    print('in __getattribute__')\n",
    "    return super(C, self).__getattribute__(item)\n"
   ]
  },
  {
   "cell_type": "code",
   "execution_count": 10,
   "metadata": {},
   "outputs": [],
   "source": [
    "c = C(10)"
   ]
  },
  {
   "cell_type": "code",
   "execution_count": 11,
   "metadata": {},
   "outputs": [
    {
     "name": "stdout",
     "output_type": "stream",
     "text": [
      "in __getattribute__\n",
      "10\n"
     ]
    }
   ],
   "source": [
    "print(c.x)"
   ]
  },
  {
   "cell_type": "code",
   "execution_count": 12,
   "metadata": {},
   "outputs": [
    {
     "name": "stdout",
     "output_type": "stream",
     "text": [
      "in __getattribute__\n",
      "in __getattr__\n",
      "100\n"
     ]
    }
   ],
   "source": [
    "print(c.y)"
   ]
  },
  {
   "cell_type": "code",
   "execution_count": null,
   "metadata": {},
   "outputs": [],
   "source": [
    "class D(object):\n",
    "  def __init__(self, x):\n",
    "    self.x = x\n",
    "\n",
    "  def __get__(self, ins, typ):\n",
    "      print(\"__get__\", ins, typ)\n",
    "      return self.x\n",
    "  def __set__(self, ins, value):\n",
    "      print(\"__set__\", ins, value)\n",
    "      return self.x\n",
    "\n",
    "\n",
    "  # overweite to default value even if no attribute\n",
    "  def __getattr__(self, item):\n",
    "    print('in __getattr__')\n",
    "    return 100\n",
    "\n",
    "  def __getattribute__(self, item):\n",
    "    print('in __getattribute__')\n",
    "    return super(C, self).__getattribute__(item)\n"
   ]
  }
 ],
 "metadata": {
  "kernelspec": {
   "display_name": "ul",
   "language": "python",
   "name": "python3"
  },
  "language_info": {
   "codemirror_mode": {
    "name": "ipython",
    "version": 3
   },
   "file_extension": ".py",
   "mimetype": "text/x-python",
   "name": "python",
   "nbconvert_exporter": "python",
   "pygments_lexer": "ipython3",
   "version": "3.10.14"
  }
 },
 "nbformat": 4,
 "nbformat_minor": 2
}
