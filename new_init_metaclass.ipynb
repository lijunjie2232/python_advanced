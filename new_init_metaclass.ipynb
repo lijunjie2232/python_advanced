{
 "cells": [
  {
   "cell_type": "code",
   "execution_count": 1,
   "metadata": {},
   "outputs": [],
   "source": [
    "class User(object):\n",
    "\n",
    "    # 新式类才有，生成对象 user 之前加逻辑\n",
    "    def __new__(cls, *args, **kwargs):\n",
    "        # args = ('linda', )\n",
    "        # kwargs = {'age': 20}\n",
    "        # 与自定义 metaclass 中的 __new__ 有区别\n",
    "        print('from __new__')\n",
    "        print(args)\n",
    "        print(kwargs)\n",
    "        self = super().__new__(cls)\n",
    "        self.id = \"000000\"\n",
    "        return self\n",
    "\n",
    "    def __init__(self, name, age=18):\n",
    "        self.name = name\n",
    "        self.age = age\n",
    "        print('from __init__')"
   ]
  },
  {
   "cell_type": "code",
   "execution_count": 2,
   "metadata": {},
   "outputs": [
    {
     "name": "stdout",
     "output_type": "stream",
     "text": [
      "from __new__\n",
      "('li',)\n",
      "{'age': 0}\n",
      "from __init__\n"
     ]
    }
   ],
   "source": [
    "u = User(\"li\", age=0)"
   ]
  },
  {
   "cell_type": "code",
   "execution_count": 3,
   "metadata": {},
   "outputs": [
    {
     "data": {
      "text/plain": [
       "{'id': '000000', 'name': 'li', 'age': 0}"
      ]
     },
     "execution_count": 3,
     "metadata": {},
     "output_type": "execute_result"
    }
   ],
   "source": [
    "u.__dict__"
   ]
  },
  {
   "cell_type": "code",
   "execution_count": 4,
   "metadata": {},
   "outputs": [
    {
     "data": {
      "text/plain": [
       "'000000'"
      ]
     },
     "execution_count": 4,
     "metadata": {},
     "output_type": "execute_result"
    }
   ],
   "source": [
    "u.id"
   ]
  },
  {
   "cell_type": "code",
   "execution_count": 5,
   "metadata": {},
   "outputs": [],
   "source": [
    "class User(object):\n",
    "\n",
    "    # 新式类才有，生成对象 user 之前加逻辑\n",
    "    def __new__(cls, *args, **kwargs):\n",
    "        # args = ('linda', )\n",
    "        # kwargs = {'age': 20}\n",
    "        # 与自定义 metaclass 中的 __new__ 有区别\n",
    "        print('from __new__')\n",
    "        print(args)\n",
    "        print(kwargs)\n",
    "        self = super().__new__(cls)\n",
    "        self.id = \"000000\"\n",
    "        # return self\n",
    "\n",
    "    def __init__(self, name, age=18):\n",
    "        self.name = name\n",
    "        self.age = age\n",
    "        print('from __init__')"
   ]
  },
  {
   "cell_type": "code",
   "execution_count": 6,
   "metadata": {},
   "outputs": [
    {
     "name": "stdout",
     "output_type": "stream",
     "text": [
      "from __new__\n",
      "('li',)\n",
      "{}\n"
     ]
    }
   ],
   "source": [
    "u = User(\"li\")"
   ]
  },
  {
   "cell_type": "code",
   "execution_count": 7,
   "metadata": {},
   "outputs": [
    {
     "data": {
      "text/plain": [
       "True"
      ]
     },
     "execution_count": 7,
     "metadata": {},
     "output_type": "execute_result"
    }
   ],
   "source": [
    "u is None"
   ]
  },
  {
   "cell_type": "code",
   "execution_count": 8,
   "metadata": {},
   "outputs": [],
   "source": [
    "class MyType(type):\n",
    "    def __new__(cls, *args, **kwargs):\n",
    "        print(\"MyType __new__\")\n",
    "        print(cls)\n",
    "        print(args)\n",
    "        print(kwargs)\n",
    "        return super().__new__(cls, *args, **kwargs)\n",
    "    \n",
    "    def __init__(self, *args, **kwargs):\n",
    "        print(\"MyType __init__\")\n",
    "        print(self)\n",
    "        print(args)\n",
    "        print(kwargs)\n",
    "    \n",
    "    def __call__(self, *args, **kwargs):\n",
    "        print(\"MyType __call__\")\n",
    "        print(args)\n",
    "        print(kwargs)\n",
    "        return self"
   ]
  },
  {
   "cell_type": "code",
   "execution_count": 9,
   "metadata": {},
   "outputs": [
    {
     "name": "stdout",
     "output_type": "stream",
     "text": [
      "MyType __new__\n",
      "<class '__main__.MyType'>\n",
      "('MyClass', (), {'__module__': '__main__', '__qualname__': 'MyClass', '__init__': <function MyClass.__init__ at 0x0000000007DE44C0>})\n",
      "{}\n",
      "MyType __init__\n",
      "<class '__main__.MyClass'>\n",
      "('MyClass', (), {'__module__': '__main__', '__qualname__': 'MyClass', '__init__': <function MyClass.__init__ at 0x0000000007DE44C0>})\n",
      "{}\n"
     ]
    }
   ],
   "source": [
    "class MyClass(metaclass=MyType):\n",
    "    def __init__(self):\n",
    "        print(\"MyClass __init__\")"
   ]
  },
  {
   "cell_type": "code",
   "execution_count": 10,
   "metadata": {},
   "outputs": [
    {
     "name": "stdout",
     "output_type": "stream",
     "text": [
      "MyType __call__\n",
      "()\n",
      "{}\n"
     ]
    }
   ],
   "source": [
    "myclass = MyClass()"
   ]
  },
  {
   "cell_type": "code",
   "execution_count": 11,
   "metadata": {},
   "outputs": [
    {
     "data": {
      "text/plain": [
       "__main__.MyClass"
      ]
     },
     "execution_count": 11,
     "metadata": {},
     "output_type": "execute_result"
    }
   ],
   "source": [
    "myclass"
   ]
  },
  {
   "cell_type": "code",
   "execution_count": 12,
   "metadata": {},
   "outputs": [],
   "source": [
    "class MyFactory:\n",
    "    def __new__(cls):\n",
    "        return MyClass(cls)"
   ]
  },
  {
   "cell_type": "code",
   "execution_count": 13,
   "metadata": {},
   "outputs": [
    {
     "name": "stdout",
     "output_type": "stream",
     "text": [
      "MyType __call__\n",
      "(<class '__main__.MyFactory'>,)\n",
      "{}\n"
     ]
    }
   ],
   "source": [
    "testclass = MyFactory()"
   ]
  },
  {
   "cell_type": "code",
   "execution_count": 14,
   "metadata": {},
   "outputs": [
    {
     "data": {
      "text/plain": [
       "__main__.MyClass"
      ]
     },
     "execution_count": 14,
     "metadata": {},
     "output_type": "execute_result"
    }
   ],
   "source": [
    "testclass"
   ]
  },
  {
   "cell_type": "code",
   "execution_count": 15,
   "metadata": {},
   "outputs": [],
   "source": [
    "class GameFactory:\n",
    "    pass\n",
    "\n",
    "\n",
    "class FactoryClass(type):\n",
    "\n",
    "    def __call__(self, *args, **kwargs):\n",
    "        print(\"FactoryClass __call__\")\n",
    "        print(self)\n",
    "        print(args)\n",
    "        print(kwargs)\n",
    "        if not len(args) or isinstance(args[0], GameFactory):\n",
    "            raise Exception(\"not instanced by GameFactory\")\n",
    "        return self"
   ]
  },
  {
   "cell_type": "code",
   "execution_count": 16,
   "metadata": {},
   "outputs": [],
   "source": [
    "class Puppy(metaclass=FactoryClass):\n",
    "    def play(self):\n",
    "        print(\"let's play puppy\")\n",
    "\n",
    "\n",
    "class FF(metaclass=FactoryClass):\n",
    "    def play(self):\n",
    "        print(\"let's play ff\")\n",
    "\n",
    "\n",
    "class PSGame(metaclass=FactoryClass):\n",
    "    def play(self):\n",
    "        print(\"let's play PS\")\n",
    "\n",
    "\n",
    "class GameFactory:\n",
    "    games = {\"puppy\": Puppy, \"ff\": FF}\n",
    "\n",
    "    def __new__(cls, name):\n",
    "        ins_cls = PSGame\n",
    "        if name in cls.games:\n",
    "            ins_cls = cls.games[name]\n",
    "        if not hasattr(ins_cls, \"_instance\"):\n",
    "            ins_cls._instance =  object().__new__(ins_cls)\n",
    "        return ins_cls._instance\n"
   ]
  },
  {
   "cell_type": "code",
   "execution_count": 17,
   "metadata": {},
   "outputs": [],
   "source": [
    "puppy = GameFactory(\"puppy\")\n",
    "ff = GameFactory(\"ff\")"
   ]
  },
  {
   "cell_type": "code",
   "execution_count": 18,
   "metadata": {},
   "outputs": [
    {
     "name": "stdout",
     "output_type": "stream",
     "text": [
      "let's play puppy\n"
     ]
    }
   ],
   "source": [
    "puppy.play()"
   ]
  },
  {
   "cell_type": "code",
   "execution_count": 19,
   "metadata": {},
   "outputs": [
    {
     "name": "stdout",
     "output_type": "stream",
     "text": [
      "let's play ff\n"
     ]
    }
   ],
   "source": [
    "ff.play()"
   ]
  },
  {
   "cell_type": "code",
   "execution_count": 20,
   "metadata": {},
   "outputs": [
    {
     "name": "stdout",
     "output_type": "stream",
     "text": [
      "FactoryClass __call__\n",
      "<class '__main__.Puppy'>\n",
      "()\n",
      "{}\n"
     ]
    },
    {
     "ename": "Exception",
     "evalue": "not instanced by GameFactory",
     "output_type": "error",
     "traceback": [
      "\u001b[1;31m---------------------------------------------------------------------------\u001b[0m",
      "\u001b[1;31mException\u001b[0m                                 Traceback (most recent call last)",
      "Cell \u001b[1;32mIn[20], line 1\u001b[0m\n\u001b[1;32m----> 1\u001b[0m \u001b[43mPuppy\u001b[49m\u001b[43m(\u001b[49m\u001b[43m)\u001b[49m\n",
      "Cell \u001b[1;32mIn[15], line 13\u001b[0m, in \u001b[0;36mFactoryClass.__call__\u001b[1;34m(self, *args, **kwargs)\u001b[0m\n\u001b[0;32m     11\u001b[0m \u001b[38;5;28mprint\u001b[39m(kwargs)\n\u001b[0;32m     12\u001b[0m \u001b[38;5;28;01mif\u001b[39;00m \u001b[38;5;129;01mnot\u001b[39;00m \u001b[38;5;28mlen\u001b[39m(args) \u001b[38;5;129;01mor\u001b[39;00m \u001b[38;5;28misinstance\u001b[39m(args[\u001b[38;5;241m0\u001b[39m], GameFactory):\n\u001b[1;32m---> 13\u001b[0m     \u001b[38;5;28;01mraise\u001b[39;00m \u001b[38;5;167;01mException\u001b[39;00m(\u001b[38;5;124m\"\u001b[39m\u001b[38;5;124mnot instanced by GameFactory\u001b[39m\u001b[38;5;124m\"\u001b[39m)\n\u001b[0;32m     14\u001b[0m \u001b[38;5;28;01mreturn\u001b[39;00m \u001b[38;5;28mself\u001b[39m\n",
      "\u001b[1;31mException\u001b[0m: not instanced by GameFactory"
     ]
    }
   ],
   "source": [
    "Puppy()"
   ]
  },
  {
   "cell_type": "code",
   "execution_count": null,
   "metadata": {},
   "outputs": [],
   "source": []
  }
 ],
 "metadata": {
  "kernelspec": {
   "display_name": "ul",
   "language": "python",
   "name": "python3"
  },
  "language_info": {
   "codemirror_mode": {
    "name": "ipython",
    "version": 3
   },
   "file_extension": ".py",
   "mimetype": "text/x-python",
   "name": "python",
   "nbconvert_exporter": "python",
   "pygments_lexer": "ipython3",
   "version": "3.10.14"
  }
 },
 "nbformat": 4,
 "nbformat_minor": 2
}
