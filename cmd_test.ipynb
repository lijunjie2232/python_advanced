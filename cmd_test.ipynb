{
 "cells": [
  {
   "cell_type": "code",
   "execution_count": 1,
   "metadata": {},
   "outputs": [],
   "source": [
    "from cmd import Cmd"
   ]
  },
  {
   "cell_type": "code",
   "execution_count": 2,
   "metadata": {},
   "outputs": [],
   "source": [
    "class Cli(Cmd):\n",
    "    def __init__(self):\n",
    "        super().__init__()\n",
    "        self.prompt = \"cli >\"\n",
    "    \n",
    "    def do_test(self, line):\n",
    "        print(\"test\", line)\n",
    "        return True\n",
    "    \n",
    "    def do_use(self, line):\n",
    "        print(\"use\", line)\n",
    "        self.prompt = f\"{line} >\" if line else \"cli>\"\n",
    "    \n",
    "    # def do_help(self, )"
   ]
  },
  {
   "cell_type": "code",
   "execution_count": 3,
   "metadata": {},
   "outputs": [
    {
     "name": "stdout",
     "output_type": "stream",
     "text": [
      "use python\n",
      "test python\n"
     ]
    }
   ],
   "source": [
    "Cli().cmdloop()"
   ]
  },
  {
   "cell_type": "code",
   "execution_count": null,
   "metadata": {},
   "outputs": [],
   "source": []
  }
 ],
 "metadata": {
  "kernelspec": {
   "display_name": "ul",
   "language": "python",
   "name": "python3"
  },
  "language_info": {
   "codemirror_mode": {
    "name": "ipython",
    "version": 3
   },
   "file_extension": ".py",
   "mimetype": "text/x-python",
   "name": "python",
   "nbconvert_exporter": "python",
   "pygments_lexer": "ipython3",
   "version": "3.10.14"
  }
 },
 "nbformat": 4,
 "nbformat_minor": 2
}
