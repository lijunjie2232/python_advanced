{
 "cells": [
  {
   "cell_type": "code",
   "execution_count": 1,
   "metadata": {},
   "outputs": [],
   "source": [
    "import dis"
   ]
  },
  {
   "cell_type": "code",
   "execution_count": 2,
   "metadata": {},
   "outputs": [],
   "source": [
    "def fib_fn():\n",
    "    prev, cur = 0, 1\n",
    "    while True:\n",
    "        yield cur\n",
    "        prev, cur = cur, cur + prev\n"
   ]
  },
  {
   "cell_type": "code",
   "execution_count": 3,
   "metadata": {},
   "outputs": [],
   "source": [
    "fib = fib_fn()\n"
   ]
  },
  {
   "cell_type": "code",
   "execution_count": 4,
   "metadata": {},
   "outputs": [
    {
     "name": "stdout",
     "output_type": "stream",
     "text": [
      "              0 GEN_START                0\n",
      "\n",
      "  2           2 LOAD_CONST               1 ((0, 1))\n",
      "              4 UNPACK_SEQUENCE          2\n",
      "              6 STORE_FAST               0 (prev)\n",
      "              8 STORE_FAST               1 (cur)\n",
      "\n",
      "  3          10 NOP\n",
      "\n",
      "  4     >>   12 LOAD_FAST                1 (cur)\n",
      "             14 YIELD_VALUE\n",
      "             16 POP_TOP\n",
      "\n",
      "  5          18 LOAD_FAST                1 (cur)\n",
      "             20 LOAD_FAST                1 (cur)\n",
      "             22 LOAD_FAST                0 (prev)\n",
      "             24 BINARY_ADD\n",
      "             26 ROT_TWO\n",
      "             28 STORE_FAST               0 (prev)\n",
      "             30 STORE_FAST               1 (cur)\n",
      "\n",
      "  3          32 JUMP_ABSOLUTE            6 (to 12)\n",
      "None\n"
     ]
    }
   ],
   "source": [
    "print(dis.dis(fib))\n"
   ]
  },
  {
   "cell_type": "code",
   "execution_count": 5,
   "metadata": {},
   "outputs": [
    {
     "name": "stdout",
     "output_type": "stream",
     "text": [
      "-1\n",
      "{}\n"
     ]
    }
   ],
   "source": [
    "print(fib.gi_frame.f_lasti)\n",
    "print(fib.gi_frame.f_locals)\n"
   ]
  },
  {
   "cell_type": "code",
   "execution_count": 6,
   "metadata": {},
   "outputs": [
    {
     "data": {
      "text/plain": [
       "1"
      ]
     },
     "execution_count": 6,
     "metadata": {},
     "output_type": "execute_result"
    }
   ],
   "source": [
    "next(fib)"
   ]
  },
  {
   "cell_type": "code",
   "execution_count": 7,
   "metadata": {},
   "outputs": [
    {
     "name": "stdout",
     "output_type": "stream",
     "text": [
      "14\n",
      "{'prev': 0, 'cur': 1}\n"
     ]
    }
   ],
   "source": [
    "print(fib.gi_frame.f_lasti)\n",
    "print(fib.gi_frame.f_locals)\n"
   ]
  },
  {
   "cell_type": "code",
   "execution_count": 8,
   "metadata": {},
   "outputs": [
    {
     "data": {
      "text/plain": [
       "1"
      ]
     },
     "execution_count": 8,
     "metadata": {},
     "output_type": "execute_result"
    }
   ],
   "source": [
    "next(fib)"
   ]
  },
  {
   "cell_type": "code",
   "execution_count": 9,
   "metadata": {},
   "outputs": [
    {
     "name": "stdout",
     "output_type": "stream",
     "text": [
      "14\n",
      "{'prev': 1, 'cur': 1}\n"
     ]
    }
   ],
   "source": [
    "print(fib.gi_frame.f_lasti)\n",
    "print(fib.gi_frame.f_locals)\n"
   ]
  },
  {
   "cell_type": "code",
   "execution_count": 61,
   "metadata": {},
   "outputs": [],
   "source": [
    "def send_test():\n",
    "    print(\"generator started...\")\n",
    "    tmp = None\n",
    "    while True:\n",
    "        tmp = yield tmp\n",
    "        print(\"tmp:\", tmp)"
   ]
  },
  {
   "cell_type": "code",
   "execution_count": 62,
   "metadata": {},
   "outputs": [
    {
     "data": {
      "text/plain": [
       "<generator object send_test at 0x0000000009551E00>"
      ]
     },
     "execution_count": 62,
     "metadata": {},
     "output_type": "execute_result"
    }
   ],
   "source": [
    "st = send_test()\n",
    "st"
   ]
  },
  {
   "cell_type": "code",
   "execution_count": 63,
   "metadata": {},
   "outputs": [
    {
     "name": "stdout",
     "output_type": "stream",
     "text": [
      "generator started...\n"
     ]
    }
   ],
   "source": [
    "next(st)"
   ]
  },
  {
   "cell_type": "code",
   "execution_count": 64,
   "metadata": {},
   "outputs": [
    {
     "name": "stdout",
     "output_type": "stream",
     "text": [
      "tmp: None\n"
     ]
    }
   ],
   "source": [
    "next(st)"
   ]
  },
  {
   "cell_type": "code",
   "execution_count": 65,
   "metadata": {},
   "outputs": [
    {
     "name": "stdout",
     "output_type": "stream",
     "text": [
      "tmp: 1\n"
     ]
    },
    {
     "data": {
      "text/plain": [
       "1"
      ]
     },
     "execution_count": 65,
     "metadata": {},
     "output_type": "execute_result"
    }
   ],
   "source": [
    "st.send(1)"
   ]
  },
  {
   "cell_type": "code",
   "execution_count": 66,
   "metadata": {},
   "outputs": [
    {
     "name": "stdout",
     "output_type": "stream",
     "text": [
      "tmp: None\n"
     ]
    }
   ],
   "source": [
    "next(st)"
   ]
  },
  {
   "cell_type": "code",
   "execution_count": 68,
   "metadata": {},
   "outputs": [
    {
     "name": "stdout",
     "output_type": "stream",
     "text": [
      "              0 GEN_START                0\n",
      "\n",
      "  2           2 LOAD_GLOBAL              0 (print)\n",
      "              4 LOAD_CONST               1 ('generator started...')\n",
      "              6 CALL_FUNCTION            1\n",
      "              8 POP_TOP\n",
      "\n",
      "  3          10 LOAD_CONST               0 (None)\n",
      "             12 STORE_FAST               0 (tmp)\n",
      "\n",
      "  4          14 NOP\n",
      "\n",
      "  5     >>   16 LOAD_FAST                0 (tmp)\n",
      "             18 YIELD_VALUE\n",
      "             20 STORE_FAST               0 (tmp)\n",
      "\n",
      "  6          22 LOAD_GLOBAL              0 (print)\n",
      "             24 LOAD_CONST               3 ('tmp:')\n",
      "             26 LOAD_FAST                0 (tmp)\n",
      "             28 CALL_FUNCTION            2\n",
      "             30 POP_TOP\n",
      "\n",
      "  4          32 JUMP_ABSOLUTE            8 (to 16)\n"
     ]
    }
   ],
   "source": [
    "dis.dis(st)"
   ]
  },
  {
   "cell_type": "code",
   "execution_count": 69,
   "metadata": {},
   "outputs": [
    {
     "name": "stdout",
     "output_type": "stream",
     "text": [
      "18\n",
      "{'tmp': None}\n"
     ]
    }
   ],
   "source": [
    "print(st.gi_frame.f_lasti)\n",
    "print(st.gi_frame.f_locals)\n"
   ]
  },
  {
   "cell_type": "code",
   "execution_count": 70,
   "metadata": {},
   "outputs": [
    {
     "name": "stdout",
     "output_type": "stream",
     "text": [
      "tmp: 1\n"
     ]
    },
    {
     "data": {
      "text/plain": [
       "1"
      ]
     },
     "execution_count": 70,
     "metadata": {},
     "output_type": "execute_result"
    }
   ],
   "source": [
    "st.send(1)"
   ]
  },
  {
   "cell_type": "code",
   "execution_count": 71,
   "metadata": {},
   "outputs": [
    {
     "name": "stdout",
     "output_type": "stream",
     "text": [
      "18\n",
      "{'tmp': 1}\n"
     ]
    }
   ],
   "source": [
    "print(st.gi_frame.f_lasti)\n",
    "print(st.gi_frame.f_locals)\n"
   ]
  },
  {
   "cell_type": "code",
   "execution_count": null,
   "metadata": {},
   "outputs": [],
   "source": []
  }
 ],
 "metadata": {
  "kernelspec": {
   "display_name": "ul",
   "language": "python",
   "name": "python3"
  },
  "language_info": {
   "codemirror_mode": {
    "name": "ipython",
    "version": 3
   },
   "file_extension": ".py",
   "mimetype": "text/x-python",
   "name": "python",
   "nbconvert_exporter": "python",
   "pygments_lexer": "ipython3",
   "version": "3.10.14"
  }
 },
 "nbformat": 4,
 "nbformat_minor": 2
}
