{
 "cells": [
  {
   "cell_type": "code",
   "execution_count": 1,
   "metadata": {},
   "outputs": [],
   "source": [
    "from collections.abc import __all__, Iterable"
   ]
  },
  {
   "cell_type": "code",
   "execution_count": 2,
   "metadata": {},
   "outputs": [
    {
     "data": {
      "text/plain": [
       "['Awaitable',\n",
       " 'Coroutine',\n",
       " 'AsyncIterable',\n",
       " 'AsyncIterator',\n",
       " 'AsyncGenerator',\n",
       " 'Hashable',\n",
       " 'Iterable',\n",
       " 'Iterator',\n",
       " 'Generator',\n",
       " 'Reversible',\n",
       " 'Sized',\n",
       " 'Container',\n",
       " 'Callable',\n",
       " 'Collection',\n",
       " 'Set',\n",
       " 'MutableSet',\n",
       " 'Mapping',\n",
       " 'MutableMapping',\n",
       " 'MappingView',\n",
       " 'KeysView',\n",
       " 'ItemsView',\n",
       " 'ValuesView',\n",
       " 'Sequence',\n",
       " 'MutableSequence',\n",
       " 'ByteString']"
      ]
     },
     "execution_count": 2,
     "metadata": {},
     "output_type": "execute_result"
    }
   ],
   "source": [
    "__all__"
   ]
  },
  {
   "cell_type": "code",
   "execution_count": 3,
   "metadata": {},
   "outputs": [],
   "source": [
    "class MyDataset(Iterable):\n",
    "    def __init__(self, data):\n",
    "        self.data = data\n",
    "        self.index = -1\n",
    "        \n",
    "    def __next__(self):\n",
    "        self.index += 1\n",
    "        if self.index < len(self.data):\n",
    "            return self.data[self.index]\n",
    "        else:\n",
    "            self.index = -1\n",
    "            raise StopIteration()\n",
    "    \n",
    "    def __iter__(self):\n",
    "        return self"
   ]
  },
  {
   "cell_type": "code",
   "execution_count": 4,
   "metadata": {},
   "outputs": [],
   "source": [
    "dataset = MyDataset([1,2,3,4,5,6,7,8,9])"
   ]
  },
  {
   "cell_type": "code",
   "execution_count": 5,
   "metadata": {},
   "outputs": [
    {
     "data": {
      "text/plain": [
       "[1, 2, 3, 4, 5, 6, 7, 8, 9]"
      ]
     },
     "execution_count": 5,
     "metadata": {},
     "output_type": "execute_result"
    }
   ],
   "source": [
    "list(dataset)"
   ]
  },
  {
   "cell_type": "code",
   "execution_count": 6,
   "metadata": {},
   "outputs": [
    {
     "name": "stdout",
     "output_type": "stream",
     "text": [
      "1\n",
      "2\n",
      "3\n",
      "4\n",
      "5\n",
      "6\n",
      "7\n",
      "8\n",
      "9\n"
     ]
    }
   ],
   "source": [
    "for i in dataset:\n",
    "    print(i)"
   ]
  },
  {
   "cell_type": "code",
   "execution_count": null,
   "metadata": {},
   "outputs": [],
   "source": []
  }
 ],
 "metadata": {
  "kernelspec": {
   "display_name": "ml",
   "language": "python",
   "name": "python3"
  },
  "language_info": {
   "codemirror_mode": {
    "name": "ipython",
    "version": 3
   },
   "file_extension": ".py",
   "mimetype": "text/x-python",
   "name": "python",
   "nbconvert_exporter": "python",
   "pygments_lexer": "ipython3",
   "version": "3.8.18"
  }
 },
 "nbformat": 4,
 "nbformat_minor": 2
}
