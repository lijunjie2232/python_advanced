{
 "cells": [
  {
   "cell_type": "code",
   "execution_count": 1,
   "metadata": {},
   "outputs": [],
   "source": [
    "class User(object):\n",
    "\n",
    "    # 新式类才有，生成对象 user 之前加逻辑\n",
    "    def __new__(cls, *args, **kwargs):\n",
    "        # args = ('linda', )\n",
    "        # kwargs = {'age': 20}\n",
    "        # 与自定义 metaclass 中的 __new__ 有区别\n",
    "        print('from __new__')\n",
    "        print(args)\n",
    "        print(kwargs)\n",
    "        self = super().__new__(cls)\n",
    "        self.id = \"000000\"\n",
    "        return self\n",
    "\n",
    "    def __init__(self, name, age=18):\n",
    "        self.name = name\n",
    "        self.age = age\n",
    "        print('from __init__')"
   ]
  },
  {
   "cell_type": "code",
   "execution_count": 2,
   "metadata": {},
   "outputs": [
    {
     "name": "stdout",
     "output_type": "stream",
     "text": [
      "from __new__\n",
      "('li',)\n",
      "{'age': 0}\n",
      "from __init__\n"
     ]
    }
   ],
   "source": [
    "u = User(\"li\", age=0)"
   ]
  },
  {
   "cell_type": "code",
   "execution_count": 3,
   "metadata": {},
   "outputs": [
    {
     "data": {
      "text/plain": [
       "{'id': '000000', 'name': 'li', 'age': 0}"
      ]
     },
     "execution_count": 3,
     "metadata": {},
     "output_type": "execute_result"
    }
   ],
   "source": [
    "u.__dict__"
   ]
  },
  {
   "cell_type": "code",
   "execution_count": 4,
   "metadata": {},
   "outputs": [
    {
     "data": {
      "text/plain": [
       "'000000'"
      ]
     },
     "execution_count": 4,
     "metadata": {},
     "output_type": "execute_result"
    }
   ],
   "source": [
    "u.id"
   ]
  },
  {
   "cell_type": "code",
   "execution_count": 5,
   "metadata": {},
   "outputs": [],
   "source": [
    "class User(object):\n",
    "\n",
    "    # 新式类才有，生成对象 user 之前加逻辑\n",
    "    def __new__(cls, *args, **kwargs):\n",
    "        # args = ('linda', )\n",
    "        # kwargs = {'age': 20}\n",
    "        # 与自定义 metaclass 中的 __new__ 有区别\n",
    "        print('from __new__')\n",
    "        print(args)\n",
    "        print(kwargs)\n",
    "        self = super().__new__(cls)\n",
    "        self.id = \"000000\"\n",
    "        # return self\n",
    "\n",
    "    def __init__(self, name, age=18):\n",
    "        self.name = name\n",
    "        self.age = age\n",
    "        print('from __init__')"
   ]
  },
  {
   "cell_type": "code",
   "execution_count": 6,
   "metadata": {},
   "outputs": [
    {
     "name": "stdout",
     "output_type": "stream",
     "text": [
      "from __new__\n",
      "('li',)\n",
      "{}\n"
     ]
    }
   ],
   "source": [
    "u = User(\"li\")"
   ]
  },
  {
   "cell_type": "code",
   "execution_count": 7,
   "metadata": {},
   "outputs": [
    {
     "data": {
      "text/plain": [
       "True"
      ]
     },
     "execution_count": 7,
     "metadata": {},
     "output_type": "execute_result"
    }
   ],
   "source": [
    "u is None"
   ]
  },
  {
   "cell_type": "code",
   "execution_count": null,
   "metadata": {},
   "outputs": [],
   "source": []
  }
 ],
 "metadata": {
  "kernelspec": {
   "display_name": "ul",
   "language": "python",
   "name": "python3"
  },
  "language_info": {
   "codemirror_mode": {
    "name": "ipython",
    "version": 3
   },
   "file_extension": ".py",
   "mimetype": "text/x-python",
   "name": "python",
   "nbconvert_exporter": "python",
   "pygments_lexer": "ipython3",
   "version": "3.10.14"
  }
 },
 "nbformat": 4,
 "nbformat_minor": 2
}
