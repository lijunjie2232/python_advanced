{
 "cells": [
  {
   "cell_type": "code",
   "execution_count": 14,
   "metadata": {},
   "outputs": [],
   "source": [
    "class Person:\n",
    "    def __init__(self, name, age=0):\n",
    "        self.name = name\n",
    "        self.age = age\n",
    "        self.skill = [\"py\", \"java\", \"ts\"]\n",
    "        self.__info = {\"work\": None}\n",
    "        self.index = -1\n",
    "\n",
    "    def __str__(self):\n",
    "        return f\"<Person>{self.name}\"\n",
    "\n",
    "    def __repr__(self):\n",
    "        return self.__str__()\n",
    "\n",
    "    def __len__(self):\n",
    "        return len(self.skill)\n",
    "\n",
    "    def __getitem__(self, i):\n",
    "        return self.skill[i]\n",
    "\n",
    "    def __setitem__(self, key, value):\n",
    "        self.__info[key] = value\n",
    "\n",
    "    def __delitem__(self, key):\n",
    "        if key in self.__info:\n",
    "            del self.__info[key]\n",
    "\n",
    "    def __contains__(self, key):\n",
    "        return key in self.__info\n",
    "\n",
    "    def __iter__(self):\n",
    "        return self\n",
    "\n",
    "    def __next__(self):\n",
    "        self.index += 1\n",
    "        if self.index < self.__len__():\n",
    "            return self.skill[self.index]\n",
    "        else:\n",
    "            self.index = -1\n",
    "            raise StopIteration()\n",
    "\n",
    "    def __call__(self):\n",
    "        print(\"do something\")\n",
    "\n",
    "    def __enter__(self):\n",
    "        print(f\"<person>{self.name} has been created\")\n",
    "\n",
    "    def __exit__(self, exc_type, exc_val, exc_tb):\n",
    "        print(f\"<person>{self.name} has been destroyed\")\n",
    "\n",
    "    @property\n",
    "    def info(self):\n",
    "        return self.__info"
   ]
  },
  {
   "cell_type": "code",
   "execution_count": 15,
   "metadata": {},
   "outputs": [],
   "source": [
    "p = Person(\"li\")"
   ]
  },
  {
   "cell_type": "code",
   "execution_count": 16,
   "metadata": {},
   "outputs": [
    {
     "data": {
      "text/plain": [
       "<Person>li"
      ]
     },
     "execution_count": 16,
     "metadata": {},
     "output_type": "execute_result"
    }
   ],
   "source": [
    "# call __repr__\n",
    "p"
   ]
  },
  {
   "cell_type": "code",
   "execution_count": 17,
   "metadata": {},
   "outputs": [
    {
     "name": "stdout",
     "output_type": "stream",
     "text": [
      "<Person>li\n"
     ]
    }
   ],
   "source": [
    "# call __str__\n",
    "print(p)"
   ]
  },
  {
   "cell_type": "code",
   "execution_count": 18,
   "metadata": {},
   "outputs": [
    {
     "data": {
      "text/plain": [
       "3"
      ]
     },
     "execution_count": 18,
     "metadata": {},
     "output_type": "execute_result"
    }
   ],
   "source": [
    "# call __len__\n",
    "len(p)"
   ]
  },
  {
   "cell_type": "code",
   "execution_count": 19,
   "metadata": {},
   "outputs": [
    {
     "name": "stdout",
     "output_type": "stream",
     "text": [
      "py\n"
     ]
    }
   ],
   "source": [
    "# call __getitem__\n",
    "print(p[0])\n"
   ]
  },
  {
   "cell_type": "code",
   "execution_count": 20,
   "metadata": {},
   "outputs": [
    {
     "name": "stdout",
     "output_type": "stream",
     "text": [
      "{'work': 1}\n"
     ]
    },
    {
     "data": {
      "text/plain": [
       "{'work': 'N/A'}"
      ]
     },
     "execution_count": 20,
     "metadata": {},
     "output_type": "execute_result"
    }
   ],
   "source": [
    "p.info[\"work\"] = 1\n",
    "print(p.info)\n",
    "# call __setitem__\n",
    "p[\"work\"] = \"N/A\"\n",
    "p.info"
   ]
  },
  {
   "cell_type": "code",
   "execution_count": 21,
   "metadata": {},
   "outputs": [
    {
     "name": "stdout",
     "output_type": "stream",
     "text": [
      "{'work': 'N/A', 'money': 100000000}\n",
      "{'work': 'N/A'}\n"
     ]
    }
   ],
   "source": [
    "p.info[\"money\"] = 100000000\n",
    "print(p.info)\n",
    "# call __delitem__\n",
    "del p[\"money\"]\n",
    "print(p.info)"
   ]
  },
  {
   "cell_type": "code",
   "execution_count": 22,
   "metadata": {},
   "outputs": [
    {
     "data": {
      "text/plain": [
       "True"
      ]
     },
     "execution_count": 22,
     "metadata": {},
     "output_type": "execute_result"
    }
   ],
   "source": [
    "p.info[\"money\"] = 100000000\n",
    "# call __contains__\n",
    "\"money\" in p"
   ]
  },
  {
   "cell_type": "code",
   "execution_count": 23,
   "metadata": {},
   "outputs": [
    {
     "name": "stdout",
     "output_type": "stream",
     "text": [
      "py\n",
      "java\n",
      "ts\n",
      "**stop iter**\n"
     ]
    }
   ],
   "source": [
    "# call __next__\n",
    "try:\n",
    "    print(next(p))\n",
    "    print(next(p))\n",
    "    print(next(p))\n",
    "    print(next(p))\n",
    "except StopIteration as e:\n",
    "    print(\"**stop iter**\")"
   ]
  },
  {
   "cell_type": "code",
   "execution_count": 24,
   "metadata": {},
   "outputs": [
    {
     "name": "stdout",
     "output_type": "stream",
     "text": [
      "py\n",
      "java\n",
      "ts\n",
      "['py', 'java', 'ts']\n"
     ]
    }
   ],
   "source": [
    "# call __iter__ => __next__\n",
    "for i in p:\n",
    "    print(i)\n",
    "print(list(p))"
   ]
  },
  {
   "cell_type": "code",
   "execution_count": 25,
   "metadata": {},
   "outputs": [
    {
     "name": "stdout",
     "output_type": "stream",
     "text": [
      "do something\n"
     ]
    }
   ],
   "source": [
    "# call __call__\n",
    "p()"
   ]
  },
  {
   "cell_type": "code",
   "execution_count": 26,
   "metadata": {},
   "outputs": [
    {
     "name": "stdout",
     "output_type": "stream",
     "text": [
      "<person>baka has been created\n",
      "<person>baka has been destroyed\n"
     ]
    }
   ],
   "source": [
    "# call __enter__/__exit__\n",
    "with Person(\"baka\") as baka:\n",
    "    pass"
   ]
  },
  {
   "cell_type": "code",
   "execution_count": 41,
   "metadata": {},
   "outputs": [],
   "source": [
    "from math import sqrt ,pow\n",
    "class Vector:\n",
    "    def __init__(self, x, y):\n",
    "        self.x = x\n",
    "        self.y = y\n",
    "    \n",
    "    def __abs__(self):\n",
    "        return sqrt(pow(self.x,2)+pow(self.y,2))\n",
    "\n",
    "    def __add__(self, vector):\n",
    "        return Vector(self.x + vector.x, self.y + vector.y)\n",
    "\n",
    "    def __str__(self):\n",
    "        return 'Vector(%s, %s)' % (self.x, self.y)"
   ]
  },
  {
   "cell_type": "code",
   "execution_count": 42,
   "metadata": {},
   "outputs": [],
   "source": [
    "v1 = Vector(1,1)\n",
    "v2 = Vector(2,3)"
   ]
  },
  {
   "cell_type": "code",
   "execution_count": 43,
   "metadata": {},
   "outputs": [
    {
     "data": {
      "text/plain": [
       "1.4142135623730951"
      ]
     },
     "execution_count": 43,
     "metadata": {},
     "output_type": "execute_result"
    }
   ],
   "source": [
    "# call __abs__\n",
    "abs(v1)"
   ]
  },
  {
   "cell_type": "code",
   "execution_count": 46,
   "metadata": {},
   "outputs": [
    {
     "data": {
      "text/plain": [
       "5.0"
      ]
     },
     "execution_count": 46,
     "metadata": {},
     "output_type": "execute_result"
    }
   ],
   "source": [
    "# call __add__\n",
    "v3 = v1+v2\n",
    "# call __abs__\n",
    "abs(v3)"
   ]
  },
  {
   "cell_type": "code",
   "execution_count": null,
   "metadata": {},
   "outputs": [],
   "source": []
  },
  {
   "cell_type": "code",
   "execution_count": null,
   "metadata": {},
   "outputs": [],
   "source": []
  }
 ],
 "metadata": {
  "kernelspec": {
   "display_name": "ml",
   "language": "python",
   "name": "python3"
  },
  "language_info": {
   "codemirror_mode": {
    "name": "ipython",
    "version": 3
   },
   "file_extension": ".py",
   "mimetype": "text/x-python",
   "name": "python",
   "nbconvert_exporter": "python",
   "pygments_lexer": "ipython3",
   "version": "3.8.18"
  }
 },
 "nbformat": 4,
 "nbformat_minor": 2
}
