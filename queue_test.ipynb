{
 "cells": [
  {
   "cell_type": "code",
   "execution_count": 1,
   "metadata": {},
   "outputs": [],
   "source": [
    "import queue\n",
    "import threading\n",
    "import time"
   ]
  },
  {
   "cell_type": "code",
   "execution_count": 2,
   "metadata": {},
   "outputs": [],
   "source": [
    "q = queue.Queue(maxsize=3)"
   ]
  },
  {
   "cell_type": "code",
   "execution_count": 3,
   "metadata": {},
   "outputs": [
    {
     "name": "stdout",
     "output_type": "stream",
     "text": [
      "Queue is empty!\n"
     ]
    }
   ],
   "source": [
    "try:\n",
    "    item = q.get(block=False)\n",
    "except queue.Empty:\n",
    "    print(\"Queue is empty!\")"
   ]
  },
  {
   "cell_type": "code",
   "execution_count": 4,
   "metadata": {},
   "outputs": [
    {
     "name": "stdout",
     "output_type": "stream",
     "text": [
      "Produced 0\n",
      "Produced 1\n",
      "Produced 2\n",
      "Consumed 0\n",
      "Produced 3\n",
      "Consumed 1Produced 4\n",
      "\n",
      "Consumed 2Produced 5\n",
      "\n",
      "Consumed 3Produced 6\n",
      "\n",
      "Consumed 4Produced 7\n",
      "\n",
      "Consumed 5Produced 8\n",
      "\n",
      "Consumed 6Produced 9\n",
      "\n",
      "Consumed 7\n",
      "Consumed 8\n",
      "Consumed 9\n",
      "All tasks are done\n"
     ]
    }
   ],
   "source": [
    "def producer():\n",
    "    for i in range(10):\n",
    "        q.put(i)\n",
    "        print(f\"Produced {i}\")\n",
    "\n",
    "def consumer():\n",
    "    while True:\n",
    "        item = q.get()\n",
    "        print(f\"Consumed {item}\")\n",
    "        q.task_done()\n",
    "        time.sleep(1)\n",
    "\n",
    "# 启动生产者和消费者线程\n",
    "threading.Thread(target=producer).start()\n",
    "threading.Thread(target=consumer).start()\n",
    "\n",
    "# 等待所有任务完成\n",
    "q.join()\n",
    "print(\"All tasks are done\")\n"
   ]
  },
  {
   "cell_type": "code",
   "execution_count": 5,
   "metadata": {},
   "outputs": [],
   "source": [
    "def waiter(q, timeout=10):\n",
    "    with q.all_tasks_done:\n",
    "        while q.unfinished_tasks:\n",
    "            q.all_tasks_done.wait(timeout=timeout)\n",
    "    \n",
    "    print(\"All tasks are done\")"
   ]
  },
  {
   "cell_type": "code",
   "execution_count": 6,
   "metadata": {},
   "outputs": [
    {
     "name": "stdout",
     "output_type": "stream",
     "text": [
      "Produced 0\n",
      "Produced 1\n",
      "Produced 2\n",
      "Consumed 0\n",
      "Produced 3\n",
      "Consumed 1Produced 4\n",
      "\n",
      "Consumed 2\n",
      "Produced 5\n",
      "Consumed 3Produced 6\n",
      "\n",
      "Consumed 4\n",
      "Produced 7\n",
      "Consumed 5Produced 8\n",
      "\n",
      "Consumed 6\n",
      "Produced 9\n",
      "Consumed 7\n",
      "Consumed 8\n",
      "Consumed 9\n",
      "All tasks are done\n"
     ]
    }
   ],
   "source": [
    "threading.Thread(target=producer).start()\n",
    "threading.Thread(target=consumer).start()\n",
    "\n",
    "waiter(q, 1)"
   ]
  },
  {
   "cell_type": "code",
   "execution_count": 7,
   "metadata": {},
   "outputs": [],
   "source": [
    "pq = queue.PriorityQueue()\n"
   ]
  },
  {
   "cell_type": "code",
   "execution_count": 8,
   "metadata": {},
   "outputs": [],
   "source": [
    "# 将数据按照优先级放入队列\n",
    "pq.put((2, \"Medium priority\"))\n",
    "pq.put((1, \"High priority\"))\n",
    "pq.put((3, \"Low priority\"))\n"
   ]
  },
  {
   "cell_type": "code",
   "execution_count": 9,
   "metadata": {},
   "outputs": [
    {
     "name": "stdout",
     "output_type": "stream",
     "text": [
      "Processing task with priority 1: High priority\n",
      "Processing task with priority 2: Medium priority\n",
      "Processing task with priority 3: Low priority\n"
     ]
    }
   ],
   "source": [
    "# 按照优先级顺序获取数据\n",
    "while not pq.empty():\n",
    "    priority, task = pq.get()\n",
    "    print(f\"Processing task with priority {priority}: {task}\")"
   ]
  },
  {
   "cell_type": "code",
   "execution_count": null,
   "metadata": {},
   "outputs": [],
   "source": []
  }
 ],
 "metadata": {
  "kernelspec": {
   "display_name": "ul",
   "language": "python",
   "name": "python3"
  },
  "language_info": {
   "codemirror_mode": {
    "name": "ipython",
    "version": 3
   },
   "file_extension": ".py",
   "mimetype": "text/x-python",
   "name": "python",
   "nbconvert_exporter": "python",
   "pygments_lexer": "ipython3",
   "version": "3.10.14"
  }
 },
 "nbformat": 4,
 "nbformat_minor": 2
}
