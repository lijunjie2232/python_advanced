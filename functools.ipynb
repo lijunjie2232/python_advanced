{
 "cells": [
  {
   "cell_type": "code",
   "execution_count": 1,
   "metadata": {},
   "outputs": [],
   "source": [
    "import functools\n",
    "from functools import *"
   ]
  },
  {
   "cell_type": "code",
   "execution_count": 2,
   "metadata": {},
   "outputs": [
    {
     "data": {
      "text/plain": [
       "['update_wrapper',\n",
       " 'wraps',\n",
       " 'WRAPPER_ASSIGNMENTS',\n",
       " 'WRAPPER_UPDATES',\n",
       " 'total_ordering',\n",
       " 'cache',\n",
       " 'cmp_to_key',\n",
       " 'lru_cache',\n",
       " 'reduce',\n",
       " 'partial',\n",
       " 'partialmethod',\n",
       " 'singledispatch',\n",
       " 'singledispatchmethod',\n",
       " 'cached_property']"
      ]
     },
     "execution_count": 2,
     "metadata": {},
     "output_type": "execute_result"
    }
   ],
   "source": [
    "functools.__all__"
   ]
  },
  {
   "cell_type": "code",
   "execution_count": 3,
   "metadata": {},
   "outputs": [],
   "source": [
    "def compare(a, b):\n",
    "    return a.r - b.r"
   ]
  },
  {
   "cell_type": "code",
   "execution_count": 4,
   "metadata": {},
   "outputs": [],
   "source": [
    "class Circle:\n",
    "    def __init__(self, r):\n",
    "        self._r = r\n",
    "    \n",
    "    def __repr__(self):\n",
    "        return self.__str__()\n",
    "    \n",
    "    def __str__(self):\n",
    "        return str(self._r)\n",
    "    \n",
    "    @property\n",
    "    def r(self):\n",
    "        return self._r\n",
    "    \n",
    "    "
   ]
  },
  {
   "cell_type": "code",
   "execution_count": 5,
   "metadata": {},
   "outputs": [
    {
     "data": {
      "text/plain": [
       "[10, 5, 1]"
      ]
     },
     "execution_count": 5,
     "metadata": {},
     "output_type": "execute_result"
    }
   ],
   "source": [
    "sorted([Circle(10), Circle(1), Circle(5)], key=cmp_to_key(compare), reverse=True)"
   ]
  },
  {
   "cell_type": "code",
   "execution_count": 6,
   "metadata": {},
   "outputs": [
    {
     "data": {
      "text/plain": [
       "328350"
      ]
     },
     "execution_count": 6,
     "metadata": {},
     "output_type": "execute_result"
    }
   ],
   "source": [
    "l3 = list(range(100))\n",
    "reduce(lambda x,y: x+y**2, l3)"
   ]
  },
  {
   "cell_type": "code",
   "execution_count": 7,
   "metadata": {},
   "outputs": [],
   "source": [
    "def partial_test(*args, **kwargs):\n",
    "    print(args)\n",
    "    print(kwargs)"
   ]
  },
  {
   "cell_type": "code",
   "execution_count": 8,
   "metadata": {},
   "outputs": [
    {
     "name": "stdout",
     "output_type": "stream",
     "text": [
      "(0, 1, 2)\n",
      "{'test': 3}\n"
     ]
    }
   ],
   "source": [
    "partial_func = partial(partial_test)\n",
    "partial_func(0,1,2,test=3)"
   ]
  },
  {
   "cell_type": "code",
   "execution_count": 9,
   "metadata": {},
   "outputs": [
    {
     "name": "stdout",
     "output_type": "stream",
     "text": [
      "(0, 1, 2)\n",
      "{'test': 3}\n",
      "(0, 1, 2, 4, 5, 6)\n",
      "{'test': 4}\n"
     ]
    }
   ],
   "source": [
    "partial_func = partial(partial_test, 0,1,2,test=3)\n",
    "partial_func()\n",
    "partial_func(4,5,6,test=4)"
   ]
  },
  {
   "cell_type": "code",
   "execution_count": 10,
   "metadata": {},
   "outputs": [],
   "source": [
    "class Circle:\n",
    "    def __init__(self, r):\n",
    "        self._r = r\n",
    "        self._test_property = False\n",
    "\n",
    "    def set_property(self, status):\n",
    "        self._test_property = status\n",
    "    \n",
    "    @property\n",
    "    def status(self):\n",
    "        return self._test_property\n",
    "\n",
    "    activate = partialmethod(set_property, True)\n",
    "    deactivate = partialmethod(set_property, False)"
   ]
  },
  {
   "cell_type": "code",
   "execution_count": 11,
   "metadata": {},
   "outputs": [
    {
     "data": {
      "text/plain": [
       "False"
      ]
     },
     "execution_count": 11,
     "metadata": {},
     "output_type": "execute_result"
    }
   ],
   "source": [
    "c1 = Circle(1)\n",
    "c1.status\n"
   ]
  },
  {
   "cell_type": "code",
   "execution_count": 12,
   "metadata": {},
   "outputs": [
    {
     "data": {
      "text/plain": [
       "True"
      ]
     },
     "execution_count": 12,
     "metadata": {},
     "output_type": "execute_result"
    }
   ],
   "source": [
    "c1.activate()\n",
    "c1.status"
   ]
  },
  {
   "cell_type": "code",
   "execution_count": 13,
   "metadata": {},
   "outputs": [
    {
     "data": {
      "text/plain": [
       "False"
      ]
     },
     "execution_count": 13,
     "metadata": {},
     "output_type": "execute_result"
    }
   ],
   "source": [
    "c1.deactivate()\n",
    "c1.status"
   ]
  },
  {
   "cell_type": "code",
   "execution_count": 14,
   "metadata": {},
   "outputs": [],
   "source": [
    "def debug(func):\n",
    "    @wraps(func)\n",
    "    def wrapper(*args, **kwargs):\n",
    "        print(\"*****[debug mode]*****\")\n",
    "        kwargs[\"debug\"] = True\n",
    "        return func(*args, **kwargs)\n",
    "    return wrapper"
   ]
  },
  {
   "cell_type": "code",
   "execution_count": 15,
   "metadata": {},
   "outputs": [],
   "source": [
    "@debug\n",
    "def wrapper_test(*args, **kwargs):\n",
    "    \"\"\"wrapper test doc\n",
    "    debug(bool): debug mode\n",
    "    \"\"\"\n",
    "    print(args)\n",
    "    print(kwargs)"
   ]
  },
  {
   "cell_type": "code",
   "execution_count": 16,
   "metadata": {},
   "outputs": [
    {
     "name": "stdout",
     "output_type": "stream",
     "text": [
      "*****[debug mode]*****\n",
      "()\n",
      "{'debug': True}\n"
     ]
    }
   ],
   "source": [
    "wrapper_test(debug=False)"
   ]
  },
  {
   "cell_type": "code",
   "execution_count": 17,
   "metadata": {},
   "outputs": [
    {
     "name": "stdout",
     "output_type": "stream",
     "text": [
      "Help on function wrapper_test in module __main__:\n",
      "\n",
      "wrapper_test(*args, **kwargs)\n",
      "    wrapper test doc\n",
      "    debug(bool): debug mode\n",
      "\n"
     ]
    }
   ],
   "source": [
    "help(wrapper_test)"
   ]
  },
  {
   "cell_type": "code",
   "execution_count": 18,
   "metadata": {},
   "outputs": [
    {
     "data": {
      "text/plain": [
       "'wrapper_test'"
      ]
     },
     "execution_count": 18,
     "metadata": {},
     "output_type": "execute_result"
    }
   ],
   "source": [
    "wrapper_test.__name__"
   ]
  },
  {
   "cell_type": "code",
   "execution_count": 19,
   "metadata": {},
   "outputs": [],
   "source": [
    "@singledispatch\n",
    "def func(*args, **kwargs):\n",
    "    print(\"init version\")\n",
    "    print(args)\n",
    "    print(kwargs)\n",
    "\n",
    "\n",
    "@func.register(int)\n",
    "def _(*args, **kwargs):\n",
    "    print(\"int version\")\n",
    "    print(args)\n",
    "    print(kwargs)\n",
    "\n",
    "\n",
    "@func.register(str)\n",
    "def _(*args, **kwargs):\n",
    "    print(\"str version\")\n",
    "    print(args)\n",
    "    print(kwargs)\n",
    "    "
   ]
  },
  {
   "cell_type": "code",
   "execution_count": 20,
   "metadata": {},
   "outputs": [
    {
     "name": "stdout",
     "output_type": "stream",
     "text": [
      "int version\n",
      "(1,)\n",
      "{}\n"
     ]
    }
   ],
   "source": [
    "func(1)"
   ]
  },
  {
   "cell_type": "code",
   "execution_count": 21,
   "metadata": {},
   "outputs": [
    {
     "name": "stdout",
     "output_type": "stream",
     "text": [
      "str version\n",
      "('1',)\n",
      "{}\n"
     ]
    }
   ],
   "source": [
    "func('1')"
   ]
  },
  {
   "cell_type": "code",
   "execution_count": 22,
   "metadata": {},
   "outputs": [
    {
     "name": "stdout",
     "output_type": "stream",
     "text": [
      "init version\n",
      "(<__main__.Circle object at 0x0000000007DB0C40>,)\n",
      "{}\n"
     ]
    }
   ],
   "source": [
    "func(c1)"
   ]
  },
  {
   "cell_type": "code",
   "execution_count": 23,
   "metadata": {},
   "outputs": [
    {
     "name": "stdout",
     "output_type": "stream",
     "text": [
      "str version\n",
      "(1,)\n",
      "{}\n"
     ]
    }
   ],
   "source": [
    "func.dispatch(str)(1)"
   ]
  },
  {
   "cell_type": "code",
   "execution_count": 24,
   "metadata": {},
   "outputs": [],
   "source": [
    "from collections.abc import Iterable\n",
    "@singledispatch\n",
    "def func1(value, *args, **kwargs):\n",
    "    print(\"init version\")\n",
    "    print(value)\n",
    "    print(args)\n",
    "    print(kwargs)\n",
    "\n",
    "\n",
    "@func1.register\n",
    "def _(value:int, *args, **kwargs):\n",
    "    print(\"int version\")\n",
    "    print(value)\n",
    "    print(args)\n",
    "    print(kwargs)\n",
    "\n",
    "\n",
    "@func1.register\n",
    "def _(value:Iterable, *args, **kwargs):\n",
    "    print(\"Iterable version\")\n",
    "    print(value)\n",
    "    print(args)\n",
    "    print(kwargs)\n",
    "    "
   ]
  },
  {
   "cell_type": "code",
   "execution_count": 25,
   "metadata": {},
   "outputs": [
    {
     "name": "stdout",
     "output_type": "stream",
     "text": [
      "int version\n",
      "1\n",
      "()\n",
      "{}\n"
     ]
    }
   ],
   "source": [
    "func1(1)"
   ]
  },
  {
   "cell_type": "code",
   "execution_count": 26,
   "metadata": {},
   "outputs": [
    {
     "name": "stdout",
     "output_type": "stream",
     "text": [
      "Iterable version\n",
      "1\n",
      "()\n",
      "{}\n"
     ]
    }
   ],
   "source": [
    "func1(\"1\")"
   ]
  },
  {
   "cell_type": "code",
   "execution_count": 27,
   "metadata": {},
   "outputs": [
    {
     "name": "stdout",
     "output_type": "stream",
     "text": [
      "init version\n",
      "<__main__.Circle object at 0x0000000007DB0C40>\n",
      "()\n",
      "{}\n"
     ]
    }
   ],
   "source": [
    "func1(c1)"
   ]
  },
  {
   "cell_type": "code",
   "execution_count": null,
   "metadata": {},
   "outputs": [],
   "source": []
  }
 ],
 "metadata": {
  "kernelspec": {
   "display_name": "ul",
   "language": "python",
   "name": "python3"
  },
  "language_info": {
   "codemirror_mode": {
    "name": "ipython",
    "version": 3
   },
   "file_extension": ".py",
   "mimetype": "text/x-python",
   "name": "python",
   "nbconvert_exporter": "python",
   "pygments_lexer": "ipython3",
   "version": "3.10.14"
  }
 },
 "nbformat": 4,
 "nbformat_minor": 2
}
