{
 "cells": [
  {
   "cell_type": "code",
   "execution_count": 1,
   "metadata": {},
   "outputs": [],
   "source": [
    "import threading\n",
    "from time import sleep"
   ]
  },
  {
   "cell_type": "code",
   "execution_count": 2,
   "metadata": {},
   "outputs": [],
   "source": [
    "class Consumer(threading.Thread):\n",
    "    def __init__(self, cond, name=\"consumer\"):\n",
    "        threading.Thread.__init__(self, name=name)\n",
    "        self._cond = cond\n",
    "        self._pause = False\n",
    "        self._complete = False\n",
    "\n",
    "    def complete(self, cp=True):\n",
    "        self._complete = cp\n",
    "\n",
    "    def run(self):\n",
    "        while not (self._pause or self._complete):\n",
    "            self._cond.acquire()\n",
    "            print(f\"{self.name}: acquired\")\n",
    "            self._cond.wait()\n",
    "            print(f\"{self.name}: consumed 1 item\")\n",
    "            sleep(1)\n",
    "            self._cond.notify()\n",
    "            print(f\"{self.name}: release\")\n",
    "            self._cond.release()"
   ]
  },
  {
   "cell_type": "code",
   "execution_count": 3,
   "metadata": {},
   "outputs": [],
   "source": [
    "class Producer(threading.Thread):\n",
    "    def __init__(self, cond, name=\"producer\"):\n",
    "        threading.Thread.__init__(self, name=name)\n",
    "        self._cond = cond\n",
    "        self._pause = False\n",
    "        self._complete = False\n",
    "\n",
    "    def complete(self, cp=True):\n",
    "        self._complete = cp\n",
    "        \n",
    "\n",
    "    def run(self):\n",
    "        while not (self._pause or self._complete):\n",
    "            self._cond.acquire()\n",
    "            print(f\"{self.name}: acquired\")\n",
    "            print(f\"{self.name}: produced 1 item\")\n",
    "            sleep(1)\n",
    "            self._cond.notify()\n",
    "            self._cond.wait()\n",
    "            print(f\"{self.name}: release\")\n",
    "            self._cond.release()"
   ]
  },
  {
   "cell_type": "code",
   "execution_count": 4,
   "metadata": {},
   "outputs": [],
   "source": [
    "cond = threading.Condition()"
   ]
  },
  {
   "cell_type": "code",
   "execution_count": 5,
   "metadata": {},
   "outputs": [
    {
     "name": "stdout",
     "output_type": "stream",
     "text": [
      "consumer: acquired\n",
      "producer: acquired\n",
      "producer: produced 1 item\n",
      "consumer: consumed 1 item\n",
      "consumer: release\n",
      "consumer: acquired\n",
      "producer: release\n",
      "producer: acquired\n",
      "producer: produced 1 item\n",
      "consumer: consumed 1 item\n",
      "consumer: release\n",
      "consumer: acquired\n",
      "producer: release\n",
      "producer: acquired\n",
      "producer: produced 1 item\n"
     ]
    },
    {
     "name": "stdout",
     "output_type": "stream",
     "text": [
      "consumer: consumed 1 item\n",
      "consumer: release\n",
      "producer: release\n"
     ]
    }
   ],
   "source": [
    "c = Consumer(cond)\n",
    "p = Producer(cond)\n",
    "c.start()\n",
    "p.start()\n",
    "sleep(5)\n",
    "c.complete()\n",
    "p.complete()\n"
   ]
  },
  {
   "cell_type": "code",
   "execution_count": 6,
   "metadata": {},
   "outputs": [],
   "source": [
    "cond.acquire()\n",
    "cond.acquire()\n",
    "cond.acquire()\n",
    "cond.acquire()\n",
    "cond.acquire()\n",
    "cond.acquire()\n",
    "cond.acquire()\n",
    "cond.acquire()\n",
    "cond.release()\n",
    "cond.release()\n",
    "cond.release()\n",
    "cond.release()\n",
    "cond.release()\n",
    "cond.release()\n",
    "cond.release()\n",
    "cond.release()"
   ]
  },
  {
   "cell_type": "code",
   "execution_count": 7,
   "metadata": {},
   "outputs": [],
   "source": [
    "rl = threading._RLock()"
   ]
  },
  {
   "cell_type": "code",
   "execution_count": 10,
   "metadata": {},
   "outputs": [],
   "source": [
    "rl.acquire()\n",
    "rl.acquire()\n",
    "rl.release()\n",
    "rl.release()"
   ]
  },
  {
   "cell_type": "code",
   "execution_count": 11,
   "metadata": {},
   "outputs": [],
   "source": []
  }
 ],
 "metadata": {
  "kernelspec": {
   "display_name": "ul",
   "language": "python",
   "name": "python3"
  },
  "language_info": {
   "codemirror_mode": {
    "name": "ipython",
    "version": 3
   },
   "file_extension": ".py",
   "mimetype": "text/x-python",
   "name": "python",
   "nbconvert_exporter": "python",
   "pygments_lexer": "ipython3",
   "version": "3.10.14"
  }
 },
 "nbformat": 4,
 "nbformat_minor": 2
}
