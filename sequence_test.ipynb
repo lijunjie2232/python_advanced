{
 "cells": [
  {
   "cell_type": "code",
   "execution_count": 1,
   "metadata": {},
   "outputs": [],
   "source": [
    "a = [3, 4, 5, 6, 7, 9, 11, 13, 15, 17]"
   ]
  },
  {
   "cell_type": "code",
   "execution_count": 2,
   "metadata": {},
   "outputs": [
    {
     "data": {
      "text/plain": [
       "[3, 4, 5, 6, 7, 9, 11, 13, 15, 17]"
      ]
     },
     "execution_count": 2,
     "metadata": {},
     "output_type": "execute_result"
    }
   ],
   "source": [
    "a[::]"
   ]
  },
  {
   "cell_type": "code",
   "execution_count": 3,
   "metadata": {},
   "outputs": [
    {
     "data": {
      "text/plain": [
       "[17, 15, 13, 11, 9, 7, 6, 5, 4, 3]"
      ]
     },
     "execution_count": 3,
     "metadata": {},
     "output_type": "execute_result"
    }
   ],
   "source": [
    "# reverse\n",
    "a[::-1]"
   ]
  },
  {
   "cell_type": "code",
   "execution_count": 4,
   "metadata": {},
   "outputs": [
    {
     "name": "stdout",
     "output_type": "stream",
     "text": [
      "[3, 4, 5, 6, 7, 9, 11, 13, 15, 17]\n",
      "[3, 4, 5, 6, 7, 9, 11, 13, 15, 17, 100, 200]\n",
      "[3, 4, 5, 6, 7, 9, 11, 13, 15, 17, 100, 200, 10, 20]\n"
     ]
    }
   ],
   "source": [
    "# insert to the end\n",
    "print(a)\n",
    "a[len(a):0] = [100, 200]\n",
    "print(a)\n",
    "a[len(a):len(a)] = [10, 20]\n",
    "print(a)"
   ]
  },
  {
   "cell_type": "code",
   "execution_count": 5,
   "metadata": {},
   "outputs": [
    {
     "name": "stdout",
     "output_type": "stream",
     "text": [
      "[3, 4, 5, 6, 7, 9, 11, 13, 15, 17, 100, 200, 10, 20]\n",
      "[100, 200, 3, 4, 5, 6, 7, 9, 11, 13, 15, 17, 100, 200, 10, 20]\n",
      "[100, 200, 3, 4, 5, 6, 7, 9, 11, 13, 15, 17, 100, 200, 10, 300, 400, 20]\n",
      "[100, 200, 3, 4, 5, 6, 7, 9, 11, 13, 15, 17, 100, 200, 10, 300, 400, 500, 600, 20]\n",
      "[700, 800, 20]\n"
     ]
    }
   ],
   "source": [
    "# insert to any position\n",
    "print(a)\n",
    "a[0:0] = [100, 200]\n",
    "print(a)\n",
    "a[-1:-1] = [300, 400]\n",
    "print(a)\n",
    "a[-1:0] = [500, 600]\n",
    "print(a)\n",
    "a[0:-1] = [700, 800]\n",
    "print(a)"
   ]
  },
  {
   "cell_type": "code",
   "execution_count": 6,
   "metadata": {},
   "outputs": [
    {
     "name": "stdout",
     "output_type": "stream",
     "text": [
      "[700, 800, 20]\n",
      "[100, 800, 20]\n",
      "[7, 8, 800, 20]\n",
      "[1, 2, 3, 8, 800, 20]\n",
      "[1, 2, 3, 8, 1, 2, 3]\n",
      "[1, 10, 20, 30]\n"
     ]
    }
   ],
   "source": [
    "# modify\n",
    "print(a)\n",
    "a[:1] = [100]\n",
    "print(a)\n",
    "a[:1] = [7,8]\n",
    "print(a)\n",
    "a[:1] = [1,2,3]\n",
    "print(a)\n",
    "a[4:] = [1,2,3]\n",
    "print(a)\n",
    "a[1:] = [10,20,30]\n",
    "print(a)\n"
   ]
  },
  {
   "cell_type": "code",
   "execution_count": 7,
   "metadata": {},
   "outputs": [
    {
     "name": "stdout",
     "output_type": "stream",
     "text": [
      "[20, 30]\n"
     ]
    }
   ],
   "source": [
    "# delete\n",
    "a[0:2] = []\n",
    "print(a)"
   ]
  },
  {
   "cell_type": "code",
   "execution_count": null,
   "metadata": {},
   "outputs": [],
   "source": []
  }
 ],
 "metadata": {
  "kernelspec": {
   "display_name": "ml",
   "language": "python",
   "name": "python3"
  },
  "language_info": {
   "codemirror_mode": {
    "name": "ipython",
    "version": 3
   },
   "file_extension": ".py",
   "mimetype": "text/x-python",
   "name": "python",
   "nbconvert_exporter": "python",
   "pygments_lexer": "ipython3",
   "version": "3.8.18"
  }
 },
 "nbformat": 4,
 "nbformat_minor": 2
}
