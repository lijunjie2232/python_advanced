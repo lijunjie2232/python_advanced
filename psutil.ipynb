{
 "cells": [
  {
   "cell_type": "code",
   "execution_count": 1,
   "metadata": {},
   "outputs": [],
   "source": [
    "import psutil\n"
   ]
  },
  {
   "cell_type": "code",
   "execution_count": 2,
   "metadata": {},
   "outputs": [
    {
     "data": {
      "text/plain": [
       "['Error',\n",
       " 'NoSuchProcess',\n",
       " 'ZombieProcess',\n",
       " 'AccessDenied',\n",
       " 'TimeoutExpired',\n",
       " 'version_info',\n",
       " '__version__',\n",
       " 'STATUS_RUNNING',\n",
       " 'STATUS_IDLE',\n",
       " 'STATUS_SLEEPING',\n",
       " 'STATUS_DISK_SLEEP',\n",
       " 'STATUS_STOPPED',\n",
       " 'STATUS_TRACING_STOP',\n",
       " 'STATUS_ZOMBIE',\n",
       " 'STATUS_DEAD',\n",
       " 'STATUS_WAKING',\n",
       " 'STATUS_LOCKED',\n",
       " 'STATUS_WAITING',\n",
       " 'STATUS_LOCKED',\n",
       " 'STATUS_PARKED',\n",
       " 'CONN_ESTABLISHED',\n",
       " 'CONN_SYN_SENT',\n",
       " 'CONN_SYN_RECV',\n",
       " 'CONN_FIN_WAIT1',\n",
       " 'CONN_FIN_WAIT2',\n",
       " 'CONN_TIME_WAIT',\n",
       " 'CONN_CLOSE',\n",
       " 'CONN_CLOSE_WAIT',\n",
       " 'CONN_LAST_ACK',\n",
       " 'CONN_LISTEN',\n",
       " 'CONN_CLOSING',\n",
       " 'CONN_NONE',\n",
       " 'AF_LINK',\n",
       " 'NIC_DUPLEX_FULL',\n",
       " 'NIC_DUPLEX_HALF',\n",
       " 'NIC_DUPLEX_UNKNOWN',\n",
       " 'POWER_TIME_UNKNOWN',\n",
       " 'POWER_TIME_UNLIMITED',\n",
       " 'BSD',\n",
       " 'FREEBSD',\n",
       " 'LINUX',\n",
       " 'NETBSD',\n",
       " 'OPENBSD',\n",
       " 'MACOS',\n",
       " 'OSX',\n",
       " 'POSIX',\n",
       " 'SUNOS',\n",
       " 'WINDOWS',\n",
       " 'AIX',\n",
       " 'Process',\n",
       " 'Popen',\n",
       " 'pid_exists',\n",
       " 'pids',\n",
       " 'process_iter',\n",
       " 'wait_procs',\n",
       " 'virtual_memory',\n",
       " 'swap_memory',\n",
       " 'cpu_times',\n",
       " 'cpu_percent',\n",
       " 'cpu_times_percent',\n",
       " 'cpu_count',\n",
       " 'cpu_stats',\n",
       " 'net_io_counters',\n",
       " 'net_connections',\n",
       " 'net_if_addrs',\n",
       " 'net_if_stats',\n",
       " 'disk_io_counters',\n",
       " 'disk_partitions',\n",
       " 'disk_usage',\n",
       " 'users',\n",
       " 'boot_time',\n",
       " 'win_service_iter',\n",
       " 'win_service_get',\n",
       " 'ABOVE_NORMAL_PRIORITY_CLASS',\n",
       " 'BELOW_NORMAL_PRIORITY_CLASS',\n",
       " 'HIGH_PRIORITY_CLASS',\n",
       " 'IDLE_PRIORITY_CLASS',\n",
       " 'NORMAL_PRIORITY_CLASS',\n",
       " 'REALTIME_PRIORITY_CLASS',\n",
       " 'IOPRIO_VERYLOW',\n",
       " 'IOPRIO_LOW',\n",
       " 'IOPRIO_NORMAL',\n",
       " 'IOPRIO_HIGH',\n",
       " 'CONN_DELETE_TCB',\n",
       " 'AF_LINK',\n",
       " 'cpu_freq',\n",
       " 'getloadavg',\n",
       " 'sensors_battery']"
      ]
     },
     "execution_count": 2,
     "metadata": {},
     "output_type": "execute_result"
    }
   ],
   "source": [
    "psutil.__all__"
   ]
  },
  {
   "cell_type": "code",
   "execution_count": 3,
   "metadata": {},
   "outputs": [
    {
     "data": {
      "text/plain": [
       "16"
      ]
     },
     "execution_count": 3,
     "metadata": {},
     "output_type": "execute_result"
    }
   ],
   "source": [
    "psutil.cpu_count()"
   ]
  },
  {
   "cell_type": "code",
   "execution_count": 4,
   "metadata": {},
   "outputs": [
    {
     "data": {
      "text/plain": [
       "scpufreq(current=2496.0, min=0.0, max=2496.0)"
      ]
     },
     "execution_count": 4,
     "metadata": {},
     "output_type": "execute_result"
    }
   ],
   "source": [
    "psutil.cpu_freq()"
   ]
  },
  {
   "cell_type": "code",
   "execution_count": 6,
   "metadata": {},
   "outputs": [
    {
     "data": {
      "text/plain": [
       "1.1"
      ]
     },
     "execution_count": 6,
     "metadata": {},
     "output_type": "execute_result"
    }
   ],
   "source": [
    "psutil.cpu_percent()"
   ]
  },
  {
   "cell_type": "code",
   "execution_count": 14,
   "metadata": {},
   "outputs": [
    {
     "data": {
      "text/plain": [
       "sdiskio(read_count=76097216, write_count=37073316, read_bytes=835322964992, write_bytes=1695668600832, read_time=34172, write_time=36404)"
      ]
     },
     "execution_count": 14,
     "metadata": {},
     "output_type": "execute_result"
    }
   ],
   "source": [
    "psutil.disk_io_counters()"
   ]
  },
  {
   "cell_type": "code",
   "execution_count": 24,
   "metadata": {},
   "outputs": [
    {
     "data": {
      "text/plain": [
       "psutil.Process(pid=0, name='System Idle Process', status='running')"
      ]
     },
     "execution_count": 24,
     "metadata": {},
     "output_type": "execute_result"
    }
   ],
   "source": [
    "psutil.Process(pid=0)"
   ]
  },
  {
   "cell_type": "code",
   "execution_count": 25,
   "metadata": {},
   "outputs": [
    {
     "data": {
      "text/plain": [
       "[suser(name='25335', terminal=None, host=None, started=1725326908.739498, pid=None)]"
      ]
     },
     "execution_count": 25,
     "metadata": {},
     "output_type": "execute_result"
    }
   ],
   "source": [
    "psutil.users()"
   ]
  },
  {
   "cell_type": "code",
   "execution_count": 28,
   "metadata": {},
   "outputs": [
    {
     "data": {
      "text/plain": [
       "False"
      ]
     },
     "execution_count": 28,
     "metadata": {},
     "output_type": "execute_result"
    }
   ],
   "source": [
    "psutil.LINUX"
   ]
  },
  {
   "cell_type": "code",
   "execution_count": 30,
   "metadata": {},
   "outputs": [
    {
     "data": {
      "text/plain": [
       "sswap(total=63582777344, used=18124075008, free=45458702336, percent=28.5, sin=0, sout=0)"
      ]
     },
     "execution_count": 30,
     "metadata": {},
     "output_type": "execute_result"
    }
   ],
   "source": [
    "psutil.swap_memory()"
   ]
  },
  {
   "cell_type": "code",
   "execution_count": 31,
   "metadata": {},
   "outputs": [
    {
     "data": {
      "text/plain": [
       "svmem(total=68431187968, available=39177297920, percent=42.7, used=29253890048, free=39177297920)"
      ]
     },
     "execution_count": 31,
     "metadata": {},
     "output_type": "execute_result"
    }
   ],
   "source": [
    "psutil.virtual_memory()"
   ]
  },
  {
   "cell_type": "code",
   "execution_count": null,
   "metadata": {},
   "outputs": [],
   "source": []
  }
 ],
 "metadata": {
  "kernelspec": {
   "display_name": "ul",
   "language": "python",
   "name": "python3"
  },
  "language_info": {
   "codemirror_mode": {
    "name": "ipython",
    "version": 3
   },
   "file_extension": ".py",
   "mimetype": "text/x-python",
   "name": "python",
   "nbconvert_exporter": "python",
   "pygments_lexer": "ipython3",
   "version": "3.10.14"
  }
 },
 "nbformat": 4,
 "nbformat_minor": 2
}
