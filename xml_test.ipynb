{
 "cells": [
  {
   "cell_type": "code",
   "execution_count": 2,
   "metadata": {},
   "outputs": [],
   "source": [
    "from xml.etree import ElementTree as et\n",
    "import xml.dom.minidom as minidom\n",
    "from xml.dom.minidom import parse"
   ]
  },
  {
   "cell_type": "code",
   "execution_count": 7,
   "metadata": {},
   "outputs": [],
   "source": [
    "# 读取文件\n",
    "dom = parse('pom.xml')\n",
    "# 获取文档元素对象\n",
    "elem = dom.documentElement\n"
   ]
  },
  {
   "cell_type": "code",
   "execution_count": 16,
   "metadata": {},
   "outputs": [
    {
     "name": "stdout",
     "output_type": "stream",
     "text": [
      "groupId: org.springframework.boot , artifactId: spring-boot-starter-web\n",
      "groupId: org.springframework.boot , artifactId: spring-boot-starter-test\n",
      "groupId: org.springframework.boot , artifactId: spring-boot-starter-thymeleaf\n",
      "groupId: org.springframework.boot , artifactId: spring-boot-devtools\n",
      "groupId: org.webjars , artifactId: bootstrap\n",
      "groupId: org.webjars , artifactId: jquery\n"
     ]
    }
   ],
   "source": [
    "# 获取 student\n",
    "deps = elem.getElementsByTagName('dependencies')[0].getElementsByTagName('dependency')\n",
    "for dep in deps:\n",
    "    # 获取标签中内容\n",
    "    groupId = dep.getElementsByTagName('groupId')[0].childNodes[0].nodeValue\n",
    "    artifactId = dep.getElementsByTagName('artifactId')[0].childNodes[0].nodeValue\n",
    "    print('groupId:', groupId, ', artifactId:', artifactId)"
   ]
  }
 ],
 "metadata": {
  "kernelspec": {
   "display_name": "scalc1",
   "language": "python",
   "name": "python3"
  },
  "language_info": {
   "codemirror_mode": {
    "name": "ipython",
    "version": 3
   },
   "file_extension": ".py",
   "mimetype": "text/x-python",
   "name": "python",
   "nbconvert_exporter": "python",
   "pygments_lexer": "ipython3",
   "version": "3.9.18"
  },
  "orig_nbformat": 4
 },
 "nbformat": 4,
 "nbformat_minor": 2
}
